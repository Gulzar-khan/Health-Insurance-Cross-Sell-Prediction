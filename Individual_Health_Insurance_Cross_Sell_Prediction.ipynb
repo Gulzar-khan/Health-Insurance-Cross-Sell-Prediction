{
  "cells": [
    {
      "cell_type": "markdown",
      "metadata": {
        "id": "LGcl5Bv9ed6u"
      },
      "source": [
        "# **Problem Statement**"
      ]
    },
    {
      "cell_type": "markdown",
      "metadata": {
        "id": "jJAmGx75jJk1"
      },
      "source": [
        "Our client is an Insurance company that has provided Health Insurance to its customers now they need your help in building a model to predict whether the policyholders (customers) from past year will also be interested in Vehicle Insurance provided by the company.\n",
        "\n",
        "An insurance policy is an arrangement by which a company undertakes to provide a guarantee of compensation for specified loss, damage, illness, or death in return for the payment of a specified premium. A premium is a sum of money that the customer needs to pay regularly to an insurance company for this guarantee.\n",
        "\n",
        "For example, you may pay a premium of Rs. 5000 each year for a health insurance cover of Rs. 200,000/- so that if, God forbid, you fall ill and need to be hospitalised in that year, the insurance provider company will bear the cost of hospitalisation etc. for upto Rs. 200,000. Now if you are wondering how can company bear such high hospitalisation cost when it charges a premium of only Rs. 5000/-, that is where the concept of probabilities comes in picture. For example, like you, there may be 100 customers who would be paying a premium of Rs. 5000 every year, but only a few of them (say 2-3) would get hospitalised that year and not everyone. This way everyone shares the risk of everyone else.\n",
        "\n",
        "Just like medical insurance, there is vehicle insurance where every year customer needs to pay a premium of certain amount to insurance provider company so that in case of unfortunate accident by the vehicle, the insurance provider company will provide a compensation (called ‘sum assured’) to the customer.\n",
        "\n",
        "Building a model to predict whether a customer would be interested in Vehicle Insurance is extremely helpful for the company because it can then accordingly plan its communication strategy to reach out to those customers and optimise its business model and revenue.\n",
        "\n",
        "Now, in order to predict, whether the customer would be interested in Vehicle insurance, you have information about demographics (gender, age, region code type), Vehicles (Vehicle Age, Damage), Policy (Premium, sourcing channel) etc."
      ]
    },
    {
      "cell_type": "markdown",
      "metadata": {
        "id": "AzGDqdC4fZ-b"
      },
      "source": [
        "# **Attribute Information**"
      ]
    },
    {
      "cell_type": "markdown",
      "metadata": {
        "id": "oEJxl68MjYbs"
      },
      "source": [
        "1. id :\tUnique ID for the customer\n",
        "\n",
        "2. Gender\t: Gender of the customer\n",
        "\n",
        "3. Age :\tAge of the customer\n",
        "\n",
        "4. Driving_License\t0 : Customer does not have DL, 1 : Customer already has DL\n",
        "\n",
        "5. Region_Code :\tUnique code for the region of the customer\n",
        "\n",
        "6. Previously_Insured\t: 1 : Customer already has Vehicle Insurance, 0 : Customer doesn't have Vehicle Insurance\n",
        "\n",
        "7. Vehicle_Age :\tAge of the Vehicle\n",
        "\n",
        "8. Vehicle_Damage\t :1 : Customer got his/her vehicle damaged in the past. 0 : Customer didn't get his/her vehicle damaged in the past.\n",
        "\n",
        "9. Annual_Premium\t: The amount customer needs to pay as premium in the year\n",
        "\n",
        "10. PolicySalesChannel :\tAnonymized Code for the channel of outreaching to the customer ie. Different Agents, Over Mail, Over Phone, In Person, etc.\n",
        "\n",
        "11. Vintage :\tNumber of Days, Customer has been associated with the company\n",
        "\n",
        "12. Response :\t1 : Customer is interested, 0 : Customer is not interested"
      ]
    },
    {
      "cell_type": "code",
      "source": [
        "pip install scikit-optimize "
      ],
      "metadata": {
        "colab": {
          "base_uri": "https://localhost:8080/"
        },
        "id": "7rZDU73HUuFs",
        "outputId": "1acc37c3-7928-4883-8ea3-9e7d2e59d0b1"
      },
      "execution_count": 402,
      "outputs": [
        {
          "output_type": "stream",
          "name": "stdout",
          "text": [
            "Looking in indexes: https://pypi.org/simple, https://us-python.pkg.dev/colab-wheels/public/simple/\n",
            "Requirement already satisfied: scikit-optimize in /usr/local/lib/python3.7/dist-packages (0.9.0)\n",
            "Requirement already satisfied: scikit-learn>=0.20.0 in /usr/local/lib/python3.7/dist-packages (from scikit-optimize) (1.0.2)\n",
            "Requirement already satisfied: scipy>=0.19.1 in /usr/local/lib/python3.7/dist-packages (from scikit-optimize) (1.4.1)\n",
            "Requirement already satisfied: numpy>=1.13.3 in /usr/local/lib/python3.7/dist-packages (from scikit-optimize) (1.21.6)\n",
            "Requirement already satisfied: joblib>=0.11 in /usr/local/lib/python3.7/dist-packages (from scikit-optimize) (1.1.0)\n",
            "Requirement already satisfied: pyaml>=16.9 in /usr/local/lib/python3.7/dist-packages (from scikit-optimize) (21.10.1)\n",
            "Requirement already satisfied: PyYAML in /usr/local/lib/python3.7/dist-packages (from pyaml>=16.9->scikit-optimize) (3.13)\n",
            "Requirement already satisfied: threadpoolctl>=2.0.0 in /usr/local/lib/python3.7/dist-packages (from scikit-learn>=0.20.0->scikit-optimize) (3.1.0)\n"
          ]
        }
      ]
    },
    {
      "cell_type": "code",
      "execution_count": 403,
      "metadata": {
        "id": "wSBUEfh_0bqE"
      },
      "outputs": [],
      "source": [
        "import pandas as pd\n",
        "import numpy as np\n",
        "\n",
        "from sklearn.model_selection import train_test_split\n",
        "from sklearn.preprocessing import MinMaxScaler, LabelEncoder, StandardScaler\n",
        "\n",
        "from sklearn.linear_model import Perceptron\n",
        "from sklearn.ensemble import RandomForestClassifier, GradientBoostingClassifier, AdaBoostClassifier\n",
        "from sklearn.linear_model import LogisticRegression\n",
        "from sklearn.naive_bayes import GaussianNB, BernoulliNB\n",
        "from sklearn.neighbors import KNeighborsClassifier\n",
        "from sklearn.svm import SVC\n",
        "from xgboost import XGBClassifier, plot_importance\n",
        "from sklearn.tree import DecisionTreeClassifier\n",
        "import lightgbm as ltb\n",
        "from skopt import BayesSearchCV\n",
        "from imblearn.over_sampling import SMOTE\n",
        "\n",
        "import time\n",
        "from math import sqrt\n",
        "from sklearn.metrics import mean_squared_error\n",
        "from sklearn import metrics\n",
        "from sklearn.metrics import precision_score\n",
        "from sklearn.metrics import recall_score\n",
        "from sklearn.metrics import f1_score\n",
        "from sklearn.metrics import roc_auc_score\n",
        "from sklearn.metrics import accuracy_score, classification_report, confusion_matrix\n",
        "from skopt.space import Real, Categorical, Integer\n",
        "\n",
        "import matplotlib.pyplot as mp\n",
        "import seaborn as sns"
      ]
    },
    {
      "cell_type": "markdown",
      "metadata": {
        "id": "NaQfMJG_1Ckp"
      },
      "source": [
        "Import Data"
      ]
    },
    {
      "cell_type": "code",
      "execution_count": 404,
      "metadata": {
        "colab": {
          "base_uri": "https://localhost:8080/"
        },
        "id": "LeaA22ax0gAX",
        "outputId": "f17c8966-e7b1-4960-8254-2d81e5c10475"
      },
      "outputs": [
        {
          "output_type": "stream",
          "name": "stdout",
          "text": [
            "Drive already mounted at /content/drive; to attempt to forcibly remount, call drive.mount(\"/content/drive\", force_remount=True).\n"
          ]
        }
      ],
      "source": [
        "from google.colab import drive\n",
        "drive.mount('/content/drive')"
      ]
    },
    {
      "cell_type": "code",
      "execution_count": 405,
      "metadata": {
        "id": "WUD7JMpP0e-w"
      },
      "outputs": [],
      "source": [
        "df_of_health=pd.read_csv('/content/drive/MyDrive/Colab Notebooks/Almabetter/ML/project 2/TRAIN-HEALTH INSURANCE CROSS SELL PREDICTION.csv')"
      ]
    },
    {
      "cell_type": "code",
      "execution_count": 406,
      "metadata": {
        "id": "mYxgIZCS0gqj"
      },
      "outputs": [],
      "source": [
        "#Make a copy of original data\n",
        "df=df_of_health.copy()"
      ]
    },
    {
      "cell_type": "code",
      "execution_count": 407,
      "metadata": {
        "colab": {
          "base_uri": "https://localhost:8080/",
          "height": 487
        },
        "id": "TBcDyzO51Pz8",
        "outputId": "7e8b0a73-93c6-48b2-9655-65d5e4070d20"
      },
      "outputs": [
        {
          "output_type": "execute_result",
          "data": {
            "text/plain": [
              "            id  Gender  Age  Driving_License  Region_Code  Previously_Insured  \\\n",
              "0            1    Male   44                1         28.0                   0   \n",
              "1            2    Male   76                1          3.0                   0   \n",
              "2            3    Male   47                1         28.0                   0   \n",
              "3            4    Male   21                1         11.0                   1   \n",
              "4            5  Female   29                1         41.0                   1   \n",
              "...        ...     ...  ...              ...          ...                 ...   \n",
              "381104  381105    Male   74                1         26.0                   1   \n",
              "381105  381106    Male   30                1         37.0                   1   \n",
              "381106  381107    Male   21                1         30.0                   1   \n",
              "381107  381108  Female   68                1         14.0                   0   \n",
              "381108  381109    Male   46                1         29.0                   0   \n",
              "\n",
              "       Vehicle_Age Vehicle_Damage  Annual_Premium  Policy_Sales_Channel  \\\n",
              "0        > 2 Years            Yes         40454.0                  26.0   \n",
              "1         1-2 Year             No         33536.0                  26.0   \n",
              "2        > 2 Years            Yes         38294.0                  26.0   \n",
              "3         < 1 Year             No         28619.0                 152.0   \n",
              "4         < 1 Year             No         27496.0                 152.0   \n",
              "...            ...            ...             ...                   ...   \n",
              "381104    1-2 Year             No         30170.0                  26.0   \n",
              "381105    < 1 Year             No         40016.0                 152.0   \n",
              "381106    < 1 Year             No         35118.0                 160.0   \n",
              "381107   > 2 Years            Yes         44617.0                 124.0   \n",
              "381108    1-2 Year             No         41777.0                  26.0   \n",
              "\n",
              "        Vintage  Response  \n",
              "0           217         1  \n",
              "1           183         0  \n",
              "2            27         1  \n",
              "3           203         0  \n",
              "4            39         0  \n",
              "...         ...       ...  \n",
              "381104       88         0  \n",
              "381105      131         0  \n",
              "381106      161         0  \n",
              "381107       74         0  \n",
              "381108      237         0  \n",
              "\n",
              "[381109 rows x 12 columns]"
            ],
            "text/html": [
              "\n",
              "  <div id=\"df-73ef6849-9875-4651-8456-776acb1da781\">\n",
              "    <div class=\"colab-df-container\">\n",
              "      <div>\n",
              "<style scoped>\n",
              "    .dataframe tbody tr th:only-of-type {\n",
              "        vertical-align: middle;\n",
              "    }\n",
              "\n",
              "    .dataframe tbody tr th {\n",
              "        vertical-align: top;\n",
              "    }\n",
              "\n",
              "    .dataframe thead th {\n",
              "        text-align: right;\n",
              "    }\n",
              "</style>\n",
              "<table border=\"1\" class=\"dataframe\">\n",
              "  <thead>\n",
              "    <tr style=\"text-align: right;\">\n",
              "      <th></th>\n",
              "      <th>id</th>\n",
              "      <th>Gender</th>\n",
              "      <th>Age</th>\n",
              "      <th>Driving_License</th>\n",
              "      <th>Region_Code</th>\n",
              "      <th>Previously_Insured</th>\n",
              "      <th>Vehicle_Age</th>\n",
              "      <th>Vehicle_Damage</th>\n",
              "      <th>Annual_Premium</th>\n",
              "      <th>Policy_Sales_Channel</th>\n",
              "      <th>Vintage</th>\n",
              "      <th>Response</th>\n",
              "    </tr>\n",
              "  </thead>\n",
              "  <tbody>\n",
              "    <tr>\n",
              "      <th>0</th>\n",
              "      <td>1</td>\n",
              "      <td>Male</td>\n",
              "      <td>44</td>\n",
              "      <td>1</td>\n",
              "      <td>28.0</td>\n",
              "      <td>0</td>\n",
              "      <td>&gt; 2 Years</td>\n",
              "      <td>Yes</td>\n",
              "      <td>40454.0</td>\n",
              "      <td>26.0</td>\n",
              "      <td>217</td>\n",
              "      <td>1</td>\n",
              "    </tr>\n",
              "    <tr>\n",
              "      <th>1</th>\n",
              "      <td>2</td>\n",
              "      <td>Male</td>\n",
              "      <td>76</td>\n",
              "      <td>1</td>\n",
              "      <td>3.0</td>\n",
              "      <td>0</td>\n",
              "      <td>1-2 Year</td>\n",
              "      <td>No</td>\n",
              "      <td>33536.0</td>\n",
              "      <td>26.0</td>\n",
              "      <td>183</td>\n",
              "      <td>0</td>\n",
              "    </tr>\n",
              "    <tr>\n",
              "      <th>2</th>\n",
              "      <td>3</td>\n",
              "      <td>Male</td>\n",
              "      <td>47</td>\n",
              "      <td>1</td>\n",
              "      <td>28.0</td>\n",
              "      <td>0</td>\n",
              "      <td>&gt; 2 Years</td>\n",
              "      <td>Yes</td>\n",
              "      <td>38294.0</td>\n",
              "      <td>26.0</td>\n",
              "      <td>27</td>\n",
              "      <td>1</td>\n",
              "    </tr>\n",
              "    <tr>\n",
              "      <th>3</th>\n",
              "      <td>4</td>\n",
              "      <td>Male</td>\n",
              "      <td>21</td>\n",
              "      <td>1</td>\n",
              "      <td>11.0</td>\n",
              "      <td>1</td>\n",
              "      <td>&lt; 1 Year</td>\n",
              "      <td>No</td>\n",
              "      <td>28619.0</td>\n",
              "      <td>152.0</td>\n",
              "      <td>203</td>\n",
              "      <td>0</td>\n",
              "    </tr>\n",
              "    <tr>\n",
              "      <th>4</th>\n",
              "      <td>5</td>\n",
              "      <td>Female</td>\n",
              "      <td>29</td>\n",
              "      <td>1</td>\n",
              "      <td>41.0</td>\n",
              "      <td>1</td>\n",
              "      <td>&lt; 1 Year</td>\n",
              "      <td>No</td>\n",
              "      <td>27496.0</td>\n",
              "      <td>152.0</td>\n",
              "      <td>39</td>\n",
              "      <td>0</td>\n",
              "    </tr>\n",
              "    <tr>\n",
              "      <th>...</th>\n",
              "      <td>...</td>\n",
              "      <td>...</td>\n",
              "      <td>...</td>\n",
              "      <td>...</td>\n",
              "      <td>...</td>\n",
              "      <td>...</td>\n",
              "      <td>...</td>\n",
              "      <td>...</td>\n",
              "      <td>...</td>\n",
              "      <td>...</td>\n",
              "      <td>...</td>\n",
              "      <td>...</td>\n",
              "    </tr>\n",
              "    <tr>\n",
              "      <th>381104</th>\n",
              "      <td>381105</td>\n",
              "      <td>Male</td>\n",
              "      <td>74</td>\n",
              "      <td>1</td>\n",
              "      <td>26.0</td>\n",
              "      <td>1</td>\n",
              "      <td>1-2 Year</td>\n",
              "      <td>No</td>\n",
              "      <td>30170.0</td>\n",
              "      <td>26.0</td>\n",
              "      <td>88</td>\n",
              "      <td>0</td>\n",
              "    </tr>\n",
              "    <tr>\n",
              "      <th>381105</th>\n",
              "      <td>381106</td>\n",
              "      <td>Male</td>\n",
              "      <td>30</td>\n",
              "      <td>1</td>\n",
              "      <td>37.0</td>\n",
              "      <td>1</td>\n",
              "      <td>&lt; 1 Year</td>\n",
              "      <td>No</td>\n",
              "      <td>40016.0</td>\n",
              "      <td>152.0</td>\n",
              "      <td>131</td>\n",
              "      <td>0</td>\n",
              "    </tr>\n",
              "    <tr>\n",
              "      <th>381106</th>\n",
              "      <td>381107</td>\n",
              "      <td>Male</td>\n",
              "      <td>21</td>\n",
              "      <td>1</td>\n",
              "      <td>30.0</td>\n",
              "      <td>1</td>\n",
              "      <td>&lt; 1 Year</td>\n",
              "      <td>No</td>\n",
              "      <td>35118.0</td>\n",
              "      <td>160.0</td>\n",
              "      <td>161</td>\n",
              "      <td>0</td>\n",
              "    </tr>\n",
              "    <tr>\n",
              "      <th>381107</th>\n",
              "      <td>381108</td>\n",
              "      <td>Female</td>\n",
              "      <td>68</td>\n",
              "      <td>1</td>\n",
              "      <td>14.0</td>\n",
              "      <td>0</td>\n",
              "      <td>&gt; 2 Years</td>\n",
              "      <td>Yes</td>\n",
              "      <td>44617.0</td>\n",
              "      <td>124.0</td>\n",
              "      <td>74</td>\n",
              "      <td>0</td>\n",
              "    </tr>\n",
              "    <tr>\n",
              "      <th>381108</th>\n",
              "      <td>381109</td>\n",
              "      <td>Male</td>\n",
              "      <td>46</td>\n",
              "      <td>1</td>\n",
              "      <td>29.0</td>\n",
              "      <td>0</td>\n",
              "      <td>1-2 Year</td>\n",
              "      <td>No</td>\n",
              "      <td>41777.0</td>\n",
              "      <td>26.0</td>\n",
              "      <td>237</td>\n",
              "      <td>0</td>\n",
              "    </tr>\n",
              "  </tbody>\n",
              "</table>\n",
              "<p>381109 rows × 12 columns</p>\n",
              "</div>\n",
              "      <button class=\"colab-df-convert\" onclick=\"convertToInteractive('df-73ef6849-9875-4651-8456-776acb1da781')\"\n",
              "              title=\"Convert this dataframe to an interactive table.\"\n",
              "              style=\"display:none;\">\n",
              "        \n",
              "  <svg xmlns=\"http://www.w3.org/2000/svg\" height=\"24px\"viewBox=\"0 0 24 24\"\n",
              "       width=\"24px\">\n",
              "    <path d=\"M0 0h24v24H0V0z\" fill=\"none\"/>\n",
              "    <path d=\"M18.56 5.44l.94 2.06.94-2.06 2.06-.94-2.06-.94-.94-2.06-.94 2.06-2.06.94zm-11 1L8.5 8.5l.94-2.06 2.06-.94-2.06-.94L8.5 2.5l-.94 2.06-2.06.94zm10 10l.94 2.06.94-2.06 2.06-.94-2.06-.94-.94-2.06-.94 2.06-2.06.94z\"/><path d=\"M17.41 7.96l-1.37-1.37c-.4-.4-.92-.59-1.43-.59-.52 0-1.04.2-1.43.59L10.3 9.45l-7.72 7.72c-.78.78-.78 2.05 0 2.83L4 21.41c.39.39.9.59 1.41.59.51 0 1.02-.2 1.41-.59l7.78-7.78 2.81-2.81c.8-.78.8-2.07 0-2.86zM5.41 20L4 18.59l7.72-7.72 1.47 1.35L5.41 20z\"/>\n",
              "  </svg>\n",
              "      </button>\n",
              "      \n",
              "  <style>\n",
              "    .colab-df-container {\n",
              "      display:flex;\n",
              "      flex-wrap:wrap;\n",
              "      gap: 12px;\n",
              "    }\n",
              "\n",
              "    .colab-df-convert {\n",
              "      background-color: #E8F0FE;\n",
              "      border: none;\n",
              "      border-radius: 50%;\n",
              "      cursor: pointer;\n",
              "      display: none;\n",
              "      fill: #1967D2;\n",
              "      height: 32px;\n",
              "      padding: 0 0 0 0;\n",
              "      width: 32px;\n",
              "    }\n",
              "\n",
              "    .colab-df-convert:hover {\n",
              "      background-color: #E2EBFA;\n",
              "      box-shadow: 0px 1px 2px rgba(60, 64, 67, 0.3), 0px 1px 3px 1px rgba(60, 64, 67, 0.15);\n",
              "      fill: #174EA6;\n",
              "    }\n",
              "\n",
              "    [theme=dark] .colab-df-convert {\n",
              "      background-color: #3B4455;\n",
              "      fill: #D2E3FC;\n",
              "    }\n",
              "\n",
              "    [theme=dark] .colab-df-convert:hover {\n",
              "      background-color: #434B5C;\n",
              "      box-shadow: 0px 1px 3px 1px rgba(0, 0, 0, 0.15);\n",
              "      filter: drop-shadow(0px 1px 2px rgba(0, 0, 0, 0.3));\n",
              "      fill: #FFFFFF;\n",
              "    }\n",
              "  </style>\n",
              "\n",
              "      <script>\n",
              "        const buttonEl =\n",
              "          document.querySelector('#df-73ef6849-9875-4651-8456-776acb1da781 button.colab-df-convert');\n",
              "        buttonEl.style.display =\n",
              "          google.colab.kernel.accessAllowed ? 'block' : 'none';\n",
              "\n",
              "        async function convertToInteractive(key) {\n",
              "          const element = document.querySelector('#df-73ef6849-9875-4651-8456-776acb1da781');\n",
              "          const dataTable =\n",
              "            await google.colab.kernel.invokeFunction('convertToInteractive',\n",
              "                                                     [key], {});\n",
              "          if (!dataTable) return;\n",
              "\n",
              "          const docLinkHtml = 'Like what you see? Visit the ' +\n",
              "            '<a target=\"_blank\" href=https://colab.research.google.com/notebooks/data_table.ipynb>data table notebook</a>'\n",
              "            + ' to learn more about interactive tables.';\n",
              "          element.innerHTML = '';\n",
              "          dataTable['output_type'] = 'display_data';\n",
              "          await google.colab.output.renderOutput(dataTable, element);\n",
              "          const docLink = document.createElement('div');\n",
              "          docLink.innerHTML = docLinkHtml;\n",
              "          element.appendChild(docLink);\n",
              "        }\n",
              "      </script>\n",
              "    </div>\n",
              "  </div>\n",
              "  "
            ]
          },
          "metadata": {},
          "execution_count": 407
        }
      ],
      "source": [
        "df"
      ]
    },
    {
      "cell_type": "code",
      "execution_count": 408,
      "metadata": {
        "colab": {
          "base_uri": "https://localhost:8080/"
        },
        "id": "EEMbtCp41Qut",
        "outputId": "7be6a791-f11e-4ba8-bb7f-dbfd1c849bcb"
      },
      "outputs": [
        {
          "output_type": "execute_result",
          "data": {
            "text/plain": [
              "(381109, 12)"
            ]
          },
          "metadata": {},
          "execution_count": 408
        }
      ],
      "source": [
        "#Knowing the shape of df\n",
        "df.shape"
      ]
    },
    {
      "cell_type": "code",
      "execution_count": 409,
      "metadata": {
        "colab": {
          "base_uri": "https://localhost:8080/"
        },
        "id": "eYR_5DLF3Uwy",
        "outputId": "a7dd51c5-5738-4e44-b429-0f812f874143"
      },
      "outputs": [
        {
          "output_type": "execute_result",
          "data": {
            "text/plain": [
              "Index(['id', 'Gender', 'Age', 'Driving_License', 'Region_Code',\n",
              "       'Previously_Insured', 'Vehicle_Age', 'Vehicle_Damage', 'Annual_Premium',\n",
              "       'Policy_Sales_Channel', 'Vintage', 'Response'],\n",
              "      dtype='object')"
            ]
          },
          "metadata": {},
          "execution_count": 409
        }
      ],
      "source": [
        "#Knowing the columns of our df\n",
        "df.columns"
      ]
    },
    {
      "cell_type": "code",
      "execution_count": 410,
      "metadata": {
        "colab": {
          "base_uri": "https://localhost:8080/",
          "height": 364
        },
        "id": "vovjYRiQ14ND",
        "outputId": "24788b4a-de00-48f0-b9cd-80e4f6cabcaa"
      },
      "outputs": [
        {
          "output_type": "execute_result",
          "data": {
            "text/plain": [
              "                  id            Age  Driving_License    Region_Code  \\\n",
              "count  381109.000000  381109.000000    381109.000000  381109.000000   \n",
              "mean   190555.000000      38.822584         0.997869      26.388807   \n",
              "std    110016.836208      15.511611         0.046110      13.229888   \n",
              "min         1.000000      20.000000         0.000000       0.000000   \n",
              "25%     95278.000000      25.000000         1.000000      15.000000   \n",
              "50%    190555.000000      36.000000         1.000000      28.000000   \n",
              "75%    285832.000000      49.000000         1.000000      35.000000   \n",
              "max    381109.000000      85.000000         1.000000      52.000000   \n",
              "\n",
              "       Previously_Insured  Annual_Premium  Policy_Sales_Channel  \\\n",
              "count       381109.000000   381109.000000         381109.000000   \n",
              "mean             0.458210    30564.389581            112.034295   \n",
              "std              0.498251    17213.155057             54.203995   \n",
              "min              0.000000     2630.000000              1.000000   \n",
              "25%              0.000000    24405.000000             29.000000   \n",
              "50%              0.000000    31669.000000            133.000000   \n",
              "75%              1.000000    39400.000000            152.000000   \n",
              "max              1.000000   540165.000000            163.000000   \n",
              "\n",
              "             Vintage       Response  \n",
              "count  381109.000000  381109.000000  \n",
              "mean      154.347397       0.122563  \n",
              "std        83.671304       0.327936  \n",
              "min        10.000000       0.000000  \n",
              "25%        82.000000       0.000000  \n",
              "50%       154.000000       0.000000  \n",
              "75%       227.000000       0.000000  \n",
              "max       299.000000       1.000000  "
            ],
            "text/html": [
              "\n",
              "  <div id=\"df-501fdbc3-faf2-414a-a8fa-c5a113084ddd\">\n",
              "    <div class=\"colab-df-container\">\n",
              "      <div>\n",
              "<style scoped>\n",
              "    .dataframe tbody tr th:only-of-type {\n",
              "        vertical-align: middle;\n",
              "    }\n",
              "\n",
              "    .dataframe tbody tr th {\n",
              "        vertical-align: top;\n",
              "    }\n",
              "\n",
              "    .dataframe thead th {\n",
              "        text-align: right;\n",
              "    }\n",
              "</style>\n",
              "<table border=\"1\" class=\"dataframe\">\n",
              "  <thead>\n",
              "    <tr style=\"text-align: right;\">\n",
              "      <th></th>\n",
              "      <th>id</th>\n",
              "      <th>Age</th>\n",
              "      <th>Driving_License</th>\n",
              "      <th>Region_Code</th>\n",
              "      <th>Previously_Insured</th>\n",
              "      <th>Annual_Premium</th>\n",
              "      <th>Policy_Sales_Channel</th>\n",
              "      <th>Vintage</th>\n",
              "      <th>Response</th>\n",
              "    </tr>\n",
              "  </thead>\n",
              "  <tbody>\n",
              "    <tr>\n",
              "      <th>count</th>\n",
              "      <td>381109.000000</td>\n",
              "      <td>381109.000000</td>\n",
              "      <td>381109.000000</td>\n",
              "      <td>381109.000000</td>\n",
              "      <td>381109.000000</td>\n",
              "      <td>381109.000000</td>\n",
              "      <td>381109.000000</td>\n",
              "      <td>381109.000000</td>\n",
              "      <td>381109.000000</td>\n",
              "    </tr>\n",
              "    <tr>\n",
              "      <th>mean</th>\n",
              "      <td>190555.000000</td>\n",
              "      <td>38.822584</td>\n",
              "      <td>0.997869</td>\n",
              "      <td>26.388807</td>\n",
              "      <td>0.458210</td>\n",
              "      <td>30564.389581</td>\n",
              "      <td>112.034295</td>\n",
              "      <td>154.347397</td>\n",
              "      <td>0.122563</td>\n",
              "    </tr>\n",
              "    <tr>\n",
              "      <th>std</th>\n",
              "      <td>110016.836208</td>\n",
              "      <td>15.511611</td>\n",
              "      <td>0.046110</td>\n",
              "      <td>13.229888</td>\n",
              "      <td>0.498251</td>\n",
              "      <td>17213.155057</td>\n",
              "      <td>54.203995</td>\n",
              "      <td>83.671304</td>\n",
              "      <td>0.327936</td>\n",
              "    </tr>\n",
              "    <tr>\n",
              "      <th>min</th>\n",
              "      <td>1.000000</td>\n",
              "      <td>20.000000</td>\n",
              "      <td>0.000000</td>\n",
              "      <td>0.000000</td>\n",
              "      <td>0.000000</td>\n",
              "      <td>2630.000000</td>\n",
              "      <td>1.000000</td>\n",
              "      <td>10.000000</td>\n",
              "      <td>0.000000</td>\n",
              "    </tr>\n",
              "    <tr>\n",
              "      <th>25%</th>\n",
              "      <td>95278.000000</td>\n",
              "      <td>25.000000</td>\n",
              "      <td>1.000000</td>\n",
              "      <td>15.000000</td>\n",
              "      <td>0.000000</td>\n",
              "      <td>24405.000000</td>\n",
              "      <td>29.000000</td>\n",
              "      <td>82.000000</td>\n",
              "      <td>0.000000</td>\n",
              "    </tr>\n",
              "    <tr>\n",
              "      <th>50%</th>\n",
              "      <td>190555.000000</td>\n",
              "      <td>36.000000</td>\n",
              "      <td>1.000000</td>\n",
              "      <td>28.000000</td>\n",
              "      <td>0.000000</td>\n",
              "      <td>31669.000000</td>\n",
              "      <td>133.000000</td>\n",
              "      <td>154.000000</td>\n",
              "      <td>0.000000</td>\n",
              "    </tr>\n",
              "    <tr>\n",
              "      <th>75%</th>\n",
              "      <td>285832.000000</td>\n",
              "      <td>49.000000</td>\n",
              "      <td>1.000000</td>\n",
              "      <td>35.000000</td>\n",
              "      <td>1.000000</td>\n",
              "      <td>39400.000000</td>\n",
              "      <td>152.000000</td>\n",
              "      <td>227.000000</td>\n",
              "      <td>0.000000</td>\n",
              "    </tr>\n",
              "    <tr>\n",
              "      <th>max</th>\n",
              "      <td>381109.000000</td>\n",
              "      <td>85.000000</td>\n",
              "      <td>1.000000</td>\n",
              "      <td>52.000000</td>\n",
              "      <td>1.000000</td>\n",
              "      <td>540165.000000</td>\n",
              "      <td>163.000000</td>\n",
              "      <td>299.000000</td>\n",
              "      <td>1.000000</td>\n",
              "    </tr>\n",
              "  </tbody>\n",
              "</table>\n",
              "</div>\n",
              "      <button class=\"colab-df-convert\" onclick=\"convertToInteractive('df-501fdbc3-faf2-414a-a8fa-c5a113084ddd')\"\n",
              "              title=\"Convert this dataframe to an interactive table.\"\n",
              "              style=\"display:none;\">\n",
              "        \n",
              "  <svg xmlns=\"http://www.w3.org/2000/svg\" height=\"24px\"viewBox=\"0 0 24 24\"\n",
              "       width=\"24px\">\n",
              "    <path d=\"M0 0h24v24H0V0z\" fill=\"none\"/>\n",
              "    <path d=\"M18.56 5.44l.94 2.06.94-2.06 2.06-.94-2.06-.94-.94-2.06-.94 2.06-2.06.94zm-11 1L8.5 8.5l.94-2.06 2.06-.94-2.06-.94L8.5 2.5l-.94 2.06-2.06.94zm10 10l.94 2.06.94-2.06 2.06-.94-2.06-.94-.94-2.06-.94 2.06-2.06.94z\"/><path d=\"M17.41 7.96l-1.37-1.37c-.4-.4-.92-.59-1.43-.59-.52 0-1.04.2-1.43.59L10.3 9.45l-7.72 7.72c-.78.78-.78 2.05 0 2.83L4 21.41c.39.39.9.59 1.41.59.51 0 1.02-.2 1.41-.59l7.78-7.78 2.81-2.81c.8-.78.8-2.07 0-2.86zM5.41 20L4 18.59l7.72-7.72 1.47 1.35L5.41 20z\"/>\n",
              "  </svg>\n",
              "      </button>\n",
              "      \n",
              "  <style>\n",
              "    .colab-df-container {\n",
              "      display:flex;\n",
              "      flex-wrap:wrap;\n",
              "      gap: 12px;\n",
              "    }\n",
              "\n",
              "    .colab-df-convert {\n",
              "      background-color: #E8F0FE;\n",
              "      border: none;\n",
              "      border-radius: 50%;\n",
              "      cursor: pointer;\n",
              "      display: none;\n",
              "      fill: #1967D2;\n",
              "      height: 32px;\n",
              "      padding: 0 0 0 0;\n",
              "      width: 32px;\n",
              "    }\n",
              "\n",
              "    .colab-df-convert:hover {\n",
              "      background-color: #E2EBFA;\n",
              "      box-shadow: 0px 1px 2px rgba(60, 64, 67, 0.3), 0px 1px 3px 1px rgba(60, 64, 67, 0.15);\n",
              "      fill: #174EA6;\n",
              "    }\n",
              "\n",
              "    [theme=dark] .colab-df-convert {\n",
              "      background-color: #3B4455;\n",
              "      fill: #D2E3FC;\n",
              "    }\n",
              "\n",
              "    [theme=dark] .colab-df-convert:hover {\n",
              "      background-color: #434B5C;\n",
              "      box-shadow: 0px 1px 3px 1px rgba(0, 0, 0, 0.15);\n",
              "      filter: drop-shadow(0px 1px 2px rgba(0, 0, 0, 0.3));\n",
              "      fill: #FFFFFF;\n",
              "    }\n",
              "  </style>\n",
              "\n",
              "      <script>\n",
              "        const buttonEl =\n",
              "          document.querySelector('#df-501fdbc3-faf2-414a-a8fa-c5a113084ddd button.colab-df-convert');\n",
              "        buttonEl.style.display =\n",
              "          google.colab.kernel.accessAllowed ? 'block' : 'none';\n",
              "\n",
              "        async function convertToInteractive(key) {\n",
              "          const element = document.querySelector('#df-501fdbc3-faf2-414a-a8fa-c5a113084ddd');\n",
              "          const dataTable =\n",
              "            await google.colab.kernel.invokeFunction('convertToInteractive',\n",
              "                                                     [key], {});\n",
              "          if (!dataTable) return;\n",
              "\n",
              "          const docLinkHtml = 'Like what you see? Visit the ' +\n",
              "            '<a target=\"_blank\" href=https://colab.research.google.com/notebooks/data_table.ipynb>data table notebook</a>'\n",
              "            + ' to learn more about interactive tables.';\n",
              "          element.innerHTML = '';\n",
              "          dataTable['output_type'] = 'display_data';\n",
              "          await google.colab.output.renderOutput(dataTable, element);\n",
              "          const docLink = document.createElement('div');\n",
              "          docLink.innerHTML = docLinkHtml;\n",
              "          element.appendChild(docLink);\n",
              "        }\n",
              "      </script>\n",
              "    </div>\n",
              "  </div>\n",
              "  "
            ]
          },
          "metadata": {},
          "execution_count": 410
        }
      ],
      "source": [
        "#Knowing the description of df\n",
        "df.describe()"
      ]
    },
    {
      "cell_type": "code",
      "execution_count": 411,
      "metadata": {
        "colab": {
          "base_uri": "https://localhost:8080/"
        },
        "id": "yj4jUgjS1cFA",
        "outputId": "33b71583-1563-4b1c-8f01-28604417f396"
      },
      "outputs": [
        {
          "output_type": "stream",
          "name": "stdout",
          "text": [
            "<class 'pandas.core.frame.DataFrame'>\n",
            "RangeIndex: 381109 entries, 0 to 381108\n",
            "Data columns (total 12 columns):\n",
            " #   Column                Non-Null Count   Dtype  \n",
            "---  ------                --------------   -----  \n",
            " 0   id                    381109 non-null  int64  \n",
            " 1   Gender                381109 non-null  object \n",
            " 2   Age                   381109 non-null  int64  \n",
            " 3   Driving_License       381109 non-null  int64  \n",
            " 4   Region_Code           381109 non-null  float64\n",
            " 5   Previously_Insured    381109 non-null  int64  \n",
            " 6   Vehicle_Age           381109 non-null  object \n",
            " 7   Vehicle_Damage        381109 non-null  object \n",
            " 8   Annual_Premium        381109 non-null  float64\n",
            " 9   Policy_Sales_Channel  381109 non-null  float64\n",
            " 10  Vintage               381109 non-null  int64  \n",
            " 11  Response              381109 non-null  int64  \n",
            "dtypes: float64(3), int64(6), object(3)\n",
            "memory usage: 34.9+ MB\n"
          ]
        }
      ],
      "source": [
        "#knowing the information of df\n",
        "df.info()"
      ]
    },
    {
      "cell_type": "code",
      "execution_count": 412,
      "metadata": {
        "colab": {
          "base_uri": "https://localhost:8080/"
        },
        "id": "xPgwutI23Ece",
        "outputId": "45cf4c4a-9f70-4f48-ba2d-337f227815e8"
      },
      "outputs": [
        {
          "output_type": "execute_result",
          "data": {
            "text/plain": [
              "False"
            ]
          },
          "metadata": {},
          "execution_count": 412
        }
      ],
      "source": [
        "#Checking Nulls\n",
        "# print(df.isnull().sum())\n",
        "#OR\n",
        "df.isnull().values.any()"
      ]
    },
    {
      "cell_type": "markdown",
      "metadata": {
        "id": "WM0os7TQ1rNb"
      },
      "source": [
        "As we can see there is no null value in our df so no need to go for null value treatment"
      ]
    },
    {
      "cell_type": "markdown",
      "metadata": {
        "id": "md94Uu_U2dzq"
      },
      "source": [
        "Checking Duplicates"
      ]
    },
    {
      "cell_type": "code",
      "execution_count": 413,
      "metadata": {
        "colab": {
          "base_uri": "https://localhost:8080/"
        },
        "id": "A3FpA3oB2dbZ",
        "outputId": "a010d34a-dc0b-4e80-e66e-1df4e4791f6a"
      },
      "outputs": [
        {
          "output_type": "execute_result",
          "data": {
            "text/plain": [
              "False"
            ]
          },
          "metadata": {},
          "execution_count": 413
        }
      ],
      "source": [
        "#checking Duplicates\n",
        "# print(df.duplicated().sum())\n",
        "#OR\n",
        "df.duplicated().values.any()\n"
      ]
    },
    {
      "cell_type": "markdown",
      "source": [
        "As we can see there is no Duplicate value in our df so no need to go for Duplicates value treatment"
      ],
      "metadata": {
        "id": "xYtdBvTUvy3u"
      }
    },
    {
      "cell_type": "markdown",
      "metadata": {
        "id": "PV88jyLfNj0a"
      },
      "source": [
        "Checking Outliers"
      ]
    },
    {
      "cell_type": "code",
      "execution_count": 414,
      "metadata": {
        "id": "vsdlOUhAOVV3"
      },
      "outputs": [],
      "source": [
        "df['Annual_Premium']=df.Annual_Premium.astype(int)"
      ]
    },
    {
      "cell_type": "markdown",
      "source": [
        "After checking all the features we've got only one column which have Outliers- 'Annual_Premium'"
      ],
      "metadata": {
        "id": "Rh_pOFH9hQRB"
      }
    },
    {
      "cell_type": "code",
      "execution_count": 415,
      "metadata": {
        "colab": {
          "base_uri": "https://localhost:8080/"
        },
        "id": "igVkTr67OjbJ",
        "outputId": "b6f7a8f8-7da0-4ee9-e8cf-f307097fa304"
      },
      "outputs": [
        {
          "output_type": "execute_result",
          "data": {
            "text/plain": [
              "pandas.core.series.Series"
            ]
          },
          "metadata": {},
          "execution_count": 415
        }
      ],
      "source": [
        "type(df['Annual_Premium'])"
      ]
    },
    {
      "cell_type": "code",
      "execution_count": 416,
      "metadata": {
        "colab": {
          "base_uri": "https://localhost:8080/",
          "height": 301
        },
        "id": "nGB031_THzSt",
        "outputId": "90cf528f-d916-4a2d-c489-de1649cb1341"
      },
      "outputs": [
        {
          "output_type": "display_data",
          "data": {
            "text/plain": [
              "<Figure size 432x288 with 1 Axes>"
            ],
            "image/png": "[encoded data removed]"
          },
          "metadata": {
            "needs_background": "light"
          }
        }
      ],
      "source": [
        "# for i in num_col.columns:\n",
        "#   sns.boxplot(x=num_col[i])\n",
        "sns.boxplot(x=df['Annual_Premium'])\n",
        "mp.title('Checking Outliers', size=20)#title for the countplot\n",
        "mp.show()"
      ]
    },
    {
      "cell_type": "code",
      "execution_count": 417,
      "metadata": {
        "id": "4Td_WeFuJqV1"
      },
      "outputs": [],
      "source": [
        "# Creating fuction for Removing the outliers\n",
        "def removeOutliers(data, col):\n",
        "    Q3 = np.quantile(data[col], 0.75)\n",
        "    Q1 = np.quantile(data[col], 0.25)\n",
        "    IQR = Q3 - Q1\n",
        " \n",
        "    print(\"IQR value for column %s is: %s\" % (col, IQR))\n",
        "    global outlier_free_list\n",
        "    global filtered_data\n",
        " \n",
        "    lower_range = Q1 - 1.5 * IQR\n",
        "    upper_range = Q3 + 1.5 * IQR\n",
        "    outlier_free_list = [x for x in data[col] if (\n",
        "        (x > lower_range) & (x < upper_range))]\n",
        "    filtered_data = data.loc[data[col].isin(outlier_free_list)]"
      ]
    },
    {
      "cell_type": "code",
      "execution_count": 418,
      "metadata": {
        "colab": {
          "base_uri": "https://localhost:8080/",
          "height": 36
        },
        "id": "TxL5xo1hPB20",
        "outputId": "d7da199f-56bf-474d-d05f-c1b9b62f1d27"
      },
      "outputs": [
        {
          "output_type": "execute_result",
          "data": {
            "text/plain": [
              "'Annual_Premium'"
            ],
            "application/vnd.google.colaboratory.intrinsic+json": {
              "type": "string"
            }
          },
          "metadata": {},
          "execution_count": 418
        }
      ],
      "source": [
        "#Find the column number\n",
        "df.columns[8]"
      ]
    },
    {
      "cell_type": "code",
      "execution_count": 419,
      "metadata": {
        "colab": {
          "base_uri": "https://localhost:8080/"
        },
        "id": "H2eCO7SHMxDR",
        "outputId": "231c5996-c93f-4945-d653-7945db5f0c92"
      },
      "outputs": [
        {
          "output_type": "stream",
          "name": "stdout",
          "text": [
            "IQR value for column Annual_Premium is: 14995.0\n",
            "Shape of data after outlier removal is:  (370789, 12)\n"
          ]
        }
      ],
      "source": [
        "#Now go for Annual_Premium\n",
        "for i in df.columns:\n",
        "  if i == df.columns[8]:\n",
        "    removeOutliers(df, i) \n",
        "# Assigning filtered data back to our original variable\n",
        "df = filtered_data\n",
        "print(\"Shape of data after outlier removal is: \", df.shape)"
      ]
    },
    {
      "cell_type": "markdown",
      "metadata": {
        "id": "Yu-Dbc874cSI"
      },
      "source": [
        "Checking and visualization of our target variable- Response"
      ]
    },
    {
      "cell_type": "code",
      "execution_count": 420,
      "metadata": {
        "colab": {
          "base_uri": "https://localhost:8080/"
        },
        "id": "FXvgHn4U4g9W",
        "outputId": "fdced9fa-a02e-4de8-d160-454f1ea88d24"
      },
      "outputs": [
        {
          "output_type": "execute_result",
          "data": {
            "text/plain": [
              "0    325634\n",
              "1     45155\n",
              "Name: Response, dtype: int64"
            ]
          },
          "metadata": {},
          "execution_count": 420
        }
      ],
      "source": [
        "df.Response.value_counts()   #Response :\t1:Customer is interested, 0:Customer is not interested"
      ]
    },
    {
      "cell_type": "code",
      "source": [
        "sns.countplot(x=df['Response'], data=df)\n",
        "mp.title('Not-Intrested vs Intrested Policyholders', size=20)#title for the countplot\n",
        "mp.show()"
      ],
      "metadata": {
        "colab": {
          "base_uri": "https://localhost:8080/",
          "height": 300
        },
        "id": "SfE3rh9OO7gy",
        "outputId": "6a45da05-9557-4ddd-8207-f578596f565d"
      },
      "execution_count": 421,
      "outputs": [
        {
          "output_type": "display_data",
          "data": {
            "text/plain": [
              "<Figure size 432x288 with 1 Axes>"
            ],
            "image/png": "[encoded data removed]"
          },
          "metadata": {
            "needs_background": "light"
          }
        }
      ]
    },
    {
      "cell_type": "markdown",
      "source": [
        "Observation-\n",
        "\n",
        "As we can see that our data is unbalanced so we have to make it balanced data. But before that let's do some techniques and fetch some important information."
      ],
      "metadata": {
        "id": "IH9omjnQitri"
      }
    },
    {
      "cell_type": "code",
      "execution_count": 422,
      "metadata": {
        "colab": {
          "base_uri": "https://localhost:8080/"
        },
        "id": "99zI4EBxh4Q9",
        "outputId": "31cacbbd-7aa3-4e6f-be12-0e971a441506"
      },
      "outputs": [
        {
          "output_type": "execute_result",
          "data": {
            "text/plain": [
              "2.3130462247234798"
            ]
          },
          "metadata": {},
          "execution_count": 422
        }
      ],
      "source": [
        "df.Response.skew()"
      ]
    },
    {
      "cell_type": "markdown",
      "source": [
        "Our target column is Positively skewed"
      ],
      "metadata": {
        "id": "t5ejuA42jyFj"
      }
    },
    {
      "cell_type": "code",
      "execution_count": 423,
      "metadata": {
        "colab": {
          "base_uri": "https://localhost:8080/",
          "height": 313
        },
        "id": "QnFcxmN451U_",
        "outputId": "3848a02f-b258-46e3-cb68-cc15c7aa3970"
      },
      "outputs": [
        {
          "output_type": "execute_result",
          "data": {
            "text/plain": [
              "Text(0.5, 1.0, 'Target Feature')"
            ]
          },
          "metadata": {},
          "execution_count": 423
        },
        {
          "output_type": "display_data",
          "data": {
            "text/plain": [
              "<Figure size 432x288 with 1 Axes>"
            ],
            "image/png": "[encoded data removed]"
          },
          "metadata": {
            "needs_background": "light"
          }
        }
      ],
      "source": [
        "#checking the distribution of target variable\n",
        "ax1=sns.kdeplot(df['Response'])\n",
        "ax1.set_title('Target Feature')"
      ]
    },
    {
      "cell_type": "markdown",
      "source": [
        "As we can see our target feature has only two values- 0 and 1"
      ],
      "metadata": {
        "id": "kbt5w5jWyGRX"
      }
    },
    {
      "cell_type": "code",
      "execution_count": 424,
      "metadata": {
        "colab": {
          "base_uri": "https://localhost:8080/",
          "height": 283
        },
        "id": "Vip1FlxOgy2z",
        "outputId": "913f3d9f-222f-4d4d-e53a-86ac76edecc2"
      },
      "outputs": [
        {
          "output_type": "execute_result",
          "data": {
            "text/plain": [
              "<matplotlib.axes._subplots.AxesSubplot at 0x7fb854c2b290>"
            ]
          },
          "metadata": {},
          "execution_count": 424
        },
        {
          "output_type": "display_data",
          "data": {
            "text/plain": [
              "<Figure size 432x288 with 1 Axes>"
            ],
            "image/png": "[encoded data removed]"
          },
          "metadata": {
            "needs_background": "light"
          }
        }
      ],
      "source": [
        "df['Response'].hist()"
      ]
    },
    {
      "cell_type": "code",
      "execution_count": 425,
      "metadata": {
        "colab": {
          "base_uri": "https://localhost:8080/"
        },
        "id": "GnJsV7Hzi-pX",
        "outputId": "16ae03e9-4a66-4979-a2f5-beb10317667b"
      },
      "outputs": [
        {
          "output_type": "execute_result",
          "data": {
            "text/plain": [
              "Index(['id', 'Gender', 'Age', 'Driving_License', 'Region_Code',\n",
              "       'Previously_Insured', 'Vehicle_Age', 'Vehicle_Damage', 'Annual_Premium',\n",
              "       'Policy_Sales_Channel', 'Vintage', 'Response'],\n",
              "      dtype='object')"
            ]
          },
          "metadata": {},
          "execution_count": 425
        }
      ],
      "source": [
        "#Cecking other features\n",
        "df.columns"
      ]
    },
    {
      "cell_type": "code",
      "execution_count": 426,
      "metadata": {
        "id": "CWyXk8Z1D9Lc"
      },
      "outputs": [],
      "source": [
        "# Grouping the all numerical features under one umbrella for better visualization\n",
        "num_col=df[['Age','Region_Code','Annual_Premium','Policy_Sales_Channel','Vintage']]"
      ]
    },
    {
      "cell_type": "code",
      "execution_count": 427,
      "metadata": {
        "colab": {
          "base_uri": "https://localhost:8080/",
          "height": 423
        },
        "id": "WdjZoGR_Eehc",
        "outputId": "c57be393-a7d2-4096-fea8-1dc0756e32f0"
      },
      "outputs": [
        {
          "output_type": "execute_result",
          "data": {
            "text/plain": [
              "        Age  Region_Code  Annual_Premium  Policy_Sales_Channel  Vintage\n",
              "0        44         28.0           40454                  26.0      217\n",
              "1        76          3.0           33536                  26.0      183\n",
              "2        47         28.0           38294                  26.0       27\n",
              "3        21         11.0           28619                 152.0      203\n",
              "4        29         41.0           27496                 152.0       39\n",
              "...     ...          ...             ...                   ...      ...\n",
              "381104   74         26.0           30170                  26.0       88\n",
              "381105   30         37.0           40016                 152.0      131\n",
              "381106   21         30.0           35118                 160.0      161\n",
              "381107   68         14.0           44617                 124.0       74\n",
              "381108   46         29.0           41777                  26.0      237\n",
              "\n",
              "[370789 rows x 5 columns]"
            ],
            "text/html": [
              "\n",
              "  <div id=\"df-657ac8fb-ae1e-427f-a1e7-b5125052df7b\">\n",
              "    <div class=\"colab-df-container\">\n",
              "      <div>\n",
              "<style scoped>\n",
              "    .dataframe tbody tr th:only-of-type {\n",
              "        vertical-align: middle;\n",
              "    }\n",
              "\n",
              "    .dataframe tbody tr th {\n",
              "        vertical-align: top;\n",
              "    }\n",
              "\n",
              "    .dataframe thead th {\n",
              "        text-align: right;\n",
              "    }\n",
              "</style>\n",
              "<table border=\"1\" class=\"dataframe\">\n",
              "  <thead>\n",
              "    <tr style=\"text-align: right;\">\n",
              "      <th></th>\n",
              "      <th>Age</th>\n",
              "      <th>Region_Code</th>\n",
              "      <th>Annual_Premium</th>\n",
              "      <th>Policy_Sales_Channel</th>\n",
              "      <th>Vintage</th>\n",
              "    </tr>\n",
              "  </thead>\n",
              "  <tbody>\n",
              "    <tr>\n",
              "      <th>0</th>\n",
              "      <td>44</td>\n",
              "      <td>28.0</td>\n",
              "      <td>40454</td>\n",
              "      <td>26.0</td>\n",
              "      <td>217</td>\n",
              "    </tr>\n",
              "    <tr>\n",
              "      <th>1</th>\n",
              "      <td>76</td>\n",
              "      <td>3.0</td>\n",
              "      <td>33536</td>\n",
              "      <td>26.0</td>\n",
              "      <td>183</td>\n",
              "    </tr>\n",
              "    <tr>\n",
              "      <th>2</th>\n",
              "      <td>47</td>\n",
              "      <td>28.0</td>\n",
              "      <td>38294</td>\n",
              "      <td>26.0</td>\n",
              "      <td>27</td>\n",
              "    </tr>\n",
              "    <tr>\n",
              "      <th>3</th>\n",
              "      <td>21</td>\n",
              "      <td>11.0</td>\n",
              "      <td>28619</td>\n",
              "      <td>152.0</td>\n",
              "      <td>203</td>\n",
              "    </tr>\n",
              "    <tr>\n",
              "      <th>4</th>\n",
              "      <td>29</td>\n",
              "      <td>41.0</td>\n",
              "      <td>27496</td>\n",
              "      <td>152.0</td>\n",
              "      <td>39</td>\n",
              "    </tr>\n",
              "    <tr>\n",
              "      <th>...</th>\n",
              "      <td>...</td>\n",
              "      <td>...</td>\n",
              "      <td>...</td>\n",
              "      <td>...</td>\n",
              "      <td>...</td>\n",
              "    </tr>\n",
              "    <tr>\n",
              "      <th>381104</th>\n",
              "      <td>74</td>\n",
              "      <td>26.0</td>\n",
              "      <td>30170</td>\n",
              "      <td>26.0</td>\n",
              "      <td>88</td>\n",
              "    </tr>\n",
              "    <tr>\n",
              "      <th>381105</th>\n",
              "      <td>30</td>\n",
              "      <td>37.0</td>\n",
              "      <td>40016</td>\n",
              "      <td>152.0</td>\n",
              "      <td>131</td>\n",
              "    </tr>\n",
              "    <tr>\n",
              "      <th>381106</th>\n",
              "      <td>21</td>\n",
              "      <td>30.0</td>\n",
              "      <td>35118</td>\n",
              "      <td>160.0</td>\n",
              "      <td>161</td>\n",
              "    </tr>\n",
              "    <tr>\n",
              "      <th>381107</th>\n",
              "      <td>68</td>\n",
              "      <td>14.0</td>\n",
              "      <td>44617</td>\n",
              "      <td>124.0</td>\n",
              "      <td>74</td>\n",
              "    </tr>\n",
              "    <tr>\n",
              "      <th>381108</th>\n",
              "      <td>46</td>\n",
              "      <td>29.0</td>\n",
              "      <td>41777</td>\n",
              "      <td>26.0</td>\n",
              "      <td>237</td>\n",
              "    </tr>\n",
              "  </tbody>\n",
              "</table>\n",
              "<p>370789 rows × 5 columns</p>\n",
              "</div>\n",
              "      <button class=\"colab-df-convert\" onclick=\"convertToInteractive('df-657ac8fb-ae1e-427f-a1e7-b5125052df7b')\"\n",
              "              title=\"Convert this dataframe to an interactive table.\"\n",
              "              style=\"display:none;\">\n",
              "        \n",
              "  <svg xmlns=\"http://www.w3.org/2000/svg\" height=\"24px\"viewBox=\"0 0 24 24\"\n",
              "       width=\"24px\">\n",
              "    <path d=\"M0 0h24v24H0V0z\" fill=\"none\"/>\n",
              "    <path d=\"M18.56 5.44l.94 2.06.94-2.06 2.06-.94-2.06-.94-.94-2.06-.94 2.06-2.06.94zm-11 1L8.5 8.5l.94-2.06 2.06-.94-2.06-.94L8.5 2.5l-.94 2.06-2.06.94zm10 10l.94 2.06.94-2.06 2.06-.94-2.06-.94-.94-2.06-.94 2.06-2.06.94z\"/><path d=\"M17.41 7.96l-1.37-1.37c-.4-.4-.92-.59-1.43-.59-.52 0-1.04.2-1.43.59L10.3 9.45l-7.72 7.72c-.78.78-.78 2.05 0 2.83L4 21.41c.39.39.9.59 1.41.59.51 0 1.02-.2 1.41-.59l7.78-7.78 2.81-2.81c.8-.78.8-2.07 0-2.86zM5.41 20L4 18.59l7.72-7.72 1.47 1.35L5.41 20z\"/>\n",
              "  </svg>\n",
              "      </button>\n",
              "      \n",
              "  <style>\n",
              "    .colab-df-container {\n",
              "      display:flex;\n",
              "      flex-wrap:wrap;\n",
              "      gap: 12px;\n",
              "    }\n",
              "\n",
              "    .colab-df-convert {\n",
              "      background-color: #E8F0FE;\n",
              "      border: none;\n",
              "      border-radius: 50%;\n",
              "      cursor: pointer;\n",
              "      display: none;\n",
              "      fill: #1967D2;\n",
              "      height: 32px;\n",
              "      padding: 0 0 0 0;\n",
              "      width: 32px;\n",
              "    }\n",
              "\n",
              "    .colab-df-convert:hover {\n",
              "      background-color: #E2EBFA;\n",
              "      box-shadow: 0px 1px 2px rgba(60, 64, 67, 0.3), 0px 1px 3px 1px rgba(60, 64, 67, 0.15);\n",
              "      fill: #174EA6;\n",
              "    }\n",
              "\n",
              "    [theme=dark] .colab-df-convert {\n",
              "      background-color: #3B4455;\n",
              "      fill: #D2E3FC;\n",
              "    }\n",
              "\n",
              "    [theme=dark] .colab-df-convert:hover {\n",
              "      background-color: #434B5C;\n",
              "      box-shadow: 0px 1px 3px 1px rgba(0, 0, 0, 0.15);\n",
              "      filter: drop-shadow(0px 1px 2px rgba(0, 0, 0, 0.3));\n",
              "      fill: #FFFFFF;\n",
              "    }\n",
              "  </style>\n",
              "\n",
              "      <script>\n",
              "        const buttonEl =\n",
              "          document.querySelector('#df-657ac8fb-ae1e-427f-a1e7-b5125052df7b button.colab-df-convert');\n",
              "        buttonEl.style.display =\n",
              "          google.colab.kernel.accessAllowed ? 'block' : 'none';\n",
              "\n",
              "        async function convertToInteractive(key) {\n",
              "          const element = document.querySelector('#df-657ac8fb-ae1e-427f-a1e7-b5125052df7b');\n",
              "          const dataTable =\n",
              "            await google.colab.kernel.invokeFunction('convertToInteractive',\n",
              "                                                     [key], {});\n",
              "          if (!dataTable) return;\n",
              "\n",
              "          const docLinkHtml = 'Like what you see? Visit the ' +\n",
              "            '<a target=\"_blank\" href=https://colab.research.google.com/notebooks/data_table.ipynb>data table notebook</a>'\n",
              "            + ' to learn more about interactive tables.';\n",
              "          element.innerHTML = '';\n",
              "          dataTable['output_type'] = 'display_data';\n",
              "          await google.colab.output.renderOutput(dataTable, element);\n",
              "          const docLink = document.createElement('div');\n",
              "          docLink.innerHTML = docLinkHtml;\n",
              "          element.appendChild(docLink);\n",
              "        }\n",
              "      </script>\n",
              "    </div>\n",
              "  </div>\n",
              "  "
            ]
          },
          "metadata": {},
          "execution_count": 427
        }
      ],
      "source": [
        "#Checking our new df of numerical features\n",
        "num_col"
      ]
    },
    {
      "cell_type": "code",
      "execution_count": 428,
      "metadata": {
        "id": "wZ_lfnViFBGI"
      },
      "outputs": [],
      "source": [
        "# Grouping the all categorical features under one umbrella for better visualization\n",
        "cat_col=[]\n",
        "for i in df.columns:\n",
        "  if i not in num_col:\n",
        "    cat_col.append(i)\n"
      ]
    },
    {
      "cell_type": "code",
      "execution_count": 429,
      "metadata": {
        "colab": {
          "base_uri": "https://localhost:8080/"
        },
        "id": "8wDRt5zaFoyf",
        "outputId": "490aa976-6495-4bef-d088-ef0bcf1f8656"
      },
      "outputs": [
        {
          "output_type": "execute_result",
          "data": {
            "text/plain": [
              "['id',\n",
              " 'Gender',\n",
              " 'Driving_License',\n",
              " 'Previously_Insured',\n",
              " 'Vehicle_Age',\n",
              " 'Vehicle_Damage',\n",
              " 'Response']"
            ]
          },
          "metadata": {},
          "execution_count": 429
        }
      ],
      "source": [
        "#Checking out categorical features\n",
        "cat_col"
      ]
    },
    {
      "cell_type": "code",
      "execution_count": 430,
      "metadata": {
        "colab": {
          "base_uri": "https://localhost:8080/",
          "height": 423
        },
        "id": "lAVUntTmFrV0",
        "outputId": "5991939d-de11-4064-9952-e0dfe276eb63"
      },
      "outputs": [
        {
          "output_type": "execute_result",
          "data": {
            "text/plain": [
              "            id  Gender  Driving_License  Previously_Insured Vehicle_Age  \\\n",
              "0            1    Male                1                   0   > 2 Years   \n",
              "1            2    Male                1                   0    1-2 Year   \n",
              "2            3    Male                1                   0   > 2 Years   \n",
              "3            4    Male                1                   1    < 1 Year   \n",
              "4            5  Female                1                   1    < 1 Year   \n",
              "...        ...     ...              ...                 ...         ...   \n",
              "381104  381105    Male                1                   1    1-2 Year   \n",
              "381105  381106    Male                1                   1    < 1 Year   \n",
              "381106  381107    Male                1                   1    < 1 Year   \n",
              "381107  381108  Female                1                   0   > 2 Years   \n",
              "381108  381109    Male                1                   0    1-2 Year   \n",
              "\n",
              "       Vehicle_Damage  Response  \n",
              "0                 Yes         1  \n",
              "1                  No         0  \n",
              "2                 Yes         1  \n",
              "3                  No         0  \n",
              "4                  No         0  \n",
              "...               ...       ...  \n",
              "381104             No         0  \n",
              "381105             No         0  \n",
              "381106             No         0  \n",
              "381107            Yes         0  \n",
              "381108             No         0  \n",
              "\n",
              "[370789 rows x 7 columns]"
            ],
            "text/html": [
              "\n",
              "  <div id=\"df-ee0ae061-87af-49d5-ad53-2e5ad613f87a\">\n",
              "    <div class=\"colab-df-container\">\n",
              "      <div>\n",
              "<style scoped>\n",
              "    .dataframe tbody tr th:only-of-type {\n",
              "        vertical-align: middle;\n",
              "    }\n",
              "\n",
              "    .dataframe tbody tr th {\n",
              "        vertical-align: top;\n",
              "    }\n",
              "\n",
              "    .dataframe thead th {\n",
              "        text-align: right;\n",
              "    }\n",
              "</style>\n",
              "<table border=\"1\" class=\"dataframe\">\n",
              "  <thead>\n",
              "    <tr style=\"text-align: right;\">\n",
              "      <th></th>\n",
              "      <th>id</th>\n",
              "      <th>Gender</th>\n",
              "      <th>Driving_License</th>\n",
              "      <th>Previously_Insured</th>\n",
              "      <th>Vehicle_Age</th>\n",
              "      <th>Vehicle_Damage</th>\n",
              "      <th>Response</th>\n",
              "    </tr>\n",
              "  </thead>\n",
              "  <tbody>\n",
              "    <tr>\n",
              "      <th>0</th>\n",
              "      <td>1</td>\n",
              "      <td>Male</td>\n",
              "      <td>1</td>\n",
              "      <td>0</td>\n",
              "      <td>&gt; 2 Years</td>\n",
              "      <td>Yes</td>\n",
              "      <td>1</td>\n",
              "    </tr>\n",
              "    <tr>\n",
              "      <th>1</th>\n",
              "      <td>2</td>\n",
              "      <td>Male</td>\n",
              "      <td>1</td>\n",
              "      <td>0</td>\n",
              "      <td>1-2 Year</td>\n",
              "      <td>No</td>\n",
              "      <td>0</td>\n",
              "    </tr>\n",
              "    <tr>\n",
              "      <th>2</th>\n",
              "      <td>3</td>\n",
              "      <td>Male</td>\n",
              "      <td>1</td>\n",
              "      <td>0</td>\n",
              "      <td>&gt; 2 Years</td>\n",
              "      <td>Yes</td>\n",
              "      <td>1</td>\n",
              "    </tr>\n",
              "    <tr>\n",
              "      <th>3</th>\n",
              "      <td>4</td>\n",
              "      <td>Male</td>\n",
              "      <td>1</td>\n",
              "      <td>1</td>\n",
              "      <td>&lt; 1 Year</td>\n",
              "      <td>No</td>\n",
              "      <td>0</td>\n",
              "    </tr>\n",
              "    <tr>\n",
              "      <th>4</th>\n",
              "      <td>5</td>\n",
              "      <td>Female</td>\n",
              "      <td>1</td>\n",
              "      <td>1</td>\n",
              "      <td>&lt; 1 Year</td>\n",
              "      <td>No</td>\n",
              "      <td>0</td>\n",
              "    </tr>\n",
              "    <tr>\n",
              "      <th>...</th>\n",
              "      <td>...</td>\n",
              "      <td>...</td>\n",
              "      <td>...</td>\n",
              "      <td>...</td>\n",
              "      <td>...</td>\n",
              "      <td>...</td>\n",
              "      <td>...</td>\n",
              "    </tr>\n",
              "    <tr>\n",
              "      <th>381104</th>\n",
              "      <td>381105</td>\n",
              "      <td>Male</td>\n",
              "      <td>1</td>\n",
              "      <td>1</td>\n",
              "      <td>1-2 Year</td>\n",
              "      <td>No</td>\n",
              "      <td>0</td>\n",
              "    </tr>\n",
              "    <tr>\n",
              "      <th>381105</th>\n",
              "      <td>381106</td>\n",
              "      <td>Male</td>\n",
              "      <td>1</td>\n",
              "      <td>1</td>\n",
              "      <td>&lt; 1 Year</td>\n",
              "      <td>No</td>\n",
              "      <td>0</td>\n",
              "    </tr>\n",
              "    <tr>\n",
              "      <th>381106</th>\n",
              "      <td>381107</td>\n",
              "      <td>Male</td>\n",
              "      <td>1</td>\n",
              "      <td>1</td>\n",
              "      <td>&lt; 1 Year</td>\n",
              "      <td>No</td>\n",
              "      <td>0</td>\n",
              "    </tr>\n",
              "    <tr>\n",
              "      <th>381107</th>\n",
              "      <td>381108</td>\n",
              "      <td>Female</td>\n",
              "      <td>1</td>\n",
              "      <td>0</td>\n",
              "      <td>&gt; 2 Years</td>\n",
              "      <td>Yes</td>\n",
              "      <td>0</td>\n",
              "    </tr>\n",
              "    <tr>\n",
              "      <th>381108</th>\n",
              "      <td>381109</td>\n",
              "      <td>Male</td>\n",
              "      <td>1</td>\n",
              "      <td>0</td>\n",
              "      <td>1-2 Year</td>\n",
              "      <td>No</td>\n",
              "      <td>0</td>\n",
              "    </tr>\n",
              "  </tbody>\n",
              "</table>\n",
              "<p>370789 rows × 7 columns</p>\n",
              "</div>\n",
              "      <button class=\"colab-df-convert\" onclick=\"convertToInteractive('df-ee0ae061-87af-49d5-ad53-2e5ad613f87a')\"\n",
              "              title=\"Convert this dataframe to an interactive table.\"\n",
              "              style=\"display:none;\">\n",
              "        \n",
              "  <svg xmlns=\"http://www.w3.org/2000/svg\" height=\"24px\"viewBox=\"0 0 24 24\"\n",
              "       width=\"24px\">\n",
              "    <path d=\"M0 0h24v24H0V0z\" fill=\"none\"/>\n",
              "    <path d=\"M18.56 5.44l.94 2.06.94-2.06 2.06-.94-2.06-.94-.94-2.06-.94 2.06-2.06.94zm-11 1L8.5 8.5l.94-2.06 2.06-.94-2.06-.94L8.5 2.5l-.94 2.06-2.06.94zm10 10l.94 2.06.94-2.06 2.06-.94-2.06-.94-.94-2.06-.94 2.06-2.06.94z\"/><path d=\"M17.41 7.96l-1.37-1.37c-.4-.4-.92-.59-1.43-.59-.52 0-1.04.2-1.43.59L10.3 9.45l-7.72 7.72c-.78.78-.78 2.05 0 2.83L4 21.41c.39.39.9.59 1.41.59.51 0 1.02-.2 1.41-.59l7.78-7.78 2.81-2.81c.8-.78.8-2.07 0-2.86zM5.41 20L4 18.59l7.72-7.72 1.47 1.35L5.41 20z\"/>\n",
              "  </svg>\n",
              "      </button>\n",
              "      \n",
              "  <style>\n",
              "    .colab-df-container {\n",
              "      display:flex;\n",
              "      flex-wrap:wrap;\n",
              "      gap: 12px;\n",
              "    }\n",
              "\n",
              "    .colab-df-convert {\n",
              "      background-color: #E8F0FE;\n",
              "      border: none;\n",
              "      border-radius: 50%;\n",
              "      cursor: pointer;\n",
              "      display: none;\n",
              "      fill: #1967D2;\n",
              "      height: 32px;\n",
              "      padding: 0 0 0 0;\n",
              "      width: 32px;\n",
              "    }\n",
              "\n",
              "    .colab-df-convert:hover {\n",
              "      background-color: #E2EBFA;\n",
              "      box-shadow: 0px 1px 2px rgba(60, 64, 67, 0.3), 0px 1px 3px 1px rgba(60, 64, 67, 0.15);\n",
              "      fill: #174EA6;\n",
              "    }\n",
              "\n",
              "    [theme=dark] .colab-df-convert {\n",
              "      background-color: #3B4455;\n",
              "      fill: #D2E3FC;\n",
              "    }\n",
              "\n",
              "    [theme=dark] .colab-df-convert:hover {\n",
              "      background-color: #434B5C;\n",
              "      box-shadow: 0px 1px 3px 1px rgba(0, 0, 0, 0.15);\n",
              "      filter: drop-shadow(0px 1px 2px rgba(0, 0, 0, 0.3));\n",
              "      fill: #FFFFFF;\n",
              "    }\n",
              "  </style>\n",
              "\n",
              "      <script>\n",
              "        const buttonEl =\n",
              "          document.querySelector('#df-ee0ae061-87af-49d5-ad53-2e5ad613f87a button.colab-df-convert');\n",
              "        buttonEl.style.display =\n",
              "          google.colab.kernel.accessAllowed ? 'block' : 'none';\n",
              "\n",
              "        async function convertToInteractive(key) {\n",
              "          const element = document.querySelector('#df-ee0ae061-87af-49d5-ad53-2e5ad613f87a');\n",
              "          const dataTable =\n",
              "            await google.colab.kernel.invokeFunction('convertToInteractive',\n",
              "                                                     [key], {});\n",
              "          if (!dataTable) return;\n",
              "\n",
              "          const docLinkHtml = 'Like what you see? Visit the ' +\n",
              "            '<a target=\"_blank\" href=https://colab.research.google.com/notebooks/data_table.ipynb>data table notebook</a>'\n",
              "            + ' to learn more about interactive tables.';\n",
              "          element.innerHTML = '';\n",
              "          dataTable['output_type'] = 'display_data';\n",
              "          await google.colab.output.renderOutput(dataTable, element);\n",
              "          const docLink = document.createElement('div');\n",
              "          docLink.innerHTML = docLinkHtml;\n",
              "          element.appendChild(docLink);\n",
              "        }\n",
              "      </script>\n",
              "    </div>\n",
              "  </div>\n",
              "  "
            ]
          },
          "metadata": {},
          "execution_count": 430
        }
      ],
      "source": [
        "# Make df of our all categorical features and check it out(except id)\n",
        "cat_col=df[cat_col]\n",
        "cat_col"
      ]
    },
    {
      "cell_type": "code",
      "execution_count": 431,
      "metadata": {
        "id": "OKlBXK8pIYKX"
      },
      "outputs": [],
      "source": [
        "#Dropping id feature because it is not making any sense\n",
        "cat_col=cat_col.drop(['id'],axis=1)"
      ]
    },
    {
      "cell_type": "code",
      "execution_count": 432,
      "metadata": {
        "colab": {
          "base_uri": "https://localhost:8080/",
          "height": 423
        },
        "id": "TAPW9XnxIlT1",
        "outputId": "b6874d7e-3968-47ad-b1ef-feb5457d9ca6"
      },
      "outputs": [
        {
          "output_type": "execute_result",
          "data": {
            "text/plain": [
              "        Gender  Driving_License  Previously_Insured Vehicle_Age  \\\n",
              "0         Male                1                   0   > 2 Years   \n",
              "1         Male                1                   0    1-2 Year   \n",
              "2         Male                1                   0   > 2 Years   \n",
              "3         Male                1                   1    < 1 Year   \n",
              "4       Female                1                   1    < 1 Year   \n",
              "...        ...              ...                 ...         ...   \n",
              "381104    Male                1                   1    1-2 Year   \n",
              "381105    Male                1                   1    < 1 Year   \n",
              "381106    Male                1                   1    < 1 Year   \n",
              "381107  Female                1                   0   > 2 Years   \n",
              "381108    Male                1                   0    1-2 Year   \n",
              "\n",
              "       Vehicle_Damage  Response  \n",
              "0                 Yes         1  \n",
              "1                  No         0  \n",
              "2                 Yes         1  \n",
              "3                  No         0  \n",
              "4                  No         0  \n",
              "...               ...       ...  \n",
              "381104             No         0  \n",
              "381105             No         0  \n",
              "381106             No         0  \n",
              "381107            Yes         0  \n",
              "381108             No         0  \n",
              "\n",
              "[370789 rows x 6 columns]"
            ],
            "text/html": [
              "\n",
              "  <div id=\"df-1e25475d-b679-4852-a410-6829d4027154\">\n",
              "    <div class=\"colab-df-container\">\n",
              "      <div>\n",
              "<style scoped>\n",
              "    .dataframe tbody tr th:only-of-type {\n",
              "        vertical-align: middle;\n",
              "    }\n",
              "\n",
              "    .dataframe tbody tr th {\n",
              "        vertical-align: top;\n",
              "    }\n",
              "\n",
              "    .dataframe thead th {\n",
              "        text-align: right;\n",
              "    }\n",
              "</style>\n",
              "<table border=\"1\" class=\"dataframe\">\n",
              "  <thead>\n",
              "    <tr style=\"text-align: right;\">\n",
              "      <th></th>\n",
              "      <th>Gender</th>\n",
              "      <th>Driving_License</th>\n",
              "      <th>Previously_Insured</th>\n",
              "      <th>Vehicle_Age</th>\n",
              "      <th>Vehicle_Damage</th>\n",
              "      <th>Response</th>\n",
              "    </tr>\n",
              "  </thead>\n",
              "  <tbody>\n",
              "    <tr>\n",
              "      <th>0</th>\n",
              "      <td>Male</td>\n",
              "      <td>1</td>\n",
              "      <td>0</td>\n",
              "      <td>&gt; 2 Years</td>\n",
              "      <td>Yes</td>\n",
              "      <td>1</td>\n",
              "    </tr>\n",
              "    <tr>\n",
              "      <th>1</th>\n",
              "      <td>Male</td>\n",
              "      <td>1</td>\n",
              "      <td>0</td>\n",
              "      <td>1-2 Year</td>\n",
              "      <td>No</td>\n",
              "      <td>0</td>\n",
              "    </tr>\n",
              "    <tr>\n",
              "      <th>2</th>\n",
              "      <td>Male</td>\n",
              "      <td>1</td>\n",
              "      <td>0</td>\n",
              "      <td>&gt; 2 Years</td>\n",
              "      <td>Yes</td>\n",
              "      <td>1</td>\n",
              "    </tr>\n",
              "    <tr>\n",
              "      <th>3</th>\n",
              "      <td>Male</td>\n",
              "      <td>1</td>\n",
              "      <td>1</td>\n",
              "      <td>&lt; 1 Year</td>\n",
              "      <td>No</td>\n",
              "      <td>0</td>\n",
              "    </tr>\n",
              "    <tr>\n",
              "      <th>4</th>\n",
              "      <td>Female</td>\n",
              "      <td>1</td>\n",
              "      <td>1</td>\n",
              "      <td>&lt; 1 Year</td>\n",
              "      <td>No</td>\n",
              "      <td>0</td>\n",
              "    </tr>\n",
              "    <tr>\n",
              "      <th>...</th>\n",
              "      <td>...</td>\n",
              "      <td>...</td>\n",
              "      <td>...</td>\n",
              "      <td>...</td>\n",
              "      <td>...</td>\n",
              "      <td>...</td>\n",
              "    </tr>\n",
              "    <tr>\n",
              "      <th>381104</th>\n",
              "      <td>Male</td>\n",
              "      <td>1</td>\n",
              "      <td>1</td>\n",
              "      <td>1-2 Year</td>\n",
              "      <td>No</td>\n",
              "      <td>0</td>\n",
              "    </tr>\n",
              "    <tr>\n",
              "      <th>381105</th>\n",
              "      <td>Male</td>\n",
              "      <td>1</td>\n",
              "      <td>1</td>\n",
              "      <td>&lt; 1 Year</td>\n",
              "      <td>No</td>\n",
              "      <td>0</td>\n",
              "    </tr>\n",
              "    <tr>\n",
              "      <th>381106</th>\n",
              "      <td>Male</td>\n",
              "      <td>1</td>\n",
              "      <td>1</td>\n",
              "      <td>&lt; 1 Year</td>\n",
              "      <td>No</td>\n",
              "      <td>0</td>\n",
              "    </tr>\n",
              "    <tr>\n",
              "      <th>381107</th>\n",
              "      <td>Female</td>\n",
              "      <td>1</td>\n",
              "      <td>0</td>\n",
              "      <td>&gt; 2 Years</td>\n",
              "      <td>Yes</td>\n",
              "      <td>0</td>\n",
              "    </tr>\n",
              "    <tr>\n",
              "      <th>381108</th>\n",
              "      <td>Male</td>\n",
              "      <td>1</td>\n",
              "      <td>0</td>\n",
              "      <td>1-2 Year</td>\n",
              "      <td>No</td>\n",
              "      <td>0</td>\n",
              "    </tr>\n",
              "  </tbody>\n",
              "</table>\n",
              "<p>370789 rows × 6 columns</p>\n",
              "</div>\n",
              "      <button class=\"colab-df-convert\" onclick=\"convertToInteractive('df-1e25475d-b679-4852-a410-6829d4027154')\"\n",
              "              title=\"Convert this dataframe to an interactive table.\"\n",
              "              style=\"display:none;\">\n",
              "        \n",
              "  <svg xmlns=\"http://www.w3.org/2000/svg\" height=\"24px\"viewBox=\"0 0 24 24\"\n",
              "       width=\"24px\">\n",
              "    <path d=\"M0 0h24v24H0V0z\" fill=\"none\"/>\n",
              "    <path d=\"M18.56 5.44l.94 2.06.94-2.06 2.06-.94-2.06-.94-.94-2.06-.94 2.06-2.06.94zm-11 1L8.5 8.5l.94-2.06 2.06-.94-2.06-.94L8.5 2.5l-.94 2.06-2.06.94zm10 10l.94 2.06.94-2.06 2.06-.94-2.06-.94-.94-2.06-.94 2.06-2.06.94z\"/><path d=\"M17.41 7.96l-1.37-1.37c-.4-.4-.92-.59-1.43-.59-.52 0-1.04.2-1.43.59L10.3 9.45l-7.72 7.72c-.78.78-.78 2.05 0 2.83L4 21.41c.39.39.9.59 1.41.59.51 0 1.02-.2 1.41-.59l7.78-7.78 2.81-2.81c.8-.78.8-2.07 0-2.86zM5.41 20L4 18.59l7.72-7.72 1.47 1.35L5.41 20z\"/>\n",
              "  </svg>\n",
              "      </button>\n",
              "      \n",
              "  <style>\n",
              "    .colab-df-container {\n",
              "      display:flex;\n",
              "      flex-wrap:wrap;\n",
              "      gap: 12px;\n",
              "    }\n",
              "\n",
              "    .colab-df-convert {\n",
              "      background-color: #E8F0FE;\n",
              "      border: none;\n",
              "      border-radius: 50%;\n",
              "      cursor: pointer;\n",
              "      display: none;\n",
              "      fill: #1967D2;\n",
              "      height: 32px;\n",
              "      padding: 0 0 0 0;\n",
              "      width: 32px;\n",
              "    }\n",
              "\n",
              "    .colab-df-convert:hover {\n",
              "      background-color: #E2EBFA;\n",
              "      box-shadow: 0px 1px 2px rgba(60, 64, 67, 0.3), 0px 1px 3px 1px rgba(60, 64, 67, 0.15);\n",
              "      fill: #174EA6;\n",
              "    }\n",
              "\n",
              "    [theme=dark] .colab-df-convert {\n",
              "      background-color: #3B4455;\n",
              "      fill: #D2E3FC;\n",
              "    }\n",
              "\n",
              "    [theme=dark] .colab-df-convert:hover {\n",
              "      background-color: #434B5C;\n",
              "      box-shadow: 0px 1px 3px 1px rgba(0, 0, 0, 0.15);\n",
              "      filter: drop-shadow(0px 1px 2px rgba(0, 0, 0, 0.3));\n",
              "      fill: #FFFFFF;\n",
              "    }\n",
              "  </style>\n",
              "\n",
              "      <script>\n",
              "        const buttonEl =\n",
              "          document.querySelector('#df-1e25475d-b679-4852-a410-6829d4027154 button.colab-df-convert');\n",
              "        buttonEl.style.display =\n",
              "          google.colab.kernel.accessAllowed ? 'block' : 'none';\n",
              "\n",
              "        async function convertToInteractive(key) {\n",
              "          const element = document.querySelector('#df-1e25475d-b679-4852-a410-6829d4027154');\n",
              "          const dataTable =\n",
              "            await google.colab.kernel.invokeFunction('convertToInteractive',\n",
              "                                                     [key], {});\n",
              "          if (!dataTable) return;\n",
              "\n",
              "          const docLinkHtml = 'Like what you see? Visit the ' +\n",
              "            '<a target=\"_blank\" href=https://colab.research.google.com/notebooks/data_table.ipynb>data table notebook</a>'\n",
              "            + ' to learn more about interactive tables.';\n",
              "          element.innerHTML = '';\n",
              "          dataTable['output_type'] = 'display_data';\n",
              "          await google.colab.output.renderOutput(dataTable, element);\n",
              "          const docLink = document.createElement('div');\n",
              "          docLink.innerHTML = docLinkHtml;\n",
              "          element.appendChild(docLink);\n",
              "        }\n",
              "      </script>\n",
              "    </div>\n",
              "  </div>\n",
              "  "
            ]
          },
          "metadata": {},
          "execution_count": 432
        }
      ],
      "source": [
        "# print categorical features\n",
        "cat_col"
      ]
    },
    {
      "cell_type": "code",
      "execution_count": 433,
      "metadata": {
        "colab": {
          "base_uri": "https://localhost:8080/",
          "height": 735
        },
        "id": "NW64fffLF8Bk",
        "outputId": "e71de9fc-9988-44c2-bf6d-cc473213c19f"
      },
      "outputs": [
        {
          "output_type": "execute_result",
          "data": {
            "text/plain": [
              "array([[<matplotlib.axes._subplots.AxesSubplot object at 0x7fb85590a9d0>,\n",
              "        <matplotlib.axes._subplots.AxesSubplot object at 0x7fb8558c1f10>],\n",
              "       [<matplotlib.axes._subplots.AxesSubplot object at 0x7fb8558032d0>,\n",
              "        <matplotlib.axes._subplots.AxesSubplot object at 0x7fb8562fb810>],\n",
              "       [<matplotlib.axes._subplots.AxesSubplot object at 0x7fb856332d10>,\n",
              "        <matplotlib.axes._subplots.AxesSubplot object at 0x7fb856275250>]],\n",
              "      dtype=object)"
            ]
          },
          "metadata": {},
          "execution_count": 433
        },
        {
          "output_type": "display_data",
          "data": {
            "text/plain": [
              "<Figure size 720x720 with 6 Axes>"
            ],
            "image/png": "[encoded data removed]"
          },
          "metadata": {
            "needs_background": "light"
          }
        }
      ],
      "source": [
        "#Let's see the distribution of numerical columns\n",
        "num_col.hist(figsize=(10,10),bins=20)"
      ]
    },
    {
      "cell_type": "markdown",
      "source": [
        "As we can see no feature are normally distributed in Numerical features"
      ],
      "metadata": {
        "id": "vpdRU_gf3IFA"
      }
    },
    {
      "cell_type": "code",
      "execution_count": 434,
      "metadata": {
        "colab": {
          "base_uri": "https://localhost:8080/",
          "height": 699
        },
        "id": "joCjdGpzGgx2",
        "outputId": "0ab7d1b9-58cb-4141-e4bf-1fd84cd33c62"
      },
      "outputs": [
        {
          "output_type": "execute_result",
          "data": {
            "text/plain": [
              "array([[<matplotlib.axes._subplots.AxesSubplot object at 0x7fb85624e710>,\n",
              "        <matplotlib.axes._subplots.AxesSubplot object at 0x7fb85606e450>],\n",
              "       [<matplotlib.axes._subplots.AxesSubplot object at 0x7fb855fb6510>,\n",
              "        <matplotlib.axes._subplots.AxesSubplot object at 0x7fb855feda10>]],\n",
              "      dtype=object)"
            ]
          },
          "metadata": {},
          "execution_count": 434
        },
        {
          "output_type": "display_data",
          "data": {
            "text/plain": [
              "<Figure size 720x720 with 4 Axes>"
            ],
            "image/png": "[encoded data removed]"
          },
          "metadata": {
            "needs_background": "light"
          }
        }
      ],
      "source": [
        "#Let's \n",
        "cat_col.hist(figsize=(10,10))"
      ]
    },
    {
      "cell_type": "markdown",
      "source": [
        "From the above histplot we can clearly see that nearly all the policyholder have driving license facility."
      ],
      "metadata": {
        "id": "yYxzY-7H3jgH"
      }
    },
    {
      "cell_type": "markdown",
      "source": [
        "# Visualization"
      ],
      "metadata": {
        "id": "sGXQmEoc4GqY"
      }
    },
    {
      "cell_type": "markdown",
      "metadata": {
        "id": "18hnRhCtJOIR"
      },
      "source": [
        "Let's visualize our features and find the relation between our target variable and other important features...."
      ]
    },
    {
      "cell_type": "markdown",
      "metadata": {
        "id": "LigUaTkuUtuD"
      },
      "source": [
        "As we all know 1 means Customer is interested and 0 means Customer is not interested."
      ]
    },
    {
      "cell_type": "code",
      "execution_count": 435,
      "metadata": {
        "colab": {
          "base_uri": "https://localhost:8080/",
          "height": 315
        },
        "id": "WJb8oYIhTQV2",
        "outputId": "c845b55d-b331-4c34-ec3d-e518e49aa5c1"
      },
      "outputs": [
        {
          "output_type": "execute_result",
          "data": {
            "text/plain": [
              "Text(0.5, 1.0, 'Response in terms of Gender')"
            ]
          },
          "metadata": {},
          "execution_count": 435
        },
        {
          "output_type": "display_data",
          "data": {
            "text/plain": [
              "<Figure size 432x288 with 1 Axes>"
            ],
            "image/png": "[encoded data removed]"
          },
          "metadata": {
            "needs_background": "light"
          }
        }
      ],
      "source": [
        "#count plot\n",
        "ba=sns.countplot(x=\"Gender\",hue =\"Response\",data=df,palette = \"dark\")\n",
        "ba.set_title('Response in terms of Gender', fontsize=15)"
      ]
    },
    {
      "cell_type": "markdown",
      "source": [
        "As we can see from the above countplot female is less intrested than male for getting insurance for their vehicle."
      ],
      "metadata": {
        "id": "cDTyM4k15DB7"
      }
    },
    {
      "cell_type": "code",
      "execution_count": 451,
      "metadata": {
        "colab": {
          "base_uri": "https://localhost:8080/",
          "height": 299
        },
        "id": "W8hXjORBLRLp",
        "outputId": "142a79f1-ed1a-4b55-adc7-53b8d263687c"
      },
      "outputs": [
        {
          "output_type": "display_data",
          "data": {
            "text/plain": [
              "<Figure size 432x288 with 1 Axes>"
            ],
            "image/png": "[encoded data removed]"
          },
          "metadata": {
            "needs_background": "light"
          }
        }
      ],
      "source": [
        "#In Previously_Insured 1 means Customer already has Vehicle Insurance and 0 means Customer doesn't have Vehicle Insurance yet\n",
        "ba=sns.countplot(x=\"Previously_Insured\",hue =\"Response\",data=df,palette = \"dark\")\n",
        "ba.set_title('Response in terms of Previously Insured ', fontsize=15)\n",
        "ticks = list(range(0, 2, 1)) \n",
        "labels = \"Previously_not_Insured Previously_Insured\".split()\n",
        "mp.xticks(ticks, labels);"
      ]
    },
    {
      "cell_type": "markdown",
      "source": [
        "From the above count plot we can say that the customer who already secured their vehicle, are clearly not inrested in our company's vehicle insurance scheme."
      ],
      "metadata": {
        "id": "HzezGSOg8TKU"
      }
    },
    {
      "cell_type": "code",
      "execution_count": 437,
      "metadata": {
        "colab": {
          "base_uri": "https://localhost:8080/",
          "height": 316
        },
        "id": "yhyz0hbjRlax",
        "outputId": "5007f69b-1581-4a99-d5e9-d62d4b492883"
      },
      "outputs": [
        {
          "output_type": "execute_result",
          "data": {
            "text/plain": [
              "Text(0.5, 1.0, 'Response in terms of Vehicle_Age ')"
            ]
          },
          "metadata": {},
          "execution_count": 437
        },
        {
          "output_type": "display_data",
          "data": {
            "text/plain": [
              "<Figure size 432x288 with 1 Axes>"
            ],
            "image/png": "[encoded data removed]"
          },
          "metadata": {
            "needs_background": "light"
          }
        }
      ],
      "source": [
        "#count plot for Age of vehicle of policyholder\n",
        "ba=sns.countplot(x=\"Vehicle_Age\",hue =\"Response\",data=df,palette = \"dark\")\n",
        "ba.set_title('Response in terms of Vehicle_Age ', fontsize=15)"
      ]
    },
    {
      "cell_type": "markdown",
      "source": [
        "From the above count-plot we can observe that the policyholders who has 1-2 year age's vehicle, are more intrested than other policyholders specially from those who have vehicle older than two years."
      ],
      "metadata": {
        "id": "8YCeM_Gc9UJ_"
      }
    },
    {
      "cell_type": "code",
      "execution_count": 438,
      "metadata": {
        "colab": {
          "base_uri": "https://localhost:8080/",
          "height": 316
        },
        "id": "Kld5wMi8Sx8O",
        "outputId": "6e3211c9-f0c4-4795-c2cc-75dfa38c8fd6"
      },
      "outputs": [
        {
          "output_type": "execute_result",
          "data": {
            "text/plain": [
              "Text(0.5, 1.0, 'Response in terms of Vehicle_Damage ')"
            ]
          },
          "metadata": {},
          "execution_count": 438
        },
        {
          "output_type": "display_data",
          "data": {
            "text/plain": [
              "<Figure size 432x288 with 1 Axes>"
            ],
            "image/png": "[encoded data removed]"
          },
          "metadata": {
            "needs_background": "light"
          }
        }
      ],
      "source": [
        "# In Vehicle_Damage 'Yes' means Customer got his/her vehicle damaged in the past and 'No' means Customer didn't get his/her vehicle damaged in the past.\n",
        "ba=sns.countplot(x=\"Vehicle_Damage\",hue =\"Response\",data=df,palette = \"dark\")    \n",
        "ba.set_title('Response in terms of Vehicle_Damage ', fontsize=15)"
      ]
    },
    {
      "cell_type": "markdown",
      "source": [
        "We can observe that from above count-plot, policyholders whose vehicle damaged in past are more intrested than those whose vehicle not damaged in the past"
      ],
      "metadata": {
        "id": "3YNXpJkE-l3V"
      }
    },
    {
      "cell_type": "code",
      "execution_count": 441,
      "metadata": {
        "colab": {
          "base_uri": "https://localhost:8080/",
          "height": 295
        },
        "id": "wJ7w7HF9TDiC",
        "outputId": "2a28cde0-4ec3-4398-fd99-872c12926e1a"
      },
      "outputs": [
        {
          "output_type": "display_data",
          "data": {
            "text/plain": [
              "<Figure size 432x288 with 1 Axes>"
            ],
            "image/png": "[encoded data removed]"
          },
          "metadata": {
            "needs_background": "light"
          }
        }
      ],
      "source": [
        "sns.countplot(x=df['Gender'], data=df)\n",
        "mp.title('Gender gap')\n",
        "mp.show()\n"
      ]
    },
    {
      "cell_type": "markdown",
      "source": [
        "We can see that we have some gender gap we can remove them by advertising marketing strategy."
      ],
      "metadata": {
        "id": "mHElkXtJTj7c"
      }
    },
    {
      "cell_type": "code",
      "execution_count": 453,
      "metadata": {
        "colab": {
          "base_uri": "https://localhost:8080/",
          "height": 299
        },
        "id": "nAAv6YJSXc0e",
        "outputId": "e5c8ef43-4657-44fb-ce8c-fdb74154d466"
      },
      "outputs": [
        {
          "output_type": "display_data",
          "data": {
            "text/plain": [
              "<Figure size 432x288 with 1 Axes>"
            ],
            "image/png": "[encoded data removed]"
          },
          "metadata": {
            "needs_background": "light"
          }
        }
      ],
      "source": [
        "sns.countplot(x=df['Previously_Insured'], data=df)\n",
        "mp.title('Previously Insured and non-Insured', fontsize=15)\n",
        "ticks = list(range(0, 2, 1)) \n",
        "labels = \"Previously_not_Insured Previously_Insured\".split()\n",
        "mp.xticks(ticks, labels);"
      ]
    },
    {
      "cell_type": "markdown",
      "source": [
        "From the above count-plot we can clearly see that we have more customers who doesn't have any insurance for their vehicle so we can easily target them."
      ],
      "metadata": {
        "id": "ioS-439BT5ZY"
      }
    },
    {
      "cell_type": "code",
      "execution_count": 455,
      "metadata": {
        "colab": {
          "base_uri": "https://localhost:8080/",
          "height": 298
        },
        "id": "BduKUSMsX_zy",
        "outputId": "8477077f-a9ec-46df-dec2-ebf06f5598f0"
      },
      "outputs": [
        {
          "output_type": "display_data",
          "data": {
            "text/plain": [
              "<Figure size 432x288 with 1 Axes>"
            ],
            "image/png": "[encoded data removed]"
          },
          "metadata": {
            "needs_background": "light"
          }
        }
      ],
      "source": [
        "sns.countplot(x=df['Vehicle_Age'], data=df)\n",
        "mp.title('Vehicle Age of Policyholder', fontsize=15)\n",
        "mp.show()"
      ]
    },
    {
      "cell_type": "markdown",
      "source": [
        "From above count-plot we can say that we have less number of policyholders who has vehicle older than 2 years so we have to focus more on other two category."
      ],
      "metadata": {
        "id": "9aw0MjoaUjCw"
      }
    },
    {
      "cell_type": "code",
      "execution_count": 456,
      "metadata": {
        "colab": {
          "base_uri": "https://localhost:8080/",
          "height": 298
        },
        "id": "vXLQUkboYITJ",
        "outputId": "6da0c1ef-fb47-4831-ae0c-15cc4891bcd9"
      },
      "outputs": [
        {
          "output_type": "display_data",
          "data": {
            "text/plain": [
              "<Figure size 432x288 with 1 Axes>"
            ],
            "image/png": "[encoded data removed]"
          },
          "metadata": {
            "needs_background": "light"
          }
        }
      ],
      "source": [
        "sns.countplot(x=df['Vehicle_Damage'], data=df)\n",
        "mp.title('Vehicle Damage Status', fontsize=15)\n",
        "mp.show()"
      ]
    },
    {
      "cell_type": "markdown",
      "source": [
        "After observation of above plot we can say that we have nearly equal policyholders for both vehicle damage status."
      ],
      "metadata": {
        "id": "UwcX9t16VPQP"
      }
    },
    {
      "cell_type": "code",
      "execution_count": 363,
      "metadata": {
        "colab": {
          "base_uri": "https://localhost:8080/",
          "height": 395
        },
        "id": "woWw80VXYPCD",
        "outputId": "8e20be3d-d0b3-4a49-f152-af70d1cecaa3"
      },
      "outputs": [
        {
          "output_type": "execute_result",
          "data": {
            "text/plain": [
              "                            id       Age  Driving_License  Region_Code  \\\n",
              "id                    1.000000  0.001464        -0.000321    -0.000277   \n",
              "Age                   0.001464  1.000000        -0.078650     0.042626   \n",
              "Driving_License      -0.000321 -0.078650         1.000000    -0.001195   \n",
              "Region_Code          -0.000277  0.042626        -0.001195     1.000000   \n",
              "Previously_Insured    0.002768 -0.253794         0.014297    -0.023736   \n",
              "Annual_Premium        0.002857  0.050669        -0.010189    -0.002358   \n",
              "Policy_Sales_Channel -0.002595 -0.576846         0.043390    -0.043020   \n",
              "Vintage              -0.000108 -0.001644        -0.000514    -0.002948   \n",
              "Response             -0.001658  0.110938         0.009630     0.009474   \n",
              "\n",
              "                      Previously_Insured  Annual_Premium  \\\n",
              "id                              0.002768        0.002857   \n",
              "Age                            -0.253794        0.050669   \n",
              "Driving_License                 0.014297       -0.010189   \n",
              "Region_Code                    -0.023736       -0.002358   \n",
              "Previously_Insured              1.000000        0.014252   \n",
              "Annual_Premium                  0.014252        1.000000   \n",
              "Policy_Sales_Channel            0.217038       -0.107074   \n",
              "Vintage                         0.002886       -0.000884   \n",
              "Response                       -0.340913        0.018566   \n",
              "\n",
              "                      Policy_Sales_Channel   Vintage  Response  \n",
              "id                               -0.002595 -0.000108 -0.001658  \n",
              "Age                              -0.576846 -0.001644  0.110938  \n",
              "Driving_License                   0.043390 -0.000514  0.009630  \n",
              "Region_Code                      -0.043020 -0.002948  0.009474  \n",
              "Previously_Insured                0.217038  0.002886 -0.340913  \n",
              "Annual_Premium                   -0.107074 -0.000884  0.018566  \n",
              "Policy_Sales_Channel              1.000000  0.000010 -0.136805  \n",
              "Vintage                           0.000010  1.000000 -0.001631  \n",
              "Response                         -0.136805 -0.001631  1.000000  "
            ],
            "text/html": [
              "\n",
              "  <div id=\"df-7a386380-9999-4b1e-b7aa-d61b89f187ba\">\n",
              "    <div class=\"colab-df-container\">\n",
              "      <div>\n",
              "<style scoped>\n",
              "    .dataframe tbody tr th:only-of-type {\n",
              "        vertical-align: middle;\n",
              "    }\n",
              "\n",
              "    .dataframe tbody tr th {\n",
              "        vertical-align: top;\n",
              "    }\n",
              "\n",
              "    .dataframe thead th {\n",
              "        text-align: right;\n",
              "    }\n",
              "</style>\n",
              "<table border=\"1\" class=\"dataframe\">\n",
              "  <thead>\n",
              "    <tr style=\"text-align: right;\">\n",
              "      <th></th>\n",
              "      <th>id</th>\n",
              "      <th>Age</th>\n",
              "      <th>Driving_License</th>\n",
              "      <th>Region_Code</th>\n",
              "      <th>Previously_Insured</th>\n",
              "      <th>Annual_Premium</th>\n",
              "      <th>Policy_Sales_Channel</th>\n",
              "      <th>Vintage</th>\n",
              "      <th>Response</th>\n",
              "    </tr>\n",
              "  </thead>\n",
              "  <tbody>\n",
              "    <tr>\n",
              "      <th>id</th>\n",
              "      <td>1.000000</td>\n",
              "      <td>0.001464</td>\n",
              "      <td>-0.000321</td>\n",
              "      <td>-0.000277</td>\n",
              "      <td>0.002768</td>\n",
              "      <td>0.002857</td>\n",
              "      <td>-0.002595</td>\n",
              "      <td>-0.000108</td>\n",
              "      <td>-0.001658</td>\n",
              "    </tr>\n",
              "    <tr>\n",
              "      <th>Age</th>\n",
              "      <td>0.001464</td>\n",
              "      <td>1.000000</td>\n",
              "      <td>-0.078650</td>\n",
              "      <td>0.042626</td>\n",
              "      <td>-0.253794</td>\n",
              "      <td>0.050669</td>\n",
              "      <td>-0.576846</td>\n",
              "      <td>-0.001644</td>\n",
              "      <td>0.110938</td>\n",
              "    </tr>\n",
              "    <tr>\n",
              "      <th>Driving_License</th>\n",
              "      <td>-0.000321</td>\n",
              "      <td>-0.078650</td>\n",
              "      <td>1.000000</td>\n",
              "      <td>-0.001195</td>\n",
              "      <td>0.014297</td>\n",
              "      <td>-0.010189</td>\n",
              "      <td>0.043390</td>\n",
              "      <td>-0.000514</td>\n",
              "      <td>0.009630</td>\n",
              "    </tr>\n",
              "    <tr>\n",
              "      <th>Region_Code</th>\n",
              "      <td>-0.000277</td>\n",
              "      <td>0.042626</td>\n",
              "      <td>-0.001195</td>\n",
              "      <td>1.000000</td>\n",
              "      <td>-0.023736</td>\n",
              "      <td>-0.002358</td>\n",
              "      <td>-0.043020</td>\n",
              "      <td>-0.002948</td>\n",
              "      <td>0.009474</td>\n",
              "    </tr>\n",
              "    <tr>\n",
              "      <th>Previously_Insured</th>\n",
              "      <td>0.002768</td>\n",
              "      <td>-0.253794</td>\n",
              "      <td>0.014297</td>\n",
              "      <td>-0.023736</td>\n",
              "      <td>1.000000</td>\n",
              "      <td>0.014252</td>\n",
              "      <td>0.217038</td>\n",
              "      <td>0.002886</td>\n",
              "      <td>-0.340913</td>\n",
              "    </tr>\n",
              "    <tr>\n",
              "      <th>Annual_Premium</th>\n",
              "      <td>0.002857</td>\n",
              "      <td>0.050669</td>\n",
              "      <td>-0.010189</td>\n",
              "      <td>-0.002358</td>\n",
              "      <td>0.014252</td>\n",
              "      <td>1.000000</td>\n",
              "      <td>-0.107074</td>\n",
              "      <td>-0.000884</td>\n",
              "      <td>0.018566</td>\n",
              "    </tr>\n",
              "    <tr>\n",
              "      <th>Policy_Sales_Channel</th>\n",
              "      <td>-0.002595</td>\n",
              "      <td>-0.576846</td>\n",
              "      <td>0.043390</td>\n",
              "      <td>-0.043020</td>\n",
              "      <td>0.217038</td>\n",
              "      <td>-0.107074</td>\n",
              "      <td>1.000000</td>\n",
              "      <td>0.000010</td>\n",
              "      <td>-0.136805</td>\n",
              "    </tr>\n",
              "    <tr>\n",
              "      <th>Vintage</th>\n",
              "      <td>-0.000108</td>\n",
              "      <td>-0.001644</td>\n",
              "      <td>-0.000514</td>\n",
              "      <td>-0.002948</td>\n",
              "      <td>0.002886</td>\n",
              "      <td>-0.000884</td>\n",
              "      <td>0.000010</td>\n",
              "      <td>1.000000</td>\n",
              "      <td>-0.001631</td>\n",
              "    </tr>\n",
              "    <tr>\n",
              "      <th>Response</th>\n",
              "      <td>-0.001658</td>\n",
              "      <td>0.110938</td>\n",
              "      <td>0.009630</td>\n",
              "      <td>0.009474</td>\n",
              "      <td>-0.340913</td>\n",
              "      <td>0.018566</td>\n",
              "      <td>-0.136805</td>\n",
              "      <td>-0.001631</td>\n",
              "      <td>1.000000</td>\n",
              "    </tr>\n",
              "  </tbody>\n",
              "</table>\n",
              "</div>\n",
              "      <button class=\"colab-df-convert\" onclick=\"convertToInteractive('df-7a386380-9999-4b1e-b7aa-d61b89f187ba')\"\n",
              "              title=\"Convert this dataframe to an interactive table.\"\n",
              "              style=\"display:none;\">\n",
              "        \n",
              "  <svg xmlns=\"http://www.w3.org/2000/svg\" height=\"24px\"viewBox=\"0 0 24 24\"\n",
              "       width=\"24px\">\n",
              "    <path d=\"M0 0h24v24H0V0z\" fill=\"none\"/>\n",
              "    <path d=\"M18.56 5.44l.94 2.06.94-2.06 2.06-.94-2.06-.94-.94-2.06-.94 2.06-2.06.94zm-11 1L8.5 8.5l.94-2.06 2.06-.94-2.06-.94L8.5 2.5l-.94 2.06-2.06.94zm10 10l.94 2.06.94-2.06 2.06-.94-2.06-.94-.94-2.06-.94 2.06-2.06.94z\"/><path d=\"M17.41 7.96l-1.37-1.37c-.4-.4-.92-.59-1.43-.59-.52 0-1.04.2-1.43.59L10.3 9.45l-7.72 7.72c-.78.78-.78 2.05 0 2.83L4 21.41c.39.39.9.59 1.41.59.51 0 1.02-.2 1.41-.59l7.78-7.78 2.81-2.81c.8-.78.8-2.07 0-2.86zM5.41 20L4 18.59l7.72-7.72 1.47 1.35L5.41 20z\"/>\n",
              "  </svg>\n",
              "      </button>\n",
              "      \n",
              "  <style>\n",
              "    .colab-df-container {\n",
              "      display:flex;\n",
              "      flex-wrap:wrap;\n",
              "      gap: 12px;\n",
              "    }\n",
              "\n",
              "    .colab-df-convert {\n",
              "      background-color: #E8F0FE;\n",
              "      border: none;\n",
              "      border-radius: 50%;\n",
              "      cursor: pointer;\n",
              "      display: none;\n",
              "      fill: #1967D2;\n",
              "      height: 32px;\n",
              "      padding: 0 0 0 0;\n",
              "      width: 32px;\n",
              "    }\n",
              "\n",
              "    .colab-df-convert:hover {\n",
              "      background-color: #E2EBFA;\n",
              "      box-shadow: 0px 1px 2px rgba(60, 64, 67, 0.3), 0px 1px 3px 1px rgba(60, 64, 67, 0.15);\n",
              "      fill: #174EA6;\n",
              "    }\n",
              "\n",
              "    [theme=dark] .colab-df-convert {\n",
              "      background-color: #3B4455;\n",
              "      fill: #D2E3FC;\n",
              "    }\n",
              "\n",
              "    [theme=dark] .colab-df-convert:hover {\n",
              "      background-color: #434B5C;\n",
              "      box-shadow: 0px 1px 3px 1px rgba(0, 0, 0, 0.15);\n",
              "      filter: drop-shadow(0px 1px 2px rgba(0, 0, 0, 0.3));\n",
              "      fill: #FFFFFF;\n",
              "    }\n",
              "  </style>\n",
              "\n",
              "      <script>\n",
              "        const buttonEl =\n",
              "          document.querySelector('#df-7a386380-9999-4b1e-b7aa-d61b89f187ba button.colab-df-convert');\n",
              "        buttonEl.style.display =\n",
              "          google.colab.kernel.accessAllowed ? 'block' : 'none';\n",
              "\n",
              "        async function convertToInteractive(key) {\n",
              "          const element = document.querySelector('#df-7a386380-9999-4b1e-b7aa-d61b89f187ba');\n",
              "          const dataTable =\n",
              "            await google.colab.kernel.invokeFunction('convertToInteractive',\n",
              "                                                     [key], {});\n",
              "          if (!dataTable) return;\n",
              "\n",
              "          const docLinkHtml = 'Like what you see? Visit the ' +\n",
              "            '<a target=\"_blank\" href=https://colab.research.google.com/notebooks/data_table.ipynb>data table notebook</a>'\n",
              "            + ' to learn more about interactive tables.';\n",
              "          element.innerHTML = '';\n",
              "          dataTable['output_type'] = 'display_data';\n",
              "          await google.colab.output.renderOutput(dataTable, element);\n",
              "          const docLink = document.createElement('div');\n",
              "          docLink.innerHTML = docLinkHtml;\n",
              "          element.appendChild(docLink);\n",
              "        }\n",
              "      </script>\n",
              "    </div>\n",
              "  </div>\n",
              "  "
            ]
          },
          "metadata": {},
          "execution_count": 363
        }
      ],
      "source": [
        "#Catplot\n",
        "df.corr()"
      ]
    },
    {
      "cell_type": "code",
      "execution_count": 364,
      "metadata": {
        "colab": {
          "base_uri": "https://localhost:8080/",
          "height": 656
        },
        "id": "78oU3cZ0Yqzv",
        "outputId": "ab63b50f-020b-464f-99ba-831404cacf19"
      },
      "outputs": [
        {
          "output_type": "execute_result",
          "data": {
            "text/plain": [
              "<matplotlib.axes._subplots.AxesSubplot at 0x7fb856d949d0>"
            ]
          },
          "metadata": {},
          "execution_count": 364
        },
        {
          "output_type": "display_data",
          "data": {
            "text/plain": [
              "<Figure size 864x648 with 2 Axes>"
            ],
            "image/png": "[encoded data removed]"
          },
          "metadata": {
            "needs_background": "light"
          }
        }
      ],
      "source": [
        "corr_df = df.corr()\n",
        "mp.figure(figsize=(12, 9))\n",
        "sns.heatmap(corr_df, annot=True, xticklabels=corr_df.columns, yticklabels=corr_df.columns)"
      ]
    },
    {
      "cell_type": "markdown",
      "source": [
        "As we can observe that no features are highly correlated to our target feature instead of that policy-sales-channel are negativly correlated with Age."
      ],
      "metadata": {
        "id": "G6lPzzaNVuf5"
      }
    },
    {
      "cell_type": "markdown",
      "source": [
        "Encoding"
      ],
      "metadata": {
        "id": "JoogZRz3Wh_9"
      }
    },
    {
      "cell_type": "code",
      "execution_count": 365,
      "metadata": {
        "colab": {
          "base_uri": "https://localhost:8080/"
        },
        "id": "bptaJogHdn2J",
        "outputId": "6c7da7fb-9d75-4215-a8c4-7aea7f097431"
      },
      "outputs": [
        {
          "output_type": "stream",
          "name": "stderr",
          "text": [
            "/usr/local/lib/python3.7/dist-packages/ipykernel_launcher.py:1: SettingWithCopyWarning: \n",
            "A value is trying to be set on a copy of a slice from a DataFrame.\n",
            "Try using .loc[row_indexer,col_indexer] = value instead\n",
            "\n",
            "See the caveats in the documentation: https://pandas.pydata.org/pandas-docs/stable/user_guide/indexing.html#returning-a-view-versus-a-copy\n",
            "  \"\"\"Entry point for launching an IPython kernel.\n"
          ]
        }
      ],
      "source": [
        "df['Gender'] = df['Gender'].map( {'Female': 0, 'Male': 1} ).astype(int)"
      ]
    },
    {
      "cell_type": "code",
      "execution_count": 366,
      "metadata": {
        "colab": {
          "base_uri": "https://localhost:8080/"
        },
        "id": "sNgWxyz0k7g_",
        "outputId": "f697e13b-a6fb-42b7-cb7b-e0ee4dbd3a2a"
      },
      "outputs": [
        {
          "output_type": "stream",
          "name": "stderr",
          "text": [
            "/usr/local/lib/python3.7/dist-packages/ipykernel_launcher.py:1: SettingWithCopyWarning: \n",
            "A value is trying to be set on a copy of a slice from a DataFrame.\n",
            "Try using .loc[row_indexer,col_indexer] = value instead\n",
            "\n",
            "See the caveats in the documentation: https://pandas.pydata.org/pandas-docs/stable/user_guide/indexing.html#returning-a-view-versus-a-copy\n",
            "  \"\"\"Entry point for launching an IPython kernel.\n"
          ]
        }
      ],
      "source": [
        "df['Vehicle_Damage'] = df['Vehicle_Damage'].map( {'No': 0, 'Yes': 1} ).astype(int)"
      ]
    },
    {
      "cell_type": "code",
      "execution_count": 367,
      "metadata": {
        "colab": {
          "base_uri": "https://localhost:8080/",
          "height": 487
        },
        "id": "-Jxu7EaZkabq",
        "outputId": "03d7dd23-9332-4344-cc24-9357e0d2c057"
      },
      "outputs": [
        {
          "output_type": "execute_result",
          "data": {
            "text/plain": [
              "            id  Gender  Age  Driving_License  Region_Code  Previously_Insured  \\\n",
              "0            1       1   44                1         28.0                   0   \n",
              "1            2       1   76                1          3.0                   0   \n",
              "2            3       1   47                1         28.0                   0   \n",
              "3            4       1   21                1         11.0                   1   \n",
              "4            5       0   29                1         41.0                   1   \n",
              "...        ...     ...  ...              ...          ...                 ...   \n",
              "381104  381105       1   74                1         26.0                   1   \n",
              "381105  381106       1   30                1         37.0                   1   \n",
              "381106  381107       1   21                1         30.0                   1   \n",
              "381107  381108       0   68                1         14.0                   0   \n",
              "381108  381109       1   46                1         29.0                   0   \n",
              "\n",
              "       Vehicle_Age  Vehicle_Damage  Annual_Premium  Policy_Sales_Channel  \\\n",
              "0        > 2 Years               1           40454                  26.0   \n",
              "1         1-2 Year               0           33536                  26.0   \n",
              "2        > 2 Years               1           38294                  26.0   \n",
              "3         < 1 Year               0           28619                 152.0   \n",
              "4         < 1 Year               0           27496                 152.0   \n",
              "...            ...             ...             ...                   ...   \n",
              "381104    1-2 Year               0           30170                  26.0   \n",
              "381105    < 1 Year               0           40016                 152.0   \n",
              "381106    < 1 Year               0           35118                 160.0   \n",
              "381107   > 2 Years               1           44617                 124.0   \n",
              "381108    1-2 Year               0           41777                  26.0   \n",
              "\n",
              "        Vintage  Response  \n",
              "0           217         1  \n",
              "1           183         0  \n",
              "2            27         1  \n",
              "3           203         0  \n",
              "4            39         0  \n",
              "...         ...       ...  \n",
              "381104       88         0  \n",
              "381105      131         0  \n",
              "381106      161         0  \n",
              "381107       74         0  \n",
              "381108      237         0  \n",
              "\n",
              "[370789 rows x 12 columns]"
            ],
            "text/html": [
              "\n",
              "  <div id=\"df-fbe67b06-317d-4388-9e1c-db1845d801e3\">\n",
              "    <div class=\"colab-df-container\">\n",
              "      <div>\n",
              "<style scoped>\n",
              "    .dataframe tbody tr th:only-of-type {\n",
              "        vertical-align: middle;\n",
              "    }\n",
              "\n",
              "    .dataframe tbody tr th {\n",
              "        vertical-align: top;\n",
              "    }\n",
              "\n",
              "    .dataframe thead th {\n",
              "        text-align: right;\n",
              "    }\n",
              "</style>\n",
              "<table border=\"1\" class=\"dataframe\">\n",
              "  <thead>\n",
              "    <tr style=\"text-align: right;\">\n",
              "      <th></th>\n",
              "      <th>id</th>\n",
              "      <th>Gender</th>\n",
              "      <th>Age</th>\n",
              "      <th>Driving_License</th>\n",
              "      <th>Region_Code</th>\n",
              "      <th>Previously_Insured</th>\n",
              "      <th>Vehicle_Age</th>\n",
              "      <th>Vehicle_Damage</th>\n",
              "      <th>Annual_Premium</th>\n",
              "      <th>Policy_Sales_Channel</th>\n",
              "      <th>Vintage</th>\n",
              "      <th>Response</th>\n",
              "    </tr>\n",
              "  </thead>\n",
              "  <tbody>\n",
              "    <tr>\n",
              "      <th>0</th>\n",
              "      <td>1</td>\n",
              "      <td>1</td>\n",
              "      <td>44</td>\n",
              "      <td>1</td>\n",
              "      <td>28.0</td>\n",
              "      <td>0</td>\n",
              "      <td>&gt; 2 Years</td>\n",
              "      <td>1</td>\n",
              "      <td>40454</td>\n",
              "      <td>26.0</td>\n",
              "      <td>217</td>\n",
              "      <td>1</td>\n",
              "    </tr>\n",
              "    <tr>\n",
              "      <th>1</th>\n",
              "      <td>2</td>\n",
              "      <td>1</td>\n",
              "      <td>76</td>\n",
              "      <td>1</td>\n",
              "      <td>3.0</td>\n",
              "      <td>0</td>\n",
              "      <td>1-2 Year</td>\n",
              "      <td>0</td>\n",
              "      <td>33536</td>\n",
              "      <td>26.0</td>\n",
              "      <td>183</td>\n",
              "      <td>0</td>\n",
              "    </tr>\n",
              "    <tr>\n",
              "      <th>2</th>\n",
              "      <td>3</td>\n",
              "      <td>1</td>\n",
              "      <td>47</td>\n",
              "      <td>1</td>\n",
              "      <td>28.0</td>\n",
              "      <td>0</td>\n",
              "      <td>&gt; 2 Years</td>\n",
              "      <td>1</td>\n",
              "      <td>38294</td>\n",
              "      <td>26.0</td>\n",
              "      <td>27</td>\n",
              "      <td>1</td>\n",
              "    </tr>\n",
              "    <tr>\n",
              "      <th>3</th>\n",
              "      <td>4</td>\n",
              "      <td>1</td>\n",
              "      <td>21</td>\n",
              "      <td>1</td>\n",
              "      <td>11.0</td>\n",
              "      <td>1</td>\n",
              "      <td>&lt; 1 Year</td>\n",
              "      <td>0</td>\n",
              "      <td>28619</td>\n",
              "      <td>152.0</td>\n",
              "      <td>203</td>\n",
              "      <td>0</td>\n",
              "    </tr>\n",
              "    <tr>\n",
              "      <th>4</th>\n",
              "      <td>5</td>\n",
              "      <td>0</td>\n",
              "      <td>29</td>\n",
              "      <td>1</td>\n",
              "      <td>41.0</td>\n",
              "      <td>1</td>\n",
              "      <td>&lt; 1 Year</td>\n",
              "      <td>0</td>\n",
              "      <td>27496</td>\n",
              "      <td>152.0</td>\n",
              "      <td>39</td>\n",
              "      <td>0</td>\n",
              "    </tr>\n",
              "    <tr>\n",
              "      <th>...</th>\n",
              "      <td>...</td>\n",
              "      <td>...</td>\n",
              "      <td>...</td>\n",
              "      <td>...</td>\n",
              "      <td>...</td>\n",
              "      <td>...</td>\n",
              "      <td>...</td>\n",
              "      <td>...</td>\n",
              "      <td>...</td>\n",
              "      <td>...</td>\n",
              "      <td>...</td>\n",
              "      <td>...</td>\n",
              "    </tr>\n",
              "    <tr>\n",
              "      <th>381104</th>\n",
              "      <td>381105</td>\n",
              "      <td>1</td>\n",
              "      <td>74</td>\n",
              "      <td>1</td>\n",
              "      <td>26.0</td>\n",
              "      <td>1</td>\n",
              "      <td>1-2 Year</td>\n",
              "      <td>0</td>\n",
              "      <td>30170</td>\n",
              "      <td>26.0</td>\n",
              "      <td>88</td>\n",
              "      <td>0</td>\n",
              "    </tr>\n",
              "    <tr>\n",
              "      <th>381105</th>\n",
              "      <td>381106</td>\n",
              "      <td>1</td>\n",
              "      <td>30</td>\n",
              "      <td>1</td>\n",
              "      <td>37.0</td>\n",
              "      <td>1</td>\n",
              "      <td>&lt; 1 Year</td>\n",
              "      <td>0</td>\n",
              "      <td>40016</td>\n",
              "      <td>152.0</td>\n",
              "      <td>131</td>\n",
              "      <td>0</td>\n",
              "    </tr>\n",
              "    <tr>\n",
              "      <th>381106</th>\n",
              "      <td>381107</td>\n",
              "      <td>1</td>\n",
              "      <td>21</td>\n",
              "      <td>1</td>\n",
              "      <td>30.0</td>\n",
              "      <td>1</td>\n",
              "      <td>&lt; 1 Year</td>\n",
              "      <td>0</td>\n",
              "      <td>35118</td>\n",
              "      <td>160.0</td>\n",
              "      <td>161</td>\n",
              "      <td>0</td>\n",
              "    </tr>\n",
              "    <tr>\n",
              "      <th>381107</th>\n",
              "      <td>381108</td>\n",
              "      <td>0</td>\n",
              "      <td>68</td>\n",
              "      <td>1</td>\n",
              "      <td>14.0</td>\n",
              "      <td>0</td>\n",
              "      <td>&gt; 2 Years</td>\n",
              "      <td>1</td>\n",
              "      <td>44617</td>\n",
              "      <td>124.0</td>\n",
              "      <td>74</td>\n",
              "      <td>0</td>\n",
              "    </tr>\n",
              "    <tr>\n",
              "      <th>381108</th>\n",
              "      <td>381109</td>\n",
              "      <td>1</td>\n",
              "      <td>46</td>\n",
              "      <td>1</td>\n",
              "      <td>29.0</td>\n",
              "      <td>0</td>\n",
              "      <td>1-2 Year</td>\n",
              "      <td>0</td>\n",
              "      <td>41777</td>\n",
              "      <td>26.0</td>\n",
              "      <td>237</td>\n",
              "      <td>0</td>\n",
              "    </tr>\n",
              "  </tbody>\n",
              "</table>\n",
              "<p>370789 rows × 12 columns</p>\n",
              "</div>\n",
              "      <button class=\"colab-df-convert\" onclick=\"convertToInteractive('df-fbe67b06-317d-4388-9e1c-db1845d801e3')\"\n",
              "              title=\"Convert this dataframe to an interactive table.\"\n",
              "              style=\"display:none;\">\n",
              "        \n",
              "  <svg xmlns=\"http://www.w3.org/2000/svg\" height=\"24px\"viewBox=\"0 0 24 24\"\n",
              "       width=\"24px\">\n",
              "    <path d=\"M0 0h24v24H0V0z\" fill=\"none\"/>\n",
              "    <path d=\"M18.56 5.44l.94 2.06.94-2.06 2.06-.94-2.06-.94-.94-2.06-.94 2.06-2.06.94zm-11 1L8.5 8.5l.94-2.06 2.06-.94-2.06-.94L8.5 2.5l-.94 2.06-2.06.94zm10 10l.94 2.06.94-2.06 2.06-.94-2.06-.94-.94-2.06-.94 2.06-2.06.94z\"/><path d=\"M17.41 7.96l-1.37-1.37c-.4-.4-.92-.59-1.43-.59-.52 0-1.04.2-1.43.59L10.3 9.45l-7.72 7.72c-.78.78-.78 2.05 0 2.83L4 21.41c.39.39.9.59 1.41.59.51 0 1.02-.2 1.41-.59l7.78-7.78 2.81-2.81c.8-.78.8-2.07 0-2.86zM5.41 20L4 18.59l7.72-7.72 1.47 1.35L5.41 20z\"/>\n",
              "  </svg>\n",
              "      </button>\n",
              "      \n",
              "  <style>\n",
              "    .colab-df-container {\n",
              "      display:flex;\n",
              "      flex-wrap:wrap;\n",
              "      gap: 12px;\n",
              "    }\n",
              "\n",
              "    .colab-df-convert {\n",
              "      background-color: #E8F0FE;\n",
              "      border: none;\n",
              "      border-radius: 50%;\n",
              "      cursor: pointer;\n",
              "      display: none;\n",
              "      fill: #1967D2;\n",
              "      height: 32px;\n",
              "      padding: 0 0 0 0;\n",
              "      width: 32px;\n",
              "    }\n",
              "\n",
              "    .colab-df-convert:hover {\n",
              "      background-color: #E2EBFA;\n",
              "      box-shadow: 0px 1px 2px rgba(60, 64, 67, 0.3), 0px 1px 3px 1px rgba(60, 64, 67, 0.15);\n",
              "      fill: #174EA6;\n",
              "    }\n",
              "\n",
              "    [theme=dark] .colab-df-convert {\n",
              "      background-color: #3B4455;\n",
              "      fill: #D2E3FC;\n",
              "    }\n",
              "\n",
              "    [theme=dark] .colab-df-convert:hover {\n",
              "      background-color: #434B5C;\n",
              "      box-shadow: 0px 1px 3px 1px rgba(0, 0, 0, 0.15);\n",
              "      filter: drop-shadow(0px 1px 2px rgba(0, 0, 0, 0.3));\n",
              "      fill: #FFFFFF;\n",
              "    }\n",
              "  </style>\n",
              "\n",
              "      <script>\n",
              "        const buttonEl =\n",
              "          document.querySelector('#df-fbe67b06-317d-4388-9e1c-db1845d801e3 button.colab-df-convert');\n",
              "        buttonEl.style.display =\n",
              "          google.colab.kernel.accessAllowed ? 'block' : 'none';\n",
              "\n",
              "        async function convertToInteractive(key) {\n",
              "          const element = document.querySelector('#df-fbe67b06-317d-4388-9e1c-db1845d801e3');\n",
              "          const dataTable =\n",
              "            await google.colab.kernel.invokeFunction('convertToInteractive',\n",
              "                                                     [key], {});\n",
              "          if (!dataTable) return;\n",
              "\n",
              "          const docLinkHtml = 'Like what you see? Visit the ' +\n",
              "            '<a target=\"_blank\" href=https://colab.research.google.com/notebooks/data_table.ipynb>data table notebook</a>'\n",
              "            + ' to learn more about interactive tables.';\n",
              "          element.innerHTML = '';\n",
              "          dataTable['output_type'] = 'display_data';\n",
              "          await google.colab.output.renderOutput(dataTable, element);\n",
              "          const docLink = document.createElement('div');\n",
              "          docLink.innerHTML = docLinkHtml;\n",
              "          element.appendChild(docLink);\n",
              "        }\n",
              "      </script>\n",
              "    </div>\n",
              "  </div>\n",
              "  "
            ]
          },
          "metadata": {},
          "execution_count": 367
        }
      ],
      "source": [
        "df"
      ]
    },
    {
      "cell_type": "code",
      "execution_count": 368,
      "metadata": {
        "colab": {
          "base_uri": "https://localhost:8080/"
        },
        "id": "kA8ziyVYk4ut",
        "outputId": "29c8e8c9-4426-462d-f27d-90da95c6e922"
      },
      "outputs": [
        {
          "output_type": "stream",
          "name": "stderr",
          "text": [
            "/usr/local/lib/python3.7/dist-packages/ipykernel_launcher.py:1: SettingWithCopyWarning: \n",
            "A value is trying to be set on a copy of a slice from a DataFrame.\n",
            "Try using .loc[row_indexer,col_indexer] = value instead\n",
            "\n",
            "See the caveats in the documentation: https://pandas.pydata.org/pandas-docs/stable/user_guide/indexing.html#returning-a-view-versus-a-copy\n",
            "  \"\"\"Entry point for launching an IPython kernel.\n"
          ]
        }
      ],
      "source": [
        "df['Vehicle_Age'] = df['Vehicle_Age'].map( {'< 1 Year': 'Vehicle under 1 year', '1-2 Year': 'Vehicle under 1-2 year','> 2 Years':'Vehicle under more than 2 years'} )"
      ]
    },
    {
      "cell_type": "code",
      "execution_count": 369,
      "metadata": {
        "id": "4jJT7nQgmk39"
      },
      "outputs": [],
      "source": [
        "df=pd.get_dummies(df) #drop_first=True"
      ]
    },
    {
      "cell_type": "code",
      "execution_count": 370,
      "metadata": {
        "id": "_qE8R8M1mvbg"
      },
      "outputs": [],
      "source": [
        "df.drop(['id'],axis=1, inplace=True)"
      ]
    },
    {
      "cell_type": "code",
      "execution_count": 371,
      "metadata": {
        "colab": {
          "base_uri": "https://localhost:8080/",
          "height": 522
        },
        "id": "2lELMA0ZmAYN",
        "outputId": "b20b601f-fe95-42fd-c714-1913e3593a9f"
      },
      "outputs": [
        {
          "output_type": "execute_result",
          "data": {
            "text/plain": [
              "        Gender  Age  Driving_License  Region_Code  Previously_Insured  \\\n",
              "0            1   44                1         28.0                   0   \n",
              "1            1   76                1          3.0                   0   \n",
              "2            1   47                1         28.0                   0   \n",
              "3            1   21                1         11.0                   1   \n",
              "4            0   29                1         41.0                   1   \n",
              "...        ...  ...              ...          ...                 ...   \n",
              "381104       1   74                1         26.0                   1   \n",
              "381105       1   30                1         37.0                   1   \n",
              "381106       1   21                1         30.0                   1   \n",
              "381107       0   68                1         14.0                   0   \n",
              "381108       1   46                1         29.0                   0   \n",
              "\n",
              "        Vehicle_Damage  Annual_Premium  Policy_Sales_Channel  Vintage  \\\n",
              "0                    1           40454                  26.0      217   \n",
              "1                    0           33536                  26.0      183   \n",
              "2                    1           38294                  26.0       27   \n",
              "3                    0           28619                 152.0      203   \n",
              "4                    0           27496                 152.0       39   \n",
              "...                ...             ...                   ...      ...   \n",
              "381104               0           30170                  26.0       88   \n",
              "381105               0           40016                 152.0      131   \n",
              "381106               0           35118                 160.0      161   \n",
              "381107               1           44617                 124.0       74   \n",
              "381108               0           41777                  26.0      237   \n",
              "\n",
              "        Response  Vehicle_Age_Vehicle under 1 year  \\\n",
              "0              1                                 0   \n",
              "1              0                                 0   \n",
              "2              1                                 0   \n",
              "3              0                                 1   \n",
              "4              0                                 1   \n",
              "...          ...                               ...   \n",
              "381104         0                                 0   \n",
              "381105         0                                 1   \n",
              "381106         0                                 1   \n",
              "381107         0                                 0   \n",
              "381108         0                                 0   \n",
              "\n",
              "        Vehicle_Age_Vehicle under 1-2 year  \\\n",
              "0                                        0   \n",
              "1                                        1   \n",
              "2                                        0   \n",
              "3                                        0   \n",
              "4                                        0   \n",
              "...                                    ...   \n",
              "381104                                   1   \n",
              "381105                                   0   \n",
              "381106                                   0   \n",
              "381107                                   0   \n",
              "381108                                   1   \n",
              "\n",
              "        Vehicle_Age_Vehicle under more than 2 years  \n",
              "0                                                 1  \n",
              "1                                                 0  \n",
              "2                                                 1  \n",
              "3                                                 0  \n",
              "4                                                 0  \n",
              "...                                             ...  \n",
              "381104                                            0  \n",
              "381105                                            0  \n",
              "381106                                            0  \n",
              "381107                                            1  \n",
              "381108                                            0  \n",
              "\n",
              "[370789 rows x 13 columns]"
            ],
            "text/html": [
              "\n",
              "  <div id=\"df-2ccdec8a-8c68-4d4d-b3c6-8b798b9b7a47\">\n",
              "    <div class=\"colab-df-container\">\n",
              "      <div>\n",
              "<style scoped>\n",
              "    .dataframe tbody tr th:only-of-type {\n",
              "        vertical-align: middle;\n",
              "    }\n",
              "\n",
              "    .dataframe tbody tr th {\n",
              "        vertical-align: top;\n",
              "    }\n",
              "\n",
              "    .dataframe thead th {\n",
              "        text-align: right;\n",
              "    }\n",
              "</style>\n",
              "<table border=\"1\" class=\"dataframe\">\n",
              "  <thead>\n",
              "    <tr style=\"text-align: right;\">\n",
              "      <th></th>\n",
              "      <th>Gender</th>\n",
              "      <th>Age</th>\n",
              "      <th>Driving_License</th>\n",
              "      <th>Region_Code</th>\n",
              "      <th>Previously_Insured</th>\n",
              "      <th>Vehicle_Damage</th>\n",
              "      <th>Annual_Premium</th>\n",
              "      <th>Policy_Sales_Channel</th>\n",
              "      <th>Vintage</th>\n",
              "      <th>Response</th>\n",
              "      <th>Vehicle_Age_Vehicle under 1 year</th>\n",
              "      <th>Vehicle_Age_Vehicle under 1-2 year</th>\n",
              "      <th>Vehicle_Age_Vehicle under more than 2 years</th>\n",
              "    </tr>\n",
              "  </thead>\n",
              "  <tbody>\n",
              "    <tr>\n",
              "      <th>0</th>\n",
              "      <td>1</td>\n",
              "      <td>44</td>\n",
              "      <td>1</td>\n",
              "      <td>28.0</td>\n",
              "      <td>0</td>\n",
              "      <td>1</td>\n",
              "      <td>40454</td>\n",
              "      <td>26.0</td>\n",
              "      <td>217</td>\n",
              "      <td>1</td>\n",
              "      <td>0</td>\n",
              "      <td>0</td>\n",
              "      <td>1</td>\n",
              "    </tr>\n",
              "    <tr>\n",
              "      <th>1</th>\n",
              "      <td>1</td>\n",
              "      <td>76</td>\n",
              "      <td>1</td>\n",
              "      <td>3.0</td>\n",
              "      <td>0</td>\n",
              "      <td>0</td>\n",
              "      <td>33536</td>\n",
              "      <td>26.0</td>\n",
              "      <td>183</td>\n",
              "      <td>0</td>\n",
              "      <td>0</td>\n",
              "      <td>1</td>\n",
              "      <td>0</td>\n",
              "    </tr>\n",
              "    <tr>\n",
              "      <th>2</th>\n",
              "      <td>1</td>\n",
              "      <td>47</td>\n",
              "      <td>1</td>\n",
              "      <td>28.0</td>\n",
              "      <td>0</td>\n",
              "      <td>1</td>\n",
              "      <td>38294</td>\n",
              "      <td>26.0</td>\n",
              "      <td>27</td>\n",
              "      <td>1</td>\n",
              "      <td>0</td>\n",
              "      <td>0</td>\n",
              "      <td>1</td>\n",
              "    </tr>\n",
              "    <tr>\n",
              "      <th>3</th>\n",
              "      <td>1</td>\n",
              "      <td>21</td>\n",
              "      <td>1</td>\n",
              "      <td>11.0</td>\n",
              "      <td>1</td>\n",
              "      <td>0</td>\n",
              "      <td>28619</td>\n",
              "      <td>152.0</td>\n",
              "      <td>203</td>\n",
              "      <td>0</td>\n",
              "      <td>1</td>\n",
              "      <td>0</td>\n",
              "      <td>0</td>\n",
              "    </tr>\n",
              "    <tr>\n",
              "      <th>4</th>\n",
              "      <td>0</td>\n",
              "      <td>29</td>\n",
              "      <td>1</td>\n",
              "      <td>41.0</td>\n",
              "      <td>1</td>\n",
              "      <td>0</td>\n",
              "      <td>27496</td>\n",
              "      <td>152.0</td>\n",
              "      <td>39</td>\n",
              "      <td>0</td>\n",
              "      <td>1</td>\n",
              "      <td>0</td>\n",
              "      <td>0</td>\n",
              "    </tr>\n",
              "    <tr>\n",
              "      <th>...</th>\n",
              "      <td>...</td>\n",
              "      <td>...</td>\n",
              "      <td>...</td>\n",
              "      <td>...</td>\n",
              "      <td>...</td>\n",
              "      <td>...</td>\n",
              "      <td>...</td>\n",
              "      <td>...</td>\n",
              "      <td>...</td>\n",
              "      <td>...</td>\n",
              "      <td>...</td>\n",
              "      <td>...</td>\n",
              "      <td>...</td>\n",
              "    </tr>\n",
              "    <tr>\n",
              "      <th>381104</th>\n",
              "      <td>1</td>\n",
              "      <td>74</td>\n",
              "      <td>1</td>\n",
              "      <td>26.0</td>\n",
              "      <td>1</td>\n",
              "      <td>0</td>\n",
              "      <td>30170</td>\n",
              "      <td>26.0</td>\n",
              "      <td>88</td>\n",
              "      <td>0</td>\n",
              "      <td>0</td>\n",
              "      <td>1</td>\n",
              "      <td>0</td>\n",
              "    </tr>\n",
              "    <tr>\n",
              "      <th>381105</th>\n",
              "      <td>1</td>\n",
              "      <td>30</td>\n",
              "      <td>1</td>\n",
              "      <td>37.0</td>\n",
              "      <td>1</td>\n",
              "      <td>0</td>\n",
              "      <td>40016</td>\n",
              "      <td>152.0</td>\n",
              "      <td>131</td>\n",
              "      <td>0</td>\n",
              "      <td>1</td>\n",
              "      <td>0</td>\n",
              "      <td>0</td>\n",
              "    </tr>\n",
              "    <tr>\n",
              "      <th>381106</th>\n",
              "      <td>1</td>\n",
              "      <td>21</td>\n",
              "      <td>1</td>\n",
              "      <td>30.0</td>\n",
              "      <td>1</td>\n",
              "      <td>0</td>\n",
              "      <td>35118</td>\n",
              "      <td>160.0</td>\n",
              "      <td>161</td>\n",
              "      <td>0</td>\n",
              "      <td>1</td>\n",
              "      <td>0</td>\n",
              "      <td>0</td>\n",
              "    </tr>\n",
              "    <tr>\n",
              "      <th>381107</th>\n",
              "      <td>0</td>\n",
              "      <td>68</td>\n",
              "      <td>1</td>\n",
              "      <td>14.0</td>\n",
              "      <td>0</td>\n",
              "      <td>1</td>\n",
              "      <td>44617</td>\n",
              "      <td>124.0</td>\n",
              "      <td>74</td>\n",
              "      <td>0</td>\n",
              "      <td>0</td>\n",
              "      <td>0</td>\n",
              "      <td>1</td>\n",
              "    </tr>\n",
              "    <tr>\n",
              "      <th>381108</th>\n",
              "      <td>1</td>\n",
              "      <td>46</td>\n",
              "      <td>1</td>\n",
              "      <td>29.0</td>\n",
              "      <td>0</td>\n",
              "      <td>0</td>\n",
              "      <td>41777</td>\n",
              "      <td>26.0</td>\n",
              "      <td>237</td>\n",
              "      <td>0</td>\n",
              "      <td>0</td>\n",
              "      <td>1</td>\n",
              "      <td>0</td>\n",
              "    </tr>\n",
              "  </tbody>\n",
              "</table>\n",
              "<p>370789 rows × 13 columns</p>\n",
              "</div>\n",
              "      <button class=\"colab-df-convert\" onclick=\"convertToInteractive('df-2ccdec8a-8c68-4d4d-b3c6-8b798b9b7a47')\"\n",
              "              title=\"Convert this dataframe to an interactive table.\"\n",
              "              style=\"display:none;\">\n",
              "        \n",
              "  <svg xmlns=\"http://www.w3.org/2000/svg\" height=\"24px\"viewBox=\"0 0 24 24\"\n",
              "       width=\"24px\">\n",
              "    <path d=\"M0 0h24v24H0V0z\" fill=\"none\"/>\n",
              "    <path d=\"M18.56 5.44l.94 2.06.94-2.06 2.06-.94-2.06-.94-.94-2.06-.94 2.06-2.06.94zm-11 1L8.5 8.5l.94-2.06 2.06-.94-2.06-.94L8.5 2.5l-.94 2.06-2.06.94zm10 10l.94 2.06.94-2.06 2.06-.94-2.06-.94-.94-2.06-.94 2.06-2.06.94z\"/><path d=\"M17.41 7.96l-1.37-1.37c-.4-.4-.92-.59-1.43-.59-.52 0-1.04.2-1.43.59L10.3 9.45l-7.72 7.72c-.78.78-.78 2.05 0 2.83L4 21.41c.39.39.9.59 1.41.59.51 0 1.02-.2 1.41-.59l7.78-7.78 2.81-2.81c.8-.78.8-2.07 0-2.86zM5.41 20L4 18.59l7.72-7.72 1.47 1.35L5.41 20z\"/>\n",
              "  </svg>\n",
              "      </button>\n",
              "      \n",
              "  <style>\n",
              "    .colab-df-container {\n",
              "      display:flex;\n",
              "      flex-wrap:wrap;\n",
              "      gap: 12px;\n",
              "    }\n",
              "\n",
              "    .colab-df-convert {\n",
              "      background-color: #E8F0FE;\n",
              "      border: none;\n",
              "      border-radius: 50%;\n",
              "      cursor: pointer;\n",
              "      display: none;\n",
              "      fill: #1967D2;\n",
              "      height: 32px;\n",
              "      padding: 0 0 0 0;\n",
              "      width: 32px;\n",
              "    }\n",
              "\n",
              "    .colab-df-convert:hover {\n",
              "      background-color: #E2EBFA;\n",
              "      box-shadow: 0px 1px 2px rgba(60, 64, 67, 0.3), 0px 1px 3px 1px rgba(60, 64, 67, 0.15);\n",
              "      fill: #174EA6;\n",
              "    }\n",
              "\n",
              "    [theme=dark] .colab-df-convert {\n",
              "      background-color: #3B4455;\n",
              "      fill: #D2E3FC;\n",
              "    }\n",
              "\n",
              "    [theme=dark] .colab-df-convert:hover {\n",
              "      background-color: #434B5C;\n",
              "      box-shadow: 0px 1px 3px 1px rgba(0, 0, 0, 0.15);\n",
              "      filter: drop-shadow(0px 1px 2px rgba(0, 0, 0, 0.3));\n",
              "      fill: #FFFFFF;\n",
              "    }\n",
              "  </style>\n",
              "\n",
              "      <script>\n",
              "        const buttonEl =\n",
              "          document.querySelector('#df-2ccdec8a-8c68-4d4d-b3c6-8b798b9b7a47 button.colab-df-convert');\n",
              "        buttonEl.style.display =\n",
              "          google.colab.kernel.accessAllowed ? 'block' : 'none';\n",
              "\n",
              "        async function convertToInteractive(key) {\n",
              "          const element = document.querySelector('#df-2ccdec8a-8c68-4d4d-b3c6-8b798b9b7a47');\n",
              "          const dataTable =\n",
              "            await google.colab.kernel.invokeFunction('convertToInteractive',\n",
              "                                                     [key], {});\n",
              "          if (!dataTable) return;\n",
              "\n",
              "          const docLinkHtml = 'Like what you see? Visit the ' +\n",
              "            '<a target=\"_blank\" href=https://colab.research.google.com/notebooks/data_table.ipynb>data table notebook</a>'\n",
              "            + ' to learn more about interactive tables.';\n",
              "          element.innerHTML = '';\n",
              "          dataTable['output_type'] = 'display_data';\n",
              "          await google.colab.output.renderOutput(dataTable, element);\n",
              "          const docLink = document.createElement('div');\n",
              "          docLink.innerHTML = docLinkHtml;\n",
              "          element.appendChild(docLink);\n",
              "        }\n",
              "      </script>\n",
              "    </div>\n",
              "  </div>\n",
              "  "
            ]
          },
          "metadata": {},
          "execution_count": 371
        }
      ],
      "source": [
        "df"
      ]
    },
    {
      "cell_type": "markdown",
      "metadata": {
        "id": "Wl8w0PStp2SD"
      },
      "source": [
        "Try converting them to int64 and check"
      ]
    },
    {
      "cell_type": "code",
      "source": [
        "# for converting column type to int\n",
        "df['Region_Code']=df['Region_Code'].astype(int)\n",
        "df['Policy_Sales_Channel']=df['Policy_Sales_Channel'].astype(int)\n",
        "df['Vehicle_Age_Vehicle under 1 year']=df['Vehicle_Age_Vehicle under 1 year'].astype(int)\n",
        "df['Vehicle_Age_Vehicle under 1-2 year']=df['Vehicle_Age_Vehicle under 1-2 year'].astype(int)\n",
        "df['Vehicle_Age_Vehicle under more than 2 years']=df['Vehicle_Age_Vehicle under more than 2 years'].astype(int)"
      ],
      "metadata": {
        "id": "NFJbzn_fEjHX"
      },
      "execution_count": 372,
      "outputs": []
    },
    {
      "cell_type": "code",
      "execution_count": 373,
      "metadata": {
        "colab": {
          "base_uri": "https://localhost:8080/"
        },
        "id": "BJUU6SCPpQsR",
        "outputId": "ba2a1764-7af1-4ae0-8e77-3cf89923cb70"
      },
      "outputs": [
        {
          "output_type": "stream",
          "name": "stdout",
          "text": [
            "<class 'pandas.core.frame.DataFrame'>\n",
            "Int64Index: 370789 entries, 0 to 381108\n",
            "Data columns (total 13 columns):\n",
            " #   Column                                       Non-Null Count   Dtype\n",
            "---  ------                                       --------------   -----\n",
            " 0   Gender                                       370789 non-null  int64\n",
            " 1   Age                                          370789 non-null  int64\n",
            " 2   Driving_License                              370789 non-null  int64\n",
            " 3   Region_Code                                  370789 non-null  int64\n",
            " 4   Previously_Insured                           370789 non-null  int64\n",
            " 5   Vehicle_Damage                               370789 non-null  int64\n",
            " 6   Annual_Premium                               370789 non-null  int64\n",
            " 7   Policy_Sales_Channel                         370789 non-null  int64\n",
            " 8   Vintage                                      370789 non-null  int64\n",
            " 9   Response                                     370789 non-null  int64\n",
            " 10  Vehicle_Age_Vehicle under 1 year             370789 non-null  int64\n",
            " 11  Vehicle_Age_Vehicle under 1-2 year           370789 non-null  int64\n",
            " 12  Vehicle_Age_Vehicle under more than 2 years  370789 non-null  int64\n",
            "dtypes: int64(13)\n",
            "memory usage: 47.7 MB\n"
          ]
        }
      ],
      "source": [
        "#Checking dtype of features\n",
        "df.info()"
      ]
    },
    {
      "cell_type": "markdown",
      "source": [
        "Applying Data Sampling Technique"
      ],
      "metadata": {
        "id": "qXDWAUOeo0-J"
      }
    },
    {
      "cell_type": "code",
      "source": [
        "class_count_0, class_count_1 = df['Response'].value_counts()"
      ],
      "metadata": {
        "id": "jRVF5Bban3zo"
      },
      "execution_count": 374,
      "outputs": []
    },
    {
      "cell_type": "code",
      "source": [
        "class_count_0"
      ],
      "metadata": {
        "colab": {
          "base_uri": "https://localhost:8080/"
        },
        "id": "_JaTrXY7n7Xx",
        "outputId": "3c811c97-ae84-4d7b-cee1-832ee96377b1"
      },
      "execution_count": 375,
      "outputs": [
        {
          "output_type": "execute_result",
          "data": {
            "text/plain": [
              "325634"
            ]
          },
          "metadata": {},
          "execution_count": 375
        }
      ]
    },
    {
      "cell_type": "code",
      "source": [
        "class_count_1"
      ],
      "metadata": {
        "colab": {
          "base_uri": "https://localhost:8080/"
        },
        "id": "EvnOKzoYn7OA",
        "outputId": "d9008fd7-b888-4017-9ba0-429c42752c1c"
      },
      "execution_count": 376,
      "outputs": [
        {
          "output_type": "execute_result",
          "data": {
            "text/plain": [
              "45155"
            ]
          },
          "metadata": {},
          "execution_count": 376
        }
      ]
    },
    {
      "cell_type": "code",
      "source": [
        "# Separate class\n",
        "class_0 = df[df['Response'] == 0]\n",
        "class_1 = df[df['Response'] == 1]\n",
        "print('class 0:', class_0.shape)\n",
        "print('class 1:', class_1.shape)"
      ],
      "metadata": {
        "colab": {
          "base_uri": "https://localhost:8080/"
        },
        "id": "dJ15XTsznt5c",
        "outputId": "4c7269d7-f791-444d-fe33-a38db16debc9"
      },
      "execution_count": 377,
      "outputs": [
        {
          "output_type": "stream",
          "name": "stdout",
          "text": [
            "class 0: (325634, 13)\n",
            "class 1: (45155, 13)\n"
          ]
        }
      ]
    },
    {
      "cell_type": "markdown",
      "source": [
        "Undersampling(Did'nt give good results so skipped)"
      ],
      "metadata": {
        "id": "BF2aykPtt5Sq"
      }
    },
    {
      "cell_type": "code",
      "source": [
        "# class_0_under = class_0.sample(class_count_1)\n",
        "# test_under = pd.concat([class_0_under, class_1], axis=0)"
      ],
      "metadata": {
        "id": "sf2N6EhDntxC"
      },
      "execution_count": 378,
      "outputs": []
    },
    {
      "cell_type": "code",
      "source": [
        "# test_under['Response'].value_counts()"
      ],
      "metadata": {
        "id": "IZn7TmKLoh1x"
      },
      "execution_count": 379,
      "outputs": []
    },
    {
      "cell_type": "code",
      "source": [
        "# test_under['Response'].value_counts().plot(kind='bar', title='count (Response)')"
      ],
      "metadata": {
        "id": "yauBn3odohfv"
      },
      "execution_count": 380,
      "outputs": []
    },
    {
      "cell_type": "code",
      "source": [
        "# test_under"
      ],
      "metadata": {
        "id": "DIDUVrI0ohXm"
      },
      "execution_count": 381,
      "outputs": []
    },
    {
      "cell_type": "code",
      "execution_count": 382,
      "metadata": {
        "id": "MeHBZZECppEK"
      },
      "outputs": [],
      "source": [
        "# X=test_under.drop(['Response'],axis=1)\n",
        "# y=test_under['Response']"
      ]
    },
    {
      "cell_type": "markdown",
      "source": [
        "Oversampling(Gives promising results)"
      ],
      "metadata": {
        "id": "3Coiv81Kt_AM"
      }
    },
    {
      "cell_type": "code",
      "source": [
        "class_1_over = class_1.sample(class_count_0, replace=True)\n",
        "test_over = pd.concat([class_1_over, class_0], axis=0)"
      ],
      "metadata": {
        "id": "yA_-X9-xt-tJ"
      },
      "execution_count": 383,
      "outputs": []
    },
    {
      "cell_type": "code",
      "source": [
        "test_over['Response'].value_counts()"
      ],
      "metadata": {
        "colab": {
          "base_uri": "https://localhost:8080/"
        },
        "id": "TpEQs1bwozM_",
        "outputId": "c5158b5a-ca4a-48c7-f328-fb005bd313a1"
      },
      "execution_count": 384,
      "outputs": [
        {
          "output_type": "execute_result",
          "data": {
            "text/plain": [
              "1    325634\n",
              "0    325634\n",
              "Name: Response, dtype: int64"
            ]
          },
          "metadata": {},
          "execution_count": 384
        }
      ]
    },
    {
      "cell_type": "code",
      "source": [
        "test_over['Response'].value_counts().plot(kind='bar', title='count (Response)')"
      ],
      "metadata": {
        "colab": {
          "base_uri": "https://localhost:8080/",
          "height": 296
        },
        "id": "NbVX1Totu0H3",
        "outputId": "85c78572-775d-46e0-d2f6-f36d9ac8d85f"
      },
      "execution_count": 385,
      "outputs": [
        {
          "output_type": "execute_result",
          "data": {
            "text/plain": [
              "<matplotlib.axes._subplots.AxesSubplot at 0x7fb85697bf10>"
            ]
          },
          "metadata": {},
          "execution_count": 385
        },
        {
          "output_type": "display_data",
          "data": {
            "text/plain": [
              "<Figure size 432x288 with 1 Axes>"
            ],
            "image/png": "[encoded data removed]"
          },
          "metadata": {
            "needs_background": "light"
          }
        }
      ]
    },
    {
      "cell_type": "code",
      "source": [
        "#Defining X and y variable\n",
        "X=test_over.drop(['Response'],axis=1)\n",
        "y=test_over['Response']"
      ],
      "metadata": {
        "id": "iXISNrpgozGz"
      },
      "execution_count": 386,
      "outputs": []
    },
    {
      "cell_type": "code",
      "source": [
        "from imblearn.over_sampling import SMOTE\n",
        "#Used SMOTE method of data balancing also but didn't get good results so skipped\n",
        "# sm = SMOTE(random_state=42)\n",
        "# X, y = sm.fit_resample(X, y)"
      ],
      "metadata": {
        "id": "nFbbrvGe8bAl"
      },
      "execution_count": 387,
      "outputs": []
    },
    {
      "cell_type": "code",
      "execution_count": 388,
      "metadata": {
        "colab": {
          "base_uri": "https://localhost:8080/",
          "height": 522
        },
        "id": "XWuDkpRZqj37",
        "outputId": "98e9a22b-a799-4af3-d7d5-8a09d69c443b"
      },
      "outputs": [
        {
          "output_type": "execute_result",
          "data": {
            "text/plain": [
              "        Gender  Age  Driving_License  Region_Code  Previously_Insured  \\\n",
              "156564       0   70                1           28                   0   \n",
              "182593       0   42                1           43                   0   \n",
              "251584       1   67                1           46                   0   \n",
              "111841       0   44                1           28                   0   \n",
              "221085       1   43                1           28                   0   \n",
              "...        ...  ...              ...          ...                 ...   \n",
              "381104       1   74                1           26                   1   \n",
              "381105       1   30                1           37                   1   \n",
              "381106       1   21                1           30                   1   \n",
              "381107       0   68                1           14                   0   \n",
              "381108       1   46                1           29                   0   \n",
              "\n",
              "        Vehicle_Damage  Annual_Premium  Policy_Sales_Channel  Vintage  \\\n",
              "156564               1           56407                    26       86   \n",
              "182593               1           29117                    26       35   \n",
              "251584               1           32909                    26      168   \n",
              "111841               1           46382                    26      217   \n",
              "221085               1           46064                   124       21   \n",
              "...                ...             ...                   ...      ...   \n",
              "381104               0           30170                    26       88   \n",
              "381105               0           40016                   152      131   \n",
              "381106               0           35118                   160      161   \n",
              "381107               1           44617                   124       74   \n",
              "381108               0           41777                    26      237   \n",
              "\n",
              "        Vehicle_Age_Vehicle under 1 year  Vehicle_Age_Vehicle under 1-2 year  \\\n",
              "156564                                 0                                   1   \n",
              "182593                                 0                                   1   \n",
              "251584                                 0                                   0   \n",
              "111841                                 0                                   1   \n",
              "221085                                 0                                   1   \n",
              "...                                  ...                                 ...   \n",
              "381104                                 0                                   1   \n",
              "381105                                 1                                   0   \n",
              "381106                                 1                                   0   \n",
              "381107                                 0                                   0   \n",
              "381108                                 0                                   1   \n",
              "\n",
              "        Vehicle_Age_Vehicle under more than 2 years  \n",
              "156564                                            0  \n",
              "182593                                            0  \n",
              "251584                                            1  \n",
              "111841                                            0  \n",
              "221085                                            0  \n",
              "...                                             ...  \n",
              "381104                                            0  \n",
              "381105                                            0  \n",
              "381106                                            0  \n",
              "381107                                            1  \n",
              "381108                                            0  \n",
              "\n",
              "[651268 rows x 12 columns]"
            ],
            "text/html": [
              "\n",
              "  <div id=\"df-80010b60-be5b-4ac2-b98c-c3f3ad3c8069\">\n",
              "    <div class=\"colab-df-container\">\n",
              "      <div>\n",
              "<style scoped>\n",
              "    .dataframe tbody tr th:only-of-type {\n",
              "        vertical-align: middle;\n",
              "    }\n",
              "\n",
              "    .dataframe tbody tr th {\n",
              "        vertical-align: top;\n",
              "    }\n",
              "\n",
              "    .dataframe thead th {\n",
              "        text-align: right;\n",
              "    }\n",
              "</style>\n",
              "<table border=\"1\" class=\"dataframe\">\n",
              "  <thead>\n",
              "    <tr style=\"text-align: right;\">\n",
              "      <th></th>\n",
              "      <th>Gender</th>\n",
              "      <th>Age</th>\n",
              "      <th>Driving_License</th>\n",
              "      <th>Region_Code</th>\n",
              "      <th>Previously_Insured</th>\n",
              "      <th>Vehicle_Damage</th>\n",
              "      <th>Annual_Premium</th>\n",
              "      <th>Policy_Sales_Channel</th>\n",
              "      <th>Vintage</th>\n",
              "      <th>Vehicle_Age_Vehicle under 1 year</th>\n",
              "      <th>Vehicle_Age_Vehicle under 1-2 year</th>\n",
              "      <th>Vehicle_Age_Vehicle under more than 2 years</th>\n",
              "    </tr>\n",
              "  </thead>\n",
              "  <tbody>\n",
              "    <tr>\n",
              "      <th>156564</th>\n",
              "      <td>0</td>\n",
              "      <td>70</td>\n",
              "      <td>1</td>\n",
              "      <td>28</td>\n",
              "      <td>0</td>\n",
              "      <td>1</td>\n",
              "      <td>56407</td>\n",
              "      <td>26</td>\n",
              "      <td>86</td>\n",
              "      <td>0</td>\n",
              "      <td>1</td>\n",
              "      <td>0</td>\n",
              "    </tr>\n",
              "    <tr>\n",
              "      <th>182593</th>\n",
              "      <td>0</td>\n",
              "      <td>42</td>\n",
              "      <td>1</td>\n",
              "      <td>43</td>\n",
              "      <td>0</td>\n",
              "      <td>1</td>\n",
              "      <td>29117</td>\n",
              "      <td>26</td>\n",
              "      <td>35</td>\n",
              "      <td>0</td>\n",
              "      <td>1</td>\n",
              "      <td>0</td>\n",
              "    </tr>\n",
              "    <tr>\n",
              "      <th>251584</th>\n",
              "      <td>1</td>\n",
              "      <td>67</td>\n",
              "      <td>1</td>\n",
              "      <td>46</td>\n",
              "      <td>0</td>\n",
              "      <td>1</td>\n",
              "      <td>32909</td>\n",
              "      <td>26</td>\n",
              "      <td>168</td>\n",
              "      <td>0</td>\n",
              "      <td>0</td>\n",
              "      <td>1</td>\n",
              "    </tr>\n",
              "    <tr>\n",
              "      <th>111841</th>\n",
              "      <td>0</td>\n",
              "      <td>44</td>\n",
              "      <td>1</td>\n",
              "      <td>28</td>\n",
              "      <td>0</td>\n",
              "      <td>1</td>\n",
              "      <td>46382</td>\n",
              "      <td>26</td>\n",
              "      <td>217</td>\n",
              "      <td>0</td>\n",
              "      <td>1</td>\n",
              "      <td>0</td>\n",
              "    </tr>\n",
              "    <tr>\n",
              "      <th>221085</th>\n",
              "      <td>1</td>\n",
              "      <td>43</td>\n",
              "      <td>1</td>\n",
              "      <td>28</td>\n",
              "      <td>0</td>\n",
              "      <td>1</td>\n",
              "      <td>46064</td>\n",
              "      <td>124</td>\n",
              "      <td>21</td>\n",
              "      <td>0</td>\n",
              "      <td>1</td>\n",
              "      <td>0</td>\n",
              "    </tr>\n",
              "    <tr>\n",
              "      <th>...</th>\n",
              "      <td>...</td>\n",
              "      <td>...</td>\n",
              "      <td>...</td>\n",
              "      <td>...</td>\n",
              "      <td>...</td>\n",
              "      <td>...</td>\n",
              "      <td>...</td>\n",
              "      <td>...</td>\n",
              "      <td>...</td>\n",
              "      <td>...</td>\n",
              "      <td>...</td>\n",
              "      <td>...</td>\n",
              "    </tr>\n",
              "    <tr>\n",
              "      <th>381104</th>\n",
              "      <td>1</td>\n",
              "      <td>74</td>\n",
              "      <td>1</td>\n",
              "      <td>26</td>\n",
              "      <td>1</td>\n",
              "      <td>0</td>\n",
              "      <td>30170</td>\n",
              "      <td>26</td>\n",
              "      <td>88</td>\n",
              "      <td>0</td>\n",
              "      <td>1</td>\n",
              "      <td>0</td>\n",
              "    </tr>\n",
              "    <tr>\n",
              "      <th>381105</th>\n",
              "      <td>1</td>\n",
              "      <td>30</td>\n",
              "      <td>1</td>\n",
              "      <td>37</td>\n",
              "      <td>1</td>\n",
              "      <td>0</td>\n",
              "      <td>40016</td>\n",
              "      <td>152</td>\n",
              "      <td>131</td>\n",
              "      <td>1</td>\n",
              "      <td>0</td>\n",
              "      <td>0</td>\n",
              "    </tr>\n",
              "    <tr>\n",
              "      <th>381106</th>\n",
              "      <td>1</td>\n",
              "      <td>21</td>\n",
              "      <td>1</td>\n",
              "      <td>30</td>\n",
              "      <td>1</td>\n",
              "      <td>0</td>\n",
              "      <td>35118</td>\n",
              "      <td>160</td>\n",
              "      <td>161</td>\n",
              "      <td>1</td>\n",
              "      <td>0</td>\n",
              "      <td>0</td>\n",
              "    </tr>\n",
              "    <tr>\n",
              "      <th>381107</th>\n",
              "      <td>0</td>\n",
              "      <td>68</td>\n",
              "      <td>1</td>\n",
              "      <td>14</td>\n",
              "      <td>0</td>\n",
              "      <td>1</td>\n",
              "      <td>44617</td>\n",
              "      <td>124</td>\n",
              "      <td>74</td>\n",
              "      <td>0</td>\n",
              "      <td>0</td>\n",
              "      <td>1</td>\n",
              "    </tr>\n",
              "    <tr>\n",
              "      <th>381108</th>\n",
              "      <td>1</td>\n",
              "      <td>46</td>\n",
              "      <td>1</td>\n",
              "      <td>29</td>\n",
              "      <td>0</td>\n",
              "      <td>0</td>\n",
              "      <td>41777</td>\n",
              "      <td>26</td>\n",
              "      <td>237</td>\n",
              "      <td>0</td>\n",
              "      <td>1</td>\n",
              "      <td>0</td>\n",
              "    </tr>\n",
              "  </tbody>\n",
              "</table>\n",
              "<p>651268 rows × 12 columns</p>\n",
              "</div>\n",
              "      <button class=\"colab-df-convert\" onclick=\"convertToInteractive('df-80010b60-be5b-4ac2-b98c-c3f3ad3c8069')\"\n",
              "              title=\"Convert this dataframe to an interactive table.\"\n",
              "              style=\"display:none;\">\n",
              "        \n",
              "  <svg xmlns=\"http://www.w3.org/2000/svg\" height=\"24px\"viewBox=\"0 0 24 24\"\n",
              "       width=\"24px\">\n",
              "    <path d=\"M0 0h24v24H0V0z\" fill=\"none\"/>\n",
              "    <path d=\"M18.56 5.44l.94 2.06.94-2.06 2.06-.94-2.06-.94-.94-2.06-.94 2.06-2.06.94zm-11 1L8.5 8.5l.94-2.06 2.06-.94-2.06-.94L8.5 2.5l-.94 2.06-2.06.94zm10 10l.94 2.06.94-2.06 2.06-.94-2.06-.94-.94-2.06-.94 2.06-2.06.94z\"/><path d=\"M17.41 7.96l-1.37-1.37c-.4-.4-.92-.59-1.43-.59-.52 0-1.04.2-1.43.59L10.3 9.45l-7.72 7.72c-.78.78-.78 2.05 0 2.83L4 21.41c.39.39.9.59 1.41.59.51 0 1.02-.2 1.41-.59l7.78-7.78 2.81-2.81c.8-.78.8-2.07 0-2.86zM5.41 20L4 18.59l7.72-7.72 1.47 1.35L5.41 20z\"/>\n",
              "  </svg>\n",
              "      </button>\n",
              "      \n",
              "  <style>\n",
              "    .colab-df-container {\n",
              "      display:flex;\n",
              "      flex-wrap:wrap;\n",
              "      gap: 12px;\n",
              "    }\n",
              "\n",
              "    .colab-df-convert {\n",
              "      background-color: #E8F0FE;\n",
              "      border: none;\n",
              "      border-radius: 50%;\n",
              "      cursor: pointer;\n",
              "      display: none;\n",
              "      fill: #1967D2;\n",
              "      height: 32px;\n",
              "      padding: 0 0 0 0;\n",
              "      width: 32px;\n",
              "    }\n",
              "\n",
              "    .colab-df-convert:hover {\n",
              "      background-color: #E2EBFA;\n",
              "      box-shadow: 0px 1px 2px rgba(60, 64, 67, 0.3), 0px 1px 3px 1px rgba(60, 64, 67, 0.15);\n",
              "      fill: #174EA6;\n",
              "    }\n",
              "\n",
              "    [theme=dark] .colab-df-convert {\n",
              "      background-color: #3B4455;\n",
              "      fill: #D2E3FC;\n",
              "    }\n",
              "\n",
              "    [theme=dark] .colab-df-convert:hover {\n",
              "      background-color: #434B5C;\n",
              "      box-shadow: 0px 1px 3px 1px rgba(0, 0, 0, 0.15);\n",
              "      filter: drop-shadow(0px 1px 2px rgba(0, 0, 0, 0.3));\n",
              "      fill: #FFFFFF;\n",
              "    }\n",
              "  </style>\n",
              "\n",
              "      <script>\n",
              "        const buttonEl =\n",
              "          document.querySelector('#df-80010b60-be5b-4ac2-b98c-c3f3ad3c8069 button.colab-df-convert');\n",
              "        buttonEl.style.display =\n",
              "          google.colab.kernel.accessAllowed ? 'block' : 'none';\n",
              "\n",
              "        async function convertToInteractive(key) {\n",
              "          const element = document.querySelector('#df-80010b60-be5b-4ac2-b98c-c3f3ad3c8069');\n",
              "          const dataTable =\n",
              "            await google.colab.kernel.invokeFunction('convertToInteractive',\n",
              "                                                     [key], {});\n",
              "          if (!dataTable) return;\n",
              "\n",
              "          const docLinkHtml = 'Like what you see? Visit the ' +\n",
              "            '<a target=\"_blank\" href=https://colab.research.google.com/notebooks/data_table.ipynb>data table notebook</a>'\n",
              "            + ' to learn more about interactive tables.';\n",
              "          element.innerHTML = '';\n",
              "          dataTable['output_type'] = 'display_data';\n",
              "          await google.colab.output.renderOutput(dataTable, element);\n",
              "          const docLink = document.createElement('div');\n",
              "          docLink.innerHTML = docLinkHtml;\n",
              "          element.appendChild(docLink);\n",
              "        }\n",
              "      </script>\n",
              "    </div>\n",
              "  </div>\n",
              "  "
            ]
          },
          "metadata": {},
          "execution_count": 388
        }
      ],
      "source": [
        "X"
      ]
    },
    {
      "cell_type": "code",
      "execution_count": 389,
      "metadata": {
        "colab": {
          "base_uri": "https://localhost:8080/"
        },
        "id": "dZPQV7HVqlDg",
        "outputId": "bfa56088-8fb3-4ace-b384-ad686d23ad83"
      },
      "outputs": [
        {
          "output_type": "execute_result",
          "data": {
            "text/plain": [
              "156564    1\n",
              "182593    1\n",
              "251584    1\n",
              "111841    1\n",
              "221085    1\n",
              "         ..\n",
              "381104    0\n",
              "381105    0\n",
              "381106    0\n",
              "381107    0\n",
              "381108    0\n",
              "Name: Response, Length: 651268, dtype: int64"
            ]
          },
          "metadata": {},
          "execution_count": 389
        }
      ],
      "source": [
        "y"
      ]
    },
    {
      "cell_type": "code",
      "execution_count": 390,
      "metadata": {
        "id": "h5z2pQdcqqsD"
      },
      "outputs": [],
      "source": [
        "# Split\n",
        "X_train,X_test,y_train,y_test=train_test_split(X,y,test_size=0.2,random_state=40)"
      ]
    },
    {
      "cell_type": "markdown",
      "source": [
        "Scaling"
      ],
      "metadata": {
        "id": "iqURn9WF61AX"
      }
    },
    {
      "cell_type": "code",
      "source": [
        "#make a list of column for getting feature importance at the end\n",
        "train_col_list=list(X_train.columns)\n",
        "train_col_list"
      ],
      "metadata": {
        "colab": {
          "base_uri": "https://localhost:8080/"
        },
        "id": "82ileF3KGYOL",
        "outputId": "615bdae6-5046-41ff-e93b-9e3e313e5d34"
      },
      "execution_count": 391,
      "outputs": [
        {
          "output_type": "execute_result",
          "data": {
            "text/plain": [
              "['Gender',\n",
              " 'Age',\n",
              " 'Driving_License',\n",
              " 'Region_Code',\n",
              " 'Previously_Insured',\n",
              " 'Vehicle_Damage',\n",
              " 'Annual_Premium',\n",
              " 'Policy_Sales_Channel',\n",
              " 'Vintage',\n",
              " 'Vehicle_Age_Vehicle under 1 year',\n",
              " 'Vehicle_Age_Vehicle under 1-2 year',\n",
              " 'Vehicle_Age_Vehicle under more than 2 years']"
            ]
          },
          "metadata": {},
          "execution_count": 391
        }
      ]
    },
    {
      "cell_type": "code",
      "execution_count": 392,
      "metadata": {
        "id": "VQaQDt1qr5UV"
      },
      "outputs": [],
      "source": [
        "#tried Standard Scaler also but MinMax Scaler Gives good result\n",
        "ss = MinMaxScaler() \n",
        "X_train=ss.fit_transform(X_train)\n",
        "X_test=ss.transform(X_test)"
      ]
    },
    {
      "cell_type": "markdown",
      "source": [
        "Trying Various Models"
      ],
      "metadata": {
        "id": "NGd39ZG963w1"
      }
    },
    {
      "cell_type": "code",
      "execution_count": 213,
      "metadata": {
        "id": "93_0CcKtzN6c"
      },
      "outputs": [],
      "source": [
        "models = [\n",
        "           ['LinearClassifier: ', Perceptron()],\n",
        "           ['GNB: ', GaussianNB()],\n",
        "           ['BNB: ', BernoulliNB()],\n",
        "          #  ['SVC: ', SVC()],\n",
        "           ['KNeighborsClassifier: ', KNeighborsClassifier()],\n",
        "           ['DecisionTreeClassifier: ', DecisionTreeClassifier()],\n",
        "           ['RandomForestClassifier ',RandomForestClassifier()],\n",
        "           ['GradientBoostingClassifier: ', GradientBoostingClassifier()] ,\n",
        "           ['XGBClassifier: ', XGBClassifier(eval_metric='mlogloss')],\n",
        "           ['AdaBoostClassifier: ',AdaBoostClassifier()],\n",
        "           ['LgbmClassifier: ',ltb.LGBMClassifier()]\n",
        "         ]"
      ]
    },
    {
      "cell_type": "code",
      "execution_count": 418,
      "metadata": {
        "id": "dDuIsHWJzNlA"
      },
      "outputs": [],
      "source": [
        "model_data = []\n",
        "for name,curr_model in models :\n",
        "    curr_model_data = {}\n",
        "    curr_model.random_state = 42\n",
        "    curr_model_data[\"Name\"] = name\n",
        "    start = time.time()\n",
        "    curr_model.fit(X_train,y_train)\n",
        "    end = time.time()\n",
        "    curr_model_data[\"Train_Time\"] = end - start\n",
        "    curr_model_data[\"Train_accuracy_score\"] = accuracy_score(y_train,[round(value) for value in (curr_model.predict(X_train))])\n",
        "    curr_model_data[\"Test_accuracy_score\"] = accuracy_score(y_test,[round(value) for value in (curr_model.predict(X_test))])\n",
        "    curr_model_data[\"Test_precision_score\"]= precision_score(y_test,[round(value) for value in (curr_model.predict(X_test))])\n",
        "    curr_model_data[\"Test_f1_score\"]= f1_score(y_test,[round(value) for value in (curr_model.predict(X_test))])\n",
        "    curr_model_data[\"Test_roc_auc_score\"]= roc_auc_score(y_test,[round(value) for value in (curr_model.predict(X_test))])\n",
        "    model_data.append(curr_model_data)"
      ]
    },
    {
      "cell_type": "code",
      "execution_count": 419,
      "metadata": {
        "id": "Kk_lQdTQzNti",
        "colab": {
          "base_uri": "https://localhost:8080/"
        },
        "outputId": "ef7b3135-ef2b-4ee5-b994-de27ec9be801"
      },
      "outputs": [
        {
          "output_type": "execute_result",
          "data": {
            "text/plain": [
              "[{'Name': 'LinearClassifier: ',\n",
              "  'Test_accuracy_score': 0.7727900870606661,\n",
              "  'Test_f1_score': 0.8003130756307058,\n",
              "  'Test_precision_score': 0.7134213090497901,\n",
              "  'Test_roc_auc_score': 0.7728942251009848,\n",
              "  'Train_Time': 0.6358320713043213,\n",
              "  'Train_accuracy_score': 0.7731500497107563},\n",
              " {'Name': 'GNB: ',\n",
              "  'Test_accuracy_score': 0.7851659066132326,\n",
              "  'Test_f1_score': 0.8194120873802071,\n",
              "  'Test_precision_score': 0.7063653660002003,\n",
              "  'Test_roc_auc_score': 0.7853090296327585,\n",
              "  'Train_Time': 0.15035653114318848,\n",
              "  'Train_accuracy_score': 0.7854740947460145},\n",
              " {'Name': 'BNB: ',\n",
              "  'Test_accuracy_score': 0.7667634007400924,\n",
              "  'Test_f1_score': 0.7803929505992568,\n",
              "  'Test_precision_score': 0.7368140868140868,\n",
              "  'Test_roc_auc_score': 0.7668105297936458,\n",
              "  'Train_Time': 0.20517420768737793,\n",
              "  'Train_accuracy_score': 0.7676857051825863},\n",
              " {'Name': 'KNeighborsClassifier: ',\n",
              "  'Test_accuracy_score': 0.8669906490395688,\n",
              "  'Test_f1_score': 0.8801262047921841,\n",
              "  'Test_precision_score': 0.8005261236768241,\n",
              "  'Test_roc_auc_score': 0.8670735838920196,\n",
              "  'Train_Time': 1.8275690078735352,\n",
              "  'Train_accuracy_score': 0.9038970162030195},\n",
              " {'Name': 'DecisionTreeClassifier: ',\n",
              "  'Test_accuracy_score': 0.9434412762755846,\n",
              "  'Test_f1_score': 0.9463160119216784,\n",
              "  'Test_precision_score': 0.8999320868733628,\n",
              "  'Test_roc_auc_score': 0.9434820995064819,\n",
              "  'Train_Time': 3.9083001613616943,\n",
              "  'Train_accuracy_score': 0.9999078719573754},\n",
              " {'Name': 'RandomForestClassifier ',\n",
              "  'Test_accuracy_score': 0.9489151964622967,\n",
              "  'Test_f1_score': 0.9512620306754758,\n",
              "  'Test_precision_score': 0.9088567909528609,\n",
              "  'Test_roc_auc_score': 0.9489519621048788,\n",
              "  'Train_Time': 98.91424584388733,\n",
              "  'Train_accuracy_score': 0.9999078719573754},\n",
              " {'Name': 'GradientBoostingClassifier: ',\n",
              "  'Test_accuracy_score': 0.7979716553810248,\n",
              "  'Test_f1_score': 0.8211555060181189,\n",
              "  'Test_precision_score': 0.7361840582006068,\n",
              "  'Test_roc_auc_score': 0.7980696386664184,\n",
              "  'Train_Time': 75.76274943351746,\n",
              "  'Train_accuracy_score': 0.7992721884632659},\n",
              " {'Name': 'XGBClassifier: ',\n",
              "  'Test_accuracy_score': 0.7981252015293197,\n",
              "  'Test_f1_score': 0.8219641829445816,\n",
              "  'Test_precision_score': 0.7347156154302383,\n",
              "  'Test_roc_auc_score': 0.7982263964833347,\n",
              "  'Train_Time': 30.153886556625366,\n",
              "  'Train_accuracy_score': 0.7993355264925702},\n",
              " {'Name': 'AdaBoostClassifier: ',\n",
              "  'Test_accuracy_score': 0.795868073149385,\n",
              "  'Test_f1_score': 0.8213405005879388,\n",
              "  'Test_precision_score': 0.7297933060288727,\n",
              "  'Test_roc_auc_score': 0.7959757939611837,\n",
              "  'Train_Time': 22.23946523666382,\n",
              "  'Train_accuracy_score': 0.797111018130031},\n",
              " {'Name': 'LgbmClassifier: ',\n",
              "  'Test_accuracy_score': 0.8033918344158337,\n",
              "  'Test_f1_score': 0.8262654084380915,\n",
              "  'Test_precision_score': 0.7397145460066809,\n",
              "  'Test_roc_auc_score': 0.8034913456931154,\n",
              "  'Train_Time': 5.988340377807617,\n",
              "  'Train_accuracy_score': 0.8054908313404247}]"
            ]
          },
          "metadata": {},
          "execution_count": 419
        }
      ],
      "source": [
        "model_data"
      ]
    },
    {
      "cell_type": "code",
      "execution_count": 420,
      "metadata": {
        "id": "btY9PS_l8uxJ"
      },
      "outputs": [],
      "source": [
        "# making Dataframe of resuls\n",
        "result= pd.DataFrame(model_data)"
      ]
    },
    {
      "cell_type": "code",
      "execution_count": 421,
      "metadata": {
        "id": "fRqmknYQzNqf",
        "colab": {
          "base_uri": "https://localhost:8080/",
          "height": 427
        },
        "outputId": "00a89639-7df4-49f7-8ee7-4043c6e725d4"
      },
      "outputs": [
        {
          "output_type": "execute_result",
          "data": {
            "text/plain": [
              "                           Name  Train_Time  Train_accuracy_score  \\\n",
              "0            LinearClassifier:     0.635832              0.773150   \n",
              "1                         GNB:     0.150357              0.785474   \n",
              "2                         BNB:     0.205174              0.767686   \n",
              "3        KNeighborsClassifier:     1.827569              0.903897   \n",
              "4      DecisionTreeClassifier:     3.908300              0.999908   \n",
              "5       RandomForestClassifier    98.914246              0.999908   \n",
              "6  GradientBoostingClassifier:    75.762749              0.799272   \n",
              "7               XGBClassifier:    30.153887              0.799336   \n",
              "8          AdaBoostClassifier:    22.239465              0.797111   \n",
              "9              LgbmClassifier:     5.988340              0.805491   \n",
              "\n",
              "   Test_accuracy_score  Test_precision_score  Test_f1_score  \\\n",
              "0             0.772790              0.713421       0.800313   \n",
              "1             0.785166              0.706365       0.819412   \n",
              "2             0.766763              0.736814       0.780393   \n",
              "3             0.866991              0.800526       0.880126   \n",
              "4             0.943441              0.899932       0.946316   \n",
              "5             0.948915              0.908857       0.951262   \n",
              "6             0.797972              0.736184       0.821156   \n",
              "7             0.798125              0.734716       0.821964   \n",
              "8             0.795868              0.729793       0.821341   \n",
              "9             0.803392              0.739715       0.826265   \n",
              "\n",
              "   Test_roc_auc_score  \n",
              "0            0.772894  \n",
              "1            0.785309  \n",
              "2            0.766811  \n",
              "3            0.867074  \n",
              "4            0.943482  \n",
              "5            0.948952  \n",
              "6            0.798070  \n",
              "7            0.798226  \n",
              "8            0.795976  \n",
              "9            0.803491  "
            ],
            "text/html": [
              "\n",
              "  <div id=\"df-c79dc1be-f3e9-43d5-8f0d-7a552e5e4b54\">\n",
              "    <div class=\"colab-df-container\">\n",
              "      <div>\n",
              "<style scoped>\n",
              "    .dataframe tbody tr th:only-of-type {\n",
              "        vertical-align: middle;\n",
              "    }\n",
              "\n",
              "    .dataframe tbody tr th {\n",
              "        vertical-align: top;\n",
              "    }\n",
              "\n",
              "    .dataframe thead th {\n",
              "        text-align: right;\n",
              "    }\n",
              "</style>\n",
              "<table border=\"1\" class=\"dataframe\">\n",
              "  <thead>\n",
              "    <tr style=\"text-align: right;\">\n",
              "      <th></th>\n",
              "      <th>Name</th>\n",
              "      <th>Train_Time</th>\n",
              "      <th>Train_accuracy_score</th>\n",
              "      <th>Test_accuracy_score</th>\n",
              "      <th>Test_precision_score</th>\n",
              "      <th>Test_f1_score</th>\n",
              "      <th>Test_roc_auc_score</th>\n",
              "    </tr>\n",
              "  </thead>\n",
              "  <tbody>\n",
              "    <tr>\n",
              "      <th>0</th>\n",
              "      <td>LinearClassifier:</td>\n",
              "      <td>0.635832</td>\n",
              "      <td>0.773150</td>\n",
              "      <td>0.772790</td>\n",
              "      <td>0.713421</td>\n",
              "      <td>0.800313</td>\n",
              "      <td>0.772894</td>\n",
              "    </tr>\n",
              "    <tr>\n",
              "      <th>1</th>\n",
              "      <td>GNB:</td>\n",
              "      <td>0.150357</td>\n",
              "      <td>0.785474</td>\n",
              "      <td>0.785166</td>\n",
              "      <td>0.706365</td>\n",
              "      <td>0.819412</td>\n",
              "      <td>0.785309</td>\n",
              "    </tr>\n",
              "    <tr>\n",
              "      <th>2</th>\n",
              "      <td>BNB:</td>\n",
              "      <td>0.205174</td>\n",
              "      <td>0.767686</td>\n",
              "      <td>0.766763</td>\n",
              "      <td>0.736814</td>\n",
              "      <td>0.780393</td>\n",
              "      <td>0.766811</td>\n",
              "    </tr>\n",
              "    <tr>\n",
              "      <th>3</th>\n",
              "      <td>KNeighborsClassifier:</td>\n",
              "      <td>1.827569</td>\n",
              "      <td>0.903897</td>\n",
              "      <td>0.866991</td>\n",
              "      <td>0.800526</td>\n",
              "      <td>0.880126</td>\n",
              "      <td>0.867074</td>\n",
              "    </tr>\n",
              "    <tr>\n",
              "      <th>4</th>\n",
              "      <td>DecisionTreeClassifier:</td>\n",
              "      <td>3.908300</td>\n",
              "      <td>0.999908</td>\n",
              "      <td>0.943441</td>\n",
              "      <td>0.899932</td>\n",
              "      <td>0.946316</td>\n",
              "      <td>0.943482</td>\n",
              "    </tr>\n",
              "    <tr>\n",
              "      <th>5</th>\n",
              "      <td>RandomForestClassifier</td>\n",
              "      <td>98.914246</td>\n",
              "      <td>0.999908</td>\n",
              "      <td>0.948915</td>\n",
              "      <td>0.908857</td>\n",
              "      <td>0.951262</td>\n",
              "      <td>0.948952</td>\n",
              "    </tr>\n",
              "    <tr>\n",
              "      <th>6</th>\n",
              "      <td>GradientBoostingClassifier:</td>\n",
              "      <td>75.762749</td>\n",
              "      <td>0.799272</td>\n",
              "      <td>0.797972</td>\n",
              "      <td>0.736184</td>\n",
              "      <td>0.821156</td>\n",
              "      <td>0.798070</td>\n",
              "    </tr>\n",
              "    <tr>\n",
              "      <th>7</th>\n",
              "      <td>XGBClassifier:</td>\n",
              "      <td>30.153887</td>\n",
              "      <td>0.799336</td>\n",
              "      <td>0.798125</td>\n",
              "      <td>0.734716</td>\n",
              "      <td>0.821964</td>\n",
              "      <td>0.798226</td>\n",
              "    </tr>\n",
              "    <tr>\n",
              "      <th>8</th>\n",
              "      <td>AdaBoostClassifier:</td>\n",
              "      <td>22.239465</td>\n",
              "      <td>0.797111</td>\n",
              "      <td>0.795868</td>\n",
              "      <td>0.729793</td>\n",
              "      <td>0.821341</td>\n",
              "      <td>0.795976</td>\n",
              "    </tr>\n",
              "    <tr>\n",
              "      <th>9</th>\n",
              "      <td>LgbmClassifier:</td>\n",
              "      <td>5.988340</td>\n",
              "      <td>0.805491</td>\n",
              "      <td>0.803392</td>\n",
              "      <td>0.739715</td>\n",
              "      <td>0.826265</td>\n",
              "      <td>0.803491</td>\n",
              "    </tr>\n",
              "  </tbody>\n",
              "</table>\n",
              "</div>\n",
              "      <button class=\"colab-df-convert\" onclick=\"convertToInteractive('df-c79dc1be-f3e9-43d5-8f0d-7a552e5e4b54')\"\n",
              "              title=\"Convert this dataframe to an interactive table.\"\n",
              "              style=\"display:none;\">\n",
              "        \n",
              "  <svg xmlns=\"http://www.w3.org/2000/svg\" height=\"24px\"viewBox=\"0 0 24 24\"\n",
              "       width=\"24px\">\n",
              "    <path d=\"M0 0h24v24H0V0z\" fill=\"none\"/>\n",
              "    <path d=\"M18.56 5.44l.94 2.06.94-2.06 2.06-.94-2.06-.94-.94-2.06-.94 2.06-2.06.94zm-11 1L8.5 8.5l.94-2.06 2.06-.94-2.06-.94L8.5 2.5l-.94 2.06-2.06.94zm10 10l.94 2.06.94-2.06 2.06-.94-2.06-.94-.94-2.06-.94 2.06-2.06.94z\"/><path d=\"M17.41 7.96l-1.37-1.37c-.4-.4-.92-.59-1.43-.59-.52 0-1.04.2-1.43.59L10.3 9.45l-7.72 7.72c-.78.78-.78 2.05 0 2.83L4 21.41c.39.39.9.59 1.41.59.51 0 1.02-.2 1.41-.59l7.78-7.78 2.81-2.81c.8-.78.8-2.07 0-2.86zM5.41 20L4 18.59l7.72-7.72 1.47 1.35L5.41 20z\"/>\n",
              "  </svg>\n",
              "      </button>\n",
              "      \n",
              "  <style>\n",
              "    .colab-df-container {\n",
              "      display:flex;\n",
              "      flex-wrap:wrap;\n",
              "      gap: 12px;\n",
              "    }\n",
              "\n",
              "    .colab-df-convert {\n",
              "      background-color: #E8F0FE;\n",
              "      border: none;\n",
              "      border-radius: 50%;\n",
              "      cursor: pointer;\n",
              "      display: none;\n",
              "      fill: #1967D2;\n",
              "      height: 32px;\n",
              "      padding: 0 0 0 0;\n",
              "      width: 32px;\n",
              "    }\n",
              "\n",
              "    .colab-df-convert:hover {\n",
              "      background-color: #E2EBFA;\n",
              "      box-shadow: 0px 1px 2px rgba(60, 64, 67, 0.3), 0px 1px 3px 1px rgba(60, 64, 67, 0.15);\n",
              "      fill: #174EA6;\n",
              "    }\n",
              "\n",
              "    [theme=dark] .colab-df-convert {\n",
              "      background-color: #3B4455;\n",
              "      fill: #D2E3FC;\n",
              "    }\n",
              "\n",
              "    [theme=dark] .colab-df-convert:hover {\n",
              "      background-color: #434B5C;\n",
              "      box-shadow: 0px 1px 3px 1px rgba(0, 0, 0, 0.15);\n",
              "      filter: drop-shadow(0px 1px 2px rgba(0, 0, 0, 0.3));\n",
              "      fill: #FFFFFF;\n",
              "    }\n",
              "  </style>\n",
              "\n",
              "      <script>\n",
              "        const buttonEl =\n",
              "          document.querySelector('#df-c79dc1be-f3e9-43d5-8f0d-7a552e5e4b54 button.colab-df-convert');\n",
              "        buttonEl.style.display =\n",
              "          google.colab.kernel.accessAllowed ? 'block' : 'none';\n",
              "\n",
              "        async function convertToInteractive(key) {\n",
              "          const element = document.querySelector('#df-c79dc1be-f3e9-43d5-8f0d-7a552e5e4b54');\n",
              "          const dataTable =\n",
              "            await google.colab.kernel.invokeFunction('convertToInteractive',\n",
              "                                                     [key], {});\n",
              "          if (!dataTable) return;\n",
              "\n",
              "          const docLinkHtml = 'Like what you see? Visit the ' +\n",
              "            '<a target=\"_blank\" href=https://colab.research.google.com/notebooks/data_table.ipynb>data table notebook</a>'\n",
              "            + ' to learn more about interactive tables.';\n",
              "          element.innerHTML = '';\n",
              "          dataTable['output_type'] = 'display_data';\n",
              "          await google.colab.output.renderOutput(dataTable, element);\n",
              "          const docLink = document.createElement('div');\n",
              "          docLink.innerHTML = docLinkHtml;\n",
              "          element.appendChild(docLink);\n",
              "        }\n",
              "      </script>\n",
              "    </div>\n",
              "  </div>\n",
              "  "
            ]
          },
          "metadata": {},
          "execution_count": 421
        }
      ],
      "source": [
        "#showing results\n",
        "result"
      ]
    },
    {
      "cell_type": "code",
      "source": [
        "#Draw plot for above models metrices\n",
        "result.plot(x=\"Name\", y=['Train_accuracy_score' , 'Test_accuracy_score' , 'Test_precision_score', 'Test_f1_score'], kind=\"bar\" , title = 'Accuracy Score Results' , figsize= (10,8)) "
      ],
      "metadata": {
        "colab": {
          "base_uri": "https://localhost:8080/",
          "height": 660
        },
        "id": "Oau3Q0Xy1AZy",
        "outputId": "e33385ca-d052-4193-abbc-45b656acf8fd"
      },
      "execution_count": 422,
      "outputs": [
        {
          "output_type": "execute_result",
          "data": {
            "text/plain": [
              "<matplotlib.axes._subplots.AxesSubplot at 0x7f7eb139e050>"
            ]
          },
          "metadata": {},
          "execution_count": 422
        },
        {
          "output_type": "display_data",
          "data": {
            "text/plain": [
              "<Figure size 720x576 with 1 Axes>"
            ],
            "image/png": "[encoded data removed]"
          },
          "metadata": {
            "needs_background": "light"
          }
        }
      ]
    },
    {
      "cell_type": "markdown",
      "source": [
        "As we can see that top 3 models for our Datasets is Random Forest Classifier, Decision Tree Classifier and LgbmClassifier."
      ],
      "metadata": {
        "id": "eRtorIWjzlsN"
      }
    },
    {
      "cell_type": "markdown",
      "source": [
        "Getting Confusion Matrix for Better Understanding"
      ],
      "metadata": {
        "id": "P5ZqjwPoIscQ"
      }
    },
    {
      "cell_type": "code",
      "execution_count": 423,
      "metadata": {
        "id": "R43BWCpVtm_7"
      },
      "outputs": [],
      "source": [
        "model_data2 = []\n",
        "for name,curr_model in models :\n",
        "    curr_model_data = {}\n",
        "    curr_model.random_state = 42\n",
        "    curr_model_data[\"Name\"] = name\n",
        "    start = time.time()\n",
        "    curr_model.fit(X_train,y_train)\n",
        "    end = time.time()\n",
        "    curr_model_data[\"Train_Time\"] = end - start\n",
        "    curr_model_data[\"conf_mat\"] = confusion_matrix(y_test,[round(value) for value in (curr_model.predict(X_test))])\n",
        "    model_data2.append(curr_model_data)"
      ]
    },
    {
      "cell_type": "code",
      "source": [
        "model_data2"
      ],
      "metadata": {
        "colab": {
          "base_uri": "https://localhost:8080/"
        },
        "id": "J43mRCVtfWZT",
        "outputId": "efbcea92-4312-4ebd-b0f9-1d908fa25e85"
      },
      "execution_count": 424,
      "outputs": [
        {
          "output_type": "execute_result",
          "data": {
            "text/plain": [
              "[{'Name': 'LinearClassifier: ',\n",
              "  'Train_Time': 0.7717173099517822,\n",
              "  'conf_mat': array([[41353, 23823],\n",
              "         [ 5772, 59306]])},\n",
              " {'Name': 'GNB: ',\n",
              "  'Train_Time': 0.1548452377319336,\n",
              "  'conf_mat': array([[38785, 26391],\n",
              "         [ 1592, 63486]])},\n",
              " {'Name': 'BNB: ',\n",
              "  'Train_Time': 0.210982084274292,\n",
              "  'conf_mat': array([[45895, 19281],\n",
              "         [11099, 53979]])},\n",
              " {'Name': 'KNeighborsClassifier: ',\n",
              "  'Train_Time': 1.8647048473358154,\n",
              "  'conf_mat': array([[49328, 15848],\n",
              "         [ 1477, 63601]])},\n",
              " {'Name': 'DecisionTreeClassifier: ',\n",
              "  'Train_Time': 3.7921125888824463,\n",
              "  'conf_mat': array([[57956,  7220],\n",
              "         [  147, 64931]])},\n",
              " {'Name': 'RandomForestClassifier ',\n",
              "  'Train_Time': 95.08960509300232,\n",
              "  'conf_mat': array([[58664,  6512],\n",
              "         [  142, 64936]])},\n",
              " {'Name': 'GradientBoostingClassifier: ',\n",
              "  'Train_Time': 75.55802392959595,\n",
              "  'conf_mat': array([[43527, 21649],\n",
              "         [ 4666, 60412]])},\n",
              " {'Name': 'XGBClassifier: ',\n",
              "  'Train_Time': 29.441493034362793,\n",
              "  'conf_mat': array([[43259, 21917],\n",
              "         [ 4378, 60700]])},\n",
              " {'Name': 'AdaBoostClassifier: ',\n",
              "  'Train_Time': 19.52447509765625,\n",
              "  'conf_mat': array([[42547, 22629],\n",
              "         [ 3960, 61118]])},\n",
              " {'Name': 'LgbmClassifier: ',\n",
              "  'Train_Time': 5.948718547821045,\n",
              "  'conf_mat': array([[43748, 21428],\n",
              "         [ 4181, 60897]])}]"
            ]
          },
          "metadata": {},
          "execution_count": 424
        }
      ]
    },
    {
      "cell_type": "code",
      "source": [
        "Conf_Mat_df= pd.DataFrame(model_data2)"
      ],
      "metadata": {
        "id": "2WkLfiWMgA7X"
      },
      "execution_count": 425,
      "outputs": []
    },
    {
      "cell_type": "code",
      "source": [
        "Conf_Mat_df"
      ],
      "metadata": {
        "colab": {
          "base_uri": "https://localhost:8080/",
          "height": 363
        },
        "id": "GSSDOq9OrHGU",
        "outputId": "20b6befe-d3f7-49ec-938e-c1dc974e54f7"
      },
      "execution_count": 426,
      "outputs": [
        {
          "output_type": "execute_result",
          "data": {
            "text/plain": [
              "                           Name  Train_Time                          conf_mat\n",
              "0            LinearClassifier:     0.771717   [[41353, 23823], [5772, 59306]]\n",
              "1                         GNB:     0.154845   [[38785, 26391], [1592, 63486]]\n",
              "2                         BNB:     0.210982  [[45895, 19281], [11099, 53979]]\n",
              "3        KNeighborsClassifier:     1.864705   [[49328, 15848], [1477, 63601]]\n",
              "4      DecisionTreeClassifier:     3.792113     [[57956, 7220], [147, 64931]]\n",
              "5       RandomForestClassifier    95.089605     [[58664, 6512], [142, 64936]]\n",
              "6  GradientBoostingClassifier:    75.558024   [[43527, 21649], [4666, 60412]]\n",
              "7               XGBClassifier:    29.441493   [[43259, 21917], [4378, 60700]]\n",
              "8          AdaBoostClassifier:    19.524475   [[42547, 22629], [3960, 61118]]\n",
              "9              LgbmClassifier:     5.948719   [[43748, 21428], [4181, 60897]]"
            ],
            "text/html": [
              "\n",
              "  <div id=\"df-b1f90c6f-132c-462d-9ca5-6cd613165db1\">\n",
              "    <div class=\"colab-df-container\">\n",
              "      <div>\n",
              "<style scoped>\n",
              "    .dataframe tbody tr th:only-of-type {\n",
              "        vertical-align: middle;\n",
              "    }\n",
              "\n",
              "    .dataframe tbody tr th {\n",
              "        vertical-align: top;\n",
              "    }\n",
              "\n",
              "    .dataframe thead th {\n",
              "        text-align: right;\n",
              "    }\n",
              "</style>\n",
              "<table border=\"1\" class=\"dataframe\">\n",
              "  <thead>\n",
              "    <tr style=\"text-align: right;\">\n",
              "      <th></th>\n",
              "      <th>Name</th>\n",
              "      <th>Train_Time</th>\n",
              "      <th>conf_mat</th>\n",
              "    </tr>\n",
              "  </thead>\n",
              "  <tbody>\n",
              "    <tr>\n",
              "      <th>0</th>\n",
              "      <td>LinearClassifier:</td>\n",
              "      <td>0.771717</td>\n",
              "      <td>[[41353, 23823], [5772, 59306]]</td>\n",
              "    </tr>\n",
              "    <tr>\n",
              "      <th>1</th>\n",
              "      <td>GNB:</td>\n",
              "      <td>0.154845</td>\n",
              "      <td>[[38785, 26391], [1592, 63486]]</td>\n",
              "    </tr>\n",
              "    <tr>\n",
              "      <th>2</th>\n",
              "      <td>BNB:</td>\n",
              "      <td>0.210982</td>\n",
              "      <td>[[45895, 19281], [11099, 53979]]</td>\n",
              "    </tr>\n",
              "    <tr>\n",
              "      <th>3</th>\n",
              "      <td>KNeighborsClassifier:</td>\n",
              "      <td>1.864705</td>\n",
              "      <td>[[49328, 15848], [1477, 63601]]</td>\n",
              "    </tr>\n",
              "    <tr>\n",
              "      <th>4</th>\n",
              "      <td>DecisionTreeClassifier:</td>\n",
              "      <td>3.792113</td>\n",
              "      <td>[[57956, 7220], [147, 64931]]</td>\n",
              "    </tr>\n",
              "    <tr>\n",
              "      <th>5</th>\n",
              "      <td>RandomForestClassifier</td>\n",
              "      <td>95.089605</td>\n",
              "      <td>[[58664, 6512], [142, 64936]]</td>\n",
              "    </tr>\n",
              "    <tr>\n",
              "      <th>6</th>\n",
              "      <td>GradientBoostingClassifier:</td>\n",
              "      <td>75.558024</td>\n",
              "      <td>[[43527, 21649], [4666, 60412]]</td>\n",
              "    </tr>\n",
              "    <tr>\n",
              "      <th>7</th>\n",
              "      <td>XGBClassifier:</td>\n",
              "      <td>29.441493</td>\n",
              "      <td>[[43259, 21917], [4378, 60700]]</td>\n",
              "    </tr>\n",
              "    <tr>\n",
              "      <th>8</th>\n",
              "      <td>AdaBoostClassifier:</td>\n",
              "      <td>19.524475</td>\n",
              "      <td>[[42547, 22629], [3960, 61118]]</td>\n",
              "    </tr>\n",
              "    <tr>\n",
              "      <th>9</th>\n",
              "      <td>LgbmClassifier:</td>\n",
              "      <td>5.948719</td>\n",
              "      <td>[[43748, 21428], [4181, 60897]]</td>\n",
              "    </tr>\n",
              "  </tbody>\n",
              "</table>\n",
              "</div>\n",
              "      <button class=\"colab-df-convert\" onclick=\"convertToInteractive('df-b1f90c6f-132c-462d-9ca5-6cd613165db1')\"\n",
              "              title=\"Convert this dataframe to an interactive table.\"\n",
              "              style=\"display:none;\">\n",
              "        \n",
              "  <svg xmlns=\"http://www.w3.org/2000/svg\" height=\"24px\"viewBox=\"0 0 24 24\"\n",
              "       width=\"24px\">\n",
              "    <path d=\"M0 0h24v24H0V0z\" fill=\"none\"/>\n",
              "    <path d=\"M18.56 5.44l.94 2.06.94-2.06 2.06-.94-2.06-.94-.94-2.06-.94 2.06-2.06.94zm-11 1L8.5 8.5l.94-2.06 2.06-.94-2.06-.94L8.5 2.5l-.94 2.06-2.06.94zm10 10l.94 2.06.94-2.06 2.06-.94-2.06-.94-.94-2.06-.94 2.06-2.06.94z\"/><path d=\"M17.41 7.96l-1.37-1.37c-.4-.4-.92-.59-1.43-.59-.52 0-1.04.2-1.43.59L10.3 9.45l-7.72 7.72c-.78.78-.78 2.05 0 2.83L4 21.41c.39.39.9.59 1.41.59.51 0 1.02-.2 1.41-.59l7.78-7.78 2.81-2.81c.8-.78.8-2.07 0-2.86zM5.41 20L4 18.59l7.72-7.72 1.47 1.35L5.41 20z\"/>\n",
              "  </svg>\n",
              "      </button>\n",
              "      \n",
              "  <style>\n",
              "    .colab-df-container {\n",
              "      display:flex;\n",
              "      flex-wrap:wrap;\n",
              "      gap: 12px;\n",
              "    }\n",
              "\n",
              "    .colab-df-convert {\n",
              "      background-color: #E8F0FE;\n",
              "      border: none;\n",
              "      border-radius: 50%;\n",
              "      cursor: pointer;\n",
              "      display: none;\n",
              "      fill: #1967D2;\n",
              "      height: 32px;\n",
              "      padding: 0 0 0 0;\n",
              "      width: 32px;\n",
              "    }\n",
              "\n",
              "    .colab-df-convert:hover {\n",
              "      background-color: #E2EBFA;\n",
              "      box-shadow: 0px 1px 2px rgba(60, 64, 67, 0.3), 0px 1px 3px 1px rgba(60, 64, 67, 0.15);\n",
              "      fill: #174EA6;\n",
              "    }\n",
              "\n",
              "    [theme=dark] .colab-df-convert {\n",
              "      background-color: #3B4455;\n",
              "      fill: #D2E3FC;\n",
              "    }\n",
              "\n",
              "    [theme=dark] .colab-df-convert:hover {\n",
              "      background-color: #434B5C;\n",
              "      box-shadow: 0px 1px 3px 1px rgba(0, 0, 0, 0.15);\n",
              "      filter: drop-shadow(0px 1px 2px rgba(0, 0, 0, 0.3));\n",
              "      fill: #FFFFFF;\n",
              "    }\n",
              "  </style>\n",
              "\n",
              "      <script>\n",
              "        const buttonEl =\n",
              "          document.querySelector('#df-b1f90c6f-132c-462d-9ca5-6cd613165db1 button.colab-df-convert');\n",
              "        buttonEl.style.display =\n",
              "          google.colab.kernel.accessAllowed ? 'block' : 'none';\n",
              "\n",
              "        async function convertToInteractive(key) {\n",
              "          const element = document.querySelector('#df-b1f90c6f-132c-462d-9ca5-6cd613165db1');\n",
              "          const dataTable =\n",
              "            await google.colab.kernel.invokeFunction('convertToInteractive',\n",
              "                                                     [key], {});\n",
              "          if (!dataTable) return;\n",
              "\n",
              "          const docLinkHtml = 'Like what you see? Visit the ' +\n",
              "            '<a target=\"_blank\" href=https://colab.research.google.com/notebooks/data_table.ipynb>data table notebook</a>'\n",
              "            + ' to learn more about interactive tables.';\n",
              "          element.innerHTML = '';\n",
              "          dataTable['output_type'] = 'display_data';\n",
              "          await google.colab.output.renderOutput(dataTable, element);\n",
              "          const docLink = document.createElement('div');\n",
              "          docLink.innerHTML = docLinkHtml;\n",
              "          element.appendChild(docLink);\n",
              "        }\n",
              "      </script>\n",
              "    </div>\n",
              "  </div>\n",
              "  "
            ]
          },
          "metadata": {},
          "execution_count": 426
        }
      ]
    },
    {
      "cell_type": "markdown",
      "source": [
        "As we can see from above confusion matrix that Random Forest Classifier is doing great with our train and test dataset."
      ],
      "metadata": {
        "id": "8HB3FaMHzRrC"
      }
    },
    {
      "cell_type": "markdown",
      "source": [
        "# Hyper parameter tuning \n",
        "\n",
        "We will only go for Random Forest Classifier as this is giving good results in comparison to others above."
      ],
      "metadata": {
        "id": "vEozmhvKvfeU"
      }
    },
    {
      "cell_type": "code",
      "source": [
        "clas = RandomForestClassifier(random_state=40)\n",
        "# Instantiate the bayes search model\n",
        "bayes_search = BayesSearchCV(estimator=clas,\n",
        "                       search_spaces = {\n",
        "                          'max_depth': Integer(13,15),\n",
        "                          'min_samples_leaf': Integer(1,2),\n",
        "                          'min_samples_split': Integer(2,3),\n",
        "                          'n_estimators': Integer(135,140),\n",
        "                          'max_features': [\"auto\", \"sqrt\", \"log2\"]\n",
        "                        },\n",
        "                       cv = 5, verbose=2, scoring='r2')\n",
        "\n",
        "bayes_search.fit(X_train, y_train)"
      ],
      "metadata": {
        "colab": {
          "base_uri": "https://localhost:8080/"
        },
        "id": "cS_e6Z1IrJ4w",
        "outputId": "ab0f1638-06c5-4f47-b671-3bc2825370ae"
      },
      "execution_count": 94,
      "outputs": [
        {
          "metadata": {
            "tags": null
          },
          "name": "stdout",
          "output_type": "stream",
          "text": [
            "Fitting 5 folds for each of 1 candidates, totalling 5 fits\n",
            "[CV] END max_depth=13, max_features=log2, min_samples_leaf=1, min_samples_split=3, n_estimators=139; total time= 1.2min\n",
            "[CV] END max_depth=13, max_features=log2, min_samples_leaf=1, min_samples_split=3, n_estimators=139; total time= 1.2min\n",
            "[CV] END max_depth=13, max_features=log2, min_samples_leaf=1, min_samples_split=3, n_estimators=139; total time= 1.2min\n",
            "[CV] END max_depth=13, max_features=log2, min_samples_leaf=1, min_samples_split=3, n_estimators=139; total time= 1.2min\n",
            "[CV] END max_depth=13, max_features=log2, min_samples_leaf=1, min_samples_split=3, n_estimators=139; total time= 1.2min\n",
            "Fitting 5 folds for each of 1 candidates, totalling 5 fits\n",
            "[CV] END max_depth=14, max_features=auto, min_samples_leaf=1, min_samples_split=3, n_estimators=136; total time= 1.1min\n",
            "[CV] END max_depth=14, max_features=auto, min_samples_leaf=1, min_samples_split=3, n_estimators=136; total time= 1.0min\n",
            "[CV] END max_depth=14, max_features=auto, min_samples_leaf=1, min_samples_split=3, n_estimators=136; total time= 1.0min\n",
            "[CV] END max_depth=14, max_features=auto, min_samples_leaf=1, min_samples_split=3, n_estimators=136; total time= 1.3min\n",
            "[CV] END max_depth=14, max_features=auto, min_samples_leaf=1, min_samples_split=3, n_estimators=136; total time= 1.1min\n",
            "Fitting 5 folds for each of 1 candidates, totalling 5 fits\n",
            "[CV] END max_depth=15, max_features=auto, min_samples_leaf=1, min_samples_split=2, n_estimators=138; total time= 1.1min\n",
            "[CV] END max_depth=15, max_features=auto, min_samples_leaf=1, min_samples_split=2, n_estimators=138; total time= 1.2min\n",
            "[CV] END max_depth=15, max_features=auto, min_samples_leaf=1, min_samples_split=2, n_estimators=138; total time= 1.4min\n",
            "[CV] END max_depth=15, max_features=auto, min_samples_leaf=1, min_samples_split=2, n_estimators=138; total time= 1.5min\n",
            "[CV] END max_depth=15, max_features=auto, min_samples_leaf=1, min_samples_split=2, n_estimators=138; total time= 1.4min\n",
            "Fitting 5 folds for each of 1 candidates, totalling 5 fits\n",
            "[CV] END max_depth=14, max_features=auto, min_samples_leaf=1, min_samples_split=2, n_estimators=138; total time= 1.3min\n",
            "[CV] END max_depth=14, max_features=auto, min_samples_leaf=1, min_samples_split=2, n_estimators=138; total time= 1.6min\n",
            "[CV] END max_depth=14, max_features=auto, min_samples_leaf=1, min_samples_split=2, n_estimators=138; total time= 1.5min\n",
            "[CV] END max_depth=14, max_features=auto, min_samples_leaf=1, min_samples_split=2, n_estimators=138; total time= 1.2min\n",
            "[CV] END max_depth=14, max_features=auto, min_samples_leaf=1, min_samples_split=2, n_estimators=138; total time= 1.4min\n",
            "Fitting 5 folds for each of 1 candidates, totalling 5 fits\n",
            "[CV] END max_depth=14, max_features=log2, min_samples_leaf=2, min_samples_split=2, n_estimators=137; total time= 1.2min\n",
            "[CV] END max_depth=14, max_features=log2, min_samples_leaf=2, min_samples_split=2, n_estimators=137; total time= 1.2min\n",
            "[CV] END max_depth=14, max_features=log2, min_samples_leaf=2, min_samples_split=2, n_estimators=137; total time= 1.1min\n",
            "[CV] END max_depth=14, max_features=log2, min_samples_leaf=2, min_samples_split=2, n_estimators=137; total time= 1.1min\n",
            "[CV] END max_depth=14, max_features=log2, min_samples_leaf=2, min_samples_split=2, n_estimators=137; total time= 1.1min\n",
            "Fitting 5 folds for each of 1 candidates, totalling 5 fits\n",
            "[CV] END max_depth=13, max_features=auto, min_samples_leaf=2, min_samples_split=3, n_estimators=137; total time= 1.0min\n",
            "[CV] END max_depth=13, max_features=auto, min_samples_leaf=2, min_samples_split=3, n_estimators=137; total time= 1.0min\n",
            "[CV] END max_depth=13, max_features=auto, min_samples_leaf=2, min_samples_split=3, n_estimators=137; total time= 1.0min\n",
            "[CV] END max_depth=13, max_features=auto, min_samples_leaf=2, min_samples_split=3, n_estimators=137; total time= 1.3min\n",
            "[CV] END max_depth=13, max_features=auto, min_samples_leaf=2, min_samples_split=3, n_estimators=137; total time= 1.2min\n",
            "Fitting 5 folds for each of 1 candidates, totalling 5 fits\n",
            "[CV] END max_depth=13, max_features=log2, min_samples_leaf=1, min_samples_split=2, n_estimators=139; total time= 1.0min\n",
            "[CV] END max_depth=13, max_features=log2, min_samples_leaf=1, min_samples_split=2, n_estimators=139; total time= 1.4min\n",
            "[CV] END max_depth=13, max_features=log2, min_samples_leaf=1, min_samples_split=2, n_estimators=139; total time= 1.5min\n",
            "[CV] END max_depth=13, max_features=log2, min_samples_leaf=1, min_samples_split=2, n_estimators=139; total time= 1.3min\n",
            "[CV] END max_depth=13, max_features=log2, min_samples_leaf=1, min_samples_split=2, n_estimators=139; total time= 1.1min\n",
            "Fitting 5 folds for each of 1 candidates, totalling 5 fits\n",
            "[CV] END max_depth=13, max_features=sqrt, min_samples_leaf=1, min_samples_split=2, n_estimators=140; total time= 1.2min\n",
            "[CV] END max_depth=13, max_features=sqrt, min_samples_leaf=1, min_samples_split=2, n_estimators=140; total time= 1.0min\n",
            "[CV] END max_depth=13, max_features=sqrt, min_samples_leaf=1, min_samples_split=2, n_estimators=140; total time= 1.4min\n",
            "[CV] END max_depth=13, max_features=sqrt, min_samples_leaf=1, min_samples_split=2, n_estimators=140; total time= 1.3min\n",
            "[CV] END max_depth=13, max_features=sqrt, min_samples_leaf=1, min_samples_split=2, n_estimators=140; total time= 1.6min\n",
            "Fitting 5 folds for each of 1 candidates, totalling 5 fits\n",
            "[CV] END max_depth=13, max_features=auto, min_samples_leaf=2, min_samples_split=3, n_estimators=136; total time= 1.2min\n",
            "[CV] END max_depth=13, max_features=auto, min_samples_leaf=2, min_samples_split=3, n_estimators=136; total time= 1.6min\n",
            "[CV] END max_depth=13, max_features=auto, min_samples_leaf=2, min_samples_split=3, n_estimators=136; total time= 1.2min\n",
            "[CV] END max_depth=13, max_features=auto, min_samples_leaf=2, min_samples_split=3, n_estimators=136; total time= 1.2min\n",
            "[CV] END max_depth=13, max_features=auto, min_samples_leaf=2, min_samples_split=3, n_estimators=136; total time= 1.1min\n",
            "Fitting 5 folds for each of 1 candidates, totalling 5 fits\n",
            "[CV] END max_depth=15, max_features=log2, min_samples_leaf=2, min_samples_split=2, n_estimators=136; total time= 1.4min\n",
            "[CV] END max_depth=15, max_features=log2, min_samples_leaf=2, min_samples_split=2, n_estimators=136; total time= 1.2min\n",
            "[CV] END max_depth=15, max_features=log2, min_samples_leaf=2, min_samples_split=2, n_estimators=136; total time= 1.2min\n",
            "[CV] END max_depth=15, max_features=log2, min_samples_leaf=2, min_samples_split=2, n_estimators=136; total time= 1.2min\n",
            "[CV] END max_depth=15, max_features=log2, min_samples_leaf=2, min_samples_split=2, n_estimators=136; total time= 1.1min\n",
            "Fitting 5 folds for each of 1 candidates, totalling 5 fits\n",
            "[CV] END max_depth=15, max_features=sqrt, min_samples_leaf=1, min_samples_split=3, n_estimators=135; total time= 1.2min\n",
            "[CV] END max_depth=15, max_features=sqrt, min_samples_leaf=1, min_samples_split=3, n_estimators=135; total time= 1.2min\n",
            "[CV] END max_depth=15, max_features=sqrt, min_samples_leaf=1, min_samples_split=3, n_estimators=135; total time= 1.2min\n",
            "[CV] END max_depth=15, max_features=sqrt, min_samples_leaf=1, min_samples_split=3, n_estimators=135; total time= 1.2min\n",
            "[CV] END max_depth=15, max_features=sqrt, min_samples_leaf=1, min_samples_split=3, n_estimators=135; total time= 1.2min\n",
            "Fitting 5 folds for each of 1 candidates, totalling 5 fits\n",
            "[CV] END max_depth=15, max_features=sqrt, min_samples_leaf=1, min_samples_split=3, n_estimators=140; total time= 1.3min\n",
            "[CV] END max_depth=15, max_features=sqrt, min_samples_leaf=1, min_samples_split=3, n_estimators=140; total time= 1.2min\n",
            "[CV] END max_depth=15, max_features=sqrt, min_samples_leaf=1, min_samples_split=3, n_estimators=140; total time= 1.1min\n",
            "[CV] END max_depth=15, max_features=sqrt, min_samples_leaf=1, min_samples_split=3, n_estimators=140; total time= 1.1min\n",
            "[CV] END max_depth=15, max_features=sqrt, min_samples_leaf=1, min_samples_split=3, n_estimators=140; total time= 1.1min\n",
            "Fitting 5 folds for each of 1 candidates, totalling 5 fits\n",
            "[CV] END max_depth=14, max_features=log2, min_samples_leaf=2, min_samples_split=3, n_estimators=139; total time= 1.1min\n",
            "[CV] END max_depth=14, max_features=log2, min_samples_leaf=2, min_samples_split=3, n_estimators=139; total time= 1.1min\n",
            "[CV] END max_depth=14, max_features=log2, min_samples_leaf=2, min_samples_split=3, n_estimators=139; total time= 1.1min\n",
            "[CV] END max_depth=14, max_features=log2, min_samples_leaf=2, min_samples_split=3, n_estimators=139; total time= 1.2min\n",
            "[CV] END max_depth=14, max_features=log2, min_samples_leaf=2, min_samples_split=3, n_estimators=139; total time= 1.2min\n",
            "Fitting 5 folds for each of 1 candidates, totalling 5 fits\n",
            "[CV] END max_depth=14, max_features=auto, min_samples_leaf=2, min_samples_split=2, n_estimators=139; total time= 1.2min\n",
            "[CV] END max_depth=14, max_features=auto, min_samples_leaf=2, min_samples_split=2, n_estimators=139; total time= 1.2min\n",
            "[CV] END max_depth=14, max_features=auto, min_samples_leaf=2, min_samples_split=2, n_estimators=139; total time= 1.3min\n",
            "[CV] END max_depth=14, max_features=auto, min_samples_leaf=2, min_samples_split=2, n_estimators=139; total time= 1.3min\n",
            "[CV] END max_depth=14, max_features=auto, min_samples_leaf=2, min_samples_split=2, n_estimators=139; total time= 1.3min\n",
            "Fitting 5 folds for each of 1 candidates, totalling 5 fits\n",
            "[CV] END max_depth=15, max_features=sqrt, min_samples_leaf=1, min_samples_split=2, n_estimators=135; total time= 1.3min\n",
            "[CV] END max_depth=15, max_features=sqrt, min_samples_leaf=1, min_samples_split=2, n_estimators=135; total time= 1.2min\n",
            "[CV] END max_depth=15, max_features=sqrt, min_samples_leaf=1, min_samples_split=2, n_estimators=135; total time= 1.2min\n",
            "[CV] END max_depth=15, max_features=sqrt, min_samples_leaf=1, min_samples_split=2, n_estimators=135; total time= 1.1min\n",
            "[CV] END max_depth=15, max_features=sqrt, min_samples_leaf=1, min_samples_split=2, n_estimators=135; total time= 1.1min\n",
            "Fitting 5 folds for each of 1 candidates, totalling 5 fits\n",
            "[CV] END max_depth=15, max_features=auto, min_samples_leaf=1, min_samples_split=2, n_estimators=135; total time= 1.0min\n",
            "[CV] END max_depth=15, max_features=auto, min_samples_leaf=1, min_samples_split=2, n_estimators=135; total time= 1.1min\n",
            "[CV] END max_depth=15, max_features=auto, min_samples_leaf=1, min_samples_split=2, n_estimators=135; total time= 1.1min\n",
            "[CV] END max_depth=15, max_features=auto, min_samples_leaf=1, min_samples_split=2, n_estimators=135; total time= 1.2min\n",
            "[CV] END max_depth=15, max_features=auto, min_samples_leaf=1, min_samples_split=2, n_estimators=135; total time= 1.1min\n"
          ]
        },
        {
          "metadata": {
            "tags": null
          },
          "name": "stderr",
          "output_type": "stream",
          "text": [
            "/usr/local/lib/python3.7/dist-packages/skopt/optimizer/optimizer.py:449: UserWarning: The objective has been evaluated at this point before.\n",
            "  warnings.warn(\"The objective has been evaluated \"\n"
          ]
        },
        {
          "metadata": {
            "tags": null
          },
          "name": "stdout",
          "output_type": "stream",
          "text": [
            "Fitting 5 folds for each of 1 candidates, totalling 5 fits\n",
            "[CV] END max_depth=15, max_features=auto, min_samples_leaf=1, min_samples_split=2, n_estimators=135; total time= 1.1min\n",
            "[CV] END max_depth=15, max_features=auto, min_samples_leaf=1, min_samples_split=2, n_estimators=135; total time= 1.1min\n",
            "[CV] END max_depth=15, max_features=auto, min_samples_leaf=1, min_samples_split=2, n_estimators=135; total time= 1.1min\n",
            "[CV] END max_depth=15, max_features=auto, min_samples_leaf=1, min_samples_split=2, n_estimators=135; total time= 1.1min\n",
            "[CV] END max_depth=15, max_features=auto, min_samples_leaf=1, min_samples_split=2, n_estimators=135; total time= 1.1min\n",
            "Fitting 5 folds for each of 1 candidates, totalling 5 fits\n",
            "[CV] END max_depth=13, max_features=log2, min_samples_leaf=1, min_samples_split=3, n_estimators=136; total time=  58.3s\n",
            "[CV] END max_depth=13, max_features=log2, min_samples_leaf=1, min_samples_split=3, n_estimators=136; total time= 1.0min\n",
            "[CV] END max_depth=13, max_features=log2, min_samples_leaf=1, min_samples_split=3, n_estimators=136; total time= 1.0min\n",
            "[CV] END max_depth=13, max_features=log2, min_samples_leaf=1, min_samples_split=3, n_estimators=136; total time=  56.9s\n",
            "[CV] END max_depth=13, max_features=log2, min_samples_leaf=1, min_samples_split=3, n_estimators=136; total time= 1.0min\n",
            "Fitting 5 folds for each of 1 candidates, totalling 5 fits\n",
            "[CV] END max_depth=15, max_features=log2, min_samples_leaf=1, min_samples_split=2, n_estimators=139; total time= 1.2min\n",
            "[CV] END max_depth=15, max_features=log2, min_samples_leaf=1, min_samples_split=2, n_estimators=139; total time= 1.1min\n",
            "[CV] END max_depth=15, max_features=log2, min_samples_leaf=1, min_samples_split=2, n_estimators=139; total time= 1.1min\n",
            "[CV] END max_depth=15, max_features=log2, min_samples_leaf=1, min_samples_split=2, n_estimators=139; total time= 1.1min\n",
            "[CV] END max_depth=15, max_features=log2, min_samples_leaf=1, min_samples_split=2, n_estimators=139; total time= 1.1min\n",
            "Fitting 5 folds for each of 1 candidates, totalling 5 fits\n",
            "[CV] END max_depth=15, max_features=sqrt, min_samples_leaf=1, min_samples_split=2, n_estimators=140; total time= 1.1min\n",
            "[CV] END max_depth=15, max_features=sqrt, min_samples_leaf=1, min_samples_split=2, n_estimators=140; total time= 1.2min\n",
            "[CV] END max_depth=15, max_features=sqrt, min_samples_leaf=1, min_samples_split=2, n_estimators=140; total time= 1.1min\n",
            "[CV] END max_depth=15, max_features=sqrt, min_samples_leaf=1, min_samples_split=2, n_estimators=140; total time= 1.1min\n",
            "[CV] END max_depth=15, max_features=sqrt, min_samples_leaf=1, min_samples_split=2, n_estimators=140; total time= 1.1min\n"
          ]
        },
        {
          "metadata": {
            "tags": null
          },
          "name": "stderr",
          "output_type": "stream",
          "text": [
            "/usr/local/lib/python3.7/dist-packages/skopt/optimizer/optimizer.py:449: UserWarning: The objective has been evaluated at this point before.\n",
            "  warnings.warn(\"The objective has been evaluated \"\n"
          ]
        },
        {
          "metadata": {
            "tags": null
          },
          "name": "stdout",
          "output_type": "stream",
          "text": [
            "Fitting 5 folds for each of 1 candidates, totalling 5 fits\n",
            "[CV] END max_depth=15, max_features=sqrt, min_samples_leaf=1, min_samples_split=2, n_estimators=140; total time= 1.1min\n",
            "[CV] END max_depth=15, max_features=sqrt, min_samples_leaf=1, min_samples_split=2, n_estimators=140; total time= 1.1min\n",
            "[CV] END max_depth=15, max_features=sqrt, min_samples_leaf=1, min_samples_split=2, n_estimators=140; total time= 1.2min\n",
            "[CV] END max_depth=15, max_features=sqrt, min_samples_leaf=1, min_samples_split=2, n_estimators=140; total time= 1.1min\n",
            "[CV] END max_depth=15, max_features=sqrt, min_samples_leaf=1, min_samples_split=2, n_estimators=140; total time= 1.1min\n"
          ]
        },
        {
          "metadata": {
            "tags": null
          },
          "name": "stderr",
          "output_type": "stream",
          "text": [
            "/usr/local/lib/python3.7/dist-packages/skopt/optimizer/optimizer.py:449: UserWarning: The objective has been evaluated at this point before.\n",
            "  warnings.warn(\"The objective has been evaluated \"\n"
          ]
        },
        {
          "metadata": {
            "tags": null
          },
          "name": "stdout",
          "output_type": "stream",
          "text": [
            "Fitting 5 folds for each of 1 candidates, totalling 5 fits\n",
            "[CV] END max_depth=15, max_features=sqrt, min_samples_leaf=1, min_samples_split=2, n_estimators=140; total time= 1.2min\n",
            "[CV] END max_depth=15, max_features=sqrt, min_samples_leaf=1, min_samples_split=2, n_estimators=140; total time= 1.2min\n",
            "[CV] END max_depth=15, max_features=sqrt, min_samples_leaf=1, min_samples_split=2, n_estimators=140; total time= 1.2min\n",
            "[CV] END max_depth=15, max_features=sqrt, min_samples_leaf=1, min_samples_split=2, n_estimators=140; total time= 1.1min\n",
            "[CV] END max_depth=15, max_features=sqrt, min_samples_leaf=1, min_samples_split=2, n_estimators=140; total time= 1.1min\n",
            "Fitting 5 folds for each of 1 candidates, totalling 5 fits\n",
            "[CV] END max_depth=15, max_features=log2, min_samples_leaf=1, min_samples_split=3, n_estimators=136; total time= 1.1min\n",
            "[CV] END max_depth=15, max_features=log2, min_samples_leaf=1, min_samples_split=3, n_estimators=136; total time= 1.1min\n",
            "[CV] END max_depth=15, max_features=log2, min_samples_leaf=1, min_samples_split=3, n_estimators=136; total time= 1.1min\n",
            "[CV] END max_depth=15, max_features=log2, min_samples_leaf=1, min_samples_split=3, n_estimators=136; total time= 1.2min\n",
            "[CV] END max_depth=15, max_features=log2, min_samples_leaf=1, min_samples_split=3, n_estimators=136; total time= 1.1min\n",
            "Fitting 5 folds for each of 1 candidates, totalling 5 fits\n",
            "[CV] END max_depth=15, max_features=sqrt, min_samples_leaf=1, min_samples_split=2, n_estimators=138; total time= 1.2min\n",
            "[CV] END max_depth=15, max_features=sqrt, min_samples_leaf=1, min_samples_split=2, n_estimators=138; total time= 1.2min\n",
            "[CV] END max_depth=15, max_features=sqrt, min_samples_leaf=1, min_samples_split=2, n_estimators=138; total time= 1.2min\n",
            "[CV] END max_depth=15, max_features=sqrt, min_samples_leaf=1, min_samples_split=2, n_estimators=138; total time= 1.1min\n",
            "[CV] END max_depth=15, max_features=sqrt, min_samples_leaf=1, min_samples_split=2, n_estimators=138; total time= 1.1min\n",
            "Fitting 5 folds for each of 1 candidates, totalling 5 fits\n",
            "[CV] END max_depth=13, max_features=log2, min_samples_leaf=2, min_samples_split=2, n_estimators=135; total time=  59.2s\n",
            "[CV] END max_depth=13, max_features=log2, min_samples_leaf=2, min_samples_split=2, n_estimators=135; total time= 1.1min\n",
            "[CV] END max_depth=13, max_features=log2, min_samples_leaf=2, min_samples_split=2, n_estimators=135; total time= 1.0min\n",
            "[CV] END max_depth=13, max_features=log2, min_samples_leaf=2, min_samples_split=2, n_estimators=135; total time= 1.1min\n",
            "[CV] END max_depth=13, max_features=log2, min_samples_leaf=2, min_samples_split=2, n_estimators=135; total time= 1.1min\n"
          ]
        },
        {
          "metadata": {
            "tags": null
          },
          "name": "stderr",
          "output_type": "stream",
          "text": [
            "/usr/local/lib/python3.7/dist-packages/skopt/optimizer/optimizer.py:449: UserWarning: The objective has been evaluated at this point before.\n",
            "  warnings.warn(\"The objective has been evaluated \"\n"
          ]
        },
        {
          "metadata": {
            "tags": null
          },
          "name": "stdout",
          "output_type": "stream",
          "text": [
            "Fitting 5 folds for each of 1 candidates, totalling 5 fits\n",
            "[CV] END max_depth=15, max_features=sqrt, min_samples_leaf=1, min_samples_split=2, n_estimators=140; total time= 1.2min\n",
            "[CV] END max_depth=15, max_features=sqrt, min_samples_leaf=1, min_samples_split=2, n_estimators=140; total time= 1.1min\n",
            "[CV] END max_depth=15, max_features=sqrt, min_samples_leaf=1, min_samples_split=2, n_estimators=140; total time= 1.1min\n",
            "[CV] END max_depth=15, max_features=sqrt, min_samples_leaf=1, min_samples_split=2, n_estimators=140; total time= 1.1min\n",
            "[CV] END max_depth=15, max_features=sqrt, min_samples_leaf=1, min_samples_split=2, n_estimators=140; total time= 1.1min\n",
            "Fitting 5 folds for each of 1 candidates, totalling 5 fits\n",
            "[CV] END max_depth=13, max_features=auto, min_samples_leaf=1, min_samples_split=3, n_estimators=139; total time= 1.1min\n",
            "[CV] END max_depth=13, max_features=auto, min_samples_leaf=1, min_samples_split=3, n_estimators=139; total time= 1.1min\n",
            "[CV] END max_depth=13, max_features=auto, min_samples_leaf=1, min_samples_split=3, n_estimators=139; total time= 1.0min\n",
            "[CV] END max_depth=13, max_features=auto, min_samples_leaf=1, min_samples_split=3, n_estimators=139; total time= 1.0min\n",
            "[CV] END max_depth=13, max_features=auto, min_samples_leaf=1, min_samples_split=3, n_estimators=139; total time=  59.6s\n"
          ]
        },
        {
          "metadata": {
            "tags": null
          },
          "name": "stderr",
          "output_type": "stream",
          "text": [
            "/usr/local/lib/python3.7/dist-packages/skopt/optimizer/optimizer.py:449: UserWarning: The objective has been evaluated at this point before.\n",
            "  warnings.warn(\"The objective has been evaluated \"\n"
          ]
        },
        {
          "metadata": {
            "tags": null
          },
          "name": "stdout",
          "output_type": "stream",
          "text": [
            "Fitting 5 folds for each of 1 candidates, totalling 5 fits\n",
            "[CV] END max_depth=15, max_features=sqrt, min_samples_leaf=1, min_samples_split=2, n_estimators=140; total time= 1.2min\n",
            "[CV] END max_depth=15, max_features=sqrt, min_samples_leaf=1, min_samples_split=2, n_estimators=140; total time= 1.3min\n",
            "[CV] END max_depth=15, max_features=sqrt, min_samples_leaf=1, min_samples_split=2, n_estimators=140; total time= 1.3min\n",
            "[CV] END max_depth=15, max_features=sqrt, min_samples_leaf=1, min_samples_split=2, n_estimators=140; total time= 1.2min\n",
            "[CV] END max_depth=15, max_features=sqrt, min_samples_leaf=1, min_samples_split=2, n_estimators=140; total time= 1.2min\n",
            "Fitting 5 folds for each of 1 candidates, totalling 5 fits\n",
            "[CV] END max_depth=14, max_features=auto, min_samples_leaf=1, min_samples_split=3, n_estimators=140; total time= 1.1min\n",
            "[CV] END max_depth=14, max_features=auto, min_samples_leaf=1, min_samples_split=3, n_estimators=140; total time= 1.1min\n",
            "[CV] END max_depth=14, max_features=auto, min_samples_leaf=1, min_samples_split=3, n_estimators=140; total time= 1.1min\n",
            "[CV] END max_depth=14, max_features=auto, min_samples_leaf=1, min_samples_split=3, n_estimators=140; total time= 1.1min\n",
            "[CV] END max_depth=14, max_features=auto, min_samples_leaf=1, min_samples_split=3, n_estimators=140; total time= 1.1min\n",
            "Fitting 5 folds for each of 1 candidates, totalling 5 fits\n",
            "[CV] END max_depth=15, max_features=log2, min_samples_leaf=2, min_samples_split=2, n_estimators=138; total time= 1.1min\n",
            "[CV] END max_depth=15, max_features=log2, min_samples_leaf=2, min_samples_split=2, n_estimators=138; total time= 1.1min\n",
            "[CV] END max_depth=15, max_features=log2, min_samples_leaf=2, min_samples_split=2, n_estimators=138; total time= 1.1min\n",
            "[CV] END max_depth=15, max_features=log2, min_samples_leaf=2, min_samples_split=2, n_estimators=138; total time= 1.1min\n",
            "[CV] END max_depth=15, max_features=log2, min_samples_leaf=2, min_samples_split=2, n_estimators=138; total time= 1.1min\n",
            "Fitting 5 folds for each of 1 candidates, totalling 5 fits\n",
            "[CV] END max_depth=14, max_features=sqrt, min_samples_leaf=1, min_samples_split=2, n_estimators=137; total time= 1.1min\n",
            "[CV] END max_depth=14, max_features=sqrt, min_samples_leaf=1, min_samples_split=2, n_estimators=137; total time= 1.1min\n",
            "[CV] END max_depth=14, max_features=sqrt, min_samples_leaf=1, min_samples_split=2, n_estimators=137; total time= 1.1min\n",
            "[CV] END max_depth=14, max_features=sqrt, min_samples_leaf=1, min_samples_split=2, n_estimators=137; total time= 1.1min\n",
            "[CV] END max_depth=14, max_features=sqrt, min_samples_leaf=1, min_samples_split=2, n_estimators=137; total time= 1.1min\n",
            "Fitting 5 folds for each of 1 candidates, totalling 5 fits\n",
            "[CV] END max_depth=13, max_features=sqrt, min_samples_leaf=2, min_samples_split=3, n_estimators=137; total time= 1.1min\n",
            "[CV] END max_depth=13, max_features=sqrt, min_samples_leaf=2, min_samples_split=3, n_estimators=137; total time= 1.1min\n",
            "[CV] END max_depth=13, max_features=sqrt, min_samples_leaf=2, min_samples_split=3, n_estimators=137; total time= 1.1min\n",
            "[CV] END max_depth=13, max_features=sqrt, min_samples_leaf=2, min_samples_split=3, n_estimators=137; total time= 1.0min\n",
            "[CV] END max_depth=13, max_features=sqrt, min_samples_leaf=2, min_samples_split=3, n_estimators=137; total time= 1.0min\n",
            "Fitting 5 folds for each of 1 candidates, totalling 5 fits\n",
            "[CV] END max_depth=15, max_features=log2, min_samples_leaf=1, min_samples_split=3, n_estimators=138; total time= 1.2min\n",
            "[CV] END max_depth=15, max_features=log2, min_samples_leaf=1, min_samples_split=3, n_estimators=138; total time= 1.3min\n",
            "[CV] END max_depth=15, max_features=log2, min_samples_leaf=1, min_samples_split=3, n_estimators=138; total time= 1.2min\n",
            "[CV] END max_depth=15, max_features=log2, min_samples_leaf=1, min_samples_split=3, n_estimators=138; total time= 1.2min\n",
            "[CV] END max_depth=15, max_features=log2, min_samples_leaf=1, min_samples_split=3, n_estimators=138; total time= 1.3min\n"
          ]
        },
        {
          "metadata": {
            "tags": null
          },
          "name": "stderr",
          "output_type": "stream",
          "text": [
            "/usr/local/lib/python3.7/dist-packages/skopt/optimizer/optimizer.py:449: UserWarning: The objective has been evaluated at this point before.\n",
            "  warnings.warn(\"The objective has been evaluated \"\n"
          ]
        },
        {
          "metadata": {
            "tags": null
          },
          "name": "stdout",
          "output_type": "stream",
          "text": [
            "Fitting 5 folds for each of 1 candidates, totalling 5 fits\n",
            "[CV] END max_depth=15, max_features=sqrt, min_samples_leaf=1, min_samples_split=2, n_estimators=140; total time= 1.2min\n",
            "[CV] END max_depth=15, max_features=sqrt, min_samples_leaf=1, min_samples_split=2, n_estimators=140; total time= 1.2min\n",
            "[CV] END max_depth=15, max_features=sqrt, min_samples_leaf=1, min_samples_split=2, n_estimators=140; total time= 1.2min\n",
            "[CV] END max_depth=15, max_features=sqrt, min_samples_leaf=1, min_samples_split=2, n_estimators=140; total time= 1.2min\n",
            "[CV] END max_depth=15, max_features=sqrt, min_samples_leaf=1, min_samples_split=2, n_estimators=140; total time= 1.2min\n",
            "Fitting 5 folds for each of 1 candidates, totalling 5 fits\n",
            "[CV] END max_depth=14, max_features=sqrt, min_samples_leaf=2, min_samples_split=3, n_estimators=138; total time= 1.1min\n",
            "[CV] END max_depth=14, max_features=sqrt, min_samples_leaf=2, min_samples_split=3, n_estimators=138; total time= 1.1min\n",
            "[CV] END max_depth=14, max_features=sqrt, min_samples_leaf=2, min_samples_split=3, n_estimators=138; total time= 1.1min\n",
            "[CV] END max_depth=14, max_features=sqrt, min_samples_leaf=2, min_samples_split=3, n_estimators=138; total time= 1.1min\n",
            "[CV] END max_depth=14, max_features=sqrt, min_samples_leaf=2, min_samples_split=3, n_estimators=138; total time= 1.1min\n"
          ]
        },
        {
          "metadata": {
            "tags": null
          },
          "name": "stderr",
          "output_type": "stream",
          "text": [
            "/usr/local/lib/python3.7/dist-packages/skopt/optimizer/optimizer.py:449: UserWarning: The objective has been evaluated at this point before.\n",
            "  warnings.warn(\"The objective has been evaluated \"\n"
          ]
        },
        {
          "metadata": {
            "tags": null
          },
          "name": "stdout",
          "output_type": "stream",
          "text": [
            "Fitting 5 folds for each of 1 candidates, totalling 5 fits\n",
            "[CV] END max_depth=13, max_features=auto, min_samples_leaf=2, min_samples_split=3, n_estimators=136; total time= 1.0min\n",
            "[CV] END max_depth=13, max_features=auto, min_samples_leaf=2, min_samples_split=3, n_estimators=136; total time= 1.1min\n",
            "[CV] END max_depth=13, max_features=auto, min_samples_leaf=2, min_samples_split=3, n_estimators=136; total time= 1.0min\n",
            "[CV] END max_depth=13, max_features=auto, min_samples_leaf=2, min_samples_split=3, n_estimators=136; total time=  57.9s\n",
            "[CV] END max_depth=13, max_features=auto, min_samples_leaf=2, min_samples_split=3, n_estimators=136; total time=  59.5s\n"
          ]
        },
        {
          "metadata": {
            "tags": null
          },
          "name": "stderr",
          "output_type": "stream",
          "text": [
            "/usr/local/lib/python3.7/dist-packages/skopt/optimizer/optimizer.py:449: UserWarning: The objective has been evaluated at this point before.\n",
            "  warnings.warn(\"The objective has been evaluated \"\n"
          ]
        },
        {
          "metadata": {
            "tags": null
          },
          "name": "stdout",
          "output_type": "stream",
          "text": [
            "Fitting 5 folds for each of 1 candidates, totalling 5 fits\n",
            "[CV] END max_depth=15, max_features=sqrt, min_samples_leaf=1, min_samples_split=2, n_estimators=140; total time= 1.2min\n",
            "[CV] END max_depth=15, max_features=sqrt, min_samples_leaf=1, min_samples_split=2, n_estimators=140; total time= 1.3min\n",
            "[CV] END max_depth=15, max_features=sqrt, min_samples_leaf=1, min_samples_split=2, n_estimators=140; total time= 1.4min\n",
            "[CV] END max_depth=15, max_features=sqrt, min_samples_leaf=1, min_samples_split=2, n_estimators=140; total time= 1.3min\n",
            "[CV] END max_depth=15, max_features=sqrt, min_samples_leaf=1, min_samples_split=2, n_estimators=140; total time= 1.2min\n"
          ]
        },
        {
          "metadata": {
            "tags": null
          },
          "name": "stderr",
          "output_type": "stream",
          "text": [
            "/usr/local/lib/python3.7/dist-packages/skopt/optimizer/optimizer.py:449: UserWarning: The objective has been evaluated at this point before.\n",
            "  warnings.warn(\"The objective has been evaluated \"\n"
          ]
        },
        {
          "metadata": {
            "tags": null
          },
          "name": "stdout",
          "output_type": "stream",
          "text": [
            "Fitting 5 folds for each of 1 candidates, totalling 5 fits\n",
            "[CV] END max_depth=15, max_features=sqrt, min_samples_leaf=1, min_samples_split=2, n_estimators=140; total time= 1.2min\n",
            "[CV] END max_depth=15, max_features=sqrt, min_samples_leaf=1, min_samples_split=2, n_estimators=140; total time= 1.2min\n",
            "[CV] END max_depth=15, max_features=sqrt, min_samples_leaf=1, min_samples_split=2, n_estimators=140; total time= 1.2min\n",
            "[CV] END max_depth=15, max_features=sqrt, min_samples_leaf=1, min_samples_split=2, n_estimators=140; total time= 1.2min\n",
            "[CV] END max_depth=15, max_features=sqrt, min_samples_leaf=1, min_samples_split=2, n_estimators=140; total time= 1.2min\n"
          ]
        },
        {
          "metadata": {
            "tags": null
          },
          "name": "stderr",
          "output_type": "stream",
          "text": [
            "/usr/local/lib/python3.7/dist-packages/skopt/optimizer/optimizer.py:449: UserWarning: The objective has been evaluated at this point before.\n",
            "  warnings.warn(\"The objective has been evaluated \"\n"
          ]
        },
        {
          "metadata": {
            "tags": null
          },
          "name": "stdout",
          "output_type": "stream",
          "text": [
            "Fitting 5 folds for each of 1 candidates, totalling 5 fits\n",
            "[CV] END max_depth=15, max_features=sqrt, min_samples_leaf=1, min_samples_split=2, n_estimators=140; total time= 1.2min\n",
            "[CV] END max_depth=15, max_features=sqrt, min_samples_leaf=1, min_samples_split=2, n_estimators=140; total time= 1.2min\n",
            "[CV] END max_depth=15, max_features=sqrt, min_samples_leaf=1, min_samples_split=2, n_estimators=140; total time= 1.2min\n",
            "[CV] END max_depth=15, max_features=sqrt, min_samples_leaf=1, min_samples_split=2, n_estimators=140; total time= 1.1min\n",
            "[CV] END max_depth=15, max_features=sqrt, min_samples_leaf=1, min_samples_split=2, n_estimators=140; total time= 1.2min\n"
          ]
        },
        {
          "metadata": {
            "tags": null
          },
          "name": "stderr",
          "output_type": "stream",
          "text": [
            "/usr/local/lib/python3.7/dist-packages/skopt/optimizer/optimizer.py:449: UserWarning: The objective has been evaluated at this point before.\n",
            "  warnings.warn(\"The objective has been evaluated \"\n"
          ]
        },
        {
          "metadata": {
            "tags": null
          },
          "name": "stdout",
          "output_type": "stream",
          "text": [
            "Fitting 5 folds for each of 1 candidates, totalling 5 fits\n",
            "[CV] END max_depth=15, max_features=sqrt, min_samples_leaf=1, min_samples_split=2, n_estimators=140; total time= 1.3min\n",
            "[CV] END max_depth=15, max_features=sqrt, min_samples_leaf=1, min_samples_split=2, n_estimators=140; total time= 1.3min\n",
            "[CV] END max_depth=15, max_features=sqrt, min_samples_leaf=1, min_samples_split=2, n_estimators=140; total time= 1.2min\n",
            "[CV] END max_depth=15, max_features=sqrt, min_samples_leaf=1, min_samples_split=2, n_estimators=140; total time= 1.2min\n",
            "[CV] END max_depth=15, max_features=sqrt, min_samples_leaf=1, min_samples_split=2, n_estimators=140; total time= 1.3min\n"
          ]
        },
        {
          "metadata": {
            "tags": null
          },
          "name": "stderr",
          "output_type": "stream",
          "text": [
            "/usr/local/lib/python3.7/dist-packages/skopt/optimizer/optimizer.py:449: UserWarning: The objective has been evaluated at this point before.\n",
            "  warnings.warn(\"The objective has been evaluated \"\n"
          ]
        },
        {
          "metadata": {
            "tags": null
          },
          "name": "stdout",
          "output_type": "stream",
          "text": [
            "Fitting 5 folds for each of 1 candidates, totalling 5 fits\n",
            "[CV] END max_depth=15, max_features=sqrt, min_samples_leaf=1, min_samples_split=2, n_estimators=140; total time= 1.2min\n",
            "[CV] END max_depth=15, max_features=sqrt, min_samples_leaf=1, min_samples_split=2, n_estimators=140; total time= 1.2min\n",
            "[CV] END max_depth=15, max_features=sqrt, min_samples_leaf=1, min_samples_split=2, n_estimators=140; total time= 1.2min\n",
            "[CV] END max_depth=15, max_features=sqrt, min_samples_leaf=1, min_samples_split=2, n_estimators=140; total time= 1.2min\n",
            "[CV] END max_depth=15, max_features=sqrt, min_samples_leaf=1, min_samples_split=2, n_estimators=140; total time= 1.2min\n",
            "Fitting 5 folds for each of 1 candidates, totalling 5 fits\n",
            "[CV] END max_depth=14, max_features=sqrt, min_samples_leaf=2, min_samples_split=3, n_estimators=135; total time= 1.1min\n",
            "[CV] END max_depth=14, max_features=sqrt, min_samples_leaf=2, min_samples_split=3, n_estimators=135; total time= 1.1min\n",
            "[CV] END max_depth=14, max_features=sqrt, min_samples_leaf=2, min_samples_split=3, n_estimators=135; total time= 1.1min\n",
            "[CV] END max_depth=14, max_features=sqrt, min_samples_leaf=2, min_samples_split=3, n_estimators=135; total time= 1.0min\n",
            "[CV] END max_depth=14, max_features=sqrt, min_samples_leaf=2, min_samples_split=3, n_estimators=135; total time= 1.0min\n"
          ]
        },
        {
          "metadata": {
            "tags": null
          },
          "name": "stderr",
          "output_type": "stream",
          "text": [
            "/usr/local/lib/python3.7/dist-packages/skopt/optimizer/optimizer.py:449: UserWarning: The objective has been evaluated at this point before.\n",
            "  warnings.warn(\"The objective has been evaluated \"\n"
          ]
        },
        {
          "metadata": {
            "tags": null
          },
          "name": "stdout",
          "output_type": "stream",
          "text": [
            "Fitting 5 folds for each of 1 candidates, totalling 5 fits\n",
            "[CV] END max_depth=15, max_features=sqrt, min_samples_leaf=1, min_samples_split=2, n_estimators=140; total time= 1.1min\n",
            "[CV] END max_depth=15, max_features=sqrt, min_samples_leaf=1, min_samples_split=2, n_estimators=140; total time= 1.2min\n",
            "[CV] END max_depth=15, max_features=sqrt, min_samples_leaf=1, min_samples_split=2, n_estimators=140; total time= 1.1min\n",
            "[CV] END max_depth=15, max_features=sqrt, min_samples_leaf=1, min_samples_split=2, n_estimators=140; total time= 1.1min\n",
            "[CV] END max_depth=15, max_features=sqrt, min_samples_leaf=1, min_samples_split=2, n_estimators=140; total time= 1.1min\n",
            "Fitting 5 folds for each of 1 candidates, totalling 5 fits\n",
            "[CV] END max_depth=15, max_features=auto, min_samples_leaf=1, min_samples_split=2, n_estimators=140; total time= 1.1min\n",
            "[CV] END max_depth=15, max_features=auto, min_samples_leaf=1, min_samples_split=2, n_estimators=140; total time= 1.1min\n",
            "[CV] END max_depth=15, max_features=auto, min_samples_leaf=1, min_samples_split=2, n_estimators=140; total time= 1.1min\n",
            "[CV] END max_depth=15, max_features=auto, min_samples_leaf=1, min_samples_split=2, n_estimators=140; total time= 1.1min\n",
            "[CV] END max_depth=15, max_features=auto, min_samples_leaf=1, min_samples_split=2, n_estimators=140; total time= 1.1min\n",
            "Fitting 5 folds for each of 1 candidates, totalling 5 fits\n",
            "[CV] END max_depth=15, max_features=log2, min_samples_leaf=1, min_samples_split=3, n_estimators=135; total time= 1.0min\n",
            "[CV] END max_depth=15, max_features=log2, min_samples_leaf=1, min_samples_split=3, n_estimators=135; total time= 1.1min\n",
            "[CV] END max_depth=15, max_features=log2, min_samples_leaf=1, min_samples_split=3, n_estimators=135; total time= 1.1min\n",
            "[CV] END max_depth=15, max_features=log2, min_samples_leaf=1, min_samples_split=3, n_estimators=135; total time= 1.1min\n",
            "[CV] END max_depth=15, max_features=log2, min_samples_leaf=1, min_samples_split=3, n_estimators=135; total time= 1.1min\n",
            "Fitting 5 folds for each of 1 candidates, totalling 5 fits\n",
            "[CV] END max_depth=15, max_features=auto, min_samples_leaf=2, min_samples_split=3, n_estimators=140; total time= 1.1min\n",
            "[CV] END max_depth=15, max_features=auto, min_samples_leaf=2, min_samples_split=3, n_estimators=140; total time= 1.1min\n",
            "[CV] END max_depth=15, max_features=auto, min_samples_leaf=2, min_samples_split=3, n_estimators=140; total time= 1.1min\n",
            "[CV] END max_depth=15, max_features=auto, min_samples_leaf=2, min_samples_split=3, n_estimators=140; total time= 1.1min\n",
            "[CV] END max_depth=15, max_features=auto, min_samples_leaf=2, min_samples_split=3, n_estimators=140; total time= 1.1min\n"
          ]
        },
        {
          "metadata": {
            "tags": null
          },
          "name": "stderr",
          "output_type": "stream",
          "text": [
            "/usr/local/lib/python3.7/dist-packages/skopt/optimizer/optimizer.py:449: UserWarning: The objective has been evaluated at this point before.\n",
            "  warnings.warn(\"The objective has been evaluated \"\n"
          ]
        },
        {
          "metadata": {
            "tags": null
          },
          "name": "stdout",
          "output_type": "stream",
          "text": [
            "Fitting 5 folds for each of 1 candidates, totalling 5 fits\n",
            "[CV] END max_depth=15, max_features=auto, min_samples_leaf=1, min_samples_split=2, n_estimators=140; total time= 1.0min\n",
            "[CV] END max_depth=15, max_features=auto, min_samples_leaf=1, min_samples_split=2, n_estimators=140; total time= 1.1min\n",
            "[CV] END max_depth=15, max_features=auto, min_samples_leaf=1, min_samples_split=2, n_estimators=140; total time= 1.1min\n",
            "[CV] END max_depth=15, max_features=auto, min_samples_leaf=1, min_samples_split=2, n_estimators=140; total time= 1.0min\n",
            "[CV] END max_depth=15, max_features=auto, min_samples_leaf=1, min_samples_split=2, n_estimators=140; total time= 1.1min\n",
            "Fitting 5 folds for each of 1 candidates, totalling 5 fits\n",
            "[CV] END max_depth=13, max_features=log2, min_samples_leaf=2, min_samples_split=3, n_estimators=139; total time=  55.2s\n",
            "[CV] END max_depth=13, max_features=log2, min_samples_leaf=2, min_samples_split=3, n_estimators=139; total time=  57.0s\n",
            "[CV] END max_depth=13, max_features=log2, min_samples_leaf=2, min_samples_split=3, n_estimators=139; total time=  59.1s\n",
            "[CV] END max_depth=13, max_features=log2, min_samples_leaf=2, min_samples_split=3, n_estimators=139; total time=  55.4s\n",
            "[CV] END max_depth=13, max_features=log2, min_samples_leaf=2, min_samples_split=3, n_estimators=139; total time=  59.2s\n"
          ]
        },
        {
          "metadata": {
            "tags": null
          },
          "name": "stderr",
          "output_type": "stream",
          "text": [
            "/usr/local/lib/python3.7/dist-packages/skopt/optimizer/optimizer.py:449: UserWarning: The objective has been evaluated at this point before.\n",
            "  warnings.warn(\"The objective has been evaluated \"\n"
          ]
        },
        {
          "metadata": {
            "tags": null
          },
          "name": "stdout",
          "output_type": "stream",
          "text": [
            "Fitting 5 folds for each of 1 candidates, totalling 5 fits\n",
            "[CV] END max_depth=14, max_features=log2, min_samples_leaf=2, min_samples_split=2, n_estimators=137; total time= 1.0min\n",
            "[CV] END max_depth=14, max_features=log2, min_samples_leaf=2, min_samples_split=2, n_estimators=137; total time=  57.8s\n",
            "[CV] END max_depth=14, max_features=log2, min_samples_leaf=2, min_samples_split=2, n_estimators=137; total time= 1.0min\n",
            "[CV] END max_depth=14, max_features=log2, min_samples_leaf=2, min_samples_split=2, n_estimators=137; total time= 1.1min\n",
            "[CV] END max_depth=14, max_features=log2, min_samples_leaf=2, min_samples_split=2, n_estimators=137; total time= 1.0min\n"
          ]
        },
        {
          "metadata": {
            "tags": null
          },
          "name": "stderr",
          "output_type": "stream",
          "text": [
            "/usr/local/lib/python3.7/dist-packages/skopt/optimizer/optimizer.py:449: UserWarning: The objective has been evaluated at this point before.\n",
            "  warnings.warn(\"The objective has been evaluated \"\n"
          ]
        },
        {
          "output_type": "stream",
          "name": "stdout",
          "text": [
            "Fitting 5 folds for each of 1 candidates, totalling 5 fits\n",
            "[CV] END max_depth=15, max_features=auto, min_samples_leaf=1, min_samples_split=2, n_estimators=140; total time= 1.1min\n",
            "[CV] END max_depth=15, max_features=auto, min_samples_leaf=1, min_samples_split=2, n_estimators=140; total time= 1.0min\n",
            "[CV] END max_depth=15, max_features=auto, min_samples_leaf=1, min_samples_split=2, n_estimators=140; total time= 1.1min\n",
            "[CV] END max_depth=15, max_features=auto, min_samples_leaf=1, min_samples_split=2, n_estimators=140; total time= 1.1min\n",
            "[CV] END max_depth=15, max_features=auto, min_samples_leaf=1, min_samples_split=2, n_estimators=140; total time= 1.1min\n"
          ]
        },
        {
          "output_type": "execute_result",
          "data": {
            "text/plain": [
              "BayesSearchCV(cv=5, estimator=RandomForestClassifier(random_state=40),\n",
              "              scoring='r2',\n",
              "              search_spaces={'max_depth': Integer(low=13, high=15, prior='uniform', transform='normalize'),\n",
              "                             'max_features': ['auto', 'sqrt', 'log2'],\n",
              "                             'min_samples_leaf': Integer(low=1, high=2, prior='uniform', transform='normalize'),\n",
              "                             'min_samples_split': Integer(low=2, high=3, prior='uniform', transform='normalize'),\n",
              "                             'n_estimators': Integer(low=135, high=140, prior='uniform', transform='normalize')},\n",
              "              verbose=2)"
            ]
          },
          "metadata": {},
          "execution_count": 94
        }
      ]
    },
    {
      "cell_type": "code",
      "source": [
        "bayes_search.best_params_"
      ],
      "metadata": {
        "colab": {
          "base_uri": "https://localhost:8080/"
        },
        "id": "ddh-vFfQVCMV",
        "outputId": "4e47f9e9-ec54-41cd-ab95-4f5b805d4aa7"
      },
      "execution_count": 95,
      "outputs": [
        {
          "output_type": "execute_result",
          "data": {
            "text/plain": [
              "OrderedDict([('max_depth', 15),\n",
              "             ('max_features', 'sqrt'),\n",
              "             ('min_samples_leaf', 1),\n",
              "             ('min_samples_split', 2),\n",
              "             ('n_estimators', 140)])"
            ]
          },
          "metadata": {},
          "execution_count": 95
        }
      ]
    },
    {
      "cell_type": "code",
      "source": [
        "bayes_search.best_estimator_"
      ],
      "metadata": {
        "colab": {
          "base_uri": "https://localhost:8080/"
        },
        "id": "xnjWbGUuKqeJ",
        "outputId": "4815f772-f7ca-4df8-f520-b75ac18291cb"
      },
      "execution_count": 98,
      "outputs": [
        {
          "output_type": "execute_result",
          "data": {
            "text/plain": [
              "RandomForestClassifier(max_depth=15, max_features='sqrt', n_estimators=140,\n",
              "                       random_state=40)"
            ]
          },
          "metadata": {},
          "execution_count": 98
        }
      ]
    },
    {
      "cell_type": "code",
      "source": [
        "#make prediction\n",
        "train_pred=bayes_search.best_estimator_.predict(X_train)\n",
        "test_pred=bayes_search.best_estimator_.predict(X_test)"
      ],
      "metadata": {
        "id": "PDUJ0pKTIkEm"
      },
      "execution_count": 394,
      "outputs": []
    },
    {
      "cell_type": "code",
      "source": [
        "# Calculating accuracy on train and test\n",
        "train_accuracy = accuracy_score(y_train, train_pred)\n",
        "test_accuracy = accuracy_score(y_test, test_pred)\n",
        "\n",
        "print(\"The accuracy on train dataset is\", train_accuracy)\n",
        "print(\"The accuracy on test dataset is\", test_accuracy)"
      ],
      "metadata": {
        "colab": {
          "base_uri": "https://localhost:8080/"
        },
        "id": "Ve9rBVj7BCec",
        "outputId": "fcf781ff-8c98-430b-eb33-155492c665c5"
      },
      "execution_count": 217,
      "outputs": [
        {
          "output_type": "stream",
          "name": "stdout",
          "text": [
            "The accuracy on train dataset is 0.830889381091487\n",
            "The accuracy on test dataset is 0.822838454097379\n"
          ]
        }
      ]
    },
    {
      "cell_type": "code",
      "source": [
        "# Get the confusion matrices for train and test\n",
        "train_cm = confusion_matrix(y_train, train_pred)\n",
        "test_cm = confusion_matrix(y_test, test_pred)"
      ],
      "metadata": {
        "id": "PHlwHtdGCHdb"
      },
      "execution_count": 101,
      "outputs": []
    },
    {
      "cell_type": "code",
      "source": [
        "train_cm"
      ],
      "metadata": {
        "colab": {
          "base_uri": "https://localhost:8080/"
        },
        "id": "A1r_fX2DC57H",
        "outputId": "38362506-545e-41f6-d6e5-3a84aec712bb"
      },
      "execution_count": 102,
      "outputs": [
        {
          "output_type": "execute_result",
          "data": {
            "text/plain": [
              "array([[181519,  78939],\n",
              "       [  9170, 251386]])"
            ]
          },
          "metadata": {},
          "execution_count": 102
        }
      ]
    },
    {
      "cell_type": "code",
      "source": [
        "test_cm"
      ],
      "metadata": {
        "colab": {
          "base_uri": "https://localhost:8080/"
        },
        "id": "osFoKyUUC2Et",
        "outputId": "f7c7685b-0fc8-4110-8f6f-56115d6edd22"
      },
      "execution_count": 103,
      "outputs": [
        {
          "output_type": "execute_result",
          "data": {
            "text/plain": [
              "array([[44583, 20593],\n",
              "       [ 2483, 62595]])"
            ]
          },
          "metadata": {},
          "execution_count": 103
        }
      ]
    },
    {
      "cell_type": "code",
      "source": [
        "# Print the classification report for train and test\n",
        "print(classification_report(y_train,train_pred))\n",
        "print(\"\\n\")\n",
        "print(classification_report(y_test,test_pred))"
      ],
      "metadata": {
        "colab": {
          "base_uri": "https://localhost:8080/"
        },
        "id": "PWi5H-H1IPVs",
        "outputId": "cc2f6045-cb2c-4be9-b1dd-af6bf537bb37"
      },
      "execution_count": 104,
      "outputs": [
        {
          "output_type": "stream",
          "name": "stdout",
          "text": [
            "              precision    recall  f1-score   support\n",
            "\n",
            "           0       0.95      0.70      0.80    260458\n",
            "           1       0.76      0.96      0.85    260556\n",
            "\n",
            "    accuracy                           0.83    521014\n",
            "   macro avg       0.86      0.83      0.83    521014\n",
            "weighted avg       0.86      0.83      0.83    521014\n",
            "\n",
            "\n",
            "\n",
            "              precision    recall  f1-score   support\n",
            "\n",
            "           0       0.95      0.68      0.79     65176\n",
            "           1       0.75      0.96      0.84     65078\n",
            "\n",
            "    accuracy                           0.82    130254\n",
            "   macro avg       0.85      0.82      0.82    130254\n",
            "weighted avg       0.85      0.82      0.82    130254\n",
            "\n"
          ]
        }
      ]
    },
    {
      "cell_type": "markdown",
      "source": [
        "Results of Hyperparameter clearly shows that we have to play a lot with these parameters for getting better accuracy"
      ],
      "metadata": {
        "id": "VvzhzL0IX1AG"
      }
    },
    {
      "cell_type": "markdown",
      "source": [
        "##**Roc and precison recall curve for Bayes train data.**"
      ],
      "metadata": {
        "id": "4xmPwinnF2zz"
      }
    },
    {
      "cell_type": "code",
      "source": [
        "metrics.plot_roc_curve(bayes_search, X_train, y_train) "
      ],
      "metadata": {
        "colab": {
          "base_uri": "https://localhost:8080/",
          "height": 354
        },
        "id": "7Z_dDVFNFtPw",
        "outputId": "641295d9-8184-4a74-b158-d83def1a2479"
      },
      "execution_count": 106,
      "outputs": [
        {
          "output_type": "stream",
          "name": "stderr",
          "text": [
            "/usr/local/lib/python3.7/dist-packages/sklearn/utils/deprecation.py:87: FutureWarning: Function plot_roc_curve is deprecated; Function :func:`plot_roc_curve` is deprecated in 1.0 and will be removed in 1.2. Use one of the class methods: :meth:`sklearn.metric.RocCurveDisplay.from_predictions` or :meth:`sklearn.metric.RocCurveDisplay.from_estimator`.\n",
            "  warnings.warn(msg, category=FutureWarning)\n"
          ]
        },
        {
          "output_type": "execute_result",
          "data": {
            "text/plain": [
              "<sklearn.metrics._plot.roc_curve.RocCurveDisplay at 0x7fb861bca450>"
            ]
          },
          "metadata": {},
          "execution_count": 106
        },
        {
          "output_type": "display_data",
          "data": {
            "text/plain": [
              "<Figure size 432x288 with 1 Axes>"
            ],
            "image/png": "[encoded data removed]"
          },
          "metadata": {
            "needs_background": "light"
          }
        }
      ]
    },
    {
      "cell_type": "code",
      "source": [
        "metrics.plot_precision_recall_curve(bayes_search, X_train, y_train)"
      ],
      "metadata": {
        "colab": {
          "base_uri": "https://localhost:8080/",
          "height": 354
        },
        "id": "fsjOZPU4GgbI",
        "outputId": "b449acdb-4d8e-4a68-f7c0-8b47cdf13116"
      },
      "execution_count": 107,
      "outputs": [
        {
          "output_type": "stream",
          "name": "stderr",
          "text": [
            "/usr/local/lib/python3.7/dist-packages/sklearn/utils/deprecation.py:87: FutureWarning: Function plot_precision_recall_curve is deprecated; Function `plot_precision_recall_curve` is deprecated in 1.0 and will be removed in 1.2. Use one of the class methods: PrecisionRecallDisplay.from_predictions or PrecisionRecallDisplay.from_estimator.\n",
            "  warnings.warn(msg, category=FutureWarning)\n"
          ]
        },
        {
          "output_type": "execute_result",
          "data": {
            "text/plain": [
              "<sklearn.metrics._plot.precision_recall_curve.PrecisionRecallDisplay at 0x7fb861f3bdd0>"
            ]
          },
          "metadata": {},
          "execution_count": 107
        },
        {
          "output_type": "display_data",
          "data": {
            "text/plain": [
              "<Figure size 432x288 with 1 Axes>"
            ],
            "image/png": "[encoded data removed]"
          },
          "metadata": {
            "needs_background": "light"
          }
        }
      ]
    },
    {
      "cell_type": "markdown",
      "source": [
        "##**Roc and precison recall curve for Bayes test data.**"
      ],
      "metadata": {
        "id": "A59DwXErHEUa"
      }
    },
    {
      "cell_type": "code",
      "source": [
        "metrics.plot_roc_curve(bayes_search, X_test, y_test)"
      ],
      "metadata": {
        "colab": {
          "base_uri": "https://localhost:8080/",
          "height": 354
        },
        "id": "dSekGSKjGjlu",
        "outputId": "8c34b8c6-c86f-4116-f813-b69588eff994"
      },
      "execution_count": 108,
      "outputs": [
        {
          "output_type": "stream",
          "name": "stderr",
          "text": [
            "/usr/local/lib/python3.7/dist-packages/sklearn/utils/deprecation.py:87: FutureWarning: Function plot_roc_curve is deprecated; Function :func:`plot_roc_curve` is deprecated in 1.0 and will be removed in 1.2. Use one of the class methods: :meth:`sklearn.metric.RocCurveDisplay.from_predictions` or :meth:`sklearn.metric.RocCurveDisplay.from_estimator`.\n",
            "  warnings.warn(msg, category=FutureWarning)\n"
          ]
        },
        {
          "output_type": "execute_result",
          "data": {
            "text/plain": [
              "<sklearn.metrics._plot.roc_curve.RocCurveDisplay at 0x7fb85cb33310>"
            ]
          },
          "metadata": {},
          "execution_count": 108
        },
        {
          "output_type": "display_data",
          "data": {
            "text/plain": [
              "<Figure size 432x288 with 1 Axes>"
            ],
            "image/png": "[encoded data removed]"
          },
          "metadata": {
            "needs_background": "light"
          }
        }
      ]
    },
    {
      "cell_type": "code",
      "source": [
        "metrics.plot_precision_recall_curve(bayes_search, X_test, y_test)"
      ],
      "metadata": {
        "colab": {
          "base_uri": "https://localhost:8080/",
          "height": 354
        },
        "id": "AHTsZR3OGjOF",
        "outputId": "b42c47c5-7f6f-4f95-95b4-47f31b0f0a33"
      },
      "execution_count": 109,
      "outputs": [
        {
          "output_type": "stream",
          "name": "stderr",
          "text": [
            "/usr/local/lib/python3.7/dist-packages/sklearn/utils/deprecation.py:87: FutureWarning: Function plot_precision_recall_curve is deprecated; Function `plot_precision_recall_curve` is deprecated in 1.0 and will be removed in 1.2. Use one of the class methods: PrecisionRecallDisplay.from_predictions or PrecisionRecallDisplay.from_estimator.\n",
            "  warnings.warn(msg, category=FutureWarning)\n"
          ]
        },
        {
          "output_type": "execute_result",
          "data": {
            "text/plain": [
              "<sklearn.metrics._plot.precision_recall_curve.PrecisionRecallDisplay at 0x7fb85ca774d0>"
            ]
          },
          "metadata": {},
          "execution_count": 109
        },
        {
          "output_type": "display_data",
          "data": {
            "text/plain": [
              "<Figure size 432x288 with 1 Axes>"
            ],
            "image/png": "[encoded data removed]"
          },
          "metadata": {
            "needs_background": "light"
          }
        }
      ]
    },
    {
      "cell_type": "markdown",
      "source": [
        "After observing these curves we can make a important note:"
      ],
      "metadata": {
        "id": "l2CcbvN9YHp4"
      }
    },
    {
      "cell_type": "markdown",
      "source": [
        "# NOTE  : For Hyperparameter tuning\n",
        "\n",
        "As we can see tuning didn't give us a good results so we have to play more with hyperparameter and see what happens. But this takes 4-5 hours for each-time so we will not include it's results for now."
      ],
      "metadata": {
        "id": "HXRi6aYHM4oO"
      }
    },
    {
      "cell_type": "markdown",
      "source": [
        "Feature Importance"
      ],
      "metadata": {
        "id": "x9AvtHUgKCD5"
      }
    },
    {
      "cell_type": "code",
      "source": [
        "importances = bayes_search.best_estimator_.feature_importances_\n",
        "importance_dict = {'Feature' : train_col_list,\n",
        "                   'Feature Importance' : importances}\n",
        "importance_df = pd.DataFrame(importance_dict)"
      ],
      "metadata": {
        "id": "03mkHxUSC3A3"
      },
      "execution_count": 305,
      "outputs": []
    },
    {
      "cell_type": "code",
      "source": [
        "importance_df['Feature Importance'] = round(importance_df['Feature Importance'],2)"
      ],
      "metadata": {
        "id": "c9YQuPoJDO_C"
      },
      "execution_count": 306,
      "outputs": []
    },
    {
      "cell_type": "code",
      "source": [
        "importance_df.head()"
      ],
      "metadata": {
        "colab": {
          "base_uri": "https://localhost:8080/",
          "height": 206
        },
        "id": "Q30xqxucDTrG",
        "outputId": "ad4f8902-d8f3-454e-d9ae-a1d7d7208a0e"
      },
      "execution_count": 307,
      "outputs": [
        {
          "output_type": "execute_result",
          "data": {
            "text/plain": [
              "              Feature  Feature Importance\n",
              "0              Gender                0.00\n",
              "1                 Age                0.10\n",
              "2     Driving_License                0.00\n",
              "3         Region_Code                0.03\n",
              "4  Previously_Insured                0.32"
            ],
            "text/html": [
              "\n",
              "  <div id=\"df-63d778a0-8400-483a-8f1b-234209e23f82\">\n",
              "    <div class=\"colab-df-container\">\n",
              "      <div>\n",
              "<style scoped>\n",
              "    .dataframe tbody tr th:only-of-type {\n",
              "        vertical-align: middle;\n",
              "    }\n",
              "\n",
              "    .dataframe tbody tr th {\n",
              "        vertical-align: top;\n",
              "    }\n",
              "\n",
              "    .dataframe thead th {\n",
              "        text-align: right;\n",
              "    }\n",
              "</style>\n",
              "<table border=\"1\" class=\"dataframe\">\n",
              "  <thead>\n",
              "    <tr style=\"text-align: right;\">\n",
              "      <th></th>\n",
              "      <th>Feature</th>\n",
              "      <th>Feature Importance</th>\n",
              "    </tr>\n",
              "  </thead>\n",
              "  <tbody>\n",
              "    <tr>\n",
              "      <th>0</th>\n",
              "      <td>Gender</td>\n",
              "      <td>0.00</td>\n",
              "    </tr>\n",
              "    <tr>\n",
              "      <th>1</th>\n",
              "      <td>Age</td>\n",
              "      <td>0.10</td>\n",
              "    </tr>\n",
              "    <tr>\n",
              "      <th>2</th>\n",
              "      <td>Driving_License</td>\n",
              "      <td>0.00</td>\n",
              "    </tr>\n",
              "    <tr>\n",
              "      <th>3</th>\n",
              "      <td>Region_Code</td>\n",
              "      <td>0.03</td>\n",
              "    </tr>\n",
              "    <tr>\n",
              "      <th>4</th>\n",
              "      <td>Previously_Insured</td>\n",
              "      <td>0.32</td>\n",
              "    </tr>\n",
              "  </tbody>\n",
              "</table>\n",
              "</div>\n",
              "      <button class=\"colab-df-convert\" onclick=\"convertToInteractive('df-63d778a0-8400-483a-8f1b-234209e23f82')\"\n",
              "              title=\"Convert this dataframe to an interactive table.\"\n",
              "              style=\"display:none;\">\n",
              "        \n",
              "  <svg xmlns=\"http://www.w3.org/2000/svg\" height=\"24px\"viewBox=\"0 0 24 24\"\n",
              "       width=\"24px\">\n",
              "    <path d=\"M0 0h24v24H0V0z\" fill=\"none\"/>\n",
              "    <path d=\"M18.56 5.44l.94 2.06.94-2.06 2.06-.94-2.06-.94-.94-2.06-.94 2.06-2.06.94zm-11 1L8.5 8.5l.94-2.06 2.06-.94-2.06-.94L8.5 2.5l-.94 2.06-2.06.94zm10 10l.94 2.06.94-2.06 2.06-.94-2.06-.94-.94-2.06-.94 2.06-2.06.94z\"/><path d=\"M17.41 7.96l-1.37-1.37c-.4-.4-.92-.59-1.43-.59-.52 0-1.04.2-1.43.59L10.3 9.45l-7.72 7.72c-.78.78-.78 2.05 0 2.83L4 21.41c.39.39.9.59 1.41.59.51 0 1.02-.2 1.41-.59l7.78-7.78 2.81-2.81c.8-.78.8-2.07 0-2.86zM5.41 20L4 18.59l7.72-7.72 1.47 1.35L5.41 20z\"/>\n",
              "  </svg>\n",
              "      </button>\n",
              "      \n",
              "  <style>\n",
              "    .colab-df-container {\n",
              "      display:flex;\n",
              "      flex-wrap:wrap;\n",
              "      gap: 12px;\n",
              "    }\n",
              "\n",
              "    .colab-df-convert {\n",
              "      background-color: #E8F0FE;\n",
              "      border: none;\n",
              "      border-radius: 50%;\n",
              "      cursor: pointer;\n",
              "      display: none;\n",
              "      fill: #1967D2;\n",
              "      height: 32px;\n",
              "      padding: 0 0 0 0;\n",
              "      width: 32px;\n",
              "    }\n",
              "\n",
              "    .colab-df-convert:hover {\n",
              "      background-color: #E2EBFA;\n",
              "      box-shadow: 0px 1px 2px rgba(60, 64, 67, 0.3), 0px 1px 3px 1px rgba(60, 64, 67, 0.15);\n",
              "      fill: #174EA6;\n",
              "    }\n",
              "\n",
              "    [theme=dark] .colab-df-convert {\n",
              "      background-color: #3B4455;\n",
              "      fill: #D2E3FC;\n",
              "    }\n",
              "\n",
              "    [theme=dark] .colab-df-convert:hover {\n",
              "      background-color: #434B5C;\n",
              "      box-shadow: 0px 1px 3px 1px rgba(0, 0, 0, 0.15);\n",
              "      filter: drop-shadow(0px 1px 2px rgba(0, 0, 0, 0.3));\n",
              "      fill: #FFFFFF;\n",
              "    }\n",
              "  </style>\n",
              "\n",
              "      <script>\n",
              "        const buttonEl =\n",
              "          document.querySelector('#df-63d778a0-8400-483a-8f1b-234209e23f82 button.colab-df-convert');\n",
              "        buttonEl.style.display =\n",
              "          google.colab.kernel.accessAllowed ? 'block' : 'none';\n",
              "\n",
              "        async function convertToInteractive(key) {\n",
              "          const element = document.querySelector('#df-63d778a0-8400-483a-8f1b-234209e23f82');\n",
              "          const dataTable =\n",
              "            await google.colab.kernel.invokeFunction('convertToInteractive',\n",
              "                                                     [key], {});\n",
              "          if (!dataTable) return;\n",
              "\n",
              "          const docLinkHtml = 'Like what you see? Visit the ' +\n",
              "            '<a target=\"_blank\" href=https://colab.research.google.com/notebooks/data_table.ipynb>data table notebook</a>'\n",
              "            + ' to learn more about interactive tables.';\n",
              "          element.innerHTML = '';\n",
              "          dataTable['output_type'] = 'display_data';\n",
              "          await google.colab.output.renderOutput(dataTable, element);\n",
              "          const docLink = document.createElement('div');\n",
              "          docLink.innerHTML = docLinkHtml;\n",
              "          element.appendChild(docLink);\n",
              "        }\n",
              "      </script>\n",
              "    </div>\n",
              "  </div>\n",
              "  "
            ]
          },
          "metadata": {},
          "execution_count": 307
        }
      ]
    },
    {
      "cell_type": "code",
      "source": [
        "#Our top feature in descending order\n",
        "importance_df.sort_values(by=['Feature Importance'],ascending=False)"
      ],
      "metadata": {
        "colab": {
          "base_uri": "https://localhost:8080/",
          "height": 425
        },
        "id": "iJXnmGQCDY1f",
        "outputId": "e2393d49-09f7-4e22-8979-53bf1419e86a"
      },
      "execution_count": 308,
      "outputs": [
        {
          "output_type": "execute_result",
          "data": {
            "text/plain": [
              "                                        Feature  Feature Importance\n",
              "5                                Vehicle_Damage                0.35\n",
              "4                            Previously_Insured                0.32\n",
              "1                                           Age                0.10\n",
              "7                          Policy_Sales_Channel                0.06\n",
              "9              Vehicle_Age_Vehicle under 1 year                0.05\n",
              "3                                   Region_Code                0.03\n",
              "6                                Annual_Premium                0.03\n",
              "8                                       Vintage                0.03\n",
              "10           Vehicle_Age_Vehicle under 1-2 year                0.02\n",
              "0                                        Gender                0.00\n",
              "2                               Driving_License                0.00\n",
              "11  Vehicle_Age_Vehicle under more than 2 years                0.00"
            ],
            "text/html": [
              "\n",
              "  <div id=\"df-dc1d41f7-8635-488d-9932-42d71f9d1e1e\">\n",
              "    <div class=\"colab-df-container\">\n",
              "      <div>\n",
              "<style scoped>\n",
              "    .dataframe tbody tr th:only-of-type {\n",
              "        vertical-align: middle;\n",
              "    }\n",
              "\n",
              "    .dataframe tbody tr th {\n",
              "        vertical-align: top;\n",
              "    }\n",
              "\n",
              "    .dataframe thead th {\n",
              "        text-align: right;\n",
              "    }\n",
              "</style>\n",
              "<table border=\"1\" class=\"dataframe\">\n",
              "  <thead>\n",
              "    <tr style=\"text-align: right;\">\n",
              "      <th></th>\n",
              "      <th>Feature</th>\n",
              "      <th>Feature Importance</th>\n",
              "    </tr>\n",
              "  </thead>\n",
              "  <tbody>\n",
              "    <tr>\n",
              "      <th>5</th>\n",
              "      <td>Vehicle_Damage</td>\n",
              "      <td>0.35</td>\n",
              "    </tr>\n",
              "    <tr>\n",
              "      <th>4</th>\n",
              "      <td>Previously_Insured</td>\n",
              "      <td>0.32</td>\n",
              "    </tr>\n",
              "    <tr>\n",
              "      <th>1</th>\n",
              "      <td>Age</td>\n",
              "      <td>0.10</td>\n",
              "    </tr>\n",
              "    <tr>\n",
              "      <th>7</th>\n",
              "      <td>Policy_Sales_Channel</td>\n",
              "      <td>0.06</td>\n",
              "    </tr>\n",
              "    <tr>\n",
              "      <th>9</th>\n",
              "      <td>Vehicle_Age_Vehicle under 1 year</td>\n",
              "      <td>0.05</td>\n",
              "    </tr>\n",
              "    <tr>\n",
              "      <th>3</th>\n",
              "      <td>Region_Code</td>\n",
              "      <td>0.03</td>\n",
              "    </tr>\n",
              "    <tr>\n",
              "      <th>6</th>\n",
              "      <td>Annual_Premium</td>\n",
              "      <td>0.03</td>\n",
              "    </tr>\n",
              "    <tr>\n",
              "      <th>8</th>\n",
              "      <td>Vintage</td>\n",
              "      <td>0.03</td>\n",
              "    </tr>\n",
              "    <tr>\n",
              "      <th>10</th>\n",
              "      <td>Vehicle_Age_Vehicle under 1-2 year</td>\n",
              "      <td>0.02</td>\n",
              "    </tr>\n",
              "    <tr>\n",
              "      <th>0</th>\n",
              "      <td>Gender</td>\n",
              "      <td>0.00</td>\n",
              "    </tr>\n",
              "    <tr>\n",
              "      <th>2</th>\n",
              "      <td>Driving_License</td>\n",
              "      <td>0.00</td>\n",
              "    </tr>\n",
              "    <tr>\n",
              "      <th>11</th>\n",
              "      <td>Vehicle_Age_Vehicle under more than 2 years</td>\n",
              "      <td>0.00</td>\n",
              "    </tr>\n",
              "  </tbody>\n",
              "</table>\n",
              "</div>\n",
              "      <button class=\"colab-df-convert\" onclick=\"convertToInteractive('df-dc1d41f7-8635-488d-9932-42d71f9d1e1e')\"\n",
              "              title=\"Convert this dataframe to an interactive table.\"\n",
              "              style=\"display:none;\">\n",
              "        \n",
              "  <svg xmlns=\"http://www.w3.org/2000/svg\" height=\"24px\"viewBox=\"0 0 24 24\"\n",
              "       width=\"24px\">\n",
              "    <path d=\"M0 0h24v24H0V0z\" fill=\"none\"/>\n",
              "    <path d=\"M18.56 5.44l.94 2.06.94-2.06 2.06-.94-2.06-.94-.94-2.06-.94 2.06-2.06.94zm-11 1L8.5 8.5l.94-2.06 2.06-.94-2.06-.94L8.5 2.5l-.94 2.06-2.06.94zm10 10l.94 2.06.94-2.06 2.06-.94-2.06-.94-.94-2.06-.94 2.06-2.06.94z\"/><path d=\"M17.41 7.96l-1.37-1.37c-.4-.4-.92-.59-1.43-.59-.52 0-1.04.2-1.43.59L10.3 9.45l-7.72 7.72c-.78.78-.78 2.05 0 2.83L4 21.41c.39.39.9.59 1.41.59.51 0 1.02-.2 1.41-.59l7.78-7.78 2.81-2.81c.8-.78.8-2.07 0-2.86zM5.41 20L4 18.59l7.72-7.72 1.47 1.35L5.41 20z\"/>\n",
              "  </svg>\n",
              "      </button>\n",
              "      \n",
              "  <style>\n",
              "    .colab-df-container {\n",
              "      display:flex;\n",
              "      flex-wrap:wrap;\n",
              "      gap: 12px;\n",
              "    }\n",
              "\n",
              "    .colab-df-convert {\n",
              "      background-color: #E8F0FE;\n",
              "      border: none;\n",
              "      border-radius: 50%;\n",
              "      cursor: pointer;\n",
              "      display: none;\n",
              "      fill: #1967D2;\n",
              "      height: 32px;\n",
              "      padding: 0 0 0 0;\n",
              "      width: 32px;\n",
              "    }\n",
              "\n",
              "    .colab-df-convert:hover {\n",
              "      background-color: #E2EBFA;\n",
              "      box-shadow: 0px 1px 2px rgba(60, 64, 67, 0.3), 0px 1px 3px 1px rgba(60, 64, 67, 0.15);\n",
              "      fill: #174EA6;\n",
              "    }\n",
              "\n",
              "    [theme=dark] .colab-df-convert {\n",
              "      background-color: #3B4455;\n",
              "      fill: #D2E3FC;\n",
              "    }\n",
              "\n",
              "    [theme=dark] .colab-df-convert:hover {\n",
              "      background-color: #434B5C;\n",
              "      box-shadow: 0px 1px 3px 1px rgba(0, 0, 0, 0.15);\n",
              "      filter: drop-shadow(0px 1px 2px rgba(0, 0, 0, 0.3));\n",
              "      fill: #FFFFFF;\n",
              "    }\n",
              "  </style>\n",
              "\n",
              "      <script>\n",
              "        const buttonEl =\n",
              "          document.querySelector('#df-dc1d41f7-8635-488d-9932-42d71f9d1e1e button.colab-df-convert');\n",
              "        buttonEl.style.display =\n",
              "          google.colab.kernel.accessAllowed ? 'block' : 'none';\n",
              "\n",
              "        async function convertToInteractive(key) {\n",
              "          const element = document.querySelector('#df-dc1d41f7-8635-488d-9932-42d71f9d1e1e');\n",
              "          const dataTable =\n",
              "            await google.colab.kernel.invokeFunction('convertToInteractive',\n",
              "                                                     [key], {});\n",
              "          if (!dataTable) return;\n",
              "\n",
              "          const docLinkHtml = 'Like what you see? Visit the ' +\n",
              "            '<a target=\"_blank\" href=https://colab.research.google.com/notebooks/data_table.ipynb>data table notebook</a>'\n",
              "            + ' to learn more about interactive tables.';\n",
              "          element.innerHTML = '';\n",
              "          dataTable['output_type'] = 'display_data';\n",
              "          await google.colab.output.renderOutput(dataTable, element);\n",
              "          const docLink = document.createElement('div');\n",
              "          docLink.innerHTML = docLinkHtml;\n",
              "          element.appendChild(docLink);\n",
              "        }\n",
              "      </script>\n",
              "    </div>\n",
              "  </div>\n",
              "  "
            ]
          },
          "metadata": {},
          "execution_count": 308
        }
      ]
    },
    {
      "cell_type": "markdown",
      "source": [
        "# Conclusion:"
      ],
      "metadata": {
        "id": "KDwk4i3QKJ2C"
      }
    },
    {
      "cell_type": "markdown",
      "source": [
        "Alas! We have reached the end of our notebook.\n",
        "\n",
        "Starting with loading the data so far we have done EDA , null values treatment, dropping unnecessory columns, outliers handling, visualization, knowing the distribution, feature engineering,Applying some sampling technique(US, OS and SMOTE), model making, finalizing our best model and then we do some hyperparameter tuning also.\n",
        "\n",
        "The Random Forest Classifier was the best model when compared with rest all models for this data set. For all the models This Classifier worked the best because it prevents the data from overfitting and plus it predicted very well based on all the features which is important.\n",
        "\n",
        "**It gives 0.99 accuracy on train and around 0.95 Accuracy on test data which can be good enough.**\n",
        "\n",
        "##Key points:\n",
        "\n",
        "\n",
        "1. we have some gender gap that female is less intrested than male for getting insurance for their vehicle.\n",
        "2. the customer who already secured their vehicle, are clearly not inrested in our company's vehicle insurance scheme.\n",
        "3. we can observe that the policyholders who has 1-2 year age's vehicle, are more intrested than other policyholders specially from those who have vehicle older than two years.\n",
        "4. Policyholders whose vehicle damaged in past are more intrested than those whose vehicles are not damaged in the past.\n",
        "\n",
        "##Improvements:\n",
        "\n",
        "1. we can remove this gender gap by advertising marketing strategy.\n",
        "2. we can clearly see that we have more customers who doesn't have any insurance for their vehicle so we can easily target them by directly for our campaign.\n",
        "3. we can say that we have less number of policyholders who has vehicle older than 2 years so we have to focus more on other two category (1-2 years and >1 year). \n",
        "\n",
        " But as we all know vehicle insurance for 1st year are mostly provided by sales agency itself so we have to target these sales agency also and we can gives best incentives to agency for break-down competition in the market.\n",
        "\n",
        "4. As we saw that we have nearly equal policyholders for both vehicle damage status. so we can target those policyholders whose vehicles are damaged in past.\n",
        "\n",
        "\n"
      ],
      "metadata": {
        "id": "XDUI79J8ZJ9F"
      }
    },
    {
      "cell_type": "markdown",
      "source": [
        "# Future Work\n",
        "We can do some more Hyperparameter tuning as it's accurcy can be improve further and we can do this tuning for the other top 2 models also\n",
        "\n",
        "That's all..!!"
      ],
      "metadata": {
        "id": "NOjGI49KafV-"
      }
    }
  ],
  "metadata": {
    "colab": {
      "collapsed_sections": [],
      "name": "Individual Health Insurance Cross Sell Prediction.ipynb",
      "provenance": []
    },
    "kernelspec": {
      "display_name": "Python 3",
      "name": "python3"
    },
    "language_info": {
      "name": "python"
    }
  },
  "nbformat": 4,
  "nbformat_minor": 0
}