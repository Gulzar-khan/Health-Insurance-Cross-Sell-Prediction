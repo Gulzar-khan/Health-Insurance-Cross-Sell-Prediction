{
  "cells": [
    {
      "cell_type": "markdown",
      "metadata": {
        "id": "LGcl5Bv9ed6u"
      },
      "source": [
        "# **Problem Statement**"
      ]
    },
    {
      "cell_type": "markdown",
      "metadata": {
        "id": "jJAmGx75jJk1"
      },
      "source": [
        "Our client is an Insurance company that has provided Health Insurance to its customers now they need your help in building a model to predict whether the policyholders (customers) from past year will also be interested in Vehicle Insurance provided by the company.\n",
        "\n",
        "An insurance policy is an arrangement by which a company undertakes to provide a guarantee of compensation for specified loss, damage, illness, or death in return for the payment of a specified premium. A premium is a sum of money that the customer needs to pay regularly to an insurance company for this guarantee.\n",
        "\n",
        "For example, you may pay a premium of Rs. 5000 each year for a health insurance cover of Rs. 200,000/- so that if, God forbid, you fall ill and need to be hospitalised in that year, the insurance provider company will bear the cost of hospitalisation etc. for upto Rs. 200,000. Now if you are wondering how can company bear such high hospitalisation cost when it charges a premium of only Rs. 5000/-, that is where the concept of probabilities comes in picture. For example, like you, there may be 100 customers who would be paying a premium of Rs. 5000 every year, but only a few of them (say 2-3) would get hospitalised that year and not everyone. This way everyone shares the risk of everyone else.\n",
        "\n",
        "Just like medical insurance, there is vehicle insurance where every year customer needs to pay a premium of certain amount to insurance provider company so that in case of unfortunate accident by the vehicle, the insurance provider company will provide a compensation (called ‘sum assured’) to the customer.\n",
        "\n",
        "Building a model to predict whether a customer would be interested in Vehicle Insurance is extremely helpful for the company because it can then accordingly plan its communication strategy to reach out to those customers and optimise its business model and revenue.\n",
        "\n",
        "Now, in order to predict, whether the customer would be interested in Vehicle insurance, you have information about demographics (gender, age, region code type), Vehicles (Vehicle Age, Damage), Policy (Premium, sourcing channel) etc."
      ]
    },
    {
      "cell_type": "markdown",
      "metadata": {
        "id": "AzGDqdC4fZ-b"
      },
      "source": [
        "# **Attribute Information**"
      ]
    },
    {
      "cell_type": "markdown",
      "metadata": {
        "id": "oEJxl68MjYbs"
      },
      "source": [
        "1. id :\tUnique ID for the customer\n",
        "\n",
        "2. Gender\t: Gender of the customer\n",
        "\n",
        "3. Age :\tAge of the customer\n",
        "\n",
        "4. Driving_License\t0 : Customer does not have DL, 1 : Customer already has DL\n",
        "\n",
        "5. Region_Code :\tUnique code for the region of the customer\n",
        "\n",
        "6. Previously_Insured\t: 1 : Customer already has Vehicle Insurance, 0 : Customer doesn't have Vehicle Insurance\n",
        "\n",
        "7. Vehicle_Age :\tAge of the Vehicle\n",
        "\n",
        "8. Vehicle_Damage\t :1 : Customer got his/her vehicle damaged in the past. 0 : Customer didn't get his/her vehicle damaged in the past.\n",
        "\n",
        "9. Annual_Premium\t: The amount customer needs to pay as premium in the year\n",
        "\n",
        "10. PolicySalesChannel :\tAnonymized Code for the channel of outreaching to the customer ie. Different Agents, Over Mail, Over Phone, In Person, etc.\n",
        "\n",
        "11. Vintage :\tNumber of Days, Customer has been associated with the company\n",
        "\n",
        "12. Response :\t1 : Customer is interested, 0 : Customer is not interested"
      ]
    },
    {
      "cell_type": "code",
      "source": [
        "pip install scikit-optimize "
      ],
      "metadata": {
        "colab": {
          "base_uri": "https://localhost:8080/"
        },
        "id": "7rZDU73HUuFs",
        "outputId": "503ccf47-bcb5-47b9-c748-f19de0624479"
      },
      "execution_count": 2,
      "outputs": [
        {
          "output_type": "stream",
          "name": "stdout",
          "text": [
            "Looking in indexes: https://pypi.org/simple, https://us-python.pkg.dev/colab-wheels/public/simple/\n",
            "Collecting scikit-optimize\n",
            "  Downloading scikit_optimize-0.9.0-py2.py3-none-any.whl (100 kB)\n",
            "\u001b[K     |████████████████████████████████| 100 kB 6.6 MB/s \n",
            "\u001b[?25hRequirement already satisfied: numpy>=1.13.3 in /usr/local/lib/python3.7/dist-packages (from scikit-optimize) (1.21.6)\n",
            "Requirement already satisfied: joblib>=0.11 in /usr/local/lib/python3.7/dist-packages (from scikit-optimize) (1.1.0)\n",
            "Collecting pyaml>=16.9\n",
            "  Downloading pyaml-21.10.1-py2.py3-none-any.whl (24 kB)\n",
            "Requirement already satisfied: scipy>=0.19.1 in /usr/local/lib/python3.7/dist-packages (from scikit-optimize) (1.5.4)\n",
            "Requirement already satisfied: scikit-learn>=0.20.0 in /usr/local/lib/python3.7/dist-packages (from scikit-optimize) (1.0.2)\n",
            "Requirement already satisfied: PyYAML in /usr/local/lib/python3.7/dist-packages (from pyaml>=16.9->scikit-optimize) (3.13)\n",
            "Requirement already satisfied: threadpoolctl>=2.0.0 in /usr/local/lib/python3.7/dist-packages (from scikit-learn>=0.20.0->scikit-optimize) (3.1.0)\n",
            "Installing collected packages: pyaml, scikit-optimize\n",
            "Successfully installed pyaml-21.10.1 scikit-optimize-0.9.0\n"
          ]
        }
      ]
    },
    {
      "cell_type": "code",
      "execution_count": 3,
      "metadata": {
        "id": "wSBUEfh_0bqE"
      },
      "outputs": [],
      "source": [
        "import pandas as pd\n",
        "import numpy as np\n",
        "\n",
        "from sklearn.model_selection import train_test_split,cross_val_score\n",
        "from sklearn.preprocessing import MinMaxScaler, LabelEncoder, StandardScaler\n",
        "\n",
        "from sklearn.linear_model import Perceptron\n",
        "from sklearn.ensemble import RandomForestClassifier, GradientBoostingClassifier, AdaBoostClassifier\n",
        "from sklearn.linear_model import LogisticRegression\n",
        "from sklearn.naive_bayes import GaussianNB, BernoulliNB\n",
        "from sklearn.neighbors import KNeighborsClassifier\n",
        "from sklearn.svm import SVC\n",
        "from xgboost import XGBClassifier, plot_importance\n",
        "from sklearn.tree import DecisionTreeClassifier\n",
        "import lightgbm as ltb\n",
        "from skopt import BayesSearchCV\n",
        "from imblearn.over_sampling import SMOTE\n",
        "\n",
        "import time\n",
        "from math import sqrt\n",
        "from sklearn.metrics import mean_squared_error\n",
        "from sklearn import metrics\n",
        "from sklearn.metrics import precision_score\n",
        "from sklearn.metrics import recall_score\n",
        "from sklearn.metrics import f1_score\n",
        "from sklearn.metrics import roc_auc_score\n",
        "from sklearn.metrics import accuracy_score, classification_report, confusion_matrix\n",
        "from skopt.space import Real, Categorical, Integer\n",
        "\n",
        "import matplotlib.pyplot as mp\n",
        "import seaborn as sns"
      ]
    },
    {
      "cell_type": "markdown",
      "metadata": {
        "id": "NaQfMJG_1Ckp"
      },
      "source": [
        "Import Data"
      ]
    },
    {
      "cell_type": "code",
      "execution_count": 4,
      "metadata": {
        "colab": {
          "base_uri": "https://localhost:8080/"
        },
        "id": "LeaA22ax0gAX",
        "outputId": "988dc6cf-cc67-48de-9b4c-8365f4d322ae"
      },
      "outputs": [
        {
          "output_type": "stream",
          "name": "stdout",
          "text": [
            "Mounted at /content/drive\n"
          ]
        }
      ],
      "source": [
        "from google.colab import drive\n",
        "drive.mount('/content/drive')"
      ]
    },
    {
      "cell_type": "code",
      "execution_count": 5,
      "metadata": {
        "id": "WUD7JMpP0e-w"
      },
      "outputs": [],
      "source": [
        "df_of_health=pd.read_csv('/content/drive/MyDrive/Colab Notebooks/Almabetter/ML/project 2/TRAIN-HEALTH INSURANCE CROSS SELL PREDICTION.csv')"
      ]
    },
    {
      "cell_type": "code",
      "execution_count": 6,
      "metadata": {
        "id": "mYxgIZCS0gqj"
      },
      "outputs": [],
      "source": [
        "#Make a copy of original data\n",
        "df=df_of_health.copy()"
      ]
    },
    {
      "cell_type": "code",
      "execution_count": 7,
      "metadata": {
        "colab": {
          "base_uri": "https://localhost:8080/",
          "height": 487
        },
        "id": "TBcDyzO51Pz8",
        "outputId": "53c12223-9c4a-48ce-bac4-52f1d4ef923c"
      },
      "outputs": [
        {
          "output_type": "execute_result",
          "data": {
            "text/plain": [
              "            id  Gender  Age  Driving_License  Region_Code  Previously_Insured  \\\n",
              "0            1    Male   44                1         28.0                   0   \n",
              "1            2    Male   76                1          3.0                   0   \n",
              "2            3    Male   47                1         28.0                   0   \n",
              "3            4    Male   21                1         11.0                   1   \n",
              "4            5  Female   29                1         41.0                   1   \n",
              "...        ...     ...  ...              ...          ...                 ...   \n",
              "381104  381105    Male   74                1         26.0                   1   \n",
              "381105  381106    Male   30                1         37.0                   1   \n",
              "381106  381107    Male   21                1         30.0                   1   \n",
              "381107  381108  Female   68                1         14.0                   0   \n",
              "381108  381109    Male   46                1         29.0                   0   \n",
              "\n",
              "       Vehicle_Age Vehicle_Damage  Annual_Premium  Policy_Sales_Channel  \\\n",
              "0        > 2 Years            Yes         40454.0                  26.0   \n",
              "1         1-2 Year             No         33536.0                  26.0   \n",
              "2        > 2 Years            Yes         38294.0                  26.0   \n",
              "3         < 1 Year             No         28619.0                 152.0   \n",
              "4         < 1 Year             No         27496.0                 152.0   \n",
              "...            ...            ...             ...                   ...   \n",
              "381104    1-2 Year             No         30170.0                  26.0   \n",
              "381105    < 1 Year             No         40016.0                 152.0   \n",
              "381106    < 1 Year             No         35118.0                 160.0   \n",
              "381107   > 2 Years            Yes         44617.0                 124.0   \n",
              "381108    1-2 Year             No         41777.0                  26.0   \n",
              "\n",
              "        Vintage  Response  \n",
              "0           217         1  \n",
              "1           183         0  \n",
              "2            27         1  \n",
              "3           203         0  \n",
              "4            39         0  \n",
              "...         ...       ...  \n",
              "381104       88         0  \n",
              "381105      131         0  \n",
              "381106      161         0  \n",
              "381107       74         0  \n",
              "381108      237         0  \n",
              "\n",
              "[381109 rows x 12 columns]"
            ],
            "text/html": [
              "\n",
              "  <div id=\"df-912cce45-33ad-4423-a7b5-29cec9c7d59d\">\n",
              "    <div class=\"colab-df-container\">\n",
              "      <div>\n",
              "<style scoped>\n",
              "    .dataframe tbody tr th:only-of-type {\n",
              "        vertical-align: middle;\n",
              "    }\n",
              "\n",
              "    .dataframe tbody tr th {\n",
              "        vertical-align: top;\n",
              "    }\n",
              "\n",
              "    .dataframe thead th {\n",
              "        text-align: right;\n",
              "    }\n",
              "</style>\n",
              "<table border=\"1\" class=\"dataframe\">\n",
              "  <thead>\n",
              "    <tr style=\"text-align: right;\">\n",
              "      <th></th>\n",
              "      <th>id</th>\n",
              "      <th>Gender</th>\n",
              "      <th>Age</th>\n",
              "      <th>Driving_License</th>\n",
              "      <th>Region_Code</th>\n",
              "      <th>Previously_Insured</th>\n",
              "      <th>Vehicle_Age</th>\n",
              "      <th>Vehicle_Damage</th>\n",
              "      <th>Annual_Premium</th>\n",
              "      <th>Policy_Sales_Channel</th>\n",
              "      <th>Vintage</th>\n",
              "      <th>Response</th>\n",
              "    </tr>\n",
              "  </thead>\n",
              "  <tbody>\n",
              "    <tr>\n",
              "      <th>0</th>\n",
              "      <td>1</td>\n",
              "      <td>Male</td>\n",
              "      <td>44</td>\n",
              "      <td>1</td>\n",
              "      <td>28.0</td>\n",
              "      <td>0</td>\n",
              "      <td>&gt; 2 Years</td>\n",
              "      <td>Yes</td>\n",
              "      <td>40454.0</td>\n",
              "      <td>26.0</td>\n",
              "      <td>217</td>\n",
              "      <td>1</td>\n",
              "    </tr>\n",
              "    <tr>\n",
              "      <th>1</th>\n",
              "      <td>2</td>\n",
              "      <td>Male</td>\n",
              "      <td>76</td>\n",
              "      <td>1</td>\n",
              "      <td>3.0</td>\n",
              "      <td>0</td>\n",
              "      <td>1-2 Year</td>\n",
              "      <td>No</td>\n",
              "      <td>33536.0</td>\n",
              "      <td>26.0</td>\n",
              "      <td>183</td>\n",
              "      <td>0</td>\n",
              "    </tr>\n",
              "    <tr>\n",
              "      <th>2</th>\n",
              "      <td>3</td>\n",
              "      <td>Male</td>\n",
              "      <td>47</td>\n",
              "      <td>1</td>\n",
              "      <td>28.0</td>\n",
              "      <td>0</td>\n",
              "      <td>&gt; 2 Years</td>\n",
              "      <td>Yes</td>\n",
              "      <td>38294.0</td>\n",
              "      <td>26.0</td>\n",
              "      <td>27</td>\n",
              "      <td>1</td>\n",
              "    </tr>\n",
              "    <tr>\n",
              "      <th>3</th>\n",
              "      <td>4</td>\n",
              "      <td>Male</td>\n",
              "      <td>21</td>\n",
              "      <td>1</td>\n",
              "      <td>11.0</td>\n",
              "      <td>1</td>\n",
              "      <td>&lt; 1 Year</td>\n",
              "      <td>No</td>\n",
              "      <td>28619.0</td>\n",
              "      <td>152.0</td>\n",
              "      <td>203</td>\n",
              "      <td>0</td>\n",
              "    </tr>\n",
              "    <tr>\n",
              "      <th>4</th>\n",
              "      <td>5</td>\n",
              "      <td>Female</td>\n",
              "      <td>29</td>\n",
              "      <td>1</td>\n",
              "      <td>41.0</td>\n",
              "      <td>1</td>\n",
              "      <td>&lt; 1 Year</td>\n",
              "      <td>No</td>\n",
              "      <td>27496.0</td>\n",
              "      <td>152.0</td>\n",
              "      <td>39</td>\n",
              "      <td>0</td>\n",
              "    </tr>\n",
              "    <tr>\n",
              "      <th>...</th>\n",
              "      <td>...</td>\n",
              "      <td>...</td>\n",
              "      <td>...</td>\n",
              "      <td>...</td>\n",
              "      <td>...</td>\n",
              "      <td>...</td>\n",
              "      <td>...</td>\n",
              "      <td>...</td>\n",
              "      <td>...</td>\n",
              "      <td>...</td>\n",
              "      <td>...</td>\n",
              "      <td>...</td>\n",
              "    </tr>\n",
              "    <tr>\n",
              "      <th>381104</th>\n",
              "      <td>381105</td>\n",
              "      <td>Male</td>\n",
              "      <td>74</td>\n",
              "      <td>1</td>\n",
              "      <td>26.0</td>\n",
              "      <td>1</td>\n",
              "      <td>1-2 Year</td>\n",
              "      <td>No</td>\n",
              "      <td>30170.0</td>\n",
              "      <td>26.0</td>\n",
              "      <td>88</td>\n",
              "      <td>0</td>\n",
              "    </tr>\n",
              "    <tr>\n",
              "      <th>381105</th>\n",
              "      <td>381106</td>\n",
              "      <td>Male</td>\n",
              "      <td>30</td>\n",
              "      <td>1</td>\n",
              "      <td>37.0</td>\n",
              "      <td>1</td>\n",
              "      <td>&lt; 1 Year</td>\n",
              "      <td>No</td>\n",
              "      <td>40016.0</td>\n",
              "      <td>152.0</td>\n",
              "      <td>131</td>\n",
              "      <td>0</td>\n",
              "    </tr>\n",
              "    <tr>\n",
              "      <th>381106</th>\n",
              "      <td>381107</td>\n",
              "      <td>Male</td>\n",
              "      <td>21</td>\n",
              "      <td>1</td>\n",
              "      <td>30.0</td>\n",
              "      <td>1</td>\n",
              "      <td>&lt; 1 Year</td>\n",
              "      <td>No</td>\n",
              "      <td>35118.0</td>\n",
              "      <td>160.0</td>\n",
              "      <td>161</td>\n",
              "      <td>0</td>\n",
              "    </tr>\n",
              "    <tr>\n",
              "      <th>381107</th>\n",
              "      <td>381108</td>\n",
              "      <td>Female</td>\n",
              "      <td>68</td>\n",
              "      <td>1</td>\n",
              "      <td>14.0</td>\n",
              "      <td>0</td>\n",
              "      <td>&gt; 2 Years</td>\n",
              "      <td>Yes</td>\n",
              "      <td>44617.0</td>\n",
              "      <td>124.0</td>\n",
              "      <td>74</td>\n",
              "      <td>0</td>\n",
              "    </tr>\n",
              "    <tr>\n",
              "      <th>381108</th>\n",
              "      <td>381109</td>\n",
              "      <td>Male</td>\n",
              "      <td>46</td>\n",
              "      <td>1</td>\n",
              "      <td>29.0</td>\n",
              "      <td>0</td>\n",
              "      <td>1-2 Year</td>\n",
              "      <td>No</td>\n",
              "      <td>41777.0</td>\n",
              "      <td>26.0</td>\n",
              "      <td>237</td>\n",
              "      <td>0</td>\n",
              "    </tr>\n",
              "  </tbody>\n",
              "</table>\n",
              "<p>381109 rows × 12 columns</p>\n",
              "</div>\n",
              "      <button class=\"colab-df-convert\" onclick=\"convertToInteractive('df-912cce45-33ad-4423-a7b5-29cec9c7d59d')\"\n",
              "              title=\"Convert this dataframe to an interactive table.\"\n",
              "              style=\"display:none;\">\n",
              "        \n",
              "  <svg xmlns=\"http://www.w3.org/2000/svg\" height=\"24px\"viewBox=\"0 0 24 24\"\n",
              "       width=\"24px\">\n",
              "    <path d=\"M0 0h24v24H0V0z\" fill=\"none\"/>\n",
              "    <path d=\"M18.56 5.44l.94 2.06.94-2.06 2.06-.94-2.06-.94-.94-2.06-.94 2.06-2.06.94zm-11 1L8.5 8.5l.94-2.06 2.06-.94-2.06-.94L8.5 2.5l-.94 2.06-2.06.94zm10 10l.94 2.06.94-2.06 2.06-.94-2.06-.94-.94-2.06-.94 2.06-2.06.94z\"/><path d=\"M17.41 7.96l-1.37-1.37c-.4-.4-.92-.59-1.43-.59-.52 0-1.04.2-1.43.59L10.3 9.45l-7.72 7.72c-.78.78-.78 2.05 0 2.83L4 21.41c.39.39.9.59 1.41.59.51 0 1.02-.2 1.41-.59l7.78-7.78 2.81-2.81c.8-.78.8-2.07 0-2.86zM5.41 20L4 18.59l7.72-7.72 1.47 1.35L5.41 20z\"/>\n",
              "  </svg>\n",
              "      </button>\n",
              "      \n",
              "  <style>\n",
              "    .colab-df-container {\n",
              "      display:flex;\n",
              "      flex-wrap:wrap;\n",
              "      gap: 12px;\n",
              "    }\n",
              "\n",
              "    .colab-df-convert {\n",
              "      background-color: #E8F0FE;\n",
              "      border: none;\n",
              "      border-radius: 50%;\n",
              "      cursor: pointer;\n",
              "      display: none;\n",
              "      fill: #1967D2;\n",
              "      height: 32px;\n",
              "      padding: 0 0 0 0;\n",
              "      width: 32px;\n",
              "    }\n",
              "\n",
              "    .colab-df-convert:hover {\n",
              "      background-color: #E2EBFA;\n",
              "      box-shadow: 0px 1px 2px rgba(60, 64, 67, 0.3), 0px 1px 3px 1px rgba(60, 64, 67, 0.15);\n",
              "      fill: #174EA6;\n",
              "    }\n",
              "\n",
              "    [theme=dark] .colab-df-convert {\n",
              "      background-color: #3B4455;\n",
              "      fill: #D2E3FC;\n",
              "    }\n",
              "\n",
              "    [theme=dark] .colab-df-convert:hover {\n",
              "      background-color: #434B5C;\n",
              "      box-shadow: 0px 1px 3px 1px rgba(0, 0, 0, 0.15);\n",
              "      filter: drop-shadow(0px 1px 2px rgba(0, 0, 0, 0.3));\n",
              "      fill: #FFFFFF;\n",
              "    }\n",
              "  </style>\n",
              "\n",
              "      <script>\n",
              "        const buttonEl =\n",
              "          document.querySelector('#df-912cce45-33ad-4423-a7b5-29cec9c7d59d button.colab-df-convert');\n",
              "        buttonEl.style.display =\n",
              "          google.colab.kernel.accessAllowed ? 'block' : 'none';\n",
              "\n",
              "        async function convertToInteractive(key) {\n",
              "          const element = document.querySelector('#df-912cce45-33ad-4423-a7b5-29cec9c7d59d');\n",
              "          const dataTable =\n",
              "            await google.colab.kernel.invokeFunction('convertToInteractive',\n",
              "                                                     [key], {});\n",
              "          if (!dataTable) return;\n",
              "\n",
              "          const docLinkHtml = 'Like what you see? Visit the ' +\n",
              "            '<a target=\"_blank\" href=https://colab.research.google.com/notebooks/data_table.ipynb>data table notebook</a>'\n",
              "            + ' to learn more about interactive tables.';\n",
              "          element.innerHTML = '';\n",
              "          dataTable['output_type'] = 'display_data';\n",
              "          await google.colab.output.renderOutput(dataTable, element);\n",
              "          const docLink = document.createElement('div');\n",
              "          docLink.innerHTML = docLinkHtml;\n",
              "          element.appendChild(docLink);\n",
              "        }\n",
              "      </script>\n",
              "    </div>\n",
              "  </div>\n",
              "  "
            ]
          },
          "metadata": {},
          "execution_count": 7
        }
      ],
      "source": [
        "df"
      ]
    },
    {
      "cell_type": "code",
      "execution_count": 8,
      "metadata": {
        "colab": {
          "base_uri": "https://localhost:8080/"
        },
        "id": "EEMbtCp41Qut",
        "outputId": "c246c137-ca57-49a9-c75d-08c6ecca1804"
      },
      "outputs": [
        {
          "output_type": "execute_result",
          "data": {
            "text/plain": [
              "(381109, 12)"
            ]
          },
          "metadata": {},
          "execution_count": 8
        }
      ],
      "source": [
        "#Knowing the shape of df\n",
        "df.shape"
      ]
    },
    {
      "cell_type": "code",
      "execution_count": 9,
      "metadata": {
        "colab": {
          "base_uri": "https://localhost:8080/"
        },
        "id": "eYR_5DLF3Uwy",
        "outputId": "4d0466c4-806c-41cc-9918-c90738e10364"
      },
      "outputs": [
        {
          "output_type": "execute_result",
          "data": {
            "text/plain": [
              "Index(['id', 'Gender', 'Age', 'Driving_License', 'Region_Code',\n",
              "       'Previously_Insured', 'Vehicle_Age', 'Vehicle_Damage', 'Annual_Premium',\n",
              "       'Policy_Sales_Channel', 'Vintage', 'Response'],\n",
              "      dtype='object')"
            ]
          },
          "metadata": {},
          "execution_count": 9
        }
      ],
      "source": [
        "#Knowing the columns of our df\n",
        "df.columns"
      ]
    },
    {
      "cell_type": "code",
      "execution_count": 10,
      "metadata": {
        "colab": {
          "base_uri": "https://localhost:8080/",
          "height": 364
        },
        "id": "vovjYRiQ14ND",
        "outputId": "1d34d8f7-6c68-4662-8d85-4d08e0e05b4e"
      },
      "outputs": [
        {
          "output_type": "execute_result",
          "data": {
            "text/plain": [
              "                  id            Age  Driving_License    Region_Code  \\\n",
              "count  381109.000000  381109.000000    381109.000000  381109.000000   \n",
              "mean   190555.000000      38.822584         0.997869      26.388807   \n",
              "std    110016.836208      15.511611         0.046110      13.229888   \n",
              "min         1.000000      20.000000         0.000000       0.000000   \n",
              "25%     95278.000000      25.000000         1.000000      15.000000   \n",
              "50%    190555.000000      36.000000         1.000000      28.000000   \n",
              "75%    285832.000000      49.000000         1.000000      35.000000   \n",
              "max    381109.000000      85.000000         1.000000      52.000000   \n",
              "\n",
              "       Previously_Insured  Annual_Premium  Policy_Sales_Channel  \\\n",
              "count       381109.000000   381109.000000         381109.000000   \n",
              "mean             0.458210    30564.389581            112.034295   \n",
              "std              0.498251    17213.155057             54.203995   \n",
              "min              0.000000     2630.000000              1.000000   \n",
              "25%              0.000000    24405.000000             29.000000   \n",
              "50%              0.000000    31669.000000            133.000000   \n",
              "75%              1.000000    39400.000000            152.000000   \n",
              "max              1.000000   540165.000000            163.000000   \n",
              "\n",
              "             Vintage       Response  \n",
              "count  381109.000000  381109.000000  \n",
              "mean      154.347397       0.122563  \n",
              "std        83.671304       0.327936  \n",
              "min        10.000000       0.000000  \n",
              "25%        82.000000       0.000000  \n",
              "50%       154.000000       0.000000  \n",
              "75%       227.000000       0.000000  \n",
              "max       299.000000       1.000000  "
            ],
            "text/html": [
              "\n",
              "  <div id=\"df-a8d1c6ed-a468-401b-8117-bfc265a65789\">\n",
              "    <div class=\"colab-df-container\">\n",
              "      <div>\n",
              "<style scoped>\n",
              "    .dataframe tbody tr th:only-of-type {\n",
              "        vertical-align: middle;\n",
              "    }\n",
              "\n",
              "    .dataframe tbody tr th {\n",
              "        vertical-align: top;\n",
              "    }\n",
              "\n",
              "    .dataframe thead th {\n",
              "        text-align: right;\n",
              "    }\n",
              "</style>\n",
              "<table border=\"1\" class=\"dataframe\">\n",
              "  <thead>\n",
              "    <tr style=\"text-align: right;\">\n",
              "      <th></th>\n",
              "      <th>id</th>\n",
              "      <th>Age</th>\n",
              "      <th>Driving_License</th>\n",
              "      <th>Region_Code</th>\n",
              "      <th>Previously_Insured</th>\n",
              "      <th>Annual_Premium</th>\n",
              "      <th>Policy_Sales_Channel</th>\n",
              "      <th>Vintage</th>\n",
              "      <th>Response</th>\n",
              "    </tr>\n",
              "  </thead>\n",
              "  <tbody>\n",
              "    <tr>\n",
              "      <th>count</th>\n",
              "      <td>381109.000000</td>\n",
              "      <td>381109.000000</td>\n",
              "      <td>381109.000000</td>\n",
              "      <td>381109.000000</td>\n",
              "      <td>381109.000000</td>\n",
              "      <td>381109.000000</td>\n",
              "      <td>381109.000000</td>\n",
              "      <td>381109.000000</td>\n",
              "      <td>381109.000000</td>\n",
              "    </tr>\n",
              "    <tr>\n",
              "      <th>mean</th>\n",
              "      <td>190555.000000</td>\n",
              "      <td>38.822584</td>\n",
              "      <td>0.997869</td>\n",
              "      <td>26.388807</td>\n",
              "      <td>0.458210</td>\n",
              "      <td>30564.389581</td>\n",
              "      <td>112.034295</td>\n",
              "      <td>154.347397</td>\n",
              "      <td>0.122563</td>\n",
              "    </tr>\n",
              "    <tr>\n",
              "      <th>std</th>\n",
              "      <td>110016.836208</td>\n",
              "      <td>15.511611</td>\n",
              "      <td>0.046110</td>\n",
              "      <td>13.229888</td>\n",
              "      <td>0.498251</td>\n",
              "      <td>17213.155057</td>\n",
              "      <td>54.203995</td>\n",
              "      <td>83.671304</td>\n",
              "      <td>0.327936</td>\n",
              "    </tr>\n",
              "    <tr>\n",
              "      <th>min</th>\n",
              "      <td>1.000000</td>\n",
              "      <td>20.000000</td>\n",
              "      <td>0.000000</td>\n",
              "      <td>0.000000</td>\n",
              "      <td>0.000000</td>\n",
              "      <td>2630.000000</td>\n",
              "      <td>1.000000</td>\n",
              "      <td>10.000000</td>\n",
              "      <td>0.000000</td>\n",
              "    </tr>\n",
              "    <tr>\n",
              "      <th>25%</th>\n",
              "      <td>95278.000000</td>\n",
              "      <td>25.000000</td>\n",
              "      <td>1.000000</td>\n",
              "      <td>15.000000</td>\n",
              "      <td>0.000000</td>\n",
              "      <td>24405.000000</td>\n",
              "      <td>29.000000</td>\n",
              "      <td>82.000000</td>\n",
              "      <td>0.000000</td>\n",
              "    </tr>\n",
              "    <tr>\n",
              "      <th>50%</th>\n",
              "      <td>190555.000000</td>\n",
              "      <td>36.000000</td>\n",
              "      <td>1.000000</td>\n",
              "      <td>28.000000</td>\n",
              "      <td>0.000000</td>\n",
              "      <td>31669.000000</td>\n",
              "      <td>133.000000</td>\n",
              "      <td>154.000000</td>\n",
              "      <td>0.000000</td>\n",
              "    </tr>\n",
              "    <tr>\n",
              "      <th>75%</th>\n",
              "      <td>285832.000000</td>\n",
              "      <td>49.000000</td>\n",
              "      <td>1.000000</td>\n",
              "      <td>35.000000</td>\n",
              "      <td>1.000000</td>\n",
              "      <td>39400.000000</td>\n",
              "      <td>152.000000</td>\n",
              "      <td>227.000000</td>\n",
              "      <td>0.000000</td>\n",
              "    </tr>\n",
              "    <tr>\n",
              "      <th>max</th>\n",
              "      <td>381109.000000</td>\n",
              "      <td>85.000000</td>\n",
              "      <td>1.000000</td>\n",
              "      <td>52.000000</td>\n",
              "      <td>1.000000</td>\n",
              "      <td>540165.000000</td>\n",
              "      <td>163.000000</td>\n",
              "      <td>299.000000</td>\n",
              "      <td>1.000000</td>\n",
              "    </tr>\n",
              "  </tbody>\n",
              "</table>\n",
              "</div>\n",
              "      <button class=\"colab-df-convert\" onclick=\"convertToInteractive('df-a8d1c6ed-a468-401b-8117-bfc265a65789')\"\n",
              "              title=\"Convert this dataframe to an interactive table.\"\n",
              "              style=\"display:none;\">\n",
              "        \n",
              "  <svg xmlns=\"http://www.w3.org/2000/svg\" height=\"24px\"viewBox=\"0 0 24 24\"\n",
              "       width=\"24px\">\n",
              "    <path d=\"M0 0h24v24H0V0z\" fill=\"none\"/>\n",
              "    <path d=\"M18.56 5.44l.94 2.06.94-2.06 2.06-.94-2.06-.94-.94-2.06-.94 2.06-2.06.94zm-11 1L8.5 8.5l.94-2.06 2.06-.94-2.06-.94L8.5 2.5l-.94 2.06-2.06.94zm10 10l.94 2.06.94-2.06 2.06-.94-2.06-.94-.94-2.06-.94 2.06-2.06.94z\"/><path d=\"M17.41 7.96l-1.37-1.37c-.4-.4-.92-.59-1.43-.59-.52 0-1.04.2-1.43.59L10.3 9.45l-7.72 7.72c-.78.78-.78 2.05 0 2.83L4 21.41c.39.39.9.59 1.41.59.51 0 1.02-.2 1.41-.59l7.78-7.78 2.81-2.81c.8-.78.8-2.07 0-2.86zM5.41 20L4 18.59l7.72-7.72 1.47 1.35L5.41 20z\"/>\n",
              "  </svg>\n",
              "      </button>\n",
              "      \n",
              "  <style>\n",
              "    .colab-df-container {\n",
              "      display:flex;\n",
              "      flex-wrap:wrap;\n",
              "      gap: 12px;\n",
              "    }\n",
              "\n",
              "    .colab-df-convert {\n",
              "      background-color: #E8F0FE;\n",
              "      border: none;\n",
              "      border-radius: 50%;\n",
              "      cursor: pointer;\n",
              "      display: none;\n",
              "      fill: #1967D2;\n",
              "      height: 32px;\n",
              "      padding: 0 0 0 0;\n",
              "      width: 32px;\n",
              "    }\n",
              "\n",
              "    .colab-df-convert:hover {\n",
              "      background-color: #E2EBFA;\n",
              "      box-shadow: 0px 1px 2px rgba(60, 64, 67, 0.3), 0px 1px 3px 1px rgba(60, 64, 67, 0.15);\n",
              "      fill: #174EA6;\n",
              "    }\n",
              "\n",
              "    [theme=dark] .colab-df-convert {\n",
              "      background-color: #3B4455;\n",
              "      fill: #D2E3FC;\n",
              "    }\n",
              "\n",
              "    [theme=dark] .colab-df-convert:hover {\n",
              "      background-color: #434B5C;\n",
              "      box-shadow: 0px 1px 3px 1px rgba(0, 0, 0, 0.15);\n",
              "      filter: drop-shadow(0px 1px 2px rgba(0, 0, 0, 0.3));\n",
              "      fill: #FFFFFF;\n",
              "    }\n",
              "  </style>\n",
              "\n",
              "      <script>\n",
              "        const buttonEl =\n",
              "          document.querySelector('#df-a8d1c6ed-a468-401b-8117-bfc265a65789 button.colab-df-convert');\n",
              "        buttonEl.style.display =\n",
              "          google.colab.kernel.accessAllowed ? 'block' : 'none';\n",
              "\n",
              "        async function convertToInteractive(key) {\n",
              "          const element = document.querySelector('#df-a8d1c6ed-a468-401b-8117-bfc265a65789');\n",
              "          const dataTable =\n",
              "            await google.colab.kernel.invokeFunction('convertToInteractive',\n",
              "                                                     [key], {});\n",
              "          if (!dataTable) return;\n",
              "\n",
              "          const docLinkHtml = 'Like what you see? Visit the ' +\n",
              "            '<a target=\"_blank\" href=https://colab.research.google.com/notebooks/data_table.ipynb>data table notebook</a>'\n",
              "            + ' to learn more about interactive tables.';\n",
              "          element.innerHTML = '';\n",
              "          dataTable['output_type'] = 'display_data';\n",
              "          await google.colab.output.renderOutput(dataTable, element);\n",
              "          const docLink = document.createElement('div');\n",
              "          docLink.innerHTML = docLinkHtml;\n",
              "          element.appendChild(docLink);\n",
              "        }\n",
              "      </script>\n",
              "    </div>\n",
              "  </div>\n",
              "  "
            ]
          },
          "metadata": {},
          "execution_count": 10
        }
      ],
      "source": [
        "#Knowing the description of df\n",
        "df.describe()"
      ]
    },
    {
      "cell_type": "code",
      "execution_count": 11,
      "metadata": {
        "colab": {
          "base_uri": "https://localhost:8080/"
        },
        "id": "yj4jUgjS1cFA",
        "outputId": "bd10278c-15cb-4953-9ca0-09a0e594224b"
      },
      "outputs": [
        {
          "output_type": "stream",
          "name": "stdout",
          "text": [
            "<class 'pandas.core.frame.DataFrame'>\n",
            "RangeIndex: 381109 entries, 0 to 381108\n",
            "Data columns (total 12 columns):\n",
            " #   Column                Non-Null Count   Dtype  \n",
            "---  ------                --------------   -----  \n",
            " 0   id                    381109 non-null  int64  \n",
            " 1   Gender                381109 non-null  object \n",
            " 2   Age                   381109 non-null  int64  \n",
            " 3   Driving_License       381109 non-null  int64  \n",
            " 4   Region_Code           381109 non-null  float64\n",
            " 5   Previously_Insured    381109 non-null  int64  \n",
            " 6   Vehicle_Age           381109 non-null  object \n",
            " 7   Vehicle_Damage        381109 non-null  object \n",
            " 8   Annual_Premium        381109 non-null  float64\n",
            " 9   Policy_Sales_Channel  381109 non-null  float64\n",
            " 10  Vintage               381109 non-null  int64  \n",
            " 11  Response              381109 non-null  int64  \n",
            "dtypes: float64(3), int64(6), object(3)\n",
            "memory usage: 34.9+ MB\n"
          ]
        }
      ],
      "source": [
        "#knowing the information of df\n",
        "df.info()"
      ]
    },
    {
      "cell_type": "code",
      "execution_count": 12,
      "metadata": {
        "colab": {
          "base_uri": "https://localhost:8080/"
        },
        "id": "xPgwutI23Ece",
        "outputId": "a5881be5-b834-4ea2-87b1-3e963f84fd3c"
      },
      "outputs": [
        {
          "output_type": "execute_result",
          "data": {
            "text/plain": [
              "False"
            ]
          },
          "metadata": {},
          "execution_count": 12
        }
      ],
      "source": [
        "#Checking Nulls\n",
        "# print(df.isnull().sum())\n",
        "#OR\n",
        "df.isnull().values.any()"
      ]
    },
    {
      "cell_type": "markdown",
      "metadata": {
        "id": "WM0os7TQ1rNb"
      },
      "source": [
        "As we can see there is no null value in our df so no need to go for null value treatment"
      ]
    },
    {
      "cell_type": "markdown",
      "metadata": {
        "id": "md94Uu_U2dzq"
      },
      "source": [
        "Checking Duplicates"
      ]
    },
    {
      "cell_type": "code",
      "execution_count": 13,
      "metadata": {
        "colab": {
          "base_uri": "https://localhost:8080/"
        },
        "id": "A3FpA3oB2dbZ",
        "outputId": "39ac8976-bc77-45c6-df54-79de632082a2"
      },
      "outputs": [
        {
          "output_type": "execute_result",
          "data": {
            "text/plain": [
              "False"
            ]
          },
          "metadata": {},
          "execution_count": 13
        }
      ],
      "source": [
        "#checking Duplicates\n",
        "# print(df.duplicated().sum())\n",
        "#OR\n",
        "df.duplicated().values.any()\n"
      ]
    },
    {
      "cell_type": "markdown",
      "source": [
        "As we can see there is no Duplicate value in our df so no need to go for Duplicates value treatment"
      ],
      "metadata": {
        "id": "xYtdBvTUvy3u"
      }
    },
    {
      "cell_type": "markdown",
      "metadata": {
        "id": "PV88jyLfNj0a"
      },
      "source": [
        "Checking Outliers"
      ]
    },
    {
      "cell_type": "code",
      "execution_count": 14,
      "metadata": {
        "id": "vsdlOUhAOVV3"
      },
      "outputs": [],
      "source": [
        "df['Annual_Premium']=df.Annual_Premium.astype(int)"
      ]
    },
    {
      "cell_type": "markdown",
      "source": [
        "After checking all the features we've got only one column which have Outliers- 'Annual_Premium'"
      ],
      "metadata": {
        "id": "Rh_pOFH9hQRB"
      }
    },
    {
      "cell_type": "code",
      "execution_count": 15,
      "metadata": {
        "colab": {
          "base_uri": "https://localhost:8080/"
        },
        "id": "igVkTr67OjbJ",
        "outputId": "9d59629a-9e1e-4bba-e77e-6547ada14715"
      },
      "outputs": [
        {
          "output_type": "execute_result",
          "data": {
            "text/plain": [
              "pandas.core.series.Series"
            ]
          },
          "metadata": {},
          "execution_count": 15
        }
      ],
      "source": [
        "type(df['Annual_Premium'])"
      ]
    },
    {
      "cell_type": "code",
      "execution_count": 16,
      "metadata": {
        "colab": {
          "base_uri": "https://localhost:8080/",
          "height": 301
        },
        "id": "nGB031_THzSt",
        "outputId": "a2fcfa4f-c34a-441a-f3d6-05d111bbc85c"
      },
      "outputs": [
        {
          "output_type": "display_data",
          "data": {
            "text/plain": [
              "<Figure size 432x288 with 1 Axes>"
            ],
            "image/png": "[encoded data removed]"
          },
          "metadata": {
            "needs_background": "light"
          }
        }
      ],
      "source": [
        "# for i in num_col.columns:\n",
        "#   sns.boxplot(x=num_col[i])\n",
        "sns.boxplot(x=df['Annual_Premium'])\n",
        "mp.title('Checking Outliers', size=20)#title for the countplot\n",
        "mp.show()"
      ]
    },
    {
      "cell_type": "code",
      "execution_count": 17,
      "metadata": {
        "id": "4Td_WeFuJqV1"
      },
      "outputs": [],
      "source": [
        "# Creating fuction for Removing the outliers\n",
        "def removeOutliers(data, col):\n",
        "    Q3 = np.quantile(data[col], 0.75)\n",
        "    Q1 = np.quantile(data[col], 0.25)\n",
        "    IQR = Q3 - Q1\n",
        " \n",
        "    print(\"IQR value for column %s is: %s\" % (col, IQR))\n",
        "    global outlier_free_list\n",
        "    global filtered_data\n",
        " \n",
        "    lower_range = Q1 - 1.5 * IQR\n",
        "    upper_range = Q3 + 1.5 * IQR\n",
        "    outlier_free_list = [x for x in data[col] if (\n",
        "        (x > lower_range) & (x < upper_range))]\n",
        "    filtered_data = data.loc[data[col].isin(outlier_free_list)]"
      ]
    },
    {
      "cell_type": "code",
      "execution_count": 18,
      "metadata": {
        "colab": {
          "base_uri": "https://localhost:8080/",
          "height": 36
        },
        "id": "TxL5xo1hPB20",
        "outputId": "93c431ac-1ba6-4c31-ca22-9e0ac04ea0d3"
      },
      "outputs": [
        {
          "output_type": "execute_result",
          "data": {
            "text/plain": [
              "'Annual_Premium'"
            ],
            "application/vnd.google.colaboratory.intrinsic+json": {
              "type": "string"
            }
          },
          "metadata": {},
          "execution_count": 18
        }
      ],
      "source": [
        "#Find the column number\n",
        "df.columns[8]"
      ]
    },
    {
      "cell_type": "code",
      "execution_count": 19,
      "metadata": {
        "colab": {
          "base_uri": "https://localhost:8080/"
        },
        "id": "H2eCO7SHMxDR",
        "outputId": "f50aba25-e374-46ac-9afd-dcd398ff09b8"
      },
      "outputs": [
        {
          "output_type": "stream",
          "name": "stdout",
          "text": [
            "IQR value for column Annual_Premium is: 14995.0\n",
            "Shape of data after outlier removal is:  (370789, 12)\n"
          ]
        }
      ],
      "source": [
        "#Now go for Annual_Premium\n",
        "for i in df.columns:\n",
        "  if i == df.columns[8]:\n",
        "    removeOutliers(df, i) \n",
        "# Assigning filtered data back to our original variable\n",
        "df = filtered_data\n",
        "print(\"Shape of data after outlier removal is: \", df.shape)"
      ]
    },
    {
      "cell_type": "markdown",
      "metadata": {
        "id": "Yu-Dbc874cSI"
      },
      "source": [
        "Checking and visualization of our target variable- Response"
      ]
    },
    {
      "cell_type": "code",
      "execution_count": 20,
      "metadata": {
        "colab": {
          "base_uri": "https://localhost:8080/"
        },
        "id": "FXvgHn4U4g9W",
        "outputId": "25eb43ac-0651-4ff8-fc5f-cbd13f218a6f"
      },
      "outputs": [
        {
          "output_type": "execute_result",
          "data": {
            "text/plain": [
              "0    325634\n",
              "1     45155\n",
              "Name: Response, dtype: int64"
            ]
          },
          "metadata": {},
          "execution_count": 20
        }
      ],
      "source": [
        "df.Response.value_counts()   #Response :\t1:Customer is interested, 0:Customer is not interested"
      ]
    },
    {
      "cell_type": "code",
      "source": [
        "sns.countplot(x=df['Response'], data=df)\n",
        "mp.title('Not-Intrested vs Intrested Policyholders', size=20)#title for the countplot\n",
        "mp.show()"
      ],
      "metadata": {
        "colab": {
          "base_uri": "https://localhost:8080/",
          "height": 300
        },
        "id": "SfE3rh9OO7gy",
        "outputId": "b4ec8c73-e172-4778-e133-e29c7b75f978"
      },
      "execution_count": 21,
      "outputs": [
        {
          "output_type": "display_data",
          "data": {
            "text/plain": [
              "<Figure size 432x288 with 1 Axes>"
            ],
            "image/png": "[encoded data removed]"
          },
          "metadata": {
            "needs_background": "light"
          }
        }
      ]
    },
    {
      "cell_type": "markdown",
      "source": [
        "Observation-\n",
        "\n",
        "As we can see that our data is unbalanced so we have to make it balanced data. But before that let's do some techniques and fetch some important information."
      ],
      "metadata": {
        "id": "IH9omjnQitri"
      }
    },
    {
      "cell_type": "code",
      "execution_count": 22,
      "metadata": {
        "colab": {
          "base_uri": "https://localhost:8080/"
        },
        "id": "99zI4EBxh4Q9",
        "outputId": "27d8b5c1-0cfd-4460-ad3c-f66e5c4d6438"
      },
      "outputs": [
        {
          "output_type": "execute_result",
          "data": {
            "text/plain": [
              "2.3130462247234798"
            ]
          },
          "metadata": {},
          "execution_count": 22
        }
      ],
      "source": [
        "df.Response.skew()"
      ]
    },
    {
      "cell_type": "markdown",
      "source": [
        "Our target column is Positively skewed"
      ],
      "metadata": {
        "id": "t5ejuA42jyFj"
      }
    },
    {
      "cell_type": "code",
      "execution_count": 23,
      "metadata": {
        "colab": {
          "base_uri": "https://localhost:8080/",
          "height": 313
        },
        "id": "QnFcxmN451U_",
        "outputId": "25e151cb-c86e-4c5a-c99c-6937d823a5db"
      },
      "outputs": [
        {
          "output_type": "execute_result",
          "data": {
            "text/plain": [
              "Text(0.5, 1.0, 'Target Feature')"
            ]
          },
          "metadata": {},
          "execution_count": 23
        },
        {
          "output_type": "display_data",
          "data": {
            "text/plain": [
              "<Figure size 432x288 with 1 Axes>"
            ],
            "image/png": "[encoded data removed]"
          },
          "metadata": {
            "needs_background": "light"
          }
        }
      ],
      "source": [
        "#checking the distribution of target variable\n",
        "ax1=sns.kdeplot(df['Response'])\n",
        "ax1.set_title('Target Feature')"
      ]
    },
    {
      "cell_type": "markdown",
      "source": [
        "As we can see our target feature has only two values- 0 and 1"
      ],
      "metadata": {
        "id": "kbt5w5jWyGRX"
      }
    },
    {
      "cell_type": "code",
      "execution_count": 24,
      "metadata": {
        "colab": {
          "base_uri": "https://localhost:8080/",
          "height": 283
        },
        "id": "Vip1FlxOgy2z",
        "outputId": "f30ec90a-9947-4ce3-8cb6-2e17ee90c640"
      },
      "outputs": [
        {
          "output_type": "execute_result",
          "data": {
            "text/plain": [
              "<matplotlib.axes._subplots.AxesSubplot at 0x7fe0baac73d0>"
            ]
          },
          "metadata": {},
          "execution_count": 24
        },
        {
          "output_type": "display_data",
          "data": {
            "text/plain": [
              "<Figure size 432x288 with 1 Axes>"
            ],
            "image/png": "[encoded data removed]"
          },
          "metadata": {
            "needs_background": "light"
          }
        }
      ],
      "source": [
        "df['Response'].hist()"
      ]
    },
    {
      "cell_type": "code",
      "execution_count": 25,
      "metadata": {
        "colab": {
          "base_uri": "https://localhost:8080/"
        },
        "id": "GnJsV7Hzi-pX",
        "outputId": "4dac435f-24de-4c01-bccb-0bef8b54792c"
      },
      "outputs": [
        {
          "output_type": "execute_result",
          "data": {
            "text/plain": [
              "Index(['id', 'Gender', 'Age', 'Driving_License', 'Region_Code',\n",
              "       'Previously_Insured', 'Vehicle_Age', 'Vehicle_Damage', 'Annual_Premium',\n",
              "       'Policy_Sales_Channel', 'Vintage', 'Response'],\n",
              "      dtype='object')"
            ]
          },
          "metadata": {},
          "execution_count": 25
        }
      ],
      "source": [
        "#Cecking other features\n",
        "df.columns"
      ]
    },
    {
      "cell_type": "code",
      "execution_count": 26,
      "metadata": {
        "id": "CWyXk8Z1D9Lc"
      },
      "outputs": [],
      "source": [
        "# Grouping the all numerical features under one umbrella for better visualization\n",
        "num_col=df[['Age','Region_Code','Annual_Premium','Policy_Sales_Channel','Vintage']]"
      ]
    },
    {
      "cell_type": "code",
      "execution_count": 27,
      "metadata": {
        "colab": {
          "base_uri": "https://localhost:8080/",
          "height": 423
        },
        "id": "WdjZoGR_Eehc",
        "outputId": "6cf2e7ea-2c68-4548-a957-df951669d827"
      },
      "outputs": [
        {
          "output_type": "execute_result",
          "data": {
            "text/plain": [
              "        Age  Region_Code  Annual_Premium  Policy_Sales_Channel  Vintage\n",
              "0        44         28.0           40454                  26.0      217\n",
              "1        76          3.0           33536                  26.0      183\n",
              "2        47         28.0           38294                  26.0       27\n",
              "3        21         11.0           28619                 152.0      203\n",
              "4        29         41.0           27496                 152.0       39\n",
              "...     ...          ...             ...                   ...      ...\n",
              "381104   74         26.0           30170                  26.0       88\n",
              "381105   30         37.0           40016                 152.0      131\n",
              "381106   21         30.0           35118                 160.0      161\n",
              "381107   68         14.0           44617                 124.0       74\n",
              "381108   46         29.0           41777                  26.0      237\n",
              "\n",
              "[370789 rows x 5 columns]"
            ],
            "text/html": [
              "\n",
              "  <div id=\"df-f93aff7c-a2f1-429d-854c-d461e3d95982\">\n",
              "    <div class=\"colab-df-container\">\n",
              "      <div>\n",
              "<style scoped>\n",
              "    .dataframe tbody tr th:only-of-type {\n",
              "        vertical-align: middle;\n",
              "    }\n",
              "\n",
              "    .dataframe tbody tr th {\n",
              "        vertical-align: top;\n",
              "    }\n",
              "\n",
              "    .dataframe thead th {\n",
              "        text-align: right;\n",
              "    }\n",
              "</style>\n",
              "<table border=\"1\" class=\"dataframe\">\n",
              "  <thead>\n",
              "    <tr style=\"text-align: right;\">\n",
              "      <th></th>\n",
              "      <th>Age</th>\n",
              "      <th>Region_Code</th>\n",
              "      <th>Annual_Premium</th>\n",
              "      <th>Policy_Sales_Channel</th>\n",
              "      <th>Vintage</th>\n",
              "    </tr>\n",
              "  </thead>\n",
              "  <tbody>\n",
              "    <tr>\n",
              "      <th>0</th>\n",
              "      <td>44</td>\n",
              "      <td>28.0</td>\n",
              "      <td>40454</td>\n",
              "      <td>26.0</td>\n",
              "      <td>217</td>\n",
              "    </tr>\n",
              "    <tr>\n",
              "      <th>1</th>\n",
              "      <td>76</td>\n",
              "      <td>3.0</td>\n",
              "      <td>33536</td>\n",
              "      <td>26.0</td>\n",
              "      <td>183</td>\n",
              "    </tr>\n",
              "    <tr>\n",
              "      <th>2</th>\n",
              "      <td>47</td>\n",
              "      <td>28.0</td>\n",
              "      <td>38294</td>\n",
              "      <td>26.0</td>\n",
              "      <td>27</td>\n",
              "    </tr>\n",
              "    <tr>\n",
              "      <th>3</th>\n",
              "      <td>21</td>\n",
              "      <td>11.0</td>\n",
              "      <td>28619</td>\n",
              "      <td>152.0</td>\n",
              "      <td>203</td>\n",
              "    </tr>\n",
              "    <tr>\n",
              "      <th>4</th>\n",
              "      <td>29</td>\n",
              "      <td>41.0</td>\n",
              "      <td>27496</td>\n",
              "      <td>152.0</td>\n",
              "      <td>39</td>\n",
              "    </tr>\n",
              "    <tr>\n",
              "      <th>...</th>\n",
              "      <td>...</td>\n",
              "      <td>...</td>\n",
              "      <td>...</td>\n",
              "      <td>...</td>\n",
              "      <td>...</td>\n",
              "    </tr>\n",
              "    <tr>\n",
              "      <th>381104</th>\n",
              "      <td>74</td>\n",
              "      <td>26.0</td>\n",
              "      <td>30170</td>\n",
              "      <td>26.0</td>\n",
              "      <td>88</td>\n",
              "    </tr>\n",
              "    <tr>\n",
              "      <th>381105</th>\n",
              "      <td>30</td>\n",
              "      <td>37.0</td>\n",
              "      <td>40016</td>\n",
              "      <td>152.0</td>\n",
              "      <td>131</td>\n",
              "    </tr>\n",
              "    <tr>\n",
              "      <th>381106</th>\n",
              "      <td>21</td>\n",
              "      <td>30.0</td>\n",
              "      <td>35118</td>\n",
              "      <td>160.0</td>\n",
              "      <td>161</td>\n",
              "    </tr>\n",
              "    <tr>\n",
              "      <th>381107</th>\n",
              "      <td>68</td>\n",
              "      <td>14.0</td>\n",
              "      <td>44617</td>\n",
              "      <td>124.0</td>\n",
              "      <td>74</td>\n",
              "    </tr>\n",
              "    <tr>\n",
              "      <th>381108</th>\n",
              "      <td>46</td>\n",
              "      <td>29.0</td>\n",
              "      <td>41777</td>\n",
              "      <td>26.0</td>\n",
              "      <td>237</td>\n",
              "    </tr>\n",
              "  </tbody>\n",
              "</table>\n",
              "<p>370789 rows × 5 columns</p>\n",
              "</div>\n",
              "      <button class=\"colab-df-convert\" onclick=\"convertToInteractive('df-f93aff7c-a2f1-429d-854c-d461e3d95982')\"\n",
              "              title=\"Convert this dataframe to an interactive table.\"\n",
              "              style=\"display:none;\">\n",
              "        \n",
              "  <svg xmlns=\"http://www.w3.org/2000/svg\" height=\"24px\"viewBox=\"0 0 24 24\"\n",
              "       width=\"24px\">\n",
              "    <path d=\"M0 0h24v24H0V0z\" fill=\"none\"/>\n",
              "    <path d=\"M18.56 5.44l.94 2.06.94-2.06 2.06-.94-2.06-.94-.94-2.06-.94 2.06-2.06.94zm-11 1L8.5 8.5l.94-2.06 2.06-.94-2.06-.94L8.5 2.5l-.94 2.06-2.06.94zm10 10l.94 2.06.94-2.06 2.06-.94-2.06-.94-.94-2.06-.94 2.06-2.06.94z\"/><path d=\"M17.41 7.96l-1.37-1.37c-.4-.4-.92-.59-1.43-.59-.52 0-1.04.2-1.43.59L10.3 9.45l-7.72 7.72c-.78.78-.78 2.05 0 2.83L4 21.41c.39.39.9.59 1.41.59.51 0 1.02-.2 1.41-.59l7.78-7.78 2.81-2.81c.8-.78.8-2.07 0-2.86zM5.41 20L4 18.59l7.72-7.72 1.47 1.35L5.41 20z\"/>\n",
              "  </svg>\n",
              "      </button>\n",
              "      \n",
              "  <style>\n",
              "    .colab-df-container {\n",
              "      display:flex;\n",
              "      flex-wrap:wrap;\n",
              "      gap: 12px;\n",
              "    }\n",
              "\n",
              "    .colab-df-convert {\n",
              "      background-color: #E8F0FE;\n",
              "      border: none;\n",
              "      border-radius: 50%;\n",
              "      cursor: pointer;\n",
              "      display: none;\n",
              "      fill: #1967D2;\n",
              "      height: 32px;\n",
              "      padding: 0 0 0 0;\n",
              "      width: 32px;\n",
              "    }\n",
              "\n",
              "    .colab-df-convert:hover {\n",
              "      background-color: #E2EBFA;\n",
              "      box-shadow: 0px 1px 2px rgba(60, 64, 67, 0.3), 0px 1px 3px 1px rgba(60, 64, 67, 0.15);\n",
              "      fill: #174EA6;\n",
              "    }\n",
              "\n",
              "    [theme=dark] .colab-df-convert {\n",
              "      background-color: #3B4455;\n",
              "      fill: #D2E3FC;\n",
              "    }\n",
              "\n",
              "    [theme=dark] .colab-df-convert:hover {\n",
              "      background-color: #434B5C;\n",
              "      box-shadow: 0px 1px 3px 1px rgba(0, 0, 0, 0.15);\n",
              "      filter: drop-shadow(0px 1px 2px rgba(0, 0, 0, 0.3));\n",
              "      fill: #FFFFFF;\n",
              "    }\n",
              "  </style>\n",
              "\n",
              "      <script>\n",
              "        const buttonEl =\n",
              "          document.querySelector('#df-f93aff7c-a2f1-429d-854c-d461e3d95982 button.colab-df-convert');\n",
              "        buttonEl.style.display =\n",
              "          google.colab.kernel.accessAllowed ? 'block' : 'none';\n",
              "\n",
              "        async function convertToInteractive(key) {\n",
              "          const element = document.querySelector('#df-f93aff7c-a2f1-429d-854c-d461e3d95982');\n",
              "          const dataTable =\n",
              "            await google.colab.kernel.invokeFunction('convertToInteractive',\n",
              "                                                     [key], {});\n",
              "          if (!dataTable) return;\n",
              "\n",
              "          const docLinkHtml = 'Like what you see? Visit the ' +\n",
              "            '<a target=\"_blank\" href=https://colab.research.google.com/notebooks/data_table.ipynb>data table notebook</a>'\n",
              "            + ' to learn more about interactive tables.';\n",
              "          element.innerHTML = '';\n",
              "          dataTable['output_type'] = 'display_data';\n",
              "          await google.colab.output.renderOutput(dataTable, element);\n",
              "          const docLink = document.createElement('div');\n",
              "          docLink.innerHTML = docLinkHtml;\n",
              "          element.appendChild(docLink);\n",
              "        }\n",
              "      </script>\n",
              "    </div>\n",
              "  </div>\n",
              "  "
            ]
          },
          "metadata": {},
          "execution_count": 27
        }
      ],
      "source": [
        "#Checking our new df of numerical features\n",
        "num_col"
      ]
    },
    {
      "cell_type": "code",
      "execution_count": 28,
      "metadata": {
        "id": "wZ_lfnViFBGI"
      },
      "outputs": [],
      "source": [
        "# Grouping the all categorical features under one umbrella for better visualization\n",
        "cat_col=[]\n",
        "for i in df.columns:\n",
        "  if i not in num_col:\n",
        "    cat_col.append(i)\n"
      ]
    },
    {
      "cell_type": "code",
      "execution_count": 29,
      "metadata": {
        "colab": {
          "base_uri": "https://localhost:8080/"
        },
        "id": "8wDRt5zaFoyf",
        "outputId": "3e878ba3-0a51-4e7f-9634-7da00cda7194"
      },
      "outputs": [
        {
          "output_type": "execute_result",
          "data": {
            "text/plain": [
              "['id',\n",
              " 'Gender',\n",
              " 'Driving_License',\n",
              " 'Previously_Insured',\n",
              " 'Vehicle_Age',\n",
              " 'Vehicle_Damage',\n",
              " 'Response']"
            ]
          },
          "metadata": {},
          "execution_count": 29
        }
      ],
      "source": [
        "#Checking out categorical features\n",
        "cat_col"
      ]
    },
    {
      "cell_type": "code",
      "execution_count": 30,
      "metadata": {
        "colab": {
          "base_uri": "https://localhost:8080/",
          "height": 423
        },
        "id": "lAVUntTmFrV0",
        "outputId": "083493d5-b100-4787-bd85-8ac3868044e3"
      },
      "outputs": [
        {
          "output_type": "execute_result",
          "data": {
            "text/plain": [
              "            id  Gender  Driving_License  Previously_Insured Vehicle_Age  \\\n",
              "0            1    Male                1                   0   > 2 Years   \n",
              "1            2    Male                1                   0    1-2 Year   \n",
              "2            3    Male                1                   0   > 2 Years   \n",
              "3            4    Male                1                   1    < 1 Year   \n",
              "4            5  Female                1                   1    < 1 Year   \n",
              "...        ...     ...              ...                 ...         ...   \n",
              "381104  381105    Male                1                   1    1-2 Year   \n",
              "381105  381106    Male                1                   1    < 1 Year   \n",
              "381106  381107    Male                1                   1    < 1 Year   \n",
              "381107  381108  Female                1                   0   > 2 Years   \n",
              "381108  381109    Male                1                   0    1-2 Year   \n",
              "\n",
              "       Vehicle_Damage  Response  \n",
              "0                 Yes         1  \n",
              "1                  No         0  \n",
              "2                 Yes         1  \n",
              "3                  No         0  \n",
              "4                  No         0  \n",
              "...               ...       ...  \n",
              "381104             No         0  \n",
              "381105             No         0  \n",
              "381106             No         0  \n",
              "381107            Yes         0  \n",
              "381108             No         0  \n",
              "\n",
              "[370789 rows x 7 columns]"
            ],
            "text/html": [
              "\n",
              "  <div id=\"df-d3cc410e-dfb0-4e89-b716-a8887af3901e\">\n",
              "    <div class=\"colab-df-container\">\n",
              "      <div>\n",
              "<style scoped>\n",
              "    .dataframe tbody tr th:only-of-type {\n",
              "        vertical-align: middle;\n",
              "    }\n",
              "\n",
              "    .dataframe tbody tr th {\n",
              "        vertical-align: top;\n",
              "    }\n",
              "\n",
              "    .dataframe thead th {\n",
              "        text-align: right;\n",
              "    }\n",
              "</style>\n",
              "<table border=\"1\" class=\"dataframe\">\n",
              "  <thead>\n",
              "    <tr style=\"text-align: right;\">\n",
              "      <th></th>\n",
              "      <th>id</th>\n",
              "      <th>Gender</th>\n",
              "      <th>Driving_License</th>\n",
              "      <th>Previously_Insured</th>\n",
              "      <th>Vehicle_Age</th>\n",
              "      <th>Vehicle_Damage</th>\n",
              "      <th>Response</th>\n",
              "    </tr>\n",
              "  </thead>\n",
              "  <tbody>\n",
              "    <tr>\n",
              "      <th>0</th>\n",
              "      <td>1</td>\n",
              "      <td>Male</td>\n",
              "      <td>1</td>\n",
              "      <td>0</td>\n",
              "      <td>&gt; 2 Years</td>\n",
              "      <td>Yes</td>\n",
              "      <td>1</td>\n",
              "    </tr>\n",
              "    <tr>\n",
              "      <th>1</th>\n",
              "      <td>2</td>\n",
              "      <td>Male</td>\n",
              "      <td>1</td>\n",
              "      <td>0</td>\n",
              "      <td>1-2 Year</td>\n",
              "      <td>No</td>\n",
              "      <td>0</td>\n",
              "    </tr>\n",
              "    <tr>\n",
              "      <th>2</th>\n",
              "      <td>3</td>\n",
              "      <td>Male</td>\n",
              "      <td>1</td>\n",
              "      <td>0</td>\n",
              "      <td>&gt; 2 Years</td>\n",
              "      <td>Yes</td>\n",
              "      <td>1</td>\n",
              "    </tr>\n",
              "    <tr>\n",
              "      <th>3</th>\n",
              "      <td>4</td>\n",
              "      <td>Male</td>\n",
              "      <td>1</td>\n",
              "      <td>1</td>\n",
              "      <td>&lt; 1 Year</td>\n",
              "      <td>No</td>\n",
              "      <td>0</td>\n",
              "    </tr>\n",
              "    <tr>\n",
              "      <th>4</th>\n",
              "      <td>5</td>\n",
              "      <td>Female</td>\n",
              "      <td>1</td>\n",
              "      <td>1</td>\n",
              "      <td>&lt; 1 Year</td>\n",
              "      <td>No</td>\n",
              "      <td>0</td>\n",
              "    </tr>\n",
              "    <tr>\n",
              "      <th>...</th>\n",
              "      <td>...</td>\n",
              "      <td>...</td>\n",
              "      <td>...</td>\n",
              "      <td>...</td>\n",
              "      <td>...</td>\n",
              "      <td>...</td>\n",
              "      <td>...</td>\n",
              "    </tr>\n",
              "    <tr>\n",
              "      <th>381104</th>\n",
              "      <td>381105</td>\n",
              "      <td>Male</td>\n",
              "      <td>1</td>\n",
              "      <td>1</td>\n",
              "      <td>1-2 Year</td>\n",
              "      <td>No</td>\n",
              "      <td>0</td>\n",
              "    </tr>\n",
              "    <tr>\n",
              "      <th>381105</th>\n",
              "      <td>381106</td>\n",
              "      <td>Male</td>\n",
              "      <td>1</td>\n",
              "      <td>1</td>\n",
              "      <td>&lt; 1 Year</td>\n",
              "      <td>No</td>\n",
              "      <td>0</td>\n",
              "    </tr>\n",
              "    <tr>\n",
              "      <th>381106</th>\n",
              "      <td>381107</td>\n",
              "      <td>Male</td>\n",
              "      <td>1</td>\n",
              "      <td>1</td>\n",
              "      <td>&lt; 1 Year</td>\n",
              "      <td>No</td>\n",
              "      <td>0</td>\n",
              "    </tr>\n",
              "    <tr>\n",
              "      <th>381107</th>\n",
              "      <td>381108</td>\n",
              "      <td>Female</td>\n",
              "      <td>1</td>\n",
              "      <td>0</td>\n",
              "      <td>&gt; 2 Years</td>\n",
              "      <td>Yes</td>\n",
              "      <td>0</td>\n",
              "    </tr>\n",
              "    <tr>\n",
              "      <th>381108</th>\n",
              "      <td>381109</td>\n",
              "      <td>Male</td>\n",
              "      <td>1</td>\n",
              "      <td>0</td>\n",
              "      <td>1-2 Year</td>\n",
              "      <td>No</td>\n",
              "      <td>0</td>\n",
              "    </tr>\n",
              "  </tbody>\n",
              "</table>\n",
              "<p>370789 rows × 7 columns</p>\n",
              "</div>\n",
              "      <button class=\"colab-df-convert\" onclick=\"convertToInteractive('df-d3cc410e-dfb0-4e89-b716-a8887af3901e')\"\n",
              "              title=\"Convert this dataframe to an interactive table.\"\n",
              "              style=\"display:none;\">\n",
              "        \n",
              "  <svg xmlns=\"http://www.w3.org/2000/svg\" height=\"24px\"viewBox=\"0 0 24 24\"\n",
              "       width=\"24px\">\n",
              "    <path d=\"M0 0h24v24H0V0z\" fill=\"none\"/>\n",
              "    <path d=\"M18.56 5.44l.94 2.06.94-2.06 2.06-.94-2.06-.94-.94-2.06-.94 2.06-2.06.94zm-11 1L8.5 8.5l.94-2.06 2.06-.94-2.06-.94L8.5 2.5l-.94 2.06-2.06.94zm10 10l.94 2.06.94-2.06 2.06-.94-2.06-.94-.94-2.06-.94 2.06-2.06.94z\"/><path d=\"M17.41 7.96l-1.37-1.37c-.4-.4-.92-.59-1.43-.59-.52 0-1.04.2-1.43.59L10.3 9.45l-7.72 7.72c-.78.78-.78 2.05 0 2.83L4 21.41c.39.39.9.59 1.41.59.51 0 1.02-.2 1.41-.59l7.78-7.78 2.81-2.81c.8-.78.8-2.07 0-2.86zM5.41 20L4 18.59l7.72-7.72 1.47 1.35L5.41 20z\"/>\n",
              "  </svg>\n",
              "      </button>\n",
              "      \n",
              "  <style>\n",
              "    .colab-df-container {\n",
              "      display:flex;\n",
              "      flex-wrap:wrap;\n",
              "      gap: 12px;\n",
              "    }\n",
              "\n",
              "    .colab-df-convert {\n",
              "      background-color: #E8F0FE;\n",
              "      border: none;\n",
              "      border-radius: 50%;\n",
              "      cursor: pointer;\n",
              "      display: none;\n",
              "      fill: #1967D2;\n",
              "      height: 32px;\n",
              "      padding: 0 0 0 0;\n",
              "      width: 32px;\n",
              "    }\n",
              "\n",
              "    .colab-df-convert:hover {\n",
              "      background-color: #E2EBFA;\n",
              "      box-shadow: 0px 1px 2px rgba(60, 64, 67, 0.3), 0px 1px 3px 1px rgba(60, 64, 67, 0.15);\n",
              "      fill: #174EA6;\n",
              "    }\n",
              "\n",
              "    [theme=dark] .colab-df-convert {\n",
              "      background-color: #3B4455;\n",
              "      fill: #D2E3FC;\n",
              "    }\n",
              "\n",
              "    [theme=dark] .colab-df-convert:hover {\n",
              "      background-color: #434B5C;\n",
              "      box-shadow: 0px 1px 3px 1px rgba(0, 0, 0, 0.15);\n",
              "      filter: drop-shadow(0px 1px 2px rgba(0, 0, 0, 0.3));\n",
              "      fill: #FFFFFF;\n",
              "    }\n",
              "  </style>\n",
              "\n",
              "      <script>\n",
              "        const buttonEl =\n",
              "          document.querySelector('#df-d3cc410e-dfb0-4e89-b716-a8887af3901e button.colab-df-convert');\n",
              "        buttonEl.style.display =\n",
              "          google.colab.kernel.accessAllowed ? 'block' : 'none';\n",
              "\n",
              "        async function convertToInteractive(key) {\n",
              "          const element = document.querySelector('#df-d3cc410e-dfb0-4e89-b716-a8887af3901e');\n",
              "          const dataTable =\n",
              "            await google.colab.kernel.invokeFunction('convertToInteractive',\n",
              "                                                     [key], {});\n",
              "          if (!dataTable) return;\n",
              "\n",
              "          const docLinkHtml = 'Like what you see? Visit the ' +\n",
              "            '<a target=\"_blank\" href=https://colab.research.google.com/notebooks/data_table.ipynb>data table notebook</a>'\n",
              "            + ' to learn more about interactive tables.';\n",
              "          element.innerHTML = '';\n",
              "          dataTable['output_type'] = 'display_data';\n",
              "          await google.colab.output.renderOutput(dataTable, element);\n",
              "          const docLink = document.createElement('div');\n",
              "          docLink.innerHTML = docLinkHtml;\n",
              "          element.appendChild(docLink);\n",
              "        }\n",
              "      </script>\n",
              "    </div>\n",
              "  </div>\n",
              "  "
            ]
          },
          "metadata": {},
          "execution_count": 30
        }
      ],
      "source": [
        "# Make df of our all categorical features and check it out(except id)\n",
        "cat_col=df[cat_col]\n",
        "cat_col"
      ]
    },
    {
      "cell_type": "code",
      "execution_count": 31,
      "metadata": {
        "id": "OKlBXK8pIYKX"
      },
      "outputs": [],
      "source": [
        "#Dropping id feature because it is not making any sense\n",
        "cat_col=cat_col.drop(['id'],axis=1)"
      ]
    },
    {
      "cell_type": "code",
      "execution_count": 32,
      "metadata": {
        "colab": {
          "base_uri": "https://localhost:8080/",
          "height": 423
        },
        "id": "TAPW9XnxIlT1",
        "outputId": "e2de7356-d84b-416d-c855-a02883240fe9"
      },
      "outputs": [
        {
          "output_type": "execute_result",
          "data": {
            "text/plain": [
              "        Gender  Driving_License  Previously_Insured Vehicle_Age  \\\n",
              "0         Male                1                   0   > 2 Years   \n",
              "1         Male                1                   0    1-2 Year   \n",
              "2         Male                1                   0   > 2 Years   \n",
              "3         Male                1                   1    < 1 Year   \n",
              "4       Female                1                   1    < 1 Year   \n",
              "...        ...              ...                 ...         ...   \n",
              "381104    Male                1                   1    1-2 Year   \n",
              "381105    Male                1                   1    < 1 Year   \n",
              "381106    Male                1                   1    < 1 Year   \n",
              "381107  Female                1                   0   > 2 Years   \n",
              "381108    Male                1                   0    1-2 Year   \n",
              "\n",
              "       Vehicle_Damage  Response  \n",
              "0                 Yes         1  \n",
              "1                  No         0  \n",
              "2                 Yes         1  \n",
              "3                  No         0  \n",
              "4                  No         0  \n",
              "...               ...       ...  \n",
              "381104             No         0  \n",
              "381105             No         0  \n",
              "381106             No         0  \n",
              "381107            Yes         0  \n",
              "381108             No         0  \n",
              "\n",
              "[370789 rows x 6 columns]"
            ],
            "text/html": [
              "\n",
              "  <div id=\"df-cd4613db-0c0f-4a14-a5d4-51ee597a6cc3\">\n",
              "    <div class=\"colab-df-container\">\n",
              "      <div>\n",
              "<style scoped>\n",
              "    .dataframe tbody tr th:only-of-type {\n",
              "        vertical-align: middle;\n",
              "    }\n",
              "\n",
              "    .dataframe tbody tr th {\n",
              "        vertical-align: top;\n",
              "    }\n",
              "\n",
              "    .dataframe thead th {\n",
              "        text-align: right;\n",
              "    }\n",
              "</style>\n",
              "<table border=\"1\" class=\"dataframe\">\n",
              "  <thead>\n",
              "    <tr style=\"text-align: right;\">\n",
              "      <th></th>\n",
              "      <th>Gender</th>\n",
              "      <th>Driving_License</th>\n",
              "      <th>Previously_Insured</th>\n",
              "      <th>Vehicle_Age</th>\n",
              "      <th>Vehicle_Damage</th>\n",
              "      <th>Response</th>\n",
              "    </tr>\n",
              "  </thead>\n",
              "  <tbody>\n",
              "    <tr>\n",
              "      <th>0</th>\n",
              "      <td>Male</td>\n",
              "      <td>1</td>\n",
              "      <td>0</td>\n",
              "      <td>&gt; 2 Years</td>\n",
              "      <td>Yes</td>\n",
              "      <td>1</td>\n",
              "    </tr>\n",
              "    <tr>\n",
              "      <th>1</th>\n",
              "      <td>Male</td>\n",
              "      <td>1</td>\n",
              "      <td>0</td>\n",
              "      <td>1-2 Year</td>\n",
              "      <td>No</td>\n",
              "      <td>0</td>\n",
              "    </tr>\n",
              "    <tr>\n",
              "      <th>2</th>\n",
              "      <td>Male</td>\n",
              "      <td>1</td>\n",
              "      <td>0</td>\n",
              "      <td>&gt; 2 Years</td>\n",
              "      <td>Yes</td>\n",
              "      <td>1</td>\n",
              "    </tr>\n",
              "    <tr>\n",
              "      <th>3</th>\n",
              "      <td>Male</td>\n",
              "      <td>1</td>\n",
              "      <td>1</td>\n",
              "      <td>&lt; 1 Year</td>\n",
              "      <td>No</td>\n",
              "      <td>0</td>\n",
              "    </tr>\n",
              "    <tr>\n",
              "      <th>4</th>\n",
              "      <td>Female</td>\n",
              "      <td>1</td>\n",
              "      <td>1</td>\n",
              "      <td>&lt; 1 Year</td>\n",
              "      <td>No</td>\n",
              "      <td>0</td>\n",
              "    </tr>\n",
              "    <tr>\n",
              "      <th>...</th>\n",
              "      <td>...</td>\n",
              "      <td>...</td>\n",
              "      <td>...</td>\n",
              "      <td>...</td>\n",
              "      <td>...</td>\n",
              "      <td>...</td>\n",
              "    </tr>\n",
              "    <tr>\n",
              "      <th>381104</th>\n",
              "      <td>Male</td>\n",
              "      <td>1</td>\n",
              "      <td>1</td>\n",
              "      <td>1-2 Year</td>\n",
              "      <td>No</td>\n",
              "      <td>0</td>\n",
              "    </tr>\n",
              "    <tr>\n",
              "      <th>381105</th>\n",
              "      <td>Male</td>\n",
              "      <td>1</td>\n",
              "      <td>1</td>\n",
              "      <td>&lt; 1 Year</td>\n",
              "      <td>No</td>\n",
              "      <td>0</td>\n",
              "    </tr>\n",
              "    <tr>\n",
              "      <th>381106</th>\n",
              "      <td>Male</td>\n",
              "      <td>1</td>\n",
              "      <td>1</td>\n",
              "      <td>&lt; 1 Year</td>\n",
              "      <td>No</td>\n",
              "      <td>0</td>\n",
              "    </tr>\n",
              "    <tr>\n",
              "      <th>381107</th>\n",
              "      <td>Female</td>\n",
              "      <td>1</td>\n",
              "      <td>0</td>\n",
              "      <td>&gt; 2 Years</td>\n",
              "      <td>Yes</td>\n",
              "      <td>0</td>\n",
              "    </tr>\n",
              "    <tr>\n",
              "      <th>381108</th>\n",
              "      <td>Male</td>\n",
              "      <td>1</td>\n",
              "      <td>0</td>\n",
              "      <td>1-2 Year</td>\n",
              "      <td>No</td>\n",
              "      <td>0</td>\n",
              "    </tr>\n",
              "  </tbody>\n",
              "</table>\n",
              "<p>370789 rows × 6 columns</p>\n",
              "</div>\n",
              "      <button class=\"colab-df-convert\" onclick=\"convertToInteractive('df-cd4613db-0c0f-4a14-a5d4-51ee597a6cc3')\"\n",
              "              title=\"Convert this dataframe to an interactive table.\"\n",
              "              style=\"display:none;\">\n",
              "        \n",
              "  <svg xmlns=\"http://www.w3.org/2000/svg\" height=\"24px\"viewBox=\"0 0 24 24\"\n",
              "       width=\"24px\">\n",
              "    <path d=\"M0 0h24v24H0V0z\" fill=\"none\"/>\n",
              "    <path d=\"M18.56 5.44l.94 2.06.94-2.06 2.06-.94-2.06-.94-.94-2.06-.94 2.06-2.06.94zm-11 1L8.5 8.5l.94-2.06 2.06-.94-2.06-.94L8.5 2.5l-.94 2.06-2.06.94zm10 10l.94 2.06.94-2.06 2.06-.94-2.06-.94-.94-2.06-.94 2.06-2.06.94z\"/><path d=\"M17.41 7.96l-1.37-1.37c-.4-.4-.92-.59-1.43-.59-.52 0-1.04.2-1.43.59L10.3 9.45l-7.72 7.72c-.78.78-.78 2.05 0 2.83L4 21.41c.39.39.9.59 1.41.59.51 0 1.02-.2 1.41-.59l7.78-7.78 2.81-2.81c.8-.78.8-2.07 0-2.86zM5.41 20L4 18.59l7.72-7.72 1.47 1.35L5.41 20z\"/>\n",
              "  </svg>\n",
              "      </button>\n",
              "      \n",
              "  <style>\n",
              "    .colab-df-container {\n",
              "      display:flex;\n",
              "      flex-wrap:wrap;\n",
              "      gap: 12px;\n",
              "    }\n",
              "\n",
              "    .colab-df-convert {\n",
              "      background-color: #E8F0FE;\n",
              "      border: none;\n",
              "      border-radius: 50%;\n",
              "      cursor: pointer;\n",
              "      display: none;\n",
              "      fill: #1967D2;\n",
              "      height: 32px;\n",
              "      padding: 0 0 0 0;\n",
              "      width: 32px;\n",
              "    }\n",
              "\n",
              "    .colab-df-convert:hover {\n",
              "      background-color: #E2EBFA;\n",
              "      box-shadow: 0px 1px 2px rgba(60, 64, 67, 0.3), 0px 1px 3px 1px rgba(60, 64, 67, 0.15);\n",
              "      fill: #174EA6;\n",
              "    }\n",
              "\n",
              "    [theme=dark] .colab-df-convert {\n",
              "      background-color: #3B4455;\n",
              "      fill: #D2E3FC;\n",
              "    }\n",
              "\n",
              "    [theme=dark] .colab-df-convert:hover {\n",
              "      background-color: #434B5C;\n",
              "      box-shadow: 0px 1px 3px 1px rgba(0, 0, 0, 0.15);\n",
              "      filter: drop-shadow(0px 1px 2px rgba(0, 0, 0, 0.3));\n",
              "      fill: #FFFFFF;\n",
              "    }\n",
              "  </style>\n",
              "\n",
              "      <script>\n",
              "        const buttonEl =\n",
              "          document.querySelector('#df-cd4613db-0c0f-4a14-a5d4-51ee597a6cc3 button.colab-df-convert');\n",
              "        buttonEl.style.display =\n",
              "          google.colab.kernel.accessAllowed ? 'block' : 'none';\n",
              "\n",
              "        async function convertToInteractive(key) {\n",
              "          const element = document.querySelector('#df-cd4613db-0c0f-4a14-a5d4-51ee597a6cc3');\n",
              "          const dataTable =\n",
              "            await google.colab.kernel.invokeFunction('convertToInteractive',\n",
              "                                                     [key], {});\n",
              "          if (!dataTable) return;\n",
              "\n",
              "          const docLinkHtml = 'Like what you see? Visit the ' +\n",
              "            '<a target=\"_blank\" href=https://colab.research.google.com/notebooks/data_table.ipynb>data table notebook</a>'\n",
              "            + ' to learn more about interactive tables.';\n",
              "          element.innerHTML = '';\n",
              "          dataTable['output_type'] = 'display_data';\n",
              "          await google.colab.output.renderOutput(dataTable, element);\n",
              "          const docLink = document.createElement('div');\n",
              "          docLink.innerHTML = docLinkHtml;\n",
              "          element.appendChild(docLink);\n",
              "        }\n",
              "      </script>\n",
              "    </div>\n",
              "  </div>\n",
              "  "
            ]
          },
          "metadata": {},
          "execution_count": 32
        }
      ],
      "source": [
        "# print categorical features\n",
        "cat_col"
      ]
    },
    {
      "cell_type": "code",
      "execution_count": 33,
      "metadata": {
        "colab": {
          "base_uri": "https://localhost:8080/",
          "height": 735
        },
        "id": "NW64fffLF8Bk",
        "outputId": "133c3502-b2d0-4da0-c150-3fe845bcbaaa"
      },
      "outputs": [
        {
          "output_type": "execute_result",
          "data": {
            "text/plain": [
              "array([[<matplotlib.axes._subplots.AxesSubplot object at 0x7fe0baa5fa50>,\n",
              "        <matplotlib.axes._subplots.AxesSubplot object at 0x7fe0ba9a4290>],\n",
              "       [<matplotlib.axes._subplots.AxesSubplot object at 0x7fe0ba9db890>,\n",
              "        <matplotlib.axes._subplots.AxesSubplot object at 0x7fe0ba993e90>],\n",
              "       [<matplotlib.axes._subplots.AxesSubplot object at 0x7fe0ba9554d0>,\n",
              "        <matplotlib.axes._subplots.AxesSubplot object at 0x7fe0ba90cad0>]],\n",
              "      dtype=object)"
            ]
          },
          "metadata": {},
          "execution_count": 33
        },
        {
          "output_type": "display_data",
          "data": {
            "text/plain": [
              "<Figure size 720x720 with 6 Axes>"
            ],
            "image/png": "[encoded data removed]"
          },
          "metadata": {
            "needs_background": "light"
          }
        }
      ],
      "source": [
        "#Let's see the distribution of numerical columns\n",
        "num_col.hist(figsize=(10,10),bins=20)"
      ]
    },
    {
      "cell_type": "markdown",
      "source": [
        "As we can see no feature are normally distributed in Numerical features"
      ],
      "metadata": {
        "id": "vpdRU_gf3IFA"
      }
    },
    {
      "cell_type": "code",
      "execution_count": 34,
      "metadata": {
        "colab": {
          "base_uri": "https://localhost:8080/",
          "height": 699
        },
        "id": "joCjdGpzGgx2",
        "outputId": "f8411e71-4a98-425c-8864-75b172249aab"
      },
      "outputs": [
        {
          "output_type": "execute_result",
          "data": {
            "text/plain": [
              "array([[<matplotlib.axes._subplots.AxesSubplot object at 0x7fe0ba685490>,\n",
              "        <matplotlib.axes._subplots.AxesSubplot object at 0x7fe0ba9aeb90>],\n",
              "       [<matplotlib.axes._subplots.AxesSubplot object at 0x7fe0ba6b3ad0>,\n",
              "        <matplotlib.axes._subplots.AxesSubplot object at 0x7fe0ba79d550>]],\n",
              "      dtype=object)"
            ]
          },
          "metadata": {},
          "execution_count": 34
        },
        {
          "output_type": "display_data",
          "data": {
            "text/plain": [
              "<Figure size 720x720 with 4 Axes>"
            ],
            "image/png": "[encoded data removed]"
          },
          "metadata": {
            "needs_background": "light"
          }
        }
      ],
      "source": [
        "#Let's \n",
        "cat_col.hist(figsize=(10,10))"
      ]
    },
    {
      "cell_type": "markdown",
      "source": [
        "From the above histplot we can clearly see that nearly all the policyholder have driving license facility."
      ],
      "metadata": {
        "id": "yYxzY-7H3jgH"
      }
    },
    {
      "cell_type": "markdown",
      "source": [
        "# Visualization"
      ],
      "metadata": {
        "id": "sGXQmEoc4GqY"
      }
    },
    {
      "cell_type": "markdown",
      "metadata": {
        "id": "18hnRhCtJOIR"
      },
      "source": [
        "Let's visualize our features and find the relation between our target variable and other important features...."
      ]
    },
    {
      "cell_type": "markdown",
      "metadata": {
        "id": "LigUaTkuUtuD"
      },
      "source": [
        "As we all know 1 means Customer is interested and 0 means Customer is not interested."
      ]
    },
    {
      "cell_type": "code",
      "execution_count": 35,
      "metadata": {
        "colab": {
          "base_uri": "https://localhost:8080/",
          "height": 315
        },
        "id": "WJb8oYIhTQV2",
        "outputId": "c2967050-9110-4a0e-fa61-10b9d985f2aa"
      },
      "outputs": [
        {
          "output_type": "execute_result",
          "data": {
            "text/plain": [
              "Text(0.5, 1.0, 'Response in terms of Gender')"
            ]
          },
          "metadata": {},
          "execution_count": 35
        },
        {
          "output_type": "display_data",
          "data": {
            "text/plain": [
              "<Figure size 432x288 with 1 Axes>"
            ],
            "image/png": "[encoded data removed]"
          },
          "metadata": {
            "needs_background": "light"
          }
        }
      ],
      "source": [
        "#count plot\n",
        "ba=sns.countplot(x=\"Gender\",hue =\"Response\",data=df,palette = \"dark\")\n",
        "ba.set_title('Response in terms of Gender', fontsize=15)"
      ]
    },
    {
      "cell_type": "markdown",
      "source": [
        "As we can see from the above countplot female is less intrested than male for getting insurance for their vehicle."
      ],
      "metadata": {
        "id": "cDTyM4k15DB7"
      }
    },
    {
      "cell_type": "code",
      "execution_count": 36,
      "metadata": {
        "colab": {
          "base_uri": "https://localhost:8080/",
          "height": 299
        },
        "id": "W8hXjORBLRLp",
        "outputId": "55ce28fe-b265-4c7e-e7f5-0282ac487122"
      },
      "outputs": [
        {
          "output_type": "display_data",
          "data": {
            "text/plain": [
              "<Figure size 432x288 with 1 Axes>"
            ],
            "image/png": "[encoded data removed]"
          },
          "metadata": {
            "needs_background": "light"
          }
        }
      ],
      "source": [
        "#In Previously_Insured 1 means Customer already has Vehicle Insurance and 0 means Customer doesn't have Vehicle Insurance yet\n",
        "ba=sns.countplot(x=\"Previously_Insured\",hue =\"Response\",data=df,palette = \"dark\")\n",
        "ba.set_title('Response in terms of Previously Insured ', fontsize=15)\n",
        "ticks = list(range(0, 2, 1)) \n",
        "labels = \"Previously_not_Insured Previously_Insured\".split()\n",
        "mp.xticks(ticks, labels);"
      ]
    },
    {
      "cell_type": "markdown",
      "source": [
        "From the above count plot we can say that the customer who already secured their vehicle, are clearly not inrested in our company's vehicle insurance scheme."
      ],
      "metadata": {
        "id": "HzezGSOg8TKU"
      }
    },
    {
      "cell_type": "code",
      "execution_count": 37,
      "metadata": {
        "colab": {
          "base_uri": "https://localhost:8080/",
          "height": 316
        },
        "id": "yhyz0hbjRlax",
        "outputId": "f196233a-2851-44e1-fcf9-caa98aa09629"
      },
      "outputs": [
        {
          "output_type": "execute_result",
          "data": {
            "text/plain": [
              "Text(0.5, 1.0, 'Response in terms of Vehicle_Age ')"
            ]
          },
          "metadata": {},
          "execution_count": 37
        },
        {
          "output_type": "display_data",
          "data": {
            "text/plain": [
              "<Figure size 432x288 with 1 Axes>"
            ],
            "image/png": "[encoded data removed]"
          },
          "metadata": {
            "needs_background": "light"
          }
        }
      ],
      "source": [
        "#count plot for Age of vehicle of policyholder\n",
        "ba=sns.countplot(x=\"Vehicle_Age\",hue =\"Response\",data=df,palette = \"dark\")\n",
        "ba.set_title('Response in terms of Vehicle_Age ', fontsize=15)"
      ]
    },
    {
      "cell_type": "markdown",
      "source": [
        "From the above count-plot we can observe that the policyholders who has 1-2 year age's vehicle, are more intrested than other policyholders specially from those who have vehicle older than two years."
      ],
      "metadata": {
        "id": "8YCeM_Gc9UJ_"
      }
    },
    {
      "cell_type": "code",
      "execution_count": 38,
      "metadata": {
        "colab": {
          "base_uri": "https://localhost:8080/",
          "height": 316
        },
        "id": "Kld5wMi8Sx8O",
        "outputId": "1bad1cf6-3505-4e2c-f197-3ef672658fb3"
      },
      "outputs": [
        {
          "output_type": "execute_result",
          "data": {
            "text/plain": [
              "Text(0.5, 1.0, 'Response in terms of Vehicle_Damage ')"
            ]
          },
          "metadata": {},
          "execution_count": 38
        },
        {
          "output_type": "display_data",
          "data": {
            "text/plain": [
              "<Figure size 432x288 with 1 Axes>"
            ],
            "image/png": "[encoded data removed]"
          },
          "metadata": {
            "needs_background": "light"
          }
        }
      ],
      "source": [
        "# In Vehicle_Damage 'Yes' means Customer got his/her vehicle damaged in the past and 'No' means Customer didn't get his/her vehicle damaged in the past.\n",
        "ba=sns.countplot(x=\"Vehicle_Damage\",hue =\"Response\",data=df,palette = \"dark\")    \n",
        "ba.set_title('Response in terms of Vehicle_Damage ', fontsize=15)"
      ]
    },
    {
      "cell_type": "markdown",
      "source": [
        "We can observe that from above count-plot, policyholders whose vehicle damaged in past are more intrested than those whose vehicle not damaged in the past"
      ],
      "metadata": {
        "id": "3YNXpJkE-l3V"
      }
    },
    {
      "cell_type": "code",
      "execution_count": 39,
      "metadata": {
        "colab": {
          "base_uri": "https://localhost:8080/",
          "height": 295
        },
        "id": "wJ7w7HF9TDiC",
        "outputId": "943318ee-082a-497b-dfe2-7f7b2235944c"
      },
      "outputs": [
        {
          "output_type": "display_data",
          "data": {
            "text/plain": [
              "<Figure size 432x288 with 1 Axes>"
            ],
            "image/png": "[encoded data removed]"
          },
          "metadata": {
            "needs_background": "light"
          }
        }
      ],
      "source": [
        "sns.countplot(x=df['Gender'], data=df)\n",
        "mp.title('Gender gap')\n",
        "mp.show()\n"
      ]
    },
    {
      "cell_type": "markdown",
      "source": [
        "We can see that we have some gender gap we can remove them by advertising marketing strategy."
      ],
      "metadata": {
        "id": "mHElkXtJTj7c"
      }
    },
    {
      "cell_type": "code",
      "execution_count": 40,
      "metadata": {
        "colab": {
          "base_uri": "https://localhost:8080/",
          "height": 299
        },
        "id": "nAAv6YJSXc0e",
        "outputId": "323d2873-1642-4a3d-ac49-2fdd3933890b"
      },
      "outputs": [
        {
          "output_type": "display_data",
          "data": {
            "text/plain": [
              "<Figure size 432x288 with 1 Axes>"
            ],
            "image/png": "[encoded data removed]"
          },
          "metadata": {
            "needs_background": "light"
          }
        }
      ],
      "source": [
        "sns.countplot(x=df['Previously_Insured'], data=df)\n",
        "mp.title('Previously Insured and non-Insured', fontsize=15)\n",
        "ticks = list(range(0, 2, 1)) \n",
        "labels = \"Previously_not_Insured Previously_Insured\".split()\n",
        "mp.xticks(ticks, labels);"
      ]
    },
    {
      "cell_type": "markdown",
      "source": [
        "From the above count-plot we can clearly see that we have more customers who doesn't have any insurance for their vehicle so we can easily target them."
      ],
      "metadata": {
        "id": "ioS-439BT5ZY"
      }
    },
    {
      "cell_type": "code",
      "execution_count": 41,
      "metadata": {
        "colab": {
          "base_uri": "https://localhost:8080/",
          "height": 298
        },
        "id": "BduKUSMsX_zy",
        "outputId": "5cb63dfc-391b-4c13-b613-6ef844d0d037"
      },
      "outputs": [
        {
          "output_type": "display_data",
          "data": {
            "text/plain": [
              "<Figure size 432x288 with 1 Axes>"
            ],
            "image/png": "[encoded data removed]"
          },
          "metadata": {
            "needs_background": "light"
          }
        }
      ],
      "source": [
        "sns.countplot(x=df['Vehicle_Age'], data=df)\n",
        "mp.title('Vehicle Age of Policyholder', fontsize=15)\n",
        "mp.show()"
      ]
    },
    {
      "cell_type": "markdown",
      "source": [
        "From above count-plot we can say that we have less number of policyholders who has vehicle older than 2 years so we have to focus more on other two category."
      ],
      "metadata": {
        "id": "9aw0MjoaUjCw"
      }
    },
    {
      "cell_type": "code",
      "execution_count": 42,
      "metadata": {
        "colab": {
          "base_uri": "https://localhost:8080/",
          "height": 298
        },
        "id": "vXLQUkboYITJ",
        "outputId": "4497eefb-ea20-4a5a-b571-56bdba24bc3a"
      },
      "outputs": [
        {
          "output_type": "display_data",
          "data": {
            "text/plain": [
              "<Figure size 432x288 with 1 Axes>"
            ],
            "image/png": "[encoded data removed]"
          },
          "metadata": {
            "needs_background": "light"
          }
        }
      ],
      "source": [
        "sns.countplot(x=df['Vehicle_Damage'], data=df)\n",
        "mp.title('Vehicle Damage Status', fontsize=15)\n",
        "mp.show()"
      ]
    },
    {
      "cell_type": "markdown",
      "source": [
        "After observation of above plot we can say that we have nearly equal policyholders for both vehicle damage status."
      ],
      "metadata": {
        "id": "UwcX9t16VPQP"
      }
    },
    {
      "cell_type": "code",
      "execution_count": 43,
      "metadata": {
        "colab": {
          "base_uri": "https://localhost:8080/",
          "height": 395
        },
        "id": "woWw80VXYPCD",
        "outputId": "ff5024f9-3a75-49c0-f9f4-9e9c2c78eeda"
      },
      "outputs": [
        {
          "output_type": "execute_result",
          "data": {
            "text/plain": [
              "                            id       Age  Driving_License  Region_Code  \\\n",
              "id                    1.000000  0.001464        -0.000321    -0.000277   \n",
              "Age                   0.001464  1.000000        -0.078650     0.042626   \n",
              "Driving_License      -0.000321 -0.078650         1.000000    -0.001195   \n",
              "Region_Code          -0.000277  0.042626        -0.001195     1.000000   \n",
              "Previously_Insured    0.002768 -0.253794         0.014297    -0.023736   \n",
              "Annual_Premium        0.002857  0.050669        -0.010189    -0.002358   \n",
              "Policy_Sales_Channel -0.002595 -0.576846         0.043390    -0.043020   \n",
              "Vintage              -0.000108 -0.001644        -0.000514    -0.002948   \n",
              "Response             -0.001658  0.110938         0.009630     0.009474   \n",
              "\n",
              "                      Previously_Insured  Annual_Premium  \\\n",
              "id                              0.002768        0.002857   \n",
              "Age                            -0.253794        0.050669   \n",
              "Driving_License                 0.014297       -0.010189   \n",
              "Region_Code                    -0.023736       -0.002358   \n",
              "Previously_Insured              1.000000        0.014252   \n",
              "Annual_Premium                  0.014252        1.000000   \n",
              "Policy_Sales_Channel            0.217038       -0.107074   \n",
              "Vintage                         0.002886       -0.000884   \n",
              "Response                       -0.340913        0.018566   \n",
              "\n",
              "                      Policy_Sales_Channel   Vintage  Response  \n",
              "id                               -0.002595 -0.000108 -0.001658  \n",
              "Age                              -0.576846 -0.001644  0.110938  \n",
              "Driving_License                   0.043390 -0.000514  0.009630  \n",
              "Region_Code                      -0.043020 -0.002948  0.009474  \n",
              "Previously_Insured                0.217038  0.002886 -0.340913  \n",
              "Annual_Premium                   -0.107074 -0.000884  0.018566  \n",
              "Policy_Sales_Channel              1.000000  0.000010 -0.136805  \n",
              "Vintage                           0.000010  1.000000 -0.001631  \n",
              "Response                         -0.136805 -0.001631  1.000000  "
            ],
            "text/html": [
              "\n",
              "  <div id=\"df-5133df8c-126f-4144-97e1-105ae4d92643\">\n",
              "    <div class=\"colab-df-container\">\n",
              "      <div>\n",
              "<style scoped>\n",
              "    .dataframe tbody tr th:only-of-type {\n",
              "        vertical-align: middle;\n",
              "    }\n",
              "\n",
              "    .dataframe tbody tr th {\n",
              "        vertical-align: top;\n",
              "    }\n",
              "\n",
              "    .dataframe thead th {\n",
              "        text-align: right;\n",
              "    }\n",
              "</style>\n",
              "<table border=\"1\" class=\"dataframe\">\n",
              "  <thead>\n",
              "    <tr style=\"text-align: right;\">\n",
              "      <th></th>\n",
              "      <th>id</th>\n",
              "      <th>Age</th>\n",
              "      <th>Driving_License</th>\n",
              "      <th>Region_Code</th>\n",
              "      <th>Previously_Insured</th>\n",
              "      <th>Annual_Premium</th>\n",
              "      <th>Policy_Sales_Channel</th>\n",
              "      <th>Vintage</th>\n",
              "      <th>Response</th>\n",
              "    </tr>\n",
              "  </thead>\n",
              "  <tbody>\n",
              "    <tr>\n",
              "      <th>id</th>\n",
              "      <td>1.000000</td>\n",
              "      <td>0.001464</td>\n",
              "      <td>-0.000321</td>\n",
              "      <td>-0.000277</td>\n",
              "      <td>0.002768</td>\n",
              "      <td>0.002857</td>\n",
              "      <td>-0.002595</td>\n",
              "      <td>-0.000108</td>\n",
              "      <td>-0.001658</td>\n",
              "    </tr>\n",
              "    <tr>\n",
              "      <th>Age</th>\n",
              "      <td>0.001464</td>\n",
              "      <td>1.000000</td>\n",
              "      <td>-0.078650</td>\n",
              "      <td>0.042626</td>\n",
              "      <td>-0.253794</td>\n",
              "      <td>0.050669</td>\n",
              "      <td>-0.576846</td>\n",
              "      <td>-0.001644</td>\n",
              "      <td>0.110938</td>\n",
              "    </tr>\n",
              "    <tr>\n",
              "      <th>Driving_License</th>\n",
              "      <td>-0.000321</td>\n",
              "      <td>-0.078650</td>\n",
              "      <td>1.000000</td>\n",
              "      <td>-0.001195</td>\n",
              "      <td>0.014297</td>\n",
              "      <td>-0.010189</td>\n",
              "      <td>0.043390</td>\n",
              "      <td>-0.000514</td>\n",
              "      <td>0.009630</td>\n",
              "    </tr>\n",
              "    <tr>\n",
              "      <th>Region_Code</th>\n",
              "      <td>-0.000277</td>\n",
              "      <td>0.042626</td>\n",
              "      <td>-0.001195</td>\n",
              "      <td>1.000000</td>\n",
              "      <td>-0.023736</td>\n",
              "      <td>-0.002358</td>\n",
              "      <td>-0.043020</td>\n",
              "      <td>-0.002948</td>\n",
              "      <td>0.009474</td>\n",
              "    </tr>\n",
              "    <tr>\n",
              "      <th>Previously_Insured</th>\n",
              "      <td>0.002768</td>\n",
              "      <td>-0.253794</td>\n",
              "      <td>0.014297</td>\n",
              "      <td>-0.023736</td>\n",
              "      <td>1.000000</td>\n",
              "      <td>0.014252</td>\n",
              "      <td>0.217038</td>\n",
              "      <td>0.002886</td>\n",
              "      <td>-0.340913</td>\n",
              "    </tr>\n",
              "    <tr>\n",
              "      <th>Annual_Premium</th>\n",
              "      <td>0.002857</td>\n",
              "      <td>0.050669</td>\n",
              "      <td>-0.010189</td>\n",
              "      <td>-0.002358</td>\n",
              "      <td>0.014252</td>\n",
              "      <td>1.000000</td>\n",
              "      <td>-0.107074</td>\n",
              "      <td>-0.000884</td>\n",
              "      <td>0.018566</td>\n",
              "    </tr>\n",
              "    <tr>\n",
              "      <th>Policy_Sales_Channel</th>\n",
              "      <td>-0.002595</td>\n",
              "      <td>-0.576846</td>\n",
              "      <td>0.043390</td>\n",
              "      <td>-0.043020</td>\n",
              "      <td>0.217038</td>\n",
              "      <td>-0.107074</td>\n",
              "      <td>1.000000</td>\n",
              "      <td>0.000010</td>\n",
              "      <td>-0.136805</td>\n",
              "    </tr>\n",
              "    <tr>\n",
              "      <th>Vintage</th>\n",
              "      <td>-0.000108</td>\n",
              "      <td>-0.001644</td>\n",
              "      <td>-0.000514</td>\n",
              "      <td>-0.002948</td>\n",
              "      <td>0.002886</td>\n",
              "      <td>-0.000884</td>\n",
              "      <td>0.000010</td>\n",
              "      <td>1.000000</td>\n",
              "      <td>-0.001631</td>\n",
              "    </tr>\n",
              "    <tr>\n",
              "      <th>Response</th>\n",
              "      <td>-0.001658</td>\n",
              "      <td>0.110938</td>\n",
              "      <td>0.009630</td>\n",
              "      <td>0.009474</td>\n",
              "      <td>-0.340913</td>\n",
              "      <td>0.018566</td>\n",
              "      <td>-0.136805</td>\n",
              "      <td>-0.001631</td>\n",
              "      <td>1.000000</td>\n",
              "    </tr>\n",
              "  </tbody>\n",
              "</table>\n",
              "</div>\n",
              "      <button class=\"colab-df-convert\" onclick=\"convertToInteractive('df-5133df8c-126f-4144-97e1-105ae4d92643')\"\n",
              "              title=\"Convert this dataframe to an interactive table.\"\n",
              "              style=\"display:none;\">\n",
              "        \n",
              "  <svg xmlns=\"http://www.w3.org/2000/svg\" height=\"24px\"viewBox=\"0 0 24 24\"\n",
              "       width=\"24px\">\n",
              "    <path d=\"M0 0h24v24H0V0z\" fill=\"none\"/>\n",
              "    <path d=\"M18.56 5.44l.94 2.06.94-2.06 2.06-.94-2.06-.94-.94-2.06-.94 2.06-2.06.94zm-11 1L8.5 8.5l.94-2.06 2.06-.94-2.06-.94L8.5 2.5l-.94 2.06-2.06.94zm10 10l.94 2.06.94-2.06 2.06-.94-2.06-.94-.94-2.06-.94 2.06-2.06.94z\"/><path d=\"M17.41 7.96l-1.37-1.37c-.4-.4-.92-.59-1.43-.59-.52 0-1.04.2-1.43.59L10.3 9.45l-7.72 7.72c-.78.78-.78 2.05 0 2.83L4 21.41c.39.39.9.59 1.41.59.51 0 1.02-.2 1.41-.59l7.78-7.78 2.81-2.81c.8-.78.8-2.07 0-2.86zM5.41 20L4 18.59l7.72-7.72 1.47 1.35L5.41 20z\"/>\n",
              "  </svg>\n",
              "      </button>\n",
              "      \n",
              "  <style>\n",
              "    .colab-df-container {\n",
              "      display:flex;\n",
              "      flex-wrap:wrap;\n",
              "      gap: 12px;\n",
              "    }\n",
              "\n",
              "    .colab-df-convert {\n",
              "      background-color: #E8F0FE;\n",
              "      border: none;\n",
              "      border-radius: 50%;\n",
              "      cursor: pointer;\n",
              "      display: none;\n",
              "      fill: #1967D2;\n",
              "      height: 32px;\n",
              "      padding: 0 0 0 0;\n",
              "      width: 32px;\n",
              "    }\n",
              "\n",
              "    .colab-df-convert:hover {\n",
              "      background-color: #E2EBFA;\n",
              "      box-shadow: 0px 1px 2px rgba(60, 64, 67, 0.3), 0px 1px 3px 1px rgba(60, 64, 67, 0.15);\n",
              "      fill: #174EA6;\n",
              "    }\n",
              "\n",
              "    [theme=dark] .colab-df-convert {\n",
              "      background-color: #3B4455;\n",
              "      fill: #D2E3FC;\n",
              "    }\n",
              "\n",
              "    [theme=dark] .colab-df-convert:hover {\n",
              "      background-color: #434B5C;\n",
              "      box-shadow: 0px 1px 3px 1px rgba(0, 0, 0, 0.15);\n",
              "      filter: drop-shadow(0px 1px 2px rgba(0, 0, 0, 0.3));\n",
              "      fill: #FFFFFF;\n",
              "    }\n",
              "  </style>\n",
              "\n",
              "      <script>\n",
              "        const buttonEl =\n",
              "          document.querySelector('#df-5133df8c-126f-4144-97e1-105ae4d92643 button.colab-df-convert');\n",
              "        buttonEl.style.display =\n",
              "          google.colab.kernel.accessAllowed ? 'block' : 'none';\n",
              "\n",
              "        async function convertToInteractive(key) {\n",
              "          const element = document.querySelector('#df-5133df8c-126f-4144-97e1-105ae4d92643');\n",
              "          const dataTable =\n",
              "            await google.colab.kernel.invokeFunction('convertToInteractive',\n",
              "                                                     [key], {});\n",
              "          if (!dataTable) return;\n",
              "\n",
              "          const docLinkHtml = 'Like what you see? Visit the ' +\n",
              "            '<a target=\"_blank\" href=https://colab.research.google.com/notebooks/data_table.ipynb>data table notebook</a>'\n",
              "            + ' to learn more about interactive tables.';\n",
              "          element.innerHTML = '';\n",
              "          dataTable['output_type'] = 'display_data';\n",
              "          await google.colab.output.renderOutput(dataTable, element);\n",
              "          const docLink = document.createElement('div');\n",
              "          docLink.innerHTML = docLinkHtml;\n",
              "          element.appendChild(docLink);\n",
              "        }\n",
              "      </script>\n",
              "    </div>\n",
              "  </div>\n",
              "  "
            ]
          },
          "metadata": {},
          "execution_count": 43
        }
      ],
      "source": [
        "#Catplot\n",
        "df.corr()"
      ]
    },
    {
      "cell_type": "code",
      "execution_count": 44,
      "metadata": {
        "colab": {
          "base_uri": "https://localhost:8080/",
          "height": 656
        },
        "id": "78oU3cZ0Yqzv",
        "outputId": "c5f5be14-2e3d-4f5f-f150-3c273ce33eda"
      },
      "outputs": [
        {
          "output_type": "execute_result",
          "data": {
            "text/plain": [
              "<matplotlib.axes._subplots.AxesSubplot at 0x7fe0ba496a50>"
            ]
          },
          "metadata": {},
          "execution_count": 44
        },
        {
          "output_type": "display_data",
          "data": {
            "text/plain": [
              "<Figure size 864x648 with 2 Axes>"
            ],
            "image/png": "[encoded data removed]"
          },
          "metadata": {
            "needs_background": "light"
          }
        }
      ],
      "source": [
        "corr_df = df.corr()\n",
        "mp.figure(figsize=(12, 9))\n",
        "sns.heatmap(corr_df, annot=True, xticklabels=corr_df.columns, yticklabels=corr_df.columns)"
      ]
    },
    {
      "cell_type": "markdown",
      "source": [
        "As we can observe that no features are highly correlated to our target feature instead of that policy-sales-channel are negativly correlated with Age."
      ],
      "metadata": {
        "id": "G6lPzzaNVuf5"
      }
    },
    {
      "cell_type": "markdown",
      "source": [
        "Encoding"
      ],
      "metadata": {
        "id": "JoogZRz3Wh_9"
      }
    },
    {
      "cell_type": "code",
      "execution_count": 45,
      "metadata": {
        "colab": {
          "base_uri": "https://localhost:8080/"
        },
        "id": "bptaJogHdn2J",
        "outputId": "f6b9ed2c-bc85-4854-daa8-6513203c98bf"
      },
      "outputs": [
        {
          "output_type": "stream",
          "name": "stderr",
          "text": [
            "/usr/local/lib/python3.7/dist-packages/ipykernel_launcher.py:1: SettingWithCopyWarning: \n",
            "A value is trying to be set on a copy of a slice from a DataFrame.\n",
            "Try using .loc[row_indexer,col_indexer] = value instead\n",
            "\n",
            "See the caveats in the documentation: https://pandas.pydata.org/pandas-docs/stable/user_guide/indexing.html#returning-a-view-versus-a-copy\n",
            "  \"\"\"Entry point for launching an IPython kernel.\n"
          ]
        }
      ],
      "source": [
        "df['Gender'] = df['Gender'].map( {'Female': 0, 'Male': 1} ).astype(int)"
      ]
    },
    {
      "cell_type": "code",
      "execution_count": 46,
      "metadata": {
        "colab": {
          "base_uri": "https://localhost:8080/"
        },
        "id": "sNgWxyz0k7g_",
        "outputId": "8548bfca-981a-419e-81ff-a533eab46001"
      },
      "outputs": [
        {
          "output_type": "stream",
          "name": "stderr",
          "text": [
            "/usr/local/lib/python3.7/dist-packages/ipykernel_launcher.py:1: SettingWithCopyWarning: \n",
            "A value is trying to be set on a copy of a slice from a DataFrame.\n",
            "Try using .loc[row_indexer,col_indexer] = value instead\n",
            "\n",
            "See the caveats in the documentation: https://pandas.pydata.org/pandas-docs/stable/user_guide/indexing.html#returning-a-view-versus-a-copy\n",
            "  \"\"\"Entry point for launching an IPython kernel.\n"
          ]
        }
      ],
      "source": [
        "df['Vehicle_Damage'] = df['Vehicle_Damage'].map( {'No': 0, 'Yes': 1} ).astype(int)"
      ]
    },
    {
      "cell_type": "code",
      "execution_count": 47,
      "metadata": {
        "colab": {
          "base_uri": "https://localhost:8080/",
          "height": 487
        },
        "id": "-Jxu7EaZkabq",
        "outputId": "42e42b8b-428f-4071-ab1f-8d595e11615c"
      },
      "outputs": [
        {
          "output_type": "execute_result",
          "data": {
            "text/plain": [
              "            id  Gender  Age  Driving_License  Region_Code  Previously_Insured  \\\n",
              "0            1       1   44                1         28.0                   0   \n",
              "1            2       1   76                1          3.0                   0   \n",
              "2            3       1   47                1         28.0                   0   \n",
              "3            4       1   21                1         11.0                   1   \n",
              "4            5       0   29                1         41.0                   1   \n",
              "...        ...     ...  ...              ...          ...                 ...   \n",
              "381104  381105       1   74                1         26.0                   1   \n",
              "381105  381106       1   30                1         37.0                   1   \n",
              "381106  381107       1   21                1         30.0                   1   \n",
              "381107  381108       0   68                1         14.0                   0   \n",
              "381108  381109       1   46                1         29.0                   0   \n",
              "\n",
              "       Vehicle_Age  Vehicle_Damage  Annual_Premium  Policy_Sales_Channel  \\\n",
              "0        > 2 Years               1           40454                  26.0   \n",
              "1         1-2 Year               0           33536                  26.0   \n",
              "2        > 2 Years               1           38294                  26.0   \n",
              "3         < 1 Year               0           28619                 152.0   \n",
              "4         < 1 Year               0           27496                 152.0   \n",
              "...            ...             ...             ...                   ...   \n",
              "381104    1-2 Year               0           30170                  26.0   \n",
              "381105    < 1 Year               0           40016                 152.0   \n",
              "381106    < 1 Year               0           35118                 160.0   \n",
              "381107   > 2 Years               1           44617                 124.0   \n",
              "381108    1-2 Year               0           41777                  26.0   \n",
              "\n",
              "        Vintage  Response  \n",
              "0           217         1  \n",
              "1           183         0  \n",
              "2            27         1  \n",
              "3           203         0  \n",
              "4            39         0  \n",
              "...         ...       ...  \n",
              "381104       88         0  \n",
              "381105      131         0  \n",
              "381106      161         0  \n",
              "381107       74         0  \n",
              "381108      237         0  \n",
              "\n",
              "[370789 rows x 12 columns]"
            ],
            "text/html": [
              "\n",
              "  <div id=\"df-6c4245bd-7d51-4d95-a739-e064cb05a29d\">\n",
              "    <div class=\"colab-df-container\">\n",
              "      <div>\n",
              "<style scoped>\n",
              "    .dataframe tbody tr th:only-of-type {\n",
              "        vertical-align: middle;\n",
              "    }\n",
              "\n",
              "    .dataframe tbody tr th {\n",
              "        vertical-align: top;\n",
              "    }\n",
              "\n",
              "    .dataframe thead th {\n",
              "        text-align: right;\n",
              "    }\n",
              "</style>\n",
              "<table border=\"1\" class=\"dataframe\">\n",
              "  <thead>\n",
              "    <tr style=\"text-align: right;\">\n",
              "      <th></th>\n",
              "      <th>id</th>\n",
              "      <th>Gender</th>\n",
              "      <th>Age</th>\n",
              "      <th>Driving_License</th>\n",
              "      <th>Region_Code</th>\n",
              "      <th>Previously_Insured</th>\n",
              "      <th>Vehicle_Age</th>\n",
              "      <th>Vehicle_Damage</th>\n",
              "      <th>Annual_Premium</th>\n",
              "      <th>Policy_Sales_Channel</th>\n",
              "      <th>Vintage</th>\n",
              "      <th>Response</th>\n",
              "    </tr>\n",
              "  </thead>\n",
              "  <tbody>\n",
              "    <tr>\n",
              "      <th>0</th>\n",
              "      <td>1</td>\n",
              "      <td>1</td>\n",
              "      <td>44</td>\n",
              "      <td>1</td>\n",
              "      <td>28.0</td>\n",
              "      <td>0</td>\n",
              "      <td>&gt; 2 Years</td>\n",
              "      <td>1</td>\n",
              "      <td>40454</td>\n",
              "      <td>26.0</td>\n",
              "      <td>217</td>\n",
              "      <td>1</td>\n",
              "    </tr>\n",
              "    <tr>\n",
              "      <th>1</th>\n",
              "      <td>2</td>\n",
              "      <td>1</td>\n",
              "      <td>76</td>\n",
              "      <td>1</td>\n",
              "      <td>3.0</td>\n",
              "      <td>0</td>\n",
              "      <td>1-2 Year</td>\n",
              "      <td>0</td>\n",
              "      <td>33536</td>\n",
              "      <td>26.0</td>\n",
              "      <td>183</td>\n",
              "      <td>0</td>\n",
              "    </tr>\n",
              "    <tr>\n",
              "      <th>2</th>\n",
              "      <td>3</td>\n",
              "      <td>1</td>\n",
              "      <td>47</td>\n",
              "      <td>1</td>\n",
              "      <td>28.0</td>\n",
              "      <td>0</td>\n",
              "      <td>&gt; 2 Years</td>\n",
              "      <td>1</td>\n",
              "      <td>38294</td>\n",
              "      <td>26.0</td>\n",
              "      <td>27</td>\n",
              "      <td>1</td>\n",
              "    </tr>\n",
              "    <tr>\n",
              "      <th>3</th>\n",
              "      <td>4</td>\n",
              "      <td>1</td>\n",
              "      <td>21</td>\n",
              "      <td>1</td>\n",
              "      <td>11.0</td>\n",
              "      <td>1</td>\n",
              "      <td>&lt; 1 Year</td>\n",
              "      <td>0</td>\n",
              "      <td>28619</td>\n",
              "      <td>152.0</td>\n",
              "      <td>203</td>\n",
              "      <td>0</td>\n",
              "    </tr>\n",
              "    <tr>\n",
              "      <th>4</th>\n",
              "      <td>5</td>\n",
              "      <td>0</td>\n",
              "      <td>29</td>\n",
              "      <td>1</td>\n",
              "      <td>41.0</td>\n",
              "      <td>1</td>\n",
              "      <td>&lt; 1 Year</td>\n",
              "      <td>0</td>\n",
              "      <td>27496</td>\n",
              "      <td>152.0</td>\n",
              "      <td>39</td>\n",
              "      <td>0</td>\n",
              "    </tr>\n",
              "    <tr>\n",
              "      <th>...</th>\n",
              "      <td>...</td>\n",
              "      <td>...</td>\n",
              "      <td>...</td>\n",
              "      <td>...</td>\n",
              "      <td>...</td>\n",
              "      <td>...</td>\n",
              "      <td>...</td>\n",
              "      <td>...</td>\n",
              "      <td>...</td>\n",
              "      <td>...</td>\n",
              "      <td>...</td>\n",
              "      <td>...</td>\n",
              "    </tr>\n",
              "    <tr>\n",
              "      <th>381104</th>\n",
              "      <td>381105</td>\n",
              "      <td>1</td>\n",
              "      <td>74</td>\n",
              "      <td>1</td>\n",
              "      <td>26.0</td>\n",
              "      <td>1</td>\n",
              "      <td>1-2 Year</td>\n",
              "      <td>0</td>\n",
              "      <td>30170</td>\n",
              "      <td>26.0</td>\n",
              "      <td>88</td>\n",
              "      <td>0</td>\n",
              "    </tr>\n",
              "    <tr>\n",
              "      <th>381105</th>\n",
              "      <td>381106</td>\n",
              "      <td>1</td>\n",
              "      <td>30</td>\n",
              "      <td>1</td>\n",
              "      <td>37.0</td>\n",
              "      <td>1</td>\n",
              "      <td>&lt; 1 Year</td>\n",
              "      <td>0</td>\n",
              "      <td>40016</td>\n",
              "      <td>152.0</td>\n",
              "      <td>131</td>\n",
              "      <td>0</td>\n",
              "    </tr>\n",
              "    <tr>\n",
              "      <th>381106</th>\n",
              "      <td>381107</td>\n",
              "      <td>1</td>\n",
              "      <td>21</td>\n",
              "      <td>1</td>\n",
              "      <td>30.0</td>\n",
              "      <td>1</td>\n",
              "      <td>&lt; 1 Year</td>\n",
              "      <td>0</td>\n",
              "      <td>35118</td>\n",
              "      <td>160.0</td>\n",
              "      <td>161</td>\n",
              "      <td>0</td>\n",
              "    </tr>\n",
              "    <tr>\n",
              "      <th>381107</th>\n",
              "      <td>381108</td>\n",
              "      <td>0</td>\n",
              "      <td>68</td>\n",
              "      <td>1</td>\n",
              "      <td>14.0</td>\n",
              "      <td>0</td>\n",
              "      <td>&gt; 2 Years</td>\n",
              "      <td>1</td>\n",
              "      <td>44617</td>\n",
              "      <td>124.0</td>\n",
              "      <td>74</td>\n",
              "      <td>0</td>\n",
              "    </tr>\n",
              "    <tr>\n",
              "      <th>381108</th>\n",
              "      <td>381109</td>\n",
              "      <td>1</td>\n",
              "      <td>46</td>\n",
              "      <td>1</td>\n",
              "      <td>29.0</td>\n",
              "      <td>0</td>\n",
              "      <td>1-2 Year</td>\n",
              "      <td>0</td>\n",
              "      <td>41777</td>\n",
              "      <td>26.0</td>\n",
              "      <td>237</td>\n",
              "      <td>0</td>\n",
              "    </tr>\n",
              "  </tbody>\n",
              "</table>\n",
              "<p>370789 rows × 12 columns</p>\n",
              "</div>\n",
              "      <button class=\"colab-df-convert\" onclick=\"convertToInteractive('df-6c4245bd-7d51-4d95-a739-e064cb05a29d')\"\n",
              "              title=\"Convert this dataframe to an interactive table.\"\n",
              "              style=\"display:none;\">\n",
              "        \n",
              "  <svg xmlns=\"http://www.w3.org/2000/svg\" height=\"24px\"viewBox=\"0 0 24 24\"\n",
              "       width=\"24px\">\n",
              "    <path d=\"M0 0h24v24H0V0z\" fill=\"none\"/>\n",
              "    <path d=\"M18.56 5.44l.94 2.06.94-2.06 2.06-.94-2.06-.94-.94-2.06-.94 2.06-2.06.94zm-11 1L8.5 8.5l.94-2.06 2.06-.94-2.06-.94L8.5 2.5l-.94 2.06-2.06.94zm10 10l.94 2.06.94-2.06 2.06-.94-2.06-.94-.94-2.06-.94 2.06-2.06.94z\"/><path d=\"M17.41 7.96l-1.37-1.37c-.4-.4-.92-.59-1.43-.59-.52 0-1.04.2-1.43.59L10.3 9.45l-7.72 7.72c-.78.78-.78 2.05 0 2.83L4 21.41c.39.39.9.59 1.41.59.51 0 1.02-.2 1.41-.59l7.78-7.78 2.81-2.81c.8-.78.8-2.07 0-2.86zM5.41 20L4 18.59l7.72-7.72 1.47 1.35L5.41 20z\"/>\n",
              "  </svg>\n",
              "      </button>\n",
              "      \n",
              "  <style>\n",
              "    .colab-df-container {\n",
              "      display:flex;\n",
              "      flex-wrap:wrap;\n",
              "      gap: 12px;\n",
              "    }\n",
              "\n",
              "    .colab-df-convert {\n",
              "      background-color: #E8F0FE;\n",
              "      border: none;\n",
              "      border-radius: 50%;\n",
              "      cursor: pointer;\n",
              "      display: none;\n",
              "      fill: #1967D2;\n",
              "      height: 32px;\n",
              "      padding: 0 0 0 0;\n",
              "      width: 32px;\n",
              "    }\n",
              "\n",
              "    .colab-df-convert:hover {\n",
              "      background-color: #E2EBFA;\n",
              "      box-shadow: 0px 1px 2px rgba(60, 64, 67, 0.3), 0px 1px 3px 1px rgba(60, 64, 67, 0.15);\n",
              "      fill: #174EA6;\n",
              "    }\n",
              "\n",
              "    [theme=dark] .colab-df-convert {\n",
              "      background-color: #3B4455;\n",
              "      fill: #D2E3FC;\n",
              "    }\n",
              "\n",
              "    [theme=dark] .colab-df-convert:hover {\n",
              "      background-color: #434B5C;\n",
              "      box-shadow: 0px 1px 3px 1px rgba(0, 0, 0, 0.15);\n",
              "      filter: drop-shadow(0px 1px 2px rgba(0, 0, 0, 0.3));\n",
              "      fill: #FFFFFF;\n",
              "    }\n",
              "  </style>\n",
              "\n",
              "      <script>\n",
              "        const buttonEl =\n",
              "          document.querySelector('#df-6c4245bd-7d51-4d95-a739-e064cb05a29d button.colab-df-convert');\n",
              "        buttonEl.style.display =\n",
              "          google.colab.kernel.accessAllowed ? 'block' : 'none';\n",
              "\n",
              "        async function convertToInteractive(key) {\n",
              "          const element = document.querySelector('#df-6c4245bd-7d51-4d95-a739-e064cb05a29d');\n",
              "          const dataTable =\n",
              "            await google.colab.kernel.invokeFunction('convertToInteractive',\n",
              "                                                     [key], {});\n",
              "          if (!dataTable) return;\n",
              "\n",
              "          const docLinkHtml = 'Like what you see? Visit the ' +\n",
              "            '<a target=\"_blank\" href=https://colab.research.google.com/notebooks/data_table.ipynb>data table notebook</a>'\n",
              "            + ' to learn more about interactive tables.';\n",
              "          element.innerHTML = '';\n",
              "          dataTable['output_type'] = 'display_data';\n",
              "          await google.colab.output.renderOutput(dataTable, element);\n",
              "          const docLink = document.createElement('div');\n",
              "          docLink.innerHTML = docLinkHtml;\n",
              "          element.appendChild(docLink);\n",
              "        }\n",
              "      </script>\n",
              "    </div>\n",
              "  </div>\n",
              "  "
            ]
          },
          "metadata": {},
          "execution_count": 47
        }
      ],
      "source": [
        "df"
      ]
    },
    {
      "cell_type": "code",
      "execution_count": 48,
      "metadata": {
        "colab": {
          "base_uri": "https://localhost:8080/"
        },
        "id": "kA8ziyVYk4ut",
        "outputId": "cbc2b56e-ac00-488a-ac7c-9f94406b1a45"
      },
      "outputs": [
        {
          "output_type": "stream",
          "name": "stderr",
          "text": [
            "/usr/local/lib/python3.7/dist-packages/ipykernel_launcher.py:1: SettingWithCopyWarning: \n",
            "A value is trying to be set on a copy of a slice from a DataFrame.\n",
            "Try using .loc[row_indexer,col_indexer] = value instead\n",
            "\n",
            "See the caveats in the documentation: https://pandas.pydata.org/pandas-docs/stable/user_guide/indexing.html#returning-a-view-versus-a-copy\n",
            "  \"\"\"Entry point for launching an IPython kernel.\n"
          ]
        }
      ],
      "source": [
        "df['Vehicle_Age'] = df['Vehicle_Age'].map( {'< 1 Year': 'Vehicle under 1 year', '1-2 Year': 'Vehicle under 1-2 year','> 2 Years':'Vehicle under more than 2 years'} )"
      ]
    },
    {
      "cell_type": "code",
      "execution_count": 49,
      "metadata": {
        "id": "4jJT7nQgmk39"
      },
      "outputs": [],
      "source": [
        "df=pd.get_dummies(df) #drop_first=True"
      ]
    },
    {
      "cell_type": "code",
      "execution_count": 50,
      "metadata": {
        "id": "_qE8R8M1mvbg"
      },
      "outputs": [],
      "source": [
        "df.drop(['id'],axis=1, inplace=True)"
      ]
    },
    {
      "cell_type": "code",
      "execution_count": 51,
      "metadata": {
        "colab": {
          "base_uri": "https://localhost:8080/",
          "height": 522
        },
        "id": "2lELMA0ZmAYN",
        "outputId": "8b03d556-dccf-42e7-a9fd-c431be444f58"
      },
      "outputs": [
        {
          "output_type": "execute_result",
          "data": {
            "text/plain": [
              "        Gender  Age  Driving_License  Region_Code  Previously_Insured  \\\n",
              "0            1   44                1         28.0                   0   \n",
              "1            1   76                1          3.0                   0   \n",
              "2            1   47                1         28.0                   0   \n",
              "3            1   21                1         11.0                   1   \n",
              "4            0   29                1         41.0                   1   \n",
              "...        ...  ...              ...          ...                 ...   \n",
              "381104       1   74                1         26.0                   1   \n",
              "381105       1   30                1         37.0                   1   \n",
              "381106       1   21                1         30.0                   1   \n",
              "381107       0   68                1         14.0                   0   \n",
              "381108       1   46                1         29.0                   0   \n",
              "\n",
              "        Vehicle_Damage  Annual_Premium  Policy_Sales_Channel  Vintage  \\\n",
              "0                    1           40454                  26.0      217   \n",
              "1                    0           33536                  26.0      183   \n",
              "2                    1           38294                  26.0       27   \n",
              "3                    0           28619                 152.0      203   \n",
              "4                    0           27496                 152.0       39   \n",
              "...                ...             ...                   ...      ...   \n",
              "381104               0           30170                  26.0       88   \n",
              "381105               0           40016                 152.0      131   \n",
              "381106               0           35118                 160.0      161   \n",
              "381107               1           44617                 124.0       74   \n",
              "381108               0           41777                  26.0      237   \n",
              "\n",
              "        Response  Vehicle_Age_Vehicle under 1 year  \\\n",
              "0              1                                 0   \n",
              "1              0                                 0   \n",
              "2              1                                 0   \n",
              "3              0                                 1   \n",
              "4              0                                 1   \n",
              "...          ...                               ...   \n",
              "381104         0                                 0   \n",
              "381105         0                                 1   \n",
              "381106         0                                 1   \n",
              "381107         0                                 0   \n",
              "381108         0                                 0   \n",
              "\n",
              "        Vehicle_Age_Vehicle under 1-2 year  \\\n",
              "0                                        0   \n",
              "1                                        1   \n",
              "2                                        0   \n",
              "3                                        0   \n",
              "4                                        0   \n",
              "...                                    ...   \n",
              "381104                                   1   \n",
              "381105                                   0   \n",
              "381106                                   0   \n",
              "381107                                   0   \n",
              "381108                                   1   \n",
              "\n",
              "        Vehicle_Age_Vehicle under more than 2 years  \n",
              "0                                                 1  \n",
              "1                                                 0  \n",
              "2                                                 1  \n",
              "3                                                 0  \n",
              "4                                                 0  \n",
              "...                                             ...  \n",
              "381104                                            0  \n",
              "381105                                            0  \n",
              "381106                                            0  \n",
              "381107                                            1  \n",
              "381108                                            0  \n",
              "\n",
              "[370789 rows x 13 columns]"
            ],
            "text/html": [
              "\n",
              "  <div id=\"df-93116f6d-ee72-4906-8fb2-f7db0fc9916d\">\n",
              "    <div class=\"colab-df-container\">\n",
              "      <div>\n",
              "<style scoped>\n",
              "    .dataframe tbody tr th:only-of-type {\n",
              "        vertical-align: middle;\n",
              "    }\n",
              "\n",
              "    .dataframe tbody tr th {\n",
              "        vertical-align: top;\n",
              "    }\n",
              "\n",
              "    .dataframe thead th {\n",
              "        text-align: right;\n",
              "    }\n",
              "</style>\n",
              "<table border=\"1\" class=\"dataframe\">\n",
              "  <thead>\n",
              "    <tr style=\"text-align: right;\">\n",
              "      <th></th>\n",
              "      <th>Gender</th>\n",
              "      <th>Age</th>\n",
              "      <th>Driving_License</th>\n",
              "      <th>Region_Code</th>\n",
              "      <th>Previously_Insured</th>\n",
              "      <th>Vehicle_Damage</th>\n",
              "      <th>Annual_Premium</th>\n",
              "      <th>Policy_Sales_Channel</th>\n",
              "      <th>Vintage</th>\n",
              "      <th>Response</th>\n",
              "      <th>Vehicle_Age_Vehicle under 1 year</th>\n",
              "      <th>Vehicle_Age_Vehicle under 1-2 year</th>\n",
              "      <th>Vehicle_Age_Vehicle under more than 2 years</th>\n",
              "    </tr>\n",
              "  </thead>\n",
              "  <tbody>\n",
              "    <tr>\n",
              "      <th>0</th>\n",
              "      <td>1</td>\n",
              "      <td>44</td>\n",
              "      <td>1</td>\n",
              "      <td>28.0</td>\n",
              "      <td>0</td>\n",
              "      <td>1</td>\n",
              "      <td>40454</td>\n",
              "      <td>26.0</td>\n",
              "      <td>217</td>\n",
              "      <td>1</td>\n",
              "      <td>0</td>\n",
              "      <td>0</td>\n",
              "      <td>1</td>\n",
              "    </tr>\n",
              "    <tr>\n",
              "      <th>1</th>\n",
              "      <td>1</td>\n",
              "      <td>76</td>\n",
              "      <td>1</td>\n",
              "      <td>3.0</td>\n",
              "      <td>0</td>\n",
              "      <td>0</td>\n",
              "      <td>33536</td>\n",
              "      <td>26.0</td>\n",
              "      <td>183</td>\n",
              "      <td>0</td>\n",
              "      <td>0</td>\n",
              "      <td>1</td>\n",
              "      <td>0</td>\n",
              "    </tr>\n",
              "    <tr>\n",
              "      <th>2</th>\n",
              "      <td>1</td>\n",
              "      <td>47</td>\n",
              "      <td>1</td>\n",
              "      <td>28.0</td>\n",
              "      <td>0</td>\n",
              "      <td>1</td>\n",
              "      <td>38294</td>\n",
              "      <td>26.0</td>\n",
              "      <td>27</td>\n",
              "      <td>1</td>\n",
              "      <td>0</td>\n",
              "      <td>0</td>\n",
              "      <td>1</td>\n",
              "    </tr>\n",
              "    <tr>\n",
              "      <th>3</th>\n",
              "      <td>1</td>\n",
              "      <td>21</td>\n",
              "      <td>1</td>\n",
              "      <td>11.0</td>\n",
              "      <td>1</td>\n",
              "      <td>0</td>\n",
              "      <td>28619</td>\n",
              "      <td>152.0</td>\n",
              "      <td>203</td>\n",
              "      <td>0</td>\n",
              "      <td>1</td>\n",
              "      <td>0</td>\n",
              "      <td>0</td>\n",
              "    </tr>\n",
              "    <tr>\n",
              "      <th>4</th>\n",
              "      <td>0</td>\n",
              "      <td>29</td>\n",
              "      <td>1</td>\n",
              "      <td>41.0</td>\n",
              "      <td>1</td>\n",
              "      <td>0</td>\n",
              "      <td>27496</td>\n",
              "      <td>152.0</td>\n",
              "      <td>39</td>\n",
              "      <td>0</td>\n",
              "      <td>1</td>\n",
              "      <td>0</td>\n",
              "      <td>0</td>\n",
              "    </tr>\n",
              "    <tr>\n",
              "      <th>...</th>\n",
              "      <td>...</td>\n",
              "      <td>...</td>\n",
              "      <td>...</td>\n",
              "      <td>...</td>\n",
              "      <td>...</td>\n",
              "      <td>...</td>\n",
              "      <td>...</td>\n",
              "      <td>...</td>\n",
              "      <td>...</td>\n",
              "      <td>...</td>\n",
              "      <td>...</td>\n",
              "      <td>...</td>\n",
              "      <td>...</td>\n",
              "    </tr>\n",
              "    <tr>\n",
              "      <th>381104</th>\n",
              "      <td>1</td>\n",
              "      <td>74</td>\n",
              "      <td>1</td>\n",
              "      <td>26.0</td>\n",
              "      <td>1</td>\n",
              "      <td>0</td>\n",
              "      <td>30170</td>\n",
              "      <td>26.0</td>\n",
              "      <td>88</td>\n",
              "      <td>0</td>\n",
              "      <td>0</td>\n",
              "      <td>1</td>\n",
              "      <td>0</td>\n",
              "    </tr>\n",
              "    <tr>\n",
              "      <th>381105</th>\n",
              "      <td>1</td>\n",
              "      <td>30</td>\n",
              "      <td>1</td>\n",
              "      <td>37.0</td>\n",
              "      <td>1</td>\n",
              "      <td>0</td>\n",
              "      <td>40016</td>\n",
              "      <td>152.0</td>\n",
              "      <td>131</td>\n",
              "      <td>0</td>\n",
              "      <td>1</td>\n",
              "      <td>0</td>\n",
              "      <td>0</td>\n",
              "    </tr>\n",
              "    <tr>\n",
              "      <th>381106</th>\n",
              "      <td>1</td>\n",
              "      <td>21</td>\n",
              "      <td>1</td>\n",
              "      <td>30.0</td>\n",
              "      <td>1</td>\n",
              "      <td>0</td>\n",
              "      <td>35118</td>\n",
              "      <td>160.0</td>\n",
              "      <td>161</td>\n",
              "      <td>0</td>\n",
              "      <td>1</td>\n",
              "      <td>0</td>\n",
              "      <td>0</td>\n",
              "    </tr>\n",
              "    <tr>\n",
              "      <th>381107</th>\n",
              "      <td>0</td>\n",
              "      <td>68</td>\n",
              "      <td>1</td>\n",
              "      <td>14.0</td>\n",
              "      <td>0</td>\n",
              "      <td>1</td>\n",
              "      <td>44617</td>\n",
              "      <td>124.0</td>\n",
              "      <td>74</td>\n",
              "      <td>0</td>\n",
              "      <td>0</td>\n",
              "      <td>0</td>\n",
              "      <td>1</td>\n",
              "    </tr>\n",
              "    <tr>\n",
              "      <th>381108</th>\n",
              "      <td>1</td>\n",
              "      <td>46</td>\n",
              "      <td>1</td>\n",
              "      <td>29.0</td>\n",
              "      <td>0</td>\n",
              "      <td>0</td>\n",
              "      <td>41777</td>\n",
              "      <td>26.0</td>\n",
              "      <td>237</td>\n",
              "      <td>0</td>\n",
              "      <td>0</td>\n",
              "      <td>1</td>\n",
              "      <td>0</td>\n",
              "    </tr>\n",
              "  </tbody>\n",
              "</table>\n",
              "<p>370789 rows × 13 columns</p>\n",
              "</div>\n",
              "      <button class=\"colab-df-convert\" onclick=\"convertToInteractive('df-93116f6d-ee72-4906-8fb2-f7db0fc9916d')\"\n",
              "              title=\"Convert this dataframe to an interactive table.\"\n",
              "              style=\"display:none;\">\n",
              "        \n",
              "  <svg xmlns=\"http://www.w3.org/2000/svg\" height=\"24px\"viewBox=\"0 0 24 24\"\n",
              "       width=\"24px\">\n",
              "    <path d=\"M0 0h24v24H0V0z\" fill=\"none\"/>\n",
              "    <path d=\"M18.56 5.44l.94 2.06.94-2.06 2.06-.94-2.06-.94-.94-2.06-.94 2.06-2.06.94zm-11 1L8.5 8.5l.94-2.06 2.06-.94-2.06-.94L8.5 2.5l-.94 2.06-2.06.94zm10 10l.94 2.06.94-2.06 2.06-.94-2.06-.94-.94-2.06-.94 2.06-2.06.94z\"/><path d=\"M17.41 7.96l-1.37-1.37c-.4-.4-.92-.59-1.43-.59-.52 0-1.04.2-1.43.59L10.3 9.45l-7.72 7.72c-.78.78-.78 2.05 0 2.83L4 21.41c.39.39.9.59 1.41.59.51 0 1.02-.2 1.41-.59l7.78-7.78 2.81-2.81c.8-.78.8-2.07 0-2.86zM5.41 20L4 18.59l7.72-7.72 1.47 1.35L5.41 20z\"/>\n",
              "  </svg>\n",
              "      </button>\n",
              "      \n",
              "  <style>\n",
              "    .colab-df-container {\n",
              "      display:flex;\n",
              "      flex-wrap:wrap;\n",
              "      gap: 12px;\n",
              "    }\n",
              "\n",
              "    .colab-df-convert {\n",
              "      background-color: #E8F0FE;\n",
              "      border: none;\n",
              "      border-radius: 50%;\n",
              "      cursor: pointer;\n",
              "      display: none;\n",
              "      fill: #1967D2;\n",
              "      height: 32px;\n",
              "      padding: 0 0 0 0;\n",
              "      width: 32px;\n",
              "    }\n",
              "\n",
              "    .colab-df-convert:hover {\n",
              "      background-color: #E2EBFA;\n",
              "      box-shadow: 0px 1px 2px rgba(60, 64, 67, 0.3), 0px 1px 3px 1px rgba(60, 64, 67, 0.15);\n",
              "      fill: #174EA6;\n",
              "    }\n",
              "\n",
              "    [theme=dark] .colab-df-convert {\n",
              "      background-color: #3B4455;\n",
              "      fill: #D2E3FC;\n",
              "    }\n",
              "\n",
              "    [theme=dark] .colab-df-convert:hover {\n",
              "      background-color: #434B5C;\n",
              "      box-shadow: 0px 1px 3px 1px rgba(0, 0, 0, 0.15);\n",
              "      filter: drop-shadow(0px 1px 2px rgba(0, 0, 0, 0.3));\n",
              "      fill: #FFFFFF;\n",
              "    }\n",
              "  </style>\n",
              "\n",
              "      <script>\n",
              "        const buttonEl =\n",
              "          document.querySelector('#df-93116f6d-ee72-4906-8fb2-f7db0fc9916d button.colab-df-convert');\n",
              "        buttonEl.style.display =\n",
              "          google.colab.kernel.accessAllowed ? 'block' : 'none';\n",
              "\n",
              "        async function convertToInteractive(key) {\n",
              "          const element = document.querySelector('#df-93116f6d-ee72-4906-8fb2-f7db0fc9916d');\n",
              "          const dataTable =\n",
              "            await google.colab.kernel.invokeFunction('convertToInteractive',\n",
              "                                                     [key], {});\n",
              "          if (!dataTable) return;\n",
              "\n",
              "          const docLinkHtml = 'Like what you see? Visit the ' +\n",
              "            '<a target=\"_blank\" href=https://colab.research.google.com/notebooks/data_table.ipynb>data table notebook</a>'\n",
              "            + ' to learn more about interactive tables.';\n",
              "          element.innerHTML = '';\n",
              "          dataTable['output_type'] = 'display_data';\n",
              "          await google.colab.output.renderOutput(dataTable, element);\n",
              "          const docLink = document.createElement('div');\n",
              "          docLink.innerHTML = docLinkHtml;\n",
              "          element.appendChild(docLink);\n",
              "        }\n",
              "      </script>\n",
              "    </div>\n",
              "  </div>\n",
              "  "
            ]
          },
          "metadata": {},
          "execution_count": 51
        }
      ],
      "source": [
        "df"
      ]
    },
    {
      "cell_type": "markdown",
      "metadata": {
        "id": "Wl8w0PStp2SD"
      },
      "source": [
        "Try converting them to int64 and check"
      ]
    },
    {
      "cell_type": "code",
      "source": [
        "# for converting column type to int\n",
        "df['Region_Code']=df['Region_Code'].astype(int)\n",
        "df['Policy_Sales_Channel']=df['Policy_Sales_Channel'].astype(int)\n",
        "df['Vehicle_Age_Vehicle under 1 year']=df['Vehicle_Age_Vehicle under 1 year'].astype(int)\n",
        "df['Vehicle_Age_Vehicle under 1-2 year']=df['Vehicle_Age_Vehicle under 1-2 year'].astype(int)\n",
        "df['Vehicle_Age_Vehicle under more than 2 years']=df['Vehicle_Age_Vehicle under more than 2 years'].astype(int)"
      ],
      "metadata": {
        "id": "NFJbzn_fEjHX"
      },
      "execution_count": 52,
      "outputs": []
    },
    {
      "cell_type": "code",
      "execution_count": 53,
      "metadata": {
        "colab": {
          "base_uri": "https://localhost:8080/"
        },
        "id": "BJUU6SCPpQsR",
        "outputId": "786746fd-1db3-471e-8214-b09802eb7f8d"
      },
      "outputs": [
        {
          "output_type": "stream",
          "name": "stdout",
          "text": [
            "<class 'pandas.core.frame.DataFrame'>\n",
            "Int64Index: 370789 entries, 0 to 381108\n",
            "Data columns (total 13 columns):\n",
            " #   Column                                       Non-Null Count   Dtype\n",
            "---  ------                                       --------------   -----\n",
            " 0   Gender                                       370789 non-null  int64\n",
            " 1   Age                                          370789 non-null  int64\n",
            " 2   Driving_License                              370789 non-null  int64\n",
            " 3   Region_Code                                  370789 non-null  int64\n",
            " 4   Previously_Insured                           370789 non-null  int64\n",
            " 5   Vehicle_Damage                               370789 non-null  int64\n",
            " 6   Annual_Premium                               370789 non-null  int64\n",
            " 7   Policy_Sales_Channel                         370789 non-null  int64\n",
            " 8   Vintage                                      370789 non-null  int64\n",
            " 9   Response                                     370789 non-null  int64\n",
            " 10  Vehicle_Age_Vehicle under 1 year             370789 non-null  int64\n",
            " 11  Vehicle_Age_Vehicle under 1-2 year           370789 non-null  int64\n",
            " 12  Vehicle_Age_Vehicle under more than 2 years  370789 non-null  int64\n",
            "dtypes: int64(13)\n",
            "memory usage: 47.7 MB\n"
          ]
        }
      ],
      "source": [
        "#Checking dtype of features\n",
        "df.info()"
      ]
    },
    {
      "cell_type": "code",
      "source": [
        "#Defining X and y variable\n",
        "X=df.drop(['Response'],axis=1)\n",
        "y=df['Response']"
      ],
      "metadata": {
        "id": "ojycxmQcb6gr"
      },
      "execution_count": 55,
      "outputs": []
    },
    {
      "cell_type": "markdown",
      "source": [
        "Preparation for feeding data to ML models"
      ],
      "metadata": {
        "id": "KHDgIQsbqgVb"
      }
    },
    {
      "cell_type": "code",
      "source": [
        "# Split\n",
        "X_train,X_test,y_train,y_test=train_test_split(X,y,test_size=0.2,random_state=42,stratify=y)"
      ],
      "metadata": {
        "id": "-mJU6lHroRXh"
      },
      "execution_count": 56,
      "outputs": []
    },
    {
      "cell_type": "code",
      "source": [
        "print(X_train.shape)\n",
        "print(y_train.shape)"
      ],
      "metadata": {
        "colab": {
          "base_uri": "https://localhost:8080/"
        },
        "id": "DUPVJtaJog0M",
        "outputId": "2c265b96-c1a5-4845-f744-d3a740c228c4"
      },
      "execution_count": 57,
      "outputs": [
        {
          "output_type": "stream",
          "name": "stdout",
          "text": [
            "(296631, 12)\n",
            "(296631,)\n"
          ]
        }
      ]
    },
    {
      "cell_type": "code",
      "source": [
        "print(X_test.shape)\n",
        "print(y_test.shape)"
      ],
      "metadata": {
        "colab": {
          "base_uri": "https://localhost:8080/"
        },
        "id": "rHB9aTReos9s",
        "outputId": "d1ccc965-e199-47c9-dade-0dee0ed1d18d"
      },
      "execution_count": 58,
      "outputs": [
        {
          "output_type": "stream",
          "name": "stdout",
          "text": [
            "(74158, 12)\n",
            "(74158,)\n"
          ]
        }
      ]
    },
    {
      "cell_type": "markdown",
      "source": [
        "Using SMOTE for balancing train data"
      ],
      "metadata": {
        "id": "qAPKk0o9o7GM"
      }
    },
    {
      "cell_type": "code",
      "source": [
        "# from imblearn.over_sampling import SMOTE\n",
        "sm = SMOTE(random_state=42)\n",
        "X_train, y_train = sm.fit_resample(X_train, y_train)"
      ],
      "metadata": {
        "id": "nFbbrvGe8bAl"
      },
      "execution_count": 59,
      "outputs": []
    },
    {
      "cell_type": "code",
      "source": [
        "y_train.value_counts()"
      ],
      "metadata": {
        "colab": {
          "base_uri": "https://localhost:8080/"
        },
        "id": "9DRNMGghPVXa",
        "outputId": "9a2bc322-a44d-4bf2-ad76-61a894415bd3"
      },
      "execution_count": 64,
      "outputs": [
        {
          "output_type": "execute_result",
          "data": {
            "text/plain": [
              "0    260507\n",
              "1    260507\n",
              "Name: Response, dtype: int64"
            ]
          },
          "metadata": {},
          "execution_count": 64
        }
      ]
    },
    {
      "cell_type": "code",
      "source": [
        "print(X_train.shape)\n",
        "print(y_train.shape)"
      ],
      "metadata": {
        "colab": {
          "base_uri": "https://localhost:8080/"
        },
        "id": "PBBSsGX16TMk",
        "outputId": "52e36494-c12d-464d-9eb7-0bbfbd92862a"
      },
      "execution_count": 60,
      "outputs": [
        {
          "output_type": "stream",
          "name": "stdout",
          "text": [
            "(521014, 12)\n",
            "(521014,)\n"
          ]
        }
      ]
    },
    {
      "cell_type": "code",
      "source": [
        "#make a list of column for getting feature importance at the end\n",
        "train_col_list=list(X_train.columns)\n",
        "train_col_list"
      ],
      "metadata": {
        "colab": {
          "base_uri": "https://localhost:8080/"
        },
        "id": "82ileF3KGYOL",
        "outputId": "2d0fde09-9db0-4157-9d88-743f37d34f34"
      },
      "execution_count": 61,
      "outputs": [
        {
          "output_type": "execute_result",
          "data": {
            "text/plain": [
              "['Gender',\n",
              " 'Age',\n",
              " 'Driving_License',\n",
              " 'Region_Code',\n",
              " 'Previously_Insured',\n",
              " 'Vehicle_Damage',\n",
              " 'Annual_Premium',\n",
              " 'Policy_Sales_Channel',\n",
              " 'Vintage',\n",
              " 'Vehicle_Age_Vehicle under 1 year',\n",
              " 'Vehicle_Age_Vehicle under 1-2 year',\n",
              " 'Vehicle_Age_Vehicle under more than 2 years']"
            ]
          },
          "metadata": {},
          "execution_count": 61
        }
      ]
    },
    {
      "cell_type": "markdown",
      "source": [
        "Scaling"
      ],
      "metadata": {
        "id": "iqURn9WF61AX"
      }
    },
    {
      "cell_type": "code",
      "execution_count": 62,
      "metadata": {
        "id": "VQaQDt1qr5UV"
      },
      "outputs": [],
      "source": [
        "# #tried Standard Scaler also but MinMax Scaler Gives good result\n",
        "ss = MinMaxScaler() \n",
        "X_train=ss.fit_transform(X_train)\n",
        "X_test=ss.transform(X_test)"
      ]
    },
    {
      "cell_type": "markdown",
      "source": [
        "Trying Various Models"
      ],
      "metadata": {
        "id": "NGd39ZG963w1"
      }
    },
    {
      "cell_type": "code",
      "execution_count": 66,
      "metadata": {
        "id": "93_0CcKtzN6c"
      },
      "outputs": [],
      "source": [
        "models = [\n",
        "           ['LinearClassifier: ', Perceptron()],\n",
        "           ['GNB: ', GaussianNB()],\n",
        "           ['BNB: ', BernoulliNB()],\n",
        "          #  ['SVC: ', SVC()],  # Because of taking too much time\n",
        "           ['KNeighborsClassifier: ', KNeighborsClassifier()],\n",
        "           ['DecisionTreeClassifier: ', DecisionTreeClassifier()],\n",
        "           ['RandomForestClassifier ',RandomForestClassifier()],\n",
        "           ['GradientBoostingClassifier: ', GradientBoostingClassifier()] ,\n",
        "           ['XGBClassifier: ', XGBClassifier(eval_metric='mlogloss')],\n",
        "           ['AdaBoostClassifier: ',AdaBoostClassifier()],\n",
        "           ['LgbmClassifier: ',ltb.LGBMClassifier()]\n",
        "         ]"
      ]
    },
    {
      "cell_type": "code",
      "execution_count": 67,
      "metadata": {
        "id": "dDuIsHWJzNlA"
      },
      "outputs": [],
      "source": [
        "model_data = []\n",
        "for name,curr_model in models :\n",
        "    curr_model_data = {}\n",
        "    curr_model.random_state = 42\n",
        "    curr_model_data[\"Name\"] = name\n",
        "    start = time.time()\n",
        "    curr_model.fit(X_train,y_train)\n",
        "    end = time.time()\n",
        "    curr_model_data[\"Train_Time\"] = end - start\n",
        "    curr_model_data[\"Train_accuracy_score\"] = accuracy_score(y_train,[round(value) for value in (curr_model.predict(X_train))])\n",
        "    curr_model_data[\"Test_accuracy_score\"] = accuracy_score(y_test,[round(value) for value in (curr_model.predict(X_test))])\n",
        "    curr_model_data[\"Test_precision_score\"]= precision_score(y_test,[round(value) for value in (curr_model.predict(X_test))])\n",
        "    curr_model_data[\"Test_f1_score\"]= f1_score(y_test,[round(value) for value in (curr_model.predict(X_test))])\n",
        "    curr_model_data[\"Test_roc_auc_score\"]= roc_auc_score(y_test,[round(value) for value in (curr_model.predict(X_test))])\n",
        "    model_data.append(curr_model_data)"
      ]
    },
    {
      "cell_type": "code",
      "execution_count": 68,
      "metadata": {
        "id": "Kk_lQdTQzNti",
        "colab": {
          "base_uri": "https://localhost:8080/"
        },
        "outputId": "83d02e44-8191-4aaa-e72c-809b07a7973f"
      },
      "outputs": [
        {
          "output_type": "execute_result",
          "data": {
            "text/plain": [
              "[{'Name': 'LinearClassifier: ',\n",
              "  'Test_accuracy_score': 0.8197362388413927,\n",
              "  'Test_f1_score': 0.363003907366816,\n",
              "  'Test_precision_score': 0.31861145964031784,\n",
              "  'Test_roc_auc_score': 0.6483453841726585,\n",
              "  'Train_Time': 0.6746418476104736,\n",
              "  'Train_accuracy_score': 0.7586264476578365},\n",
              " {'Name': 'GNB: ',\n",
              "  'Test_accuracy_score': 0.7201380835513363,\n",
              "  'Test_f1_score': 0.4247782705099778,\n",
              "  'Test_precision_score': 0.2833006765499649,\n",
              "  'Test_roc_auc_score': 0.7754285976516703,\n",
              "  'Train_Time': 0.12692689895629883,\n",
              "  'Train_accuracy_score': 0.8023757518991812},\n",
              " {'Name': 'BNB: ',\n",
              "  'Test_accuracy_score': 0.7201380835513363,\n",
              "  'Test_f1_score': 0.42008494467419244,\n",
              "  'Test_precision_score': 0.28093582987629406,\n",
              "  'Test_roc_auc_score': 0.7684662157932195,\n",
              "  'Train_Time': 0.1859726905822754,\n",
              "  'Train_accuracy_score': 0.8018709669989674},\n",
              " {'Name': 'KNeighborsClassifier: ',\n",
              "  'Test_accuracy_score': 0.7769896707030934,\n",
              "  'Test_f1_score': 0.381062874251497,\n",
              "  'Test_precision_score': 0.28780598111820904,\n",
              "  'Test_roc_auc_score': 0.6851437548907555,\n",
              "  'Train_Time': 1.661266803741455,\n",
              "  'Train_accuracy_score': 0.9000295577470088},\n",
              " {'Name': 'DecisionTreeClassifier: ',\n",
              "  'Test_accuracy_score': 0.7937107257477278,\n",
              "  'Test_f1_score': 0.3423609319920901,\n",
              "  'Test_precision_score': 0.2798116787295341,\n",
              "  'Test_roc_auc_score': 0.6417781264889978,\n",
              "  'Train_Time': 3.1352546215057373,\n",
              "  'Train_accuracy_score': 0.9997197772036835},\n",
              " {'Name': 'RandomForestClassifier ',\n",
              "  'Test_accuracy_score': 0.8071145392270558,\n",
              "  'Test_f1_score': 0.3762972006627714,\n",
              "  'Test_precision_score': 0.3103646694957923,\n",
              "  'Test_roc_auc_score': 0.6652893232021575,\n",
              "  'Train_Time': 82.83380270004272,\n",
              "  'Train_accuracy_score': 0.9997140192010195},\n",
              " {'Name': 'GradientBoostingClassifier: ',\n",
              "  'Test_accuracy_score': 0.7644488794196176,\n",
              "  'Test_f1_score': 0.429709435194254,\n",
              "  'Test_precision_score': 0.3046900319459234,\n",
              "  'Test_roc_auc_score': 0.7490583039888215,\n",
              "  'Train_Time': 72.06768441200256,\n",
              "  'Train_accuracy_score': 0.8380312237291129},\n",
              " {'Name': 'XGBClassifier: ',\n",
              "  'Test_accuracy_score': 0.7613473934032741,\n",
              "  'Test_f1_score': 0.4303096632974957,\n",
              "  'Test_precision_score': 0.3033356024506467,\n",
              "  'Test_roc_auc_score': 0.7522043406219264,\n",
              "  'Train_Time': 31.295458793640137,\n",
              "  'Train_accuracy_score': 0.8385360086293266},\n",
              " {'Name': 'AdaBoostClassifier: ',\n",
              "  'Test_accuracy_score': 0.7526902020011327,\n",
              "  'Test_f1_score': 0.4297618307319196,\n",
              "  'Test_precision_score': 0.29877653365613244,\n",
              "  'Test_roc_auc_score': 0.7581005824251426,\n",
              "  'Train_Time': 18.98308777809143,\n",
              "  'Train_accuracy_score': 0.829394219733059},\n",
              " {'Name': 'LgbmClassifier: ',\n",
              "  'Test_accuracy_score': 0.7862806440303136,\n",
              "  'Test_f1_score': 0.42099879443247,\n",
              "  'Test_precision_score': 0.3141424054083524,\n",
              "  'Test_roc_auc_score': 0.7224317637202015,\n",
              "  'Train_Time': 6.652142286300659,\n",
              "  'Train_accuracy_score': 0.8514013059150042}]"
            ]
          },
          "metadata": {},
          "execution_count": 68
        }
      ],
      "source": [
        "model_data"
      ]
    },
    {
      "cell_type": "code",
      "execution_count": 69,
      "metadata": {
        "id": "btY9PS_l8uxJ"
      },
      "outputs": [],
      "source": [
        "# making Dataframe of resuls\n",
        "result= pd.DataFrame(model_data)"
      ]
    },
    {
      "cell_type": "code",
      "execution_count": 70,
      "metadata": {
        "id": "fRqmknYQzNqf",
        "colab": {
          "base_uri": "https://localhost:8080/",
          "height": 427
        },
        "outputId": "77bef81f-a011-4867-f22b-5f81e0fde89d"
      },
      "outputs": [
        {
          "output_type": "execute_result",
          "data": {
            "text/plain": [
              "                           Name  Train_Time  Train_accuracy_score  \\\n",
              "0            LinearClassifier:     0.674642              0.758626   \n",
              "1                         GNB:     0.126927              0.802376   \n",
              "2                         BNB:     0.185973              0.801871   \n",
              "3        KNeighborsClassifier:     1.661267              0.900030   \n",
              "4      DecisionTreeClassifier:     3.135255              0.999720   \n",
              "5       RandomForestClassifier    82.833803              0.999714   \n",
              "6  GradientBoostingClassifier:    72.067684              0.838031   \n",
              "7               XGBClassifier:    31.295459              0.838536   \n",
              "8          AdaBoostClassifier:    18.983088              0.829394   \n",
              "9              LgbmClassifier:     6.652142              0.851401   \n",
              "\n",
              "   Test_accuracy_score  Test_precision_score  Test_f1_score  \\\n",
              "0             0.819736              0.318611       0.363004   \n",
              "1             0.720138              0.283301       0.424778   \n",
              "2             0.720138              0.280936       0.420085   \n",
              "3             0.776990              0.287806       0.381063   \n",
              "4             0.793711              0.279812       0.342361   \n",
              "5             0.807115              0.310365       0.376297   \n",
              "6             0.764449              0.304690       0.429709   \n",
              "7             0.761347              0.303336       0.430310   \n",
              "8             0.752690              0.298777       0.429762   \n",
              "9             0.786281              0.314142       0.420999   \n",
              "\n",
              "   Test_roc_auc_score  \n",
              "0            0.648345  \n",
              "1            0.775429  \n",
              "2            0.768466  \n",
              "3            0.685144  \n",
              "4            0.641778  \n",
              "5            0.665289  \n",
              "6            0.749058  \n",
              "7            0.752204  \n",
              "8            0.758101  \n",
              "9            0.722432  "
            ],
            "text/html": [
              "\n",
              "  <div id=\"df-4d14eafe-6c51-493b-9b82-7c628c8979ea\">\n",
              "    <div class=\"colab-df-container\">\n",
              "      <div>\n",
              "<style scoped>\n",
              "    .dataframe tbody tr th:only-of-type {\n",
              "        vertical-align: middle;\n",
              "    }\n",
              "\n",
              "    .dataframe tbody tr th {\n",
              "        vertical-align: top;\n",
              "    }\n",
              "\n",
              "    .dataframe thead th {\n",
              "        text-align: right;\n",
              "    }\n",
              "</style>\n",
              "<table border=\"1\" class=\"dataframe\">\n",
              "  <thead>\n",
              "    <tr style=\"text-align: right;\">\n",
              "      <th></th>\n",
              "      <th>Name</th>\n",
              "      <th>Train_Time</th>\n",
              "      <th>Train_accuracy_score</th>\n",
              "      <th>Test_accuracy_score</th>\n",
              "      <th>Test_precision_score</th>\n",
              "      <th>Test_f1_score</th>\n",
              "      <th>Test_roc_auc_score</th>\n",
              "    </tr>\n",
              "  </thead>\n",
              "  <tbody>\n",
              "    <tr>\n",
              "      <th>0</th>\n",
              "      <td>LinearClassifier:</td>\n",
              "      <td>0.674642</td>\n",
              "      <td>0.758626</td>\n",
              "      <td>0.819736</td>\n",
              "      <td>0.318611</td>\n",
              "      <td>0.363004</td>\n",
              "      <td>0.648345</td>\n",
              "    </tr>\n",
              "    <tr>\n",
              "      <th>1</th>\n",
              "      <td>GNB:</td>\n",
              "      <td>0.126927</td>\n",
              "      <td>0.802376</td>\n",
              "      <td>0.720138</td>\n",
              "      <td>0.283301</td>\n",
              "      <td>0.424778</td>\n",
              "      <td>0.775429</td>\n",
              "    </tr>\n",
              "    <tr>\n",
              "      <th>2</th>\n",
              "      <td>BNB:</td>\n",
              "      <td>0.185973</td>\n",
              "      <td>0.801871</td>\n",
              "      <td>0.720138</td>\n",
              "      <td>0.280936</td>\n",
              "      <td>0.420085</td>\n",
              "      <td>0.768466</td>\n",
              "    </tr>\n",
              "    <tr>\n",
              "      <th>3</th>\n",
              "      <td>KNeighborsClassifier:</td>\n",
              "      <td>1.661267</td>\n",
              "      <td>0.900030</td>\n",
              "      <td>0.776990</td>\n",
              "      <td>0.287806</td>\n",
              "      <td>0.381063</td>\n",
              "      <td>0.685144</td>\n",
              "    </tr>\n",
              "    <tr>\n",
              "      <th>4</th>\n",
              "      <td>DecisionTreeClassifier:</td>\n",
              "      <td>3.135255</td>\n",
              "      <td>0.999720</td>\n",
              "      <td>0.793711</td>\n",
              "      <td>0.279812</td>\n",
              "      <td>0.342361</td>\n",
              "      <td>0.641778</td>\n",
              "    </tr>\n",
              "    <tr>\n",
              "      <th>5</th>\n",
              "      <td>RandomForestClassifier</td>\n",
              "      <td>82.833803</td>\n",
              "      <td>0.999714</td>\n",
              "      <td>0.807115</td>\n",
              "      <td>0.310365</td>\n",
              "      <td>0.376297</td>\n",
              "      <td>0.665289</td>\n",
              "    </tr>\n",
              "    <tr>\n",
              "      <th>6</th>\n",
              "      <td>GradientBoostingClassifier:</td>\n",
              "      <td>72.067684</td>\n",
              "      <td>0.838031</td>\n",
              "      <td>0.764449</td>\n",
              "      <td>0.304690</td>\n",
              "      <td>0.429709</td>\n",
              "      <td>0.749058</td>\n",
              "    </tr>\n",
              "    <tr>\n",
              "      <th>7</th>\n",
              "      <td>XGBClassifier:</td>\n",
              "      <td>31.295459</td>\n",
              "      <td>0.838536</td>\n",
              "      <td>0.761347</td>\n",
              "      <td>0.303336</td>\n",
              "      <td>0.430310</td>\n",
              "      <td>0.752204</td>\n",
              "    </tr>\n",
              "    <tr>\n",
              "      <th>8</th>\n",
              "      <td>AdaBoostClassifier:</td>\n",
              "      <td>18.983088</td>\n",
              "      <td>0.829394</td>\n",
              "      <td>0.752690</td>\n",
              "      <td>0.298777</td>\n",
              "      <td>0.429762</td>\n",
              "      <td>0.758101</td>\n",
              "    </tr>\n",
              "    <tr>\n",
              "      <th>9</th>\n",
              "      <td>LgbmClassifier:</td>\n",
              "      <td>6.652142</td>\n",
              "      <td>0.851401</td>\n",
              "      <td>0.786281</td>\n",
              "      <td>0.314142</td>\n",
              "      <td>0.420999</td>\n",
              "      <td>0.722432</td>\n",
              "    </tr>\n",
              "  </tbody>\n",
              "</table>\n",
              "</div>\n",
              "      <button class=\"colab-df-convert\" onclick=\"convertToInteractive('df-4d14eafe-6c51-493b-9b82-7c628c8979ea')\"\n",
              "              title=\"Convert this dataframe to an interactive table.\"\n",
              "              style=\"display:none;\">\n",
              "        \n",
              "  <svg xmlns=\"http://www.w3.org/2000/svg\" height=\"24px\"viewBox=\"0 0 24 24\"\n",
              "       width=\"24px\">\n",
              "    <path d=\"M0 0h24v24H0V0z\" fill=\"none\"/>\n",
              "    <path d=\"M18.56 5.44l.94 2.06.94-2.06 2.06-.94-2.06-.94-.94-2.06-.94 2.06-2.06.94zm-11 1L8.5 8.5l.94-2.06 2.06-.94-2.06-.94L8.5 2.5l-.94 2.06-2.06.94zm10 10l.94 2.06.94-2.06 2.06-.94-2.06-.94-.94-2.06-.94 2.06-2.06.94z\"/><path d=\"M17.41 7.96l-1.37-1.37c-.4-.4-.92-.59-1.43-.59-.52 0-1.04.2-1.43.59L10.3 9.45l-7.72 7.72c-.78.78-.78 2.05 0 2.83L4 21.41c.39.39.9.59 1.41.59.51 0 1.02-.2 1.41-.59l7.78-7.78 2.81-2.81c.8-.78.8-2.07 0-2.86zM5.41 20L4 18.59l7.72-7.72 1.47 1.35L5.41 20z\"/>\n",
              "  </svg>\n",
              "      </button>\n",
              "      \n",
              "  <style>\n",
              "    .colab-df-container {\n",
              "      display:flex;\n",
              "      flex-wrap:wrap;\n",
              "      gap: 12px;\n",
              "    }\n",
              "\n",
              "    .colab-df-convert {\n",
              "      background-color: #E8F0FE;\n",
              "      border: none;\n",
              "      border-radius: 50%;\n",
              "      cursor: pointer;\n",
              "      display: none;\n",
              "      fill: #1967D2;\n",
              "      height: 32px;\n",
              "      padding: 0 0 0 0;\n",
              "      width: 32px;\n",
              "    }\n",
              "\n",
              "    .colab-df-convert:hover {\n",
              "      background-color: #E2EBFA;\n",
              "      box-shadow: 0px 1px 2px rgba(60, 64, 67, 0.3), 0px 1px 3px 1px rgba(60, 64, 67, 0.15);\n",
              "      fill: #174EA6;\n",
              "    }\n",
              "\n",
              "    [theme=dark] .colab-df-convert {\n",
              "      background-color: #3B4455;\n",
              "      fill: #D2E3FC;\n",
              "    }\n",
              "\n",
              "    [theme=dark] .colab-df-convert:hover {\n",
              "      background-color: #434B5C;\n",
              "      box-shadow: 0px 1px 3px 1px rgba(0, 0, 0, 0.15);\n",
              "      filter: drop-shadow(0px 1px 2px rgba(0, 0, 0, 0.3));\n",
              "      fill: #FFFFFF;\n",
              "    }\n",
              "  </style>\n",
              "\n",
              "      <script>\n",
              "        const buttonEl =\n",
              "          document.querySelector('#df-4d14eafe-6c51-493b-9b82-7c628c8979ea button.colab-df-convert');\n",
              "        buttonEl.style.display =\n",
              "          google.colab.kernel.accessAllowed ? 'block' : 'none';\n",
              "\n",
              "        async function convertToInteractive(key) {\n",
              "          const element = document.querySelector('#df-4d14eafe-6c51-493b-9b82-7c628c8979ea');\n",
              "          const dataTable =\n",
              "            await google.colab.kernel.invokeFunction('convertToInteractive',\n",
              "                                                     [key], {});\n",
              "          if (!dataTable) return;\n",
              "\n",
              "          const docLinkHtml = 'Like what you see? Visit the ' +\n",
              "            '<a target=\"_blank\" href=https://colab.research.google.com/notebooks/data_table.ipynb>data table notebook</a>'\n",
              "            + ' to learn more about interactive tables.';\n",
              "          element.innerHTML = '';\n",
              "          dataTable['output_type'] = 'display_data';\n",
              "          await google.colab.output.renderOutput(dataTable, element);\n",
              "          const docLink = document.createElement('div');\n",
              "          docLink.innerHTML = docLinkHtml;\n",
              "          element.appendChild(docLink);\n",
              "        }\n",
              "      </script>\n",
              "    </div>\n",
              "  </div>\n",
              "  "
            ]
          },
          "metadata": {},
          "execution_count": 70
        }
      ],
      "source": [
        "#showing results\n",
        "result"
      ]
    },
    {
      "cell_type": "code",
      "source": [
        "#Draw plot for above models metrices\n",
        "result.plot(x=\"Name\", y=['Train_accuracy_score' , 'Test_accuracy_score' , 'Test_precision_score', 'Test_f1_score'], kind=\"bar\" , title = 'Accuracy Score Results' , figsize= (10,8)) "
      ],
      "metadata": {
        "colab": {
          "base_uri": "https://localhost:8080/",
          "height": 660
        },
        "id": "Oau3Q0Xy1AZy",
        "outputId": "081da86c-1d76-4325-c3a7-866152d1aec6"
      },
      "execution_count": 71,
      "outputs": [
        {
          "output_type": "execute_result",
          "data": {
            "text/plain": [
              "<matplotlib.axes._subplots.AxesSubplot at 0x7fe0b84fb850>"
            ]
          },
          "metadata": {},
          "execution_count": 71
        },
        {
          "output_type": "display_data",
          "data": {
            "text/plain": [
              "<Figure size 720x576 with 1 Axes>"
            ],
            "image/png": "[encoded data removed]"
          },
          "metadata": {
            "needs_background": "light"
          }
        }
      ]
    },
    {
      "cell_type": "markdown",
      "source": [
        "As we can see that top 3 models for our Datasets is Random Forest Classifier, Decision Tree Classifier and LgbmClassifier."
      ],
      "metadata": {
        "id": "eRtorIWjzlsN"
      }
    },
    {
      "cell_type": "markdown",
      "source": [
        "Getting Confusion Matrix for Better Understanding"
      ],
      "metadata": {
        "id": "P5ZqjwPoIscQ"
      }
    },
    {
      "cell_type": "code",
      "execution_count": 72,
      "metadata": {
        "id": "R43BWCpVtm_7"
      },
      "outputs": [],
      "source": [
        "model_data2 = []\n",
        "for name,curr_model in models :\n",
        "    curr_model_data = {}\n",
        "    curr_model.random_state = 42\n",
        "    curr_model_data[\"Name\"] = name\n",
        "    start = time.time()\n",
        "    curr_model.fit(X_train,y_train)\n",
        "    end = time.time()\n",
        "    curr_model_data[\"Train_Time\"] = end - start\n",
        "    curr_model_data[\"conf_mat\"] = confusion_matrix(y_test,[round(value) for value in (curr_model.predict(X_test))])\n",
        "    model_data2.append(curr_model_data)"
      ]
    },
    {
      "cell_type": "code",
      "source": [
        "model_data2"
      ],
      "metadata": {
        "colab": {
          "base_uri": "https://localhost:8080/"
        },
        "id": "J43mRCVtfWZT",
        "outputId": "7f1482ab-4dc1-402a-976a-4474078d9adf"
      },
      "execution_count": 73,
      "outputs": [
        {
          "output_type": "execute_result",
          "data": {
            "text/plain": [
              "[{'Name': 'LinearClassifier: ',\n",
              "  'Train_Time': 0.7286808490753174,\n",
              "  'conf_mat': array([[56981,  8146],\n",
              "         [ 5222,  3809]])},\n",
              " {'Name': 'GNB: ',\n",
              "  'Train_Time': 0.1257030963897705,\n",
              "  'conf_mat': array([[45741, 19386],\n",
              "         [ 1368,  7663]])},\n",
              " {'Name': 'BNB: ',\n",
              "  'Train_Time': 0.19488239288330078,\n",
              "  'conf_mat': array([[45887, 19240],\n",
              "         [ 1514,  7517]])},\n",
              " {'Name': 'KNeighborsClassifier: ',\n",
              "  'Train_Time': 1.6759724617004395,\n",
              "  'conf_mat': array([[52529, 12598],\n",
              "         [ 3940,  5091]])},\n",
              " {'Name': 'DecisionTreeClassifier: ',\n",
              "  'Train_Time': 3.146010160446167,\n",
              "  'conf_mat': array([[54878, 10249],\n",
              "         [ 5049,  3982]])},\n",
              " {'Name': 'RandomForestClassifier ',\n",
              "  'Train_Time': 83.61073875427246,\n",
              "  'conf_mat': array([[55539,  9588],\n",
              "         [ 4716,  4315]])},\n",
              " {'Name': 'GradientBoostingClassifier: ',\n",
              "  'Train_Time': 72.9104552268982,\n",
              "  'conf_mat': array([[50109, 15018],\n",
              "         [ 2450,  6581]])},\n",
              " {'Name': 'XGBClassifier: ',\n",
              "  'Train_Time': 29.250967979431152,\n",
              "  'conf_mat': array([[49776, 15351],\n",
              "         [ 2347,  6684]])},\n",
              " {'Name': 'AdaBoostClassifier: ',\n",
              "  'Train_Time': 19.38768720626831,\n",
              "  'conf_mat': array([[48907, 16220],\n",
              "         [ 2120,  6911]])},\n",
              " {'Name': 'LgbmClassifier: ',\n",
              "  'Train_Time': 6.660162687301636,\n",
              "  'conf_mat': array([[52547, 12580],\n",
              "         [ 3269,  5762]])}]"
            ]
          },
          "metadata": {},
          "execution_count": 73
        }
      ]
    },
    {
      "cell_type": "code",
      "source": [
        "Conf_Mat_df= pd.DataFrame(model_data2)"
      ],
      "metadata": {
        "id": "2WkLfiWMgA7X"
      },
      "execution_count": 74,
      "outputs": []
    },
    {
      "cell_type": "code",
      "source": [
        "Conf_Mat_df"
      ],
      "metadata": {
        "colab": {
          "base_uri": "https://localhost:8080/",
          "height": 363
        },
        "id": "GSSDOq9OrHGU",
        "outputId": "10f5ac6d-957a-4ae2-949b-c4b579362393"
      },
      "execution_count": 75,
      "outputs": [
        {
          "output_type": "execute_result",
          "data": {
            "text/plain": [
              "                           Name  Train_Time                        conf_mat\n",
              "0            LinearClassifier:     0.728681   [[56981, 8146], [5222, 3809]]\n",
              "1                         GNB:     0.125703  [[45741, 19386], [1368, 7663]]\n",
              "2                         BNB:     0.194882  [[45887, 19240], [1514, 7517]]\n",
              "3        KNeighborsClassifier:     1.675972  [[52529, 12598], [3940, 5091]]\n",
              "4      DecisionTreeClassifier:     3.146010  [[54878, 10249], [5049, 3982]]\n",
              "5       RandomForestClassifier    83.610739   [[55539, 9588], [4716, 4315]]\n",
              "6  GradientBoostingClassifier:    72.910455  [[50109, 15018], [2450, 6581]]\n",
              "7               XGBClassifier:    29.250968  [[49776, 15351], [2347, 6684]]\n",
              "8          AdaBoostClassifier:    19.387687  [[48907, 16220], [2120, 6911]]\n",
              "9              LgbmClassifier:     6.660163  [[52547, 12580], [3269, 5762]]"
            ],
            "text/html": [
              "\n",
              "  <div id=\"df-2a46277c-c525-4052-9252-2c927ba392a7\">\n",
              "    <div class=\"colab-df-container\">\n",
              "      <div>\n",
              "<style scoped>\n",
              "    .dataframe tbody tr th:only-of-type {\n",
              "        vertical-align: middle;\n",
              "    }\n",
              "\n",
              "    .dataframe tbody tr th {\n",
              "        vertical-align: top;\n",
              "    }\n",
              "\n",
              "    .dataframe thead th {\n",
              "        text-align: right;\n",
              "    }\n",
              "</style>\n",
              "<table border=\"1\" class=\"dataframe\">\n",
              "  <thead>\n",
              "    <tr style=\"text-align: right;\">\n",
              "      <th></th>\n",
              "      <th>Name</th>\n",
              "      <th>Train_Time</th>\n",
              "      <th>conf_mat</th>\n",
              "    </tr>\n",
              "  </thead>\n",
              "  <tbody>\n",
              "    <tr>\n",
              "      <th>0</th>\n",
              "      <td>LinearClassifier:</td>\n",
              "      <td>0.728681</td>\n",
              "      <td>[[56981, 8146], [5222, 3809]]</td>\n",
              "    </tr>\n",
              "    <tr>\n",
              "      <th>1</th>\n",
              "      <td>GNB:</td>\n",
              "      <td>0.125703</td>\n",
              "      <td>[[45741, 19386], [1368, 7663]]</td>\n",
              "    </tr>\n",
              "    <tr>\n",
              "      <th>2</th>\n",
              "      <td>BNB:</td>\n",
              "      <td>0.194882</td>\n",
              "      <td>[[45887, 19240], [1514, 7517]]</td>\n",
              "    </tr>\n",
              "    <tr>\n",
              "      <th>3</th>\n",
              "      <td>KNeighborsClassifier:</td>\n",
              "      <td>1.675972</td>\n",
              "      <td>[[52529, 12598], [3940, 5091]]</td>\n",
              "    </tr>\n",
              "    <tr>\n",
              "      <th>4</th>\n",
              "      <td>DecisionTreeClassifier:</td>\n",
              "      <td>3.146010</td>\n",
              "      <td>[[54878, 10249], [5049, 3982]]</td>\n",
              "    </tr>\n",
              "    <tr>\n",
              "      <th>5</th>\n",
              "      <td>RandomForestClassifier</td>\n",
              "      <td>83.610739</td>\n",
              "      <td>[[55539, 9588], [4716, 4315]]</td>\n",
              "    </tr>\n",
              "    <tr>\n",
              "      <th>6</th>\n",
              "      <td>GradientBoostingClassifier:</td>\n",
              "      <td>72.910455</td>\n",
              "      <td>[[50109, 15018], [2450, 6581]]</td>\n",
              "    </tr>\n",
              "    <tr>\n",
              "      <th>7</th>\n",
              "      <td>XGBClassifier:</td>\n",
              "      <td>29.250968</td>\n",
              "      <td>[[49776, 15351], [2347, 6684]]</td>\n",
              "    </tr>\n",
              "    <tr>\n",
              "      <th>8</th>\n",
              "      <td>AdaBoostClassifier:</td>\n",
              "      <td>19.387687</td>\n",
              "      <td>[[48907, 16220], [2120, 6911]]</td>\n",
              "    </tr>\n",
              "    <tr>\n",
              "      <th>9</th>\n",
              "      <td>LgbmClassifier:</td>\n",
              "      <td>6.660163</td>\n",
              "      <td>[[52547, 12580], [3269, 5762]]</td>\n",
              "    </tr>\n",
              "  </tbody>\n",
              "</table>\n",
              "</div>\n",
              "      <button class=\"colab-df-convert\" onclick=\"convertToInteractive('df-2a46277c-c525-4052-9252-2c927ba392a7')\"\n",
              "              title=\"Convert this dataframe to an interactive table.\"\n",
              "              style=\"display:none;\">\n",
              "        \n",
              "  <svg xmlns=\"http://www.w3.org/2000/svg\" height=\"24px\"viewBox=\"0 0 24 24\"\n",
              "       width=\"24px\">\n",
              "    <path d=\"M0 0h24v24H0V0z\" fill=\"none\"/>\n",
              "    <path d=\"M18.56 5.44l.94 2.06.94-2.06 2.06-.94-2.06-.94-.94-2.06-.94 2.06-2.06.94zm-11 1L8.5 8.5l.94-2.06 2.06-.94-2.06-.94L8.5 2.5l-.94 2.06-2.06.94zm10 10l.94 2.06.94-2.06 2.06-.94-2.06-.94-.94-2.06-.94 2.06-2.06.94z\"/><path d=\"M17.41 7.96l-1.37-1.37c-.4-.4-.92-.59-1.43-.59-.52 0-1.04.2-1.43.59L10.3 9.45l-7.72 7.72c-.78.78-.78 2.05 0 2.83L4 21.41c.39.39.9.59 1.41.59.51 0 1.02-.2 1.41-.59l7.78-7.78 2.81-2.81c.8-.78.8-2.07 0-2.86zM5.41 20L4 18.59l7.72-7.72 1.47 1.35L5.41 20z\"/>\n",
              "  </svg>\n",
              "      </button>\n",
              "      \n",
              "  <style>\n",
              "    .colab-df-container {\n",
              "      display:flex;\n",
              "      flex-wrap:wrap;\n",
              "      gap: 12px;\n",
              "    }\n",
              "\n",
              "    .colab-df-convert {\n",
              "      background-color: #E8F0FE;\n",
              "      border: none;\n",
              "      border-radius: 50%;\n",
              "      cursor: pointer;\n",
              "      display: none;\n",
              "      fill: #1967D2;\n",
              "      height: 32px;\n",
              "      padding: 0 0 0 0;\n",
              "      width: 32px;\n",
              "    }\n",
              "\n",
              "    .colab-df-convert:hover {\n",
              "      background-color: #E2EBFA;\n",
              "      box-shadow: 0px 1px 2px rgba(60, 64, 67, 0.3), 0px 1px 3px 1px rgba(60, 64, 67, 0.15);\n",
              "      fill: #174EA6;\n",
              "    }\n",
              "\n",
              "    [theme=dark] .colab-df-convert {\n",
              "      background-color: #3B4455;\n",
              "      fill: #D2E3FC;\n",
              "    }\n",
              "\n",
              "    [theme=dark] .colab-df-convert:hover {\n",
              "      background-color: #434B5C;\n",
              "      box-shadow: 0px 1px 3px 1px rgba(0, 0, 0, 0.15);\n",
              "      filter: drop-shadow(0px 1px 2px rgba(0, 0, 0, 0.3));\n",
              "      fill: #FFFFFF;\n",
              "    }\n",
              "  </style>\n",
              "\n",
              "      <script>\n",
              "        const buttonEl =\n",
              "          document.querySelector('#df-2a46277c-c525-4052-9252-2c927ba392a7 button.colab-df-convert');\n",
              "        buttonEl.style.display =\n",
              "          google.colab.kernel.accessAllowed ? 'block' : 'none';\n",
              "\n",
              "        async function convertToInteractive(key) {\n",
              "          const element = document.querySelector('#df-2a46277c-c525-4052-9252-2c927ba392a7');\n",
              "          const dataTable =\n",
              "            await google.colab.kernel.invokeFunction('convertToInteractive',\n",
              "                                                     [key], {});\n",
              "          if (!dataTable) return;\n",
              "\n",
              "          const docLinkHtml = 'Like what you see? Visit the ' +\n",
              "            '<a target=\"_blank\" href=https://colab.research.google.com/notebooks/data_table.ipynb>data table notebook</a>'\n",
              "            + ' to learn more about interactive tables.';\n",
              "          element.innerHTML = '';\n",
              "          dataTable['output_type'] = 'display_data';\n",
              "          await google.colab.output.renderOutput(dataTable, element);\n",
              "          const docLink = document.createElement('div');\n",
              "          docLink.innerHTML = docLinkHtml;\n",
              "          element.appendChild(docLink);\n",
              "        }\n",
              "      </script>\n",
              "    </div>\n",
              "  </div>\n",
              "  "
            ]
          },
          "metadata": {},
          "execution_count": 75
        }
      ]
    },
    {
      "cell_type": "markdown",
      "source": [
        "As we can see from above confusion matrix that Random Forest Classifier is doing great with our train and test dataset."
      ],
      "metadata": {
        "id": "8HB3FaMHzRrC"
      }
    },
    {
      "cell_type": "markdown",
      "source": [
        "# Hyper parameter tuning \n",
        "\n",
        "We will only go for Random Forest Classifier and lgbm as these are giving good results in comparison to others above."
      ],
      "metadata": {
        "id": "vEozmhvKvfeU"
      }
    },
    {
      "cell_type": "code",
      "source": [
        "clas = RandomForestClassifier(random_state=40)\n",
        "# Instantiate the bayes search model\n",
        "bayes_search = BayesSearchCV(estimator=clas,\n",
        "                       search_spaces = {\n",
        "                          'max_depth': Integer(11,13),\n",
        "                          'min_samples_leaf': Integer(1,2),\n",
        "                          'min_samples_split': Integer(2,3),\n",
        "                          'n_estimators': Integer(135,140),\n",
        "                          'max_features': [\"auto\", \"sqrt\", \"log2\"]\n",
        "                        },\n",
        "                       cv = 5, verbose=2, scoring='accuracy',n_iter=10)\n",
        "\n",
        "bayes_search.fit(X_train, y_train)"
      ],
      "metadata": {
        "colab": {
          "base_uri": "https://localhost:8080/"
        },
        "id": "cS_e6Z1IrJ4w",
        "outputId": "be55f5c5-345e-4549-f4e6-9c6a81dfe35e"
      },
      "execution_count": 127,
      "outputs": [
        {
          "output_type": "stream",
          "name": "stdout",
          "text": [
            "Fitting 5 folds for each of 1 candidates, totalling 5 fits\n",
            "[CV] END max_depth=12, max_features=log2, min_samples_leaf=1, min_samples_split=3, n_estimators=139; total time=  52.6s\n",
            "[CV] END max_depth=12, max_features=log2, min_samples_leaf=1, min_samples_split=3, n_estimators=139; total time=  59.7s\n",
            "[CV] END max_depth=12, max_features=log2, min_samples_leaf=1, min_samples_split=3, n_estimators=139; total time= 1.0min\n",
            "[CV] END max_depth=12, max_features=log2, min_samples_leaf=1, min_samples_split=3, n_estimators=139; total time=  55.9s\n",
            "[CV] END max_depth=12, max_features=log2, min_samples_leaf=1, min_samples_split=3, n_estimators=139; total time= 1.0min\n",
            "Fitting 5 folds for each of 1 candidates, totalling 5 fits\n",
            "[CV] END max_depth=11, max_features=log2, min_samples_leaf=1, min_samples_split=2, n_estimators=136; total time=  52.2s\n",
            "[CV] END max_depth=11, max_features=log2, min_samples_leaf=1, min_samples_split=2, n_estimators=136; total time= 1.0min\n",
            "[CV] END max_depth=11, max_features=log2, min_samples_leaf=1, min_samples_split=2, n_estimators=136; total time=  55.2s\n",
            "[CV] END max_depth=11, max_features=log2, min_samples_leaf=1, min_samples_split=2, n_estimators=136; total time=  51.2s\n",
            "[CV] END max_depth=11, max_features=log2, min_samples_leaf=1, min_samples_split=2, n_estimators=136; total time=  51.2s\n",
            "Fitting 5 folds for each of 1 candidates, totalling 5 fits\n",
            "[CV] END max_depth=11, max_features=log2, min_samples_leaf=2, min_samples_split=2, n_estimators=137; total time=  44.9s\n",
            "[CV] END max_depth=11, max_features=log2, min_samples_leaf=2, min_samples_split=2, n_estimators=137; total time=  53.3s\n",
            "[CV] END max_depth=11, max_features=log2, min_samples_leaf=2, min_samples_split=2, n_estimators=137; total time=  52.6s\n",
            "[CV] END max_depth=11, max_features=log2, min_samples_leaf=2, min_samples_split=2, n_estimators=137; total time=  54.0s\n",
            "[CV] END max_depth=11, max_features=log2, min_samples_leaf=2, min_samples_split=2, n_estimators=137; total time=  52.9s\n",
            "Fitting 5 folds for each of 1 candidates, totalling 5 fits\n",
            "[CV] END max_depth=12, max_features=log2, min_samples_leaf=1, min_samples_split=2, n_estimators=136; total time=  48.1s\n",
            "[CV] END max_depth=12, max_features=log2, min_samples_leaf=1, min_samples_split=2, n_estimators=136; total time=  55.3s\n",
            "[CV] END max_depth=12, max_features=log2, min_samples_leaf=1, min_samples_split=2, n_estimators=136; total time=  57.3s\n",
            "[CV] END max_depth=12, max_features=log2, min_samples_leaf=1, min_samples_split=2, n_estimators=136; total time=  58.9s\n",
            "[CV] END max_depth=12, max_features=log2, min_samples_leaf=1, min_samples_split=2, n_estimators=136; total time=  57.0s\n",
            "Fitting 5 folds for each of 1 candidates, totalling 5 fits\n",
            "[CV] END max_depth=12, max_features=auto, min_samples_leaf=1, min_samples_split=2, n_estimators=136; total time=  53.0s\n",
            "[CV] END max_depth=12, max_features=auto, min_samples_leaf=1, min_samples_split=2, n_estimators=136; total time= 1.0min\n",
            "[CV] END max_depth=12, max_features=auto, min_samples_leaf=1, min_samples_split=2, n_estimators=136; total time=  59.9s\n",
            "[CV] END max_depth=12, max_features=auto, min_samples_leaf=1, min_samples_split=2, n_estimators=136; total time= 1.0min\n",
            "[CV] END max_depth=12, max_features=auto, min_samples_leaf=1, min_samples_split=2, n_estimators=136; total time= 1.0min\n",
            "Fitting 5 folds for each of 1 candidates, totalling 5 fits\n",
            "[CV] END max_depth=12, max_features=sqrt, min_samples_leaf=1, min_samples_split=3, n_estimators=139; total time=  54.1s\n",
            "[CV] END max_depth=12, max_features=sqrt, min_samples_leaf=1, min_samples_split=3, n_estimators=139; total time=  56.4s\n",
            "[CV] END max_depth=12, max_features=sqrt, min_samples_leaf=1, min_samples_split=3, n_estimators=139; total time=  59.2s\n",
            "[CV] END max_depth=12, max_features=sqrt, min_samples_leaf=1, min_samples_split=3, n_estimators=139; total time=  57.0s\n",
            "[CV] END max_depth=12, max_features=sqrt, min_samples_leaf=1, min_samples_split=3, n_estimators=139; total time= 1.0min\n",
            "Fitting 5 folds for each of 1 candidates, totalling 5 fits\n",
            "[CV] END max_depth=11, max_features=log2, min_samples_leaf=1, min_samples_split=2, n_estimators=136; total time=  48.4s\n",
            "[CV] END max_depth=11, max_features=log2, min_samples_leaf=1, min_samples_split=2, n_estimators=136; total time=  51.7s\n",
            "[CV] END max_depth=11, max_features=log2, min_samples_leaf=1, min_samples_split=2, n_estimators=136; total time=  53.1s\n",
            "[CV] END max_depth=11, max_features=log2, min_samples_leaf=1, min_samples_split=2, n_estimators=136; total time=  51.6s\n",
            "[CV] END max_depth=11, max_features=log2, min_samples_leaf=1, min_samples_split=2, n_estimators=136; total time=  51.8s\n",
            "Fitting 5 folds for each of 1 candidates, totalling 5 fits\n",
            "[CV] END max_depth=12, max_features=auto, min_samples_leaf=1, min_samples_split=2, n_estimators=137; total time=  49.0s\n",
            "[CV] END max_depth=12, max_features=auto, min_samples_leaf=1, min_samples_split=2, n_estimators=137; total time=  55.5s\n",
            "[CV] END max_depth=12, max_features=auto, min_samples_leaf=1, min_samples_split=2, n_estimators=137; total time=  53.7s\n",
            "[CV] END max_depth=12, max_features=auto, min_samples_leaf=1, min_samples_split=2, n_estimators=137; total time=  58.9s\n",
            "[CV] END max_depth=12, max_features=auto, min_samples_leaf=1, min_samples_split=2, n_estimators=137; total time=  59.4s\n",
            "Fitting 5 folds for each of 1 candidates, totalling 5 fits\n",
            "[CV] END max_depth=11, max_features=log2, min_samples_leaf=2, min_samples_split=2, n_estimators=136; total time=  49.0s\n",
            "[CV] END max_depth=11, max_features=log2, min_samples_leaf=2, min_samples_split=2, n_estimators=136; total time=  55.4s\n",
            "[CV] END max_depth=11, max_features=log2, min_samples_leaf=2, min_samples_split=2, n_estimators=136; total time=  57.2s\n",
            "[CV] END max_depth=11, max_features=log2, min_samples_leaf=2, min_samples_split=2, n_estimators=136; total time=  53.3s\n",
            "[CV] END max_depth=11, max_features=log2, min_samples_leaf=2, min_samples_split=2, n_estimators=136; total time=  53.9s\n",
            "Fitting 5 folds for each of 1 candidates, totalling 5 fits\n",
            "[CV] END max_depth=12, max_features=auto, min_samples_leaf=2, min_samples_split=2, n_estimators=139; total time=  49.8s\n",
            "[CV] END max_depth=12, max_features=auto, min_samples_leaf=2, min_samples_split=2, n_estimators=139; total time=  55.0s\n",
            "[CV] END max_depth=12, max_features=auto, min_samples_leaf=2, min_samples_split=2, n_estimators=139; total time=  59.6s\n",
            "[CV] END max_depth=12, max_features=auto, min_samples_leaf=2, min_samples_split=2, n_estimators=139; total time=  56.1s\n",
            "[CV] END max_depth=12, max_features=auto, min_samples_leaf=2, min_samples_split=2, n_estimators=139; total time= 1.0min\n"
          ]
        },
        {
          "output_type": "execute_result",
          "data": {
            "text/plain": [
              "BayesSearchCV(cv=5, estimator=RandomForestClassifier(random_state=40),\n",
              "              n_iter=10, scoring='accuracy',\n",
              "              search_spaces={'max_depth': Integer(low=11, high=13, prior='uniform', transform='normalize'),\n",
              "                             'max_features': ['auto', 'sqrt', 'log2'],\n",
              "                             'min_samples_leaf': Integer(low=1, high=2, prior='uniform', transform='normalize'),\n",
              "                             'min_samples_split': Integer(low=2, high=3, prior='uniform', transform='normalize'),\n",
              "                             'n_estimators': Integer(low=135, high=140, prior='uniform', transform='normalize')},\n",
              "              verbose=2)"
            ]
          },
          "metadata": {},
          "execution_count": 127
        }
      ]
    },
    {
      "cell_type": "code",
      "source": [
        "bayes_search.best_params_"
      ],
      "metadata": {
        "colab": {
          "base_uri": "https://localhost:8080/"
        },
        "id": "ddh-vFfQVCMV",
        "outputId": "84b6b79f-3180-47d2-bb7d-8888bcf07b36"
      },
      "execution_count": 128,
      "outputs": [
        {
          "output_type": "execute_result",
          "data": {
            "text/plain": [
              "OrderedDict([('max_depth', 12),\n",
              "             ('max_features', 'log2'),\n",
              "             ('min_samples_leaf', 1),\n",
              "             ('min_samples_split', 3),\n",
              "             ('n_estimators', 139)])"
            ]
          },
          "metadata": {},
          "execution_count": 128
        }
      ]
    },
    {
      "cell_type": "code",
      "source": [
        "bayes_search.best_estimator_"
      ],
      "metadata": {
        "colab": {
          "base_uri": "https://localhost:8080/"
        },
        "id": "xnjWbGUuKqeJ",
        "outputId": "b45b4dfb-f4cc-4e3e-9345-ecf9681835e3"
      },
      "execution_count": 129,
      "outputs": [
        {
          "output_type": "execute_result",
          "data": {
            "text/plain": [
              "RandomForestClassifier(max_depth=12, max_features='log2', min_samples_split=3,\n",
              "                       n_estimators=139, random_state=40)"
            ]
          },
          "metadata": {},
          "execution_count": 129
        }
      ]
    },
    {
      "cell_type": "code",
      "source": [
        "#make prediction\n",
        "train_pred=bayes_search.best_estimator_.predict(X_train)\n",
        "test_pred=bayes_search.best_estimator_.predict(X_test)"
      ],
      "metadata": {
        "id": "PDUJ0pKTIkEm"
      },
      "execution_count": 130,
      "outputs": []
    },
    {
      "cell_type": "code",
      "source": [
        "# Calculating accuracy on train and test\n",
        "train_accuracy = accuracy_score(y_train, train_pred)\n",
        "test_accuracy = accuracy_score(y_test, test_pred)\n",
        "\n",
        "print(\"The accuracy on train dataset is\", train_accuracy)\n",
        "print(\"The accuracy on test dataset is\", test_accuracy)"
      ],
      "metadata": {
        "colab": {
          "base_uri": "https://localhost:8080/"
        },
        "id": "Ve9rBVj7BCec",
        "outputId": "aac624a4-935e-4780-ab40-9dc548bf0ab3"
      },
      "execution_count": 131,
      "outputs": [
        {
          "output_type": "stream",
          "name": "stdout",
          "text": [
            "The accuracy on train dataset is 0.8451346796823118\n",
            "The accuracy on test dataset is 0.7648534210739233\n"
          ]
        }
      ]
    },
    {
      "cell_type": "code",
      "source": [
        "# Get the confusion matrices for train and test\n",
        "train_cm = confusion_matrix(y_train, train_pred)\n",
        "test_cm = confusion_matrix(y_test, test_pred)"
      ],
      "metadata": {
        "id": "PHlwHtdGCHdb"
      },
      "execution_count": 132,
      "outputs": []
    },
    {
      "cell_type": "code",
      "source": [
        "train_cm"
      ],
      "metadata": {
        "colab": {
          "base_uri": "https://localhost:8080/"
        },
        "id": "A1r_fX2DC57H",
        "outputId": "13061c12-e585-4c0c-befa-46cdb5f7f2af"
      },
      "execution_count": 133,
      "outputs": [
        {
          "output_type": "execute_result",
          "data": {
            "text/plain": [
              "array([[201277,  59230],\n",
              "       [ 21457, 239050]])"
            ]
          },
          "metadata": {},
          "execution_count": 133
        }
      ]
    },
    {
      "cell_type": "code",
      "source": [
        "test_cm"
      ],
      "metadata": {
        "colab": {
          "base_uri": "https://localhost:8080/"
        },
        "id": "osFoKyUUC2Et",
        "outputId": "76ce7e29-d37a-4d1a-d02e-dff73e29394e"
      },
      "execution_count": 134,
      "outputs": [
        {
          "output_type": "execute_result",
          "data": {
            "text/plain": [
              "array([[49997, 15130],\n",
              "       [ 2308,  6723]])"
            ]
          },
          "metadata": {},
          "execution_count": 134
        }
      ]
    },
    {
      "cell_type": "code",
      "source": [
        "# Print the classification report for train and test\n",
        "print(classification_report(y_train,train_pred))\n",
        "print(\"\\n\")\n",
        "print(classification_report(y_test,test_pred))"
      ],
      "metadata": {
        "colab": {
          "base_uri": "https://localhost:8080/"
        },
        "id": "PWi5H-H1IPVs",
        "outputId": "cff49831-bb92-42a5-f2a8-0e91b66e35ae"
      },
      "execution_count": 135,
      "outputs": [
        {
          "output_type": "stream",
          "name": "stdout",
          "text": [
            "              precision    recall  f1-score   support\n",
            "\n",
            "           0       0.90      0.77      0.83    260507\n",
            "           1       0.80      0.92      0.86    260507\n",
            "\n",
            "    accuracy                           0.85    521014\n",
            "   macro avg       0.85      0.85      0.84    521014\n",
            "weighted avg       0.85      0.85      0.84    521014\n",
            "\n",
            "\n",
            "\n",
            "              precision    recall  f1-score   support\n",
            "\n",
            "           0       0.96      0.77      0.85     65127\n",
            "           1       0.31      0.74      0.44      9031\n",
            "\n",
            "    accuracy                           0.76     74158\n",
            "   macro avg       0.63      0.76      0.64     74158\n",
            "weighted avg       0.88      0.76      0.80     74158\n",
            "\n"
          ]
        }
      ]
    },
    {
      "cell_type": "markdown",
      "source": [
        "Results of Hyperparameter clearly shows that we have to play a lot with these parameters for getting better accuracy"
      ],
      "metadata": {
        "id": "VvzhzL0IX1AG"
      }
    },
    {
      "cell_type": "markdown",
      "source": [
        "##**Roc and precison recall curve for Bayes train data.**"
      ],
      "metadata": {
        "id": "4xmPwinnF2zz"
      }
    },
    {
      "cell_type": "code",
      "source": [
        "metrics.plot_roc_curve(bayes_search, X_train, y_train) "
      ],
      "metadata": {
        "colab": {
          "base_uri": "https://localhost:8080/",
          "height": 354
        },
        "id": "FysOtIkblB-K",
        "outputId": "cbe8fe83-bc5e-4311-ded5-b653fe5f704e"
      },
      "execution_count": 136,
      "outputs": [
        {
          "output_type": "stream",
          "name": "stderr",
          "text": [
            "/usr/local/lib/python3.7/dist-packages/sklearn/utils/deprecation.py:87: FutureWarning: Function plot_roc_curve is deprecated; Function :func:`plot_roc_curve` is deprecated in 1.0 and will be removed in 1.2. Use one of the class methods: :meth:`sklearn.metric.RocCurveDisplay.from_predictions` or :meth:`sklearn.metric.RocCurveDisplay.from_estimator`.\n",
            "  warnings.warn(msg, category=FutureWarning)\n"
          ]
        },
        {
          "output_type": "execute_result",
          "data": {
            "text/plain": [
              "<sklearn.metrics._plot.roc_curve.RocCurveDisplay at 0x7fe0b3ac91d0>"
            ]
          },
          "metadata": {},
          "execution_count": 136
        },
        {
          "output_type": "display_data",
          "data": {
            "text/plain": [
              "<Figure size 432x288 with 1 Axes>"
            ],
            "image/png": "[encoded data removed]"
          },
          "metadata": {
            "needs_background": "light"
          }
        }
      ]
    },
    {
      "cell_type": "code",
      "source": [
        "metrics.plot_precision_recall_curve(bayes_search, X_train, y_train)"
      ],
      "metadata": {
        "colab": {
          "base_uri": "https://localhost:8080/",
          "height": 354
        },
        "id": "fsjOZPU4GgbI",
        "outputId": "6658f5db-4726-47cc-dcba-88c162c933b5"
      },
      "execution_count": 137,
      "outputs": [
        {
          "output_type": "stream",
          "name": "stderr",
          "text": [
            "/usr/local/lib/python3.7/dist-packages/sklearn/utils/deprecation.py:87: FutureWarning: Function plot_precision_recall_curve is deprecated; Function `plot_precision_recall_curve` is deprecated in 1.0 and will be removed in 1.2. Use one of the class methods: PrecisionRecallDisplay.from_predictions or PrecisionRecallDisplay.from_estimator.\n",
            "  warnings.warn(msg, category=FutureWarning)\n"
          ]
        },
        {
          "output_type": "execute_result",
          "data": {
            "text/plain": [
              "<sklearn.metrics._plot.precision_recall_curve.PrecisionRecallDisplay at 0x7fe0b3abc3d0>"
            ]
          },
          "metadata": {},
          "execution_count": 137
        },
        {
          "output_type": "display_data",
          "data": {
            "text/plain": [
              "<Figure size 432x288 with 1 Axes>"
            ],
            "image/png": "[encoded data removed]"
          },
          "metadata": {
            "needs_background": "light"
          }
        }
      ]
    },
    {
      "cell_type": "markdown",
      "source": [
        "##**Roc and precison recall curve for Bayes test data.**"
      ],
      "metadata": {
        "id": "A59DwXErHEUa"
      }
    },
    {
      "cell_type": "code",
      "source": [
        "metrics.plot_roc_curve(bayes_search, X_test, y_test)"
      ],
      "metadata": {
        "colab": {
          "base_uri": "https://localhost:8080/",
          "height": 354
        },
        "id": "LVcH4u5ulLTx",
        "outputId": "15f58605-70e8-4b3a-e07b-13f0d6e77dce"
      },
      "execution_count": 138,
      "outputs": [
        {
          "output_type": "stream",
          "name": "stderr",
          "text": [
            "/usr/local/lib/python3.7/dist-packages/sklearn/utils/deprecation.py:87: FutureWarning: Function plot_roc_curve is deprecated; Function :func:`plot_roc_curve` is deprecated in 1.0 and will be removed in 1.2. Use one of the class methods: :meth:`sklearn.metric.RocCurveDisplay.from_predictions` or :meth:`sklearn.metric.RocCurveDisplay.from_estimator`.\n",
            "  warnings.warn(msg, category=FutureWarning)\n"
          ]
        },
        {
          "output_type": "execute_result",
          "data": {
            "text/plain": [
              "<sklearn.metrics._plot.roc_curve.RocCurveDisplay at 0x7fe0b3968350>"
            ]
          },
          "metadata": {},
          "execution_count": 138
        },
        {
          "output_type": "display_data",
          "data": {
            "text/plain": [
              "<Figure size 432x288 with 1 Axes>"
            ],
            "image/png": "[encoded data removed]"
          },
          "metadata": {
            "needs_background": "light"
          }
        }
      ]
    },
    {
      "cell_type": "code",
      "source": [
        "metrics.plot_precision_recall_curve(bayes_search, X_test, y_test)"
      ],
      "metadata": {
        "colab": {
          "base_uri": "https://localhost:8080/",
          "height": 354
        },
        "id": "a1_2YFpVlOmj",
        "outputId": "4559ce47-ebe8-4051-e8a1-cfbd595f197e"
      },
      "execution_count": 139,
      "outputs": [
        {
          "output_type": "stream",
          "name": "stderr",
          "text": [
            "/usr/local/lib/python3.7/dist-packages/sklearn/utils/deprecation.py:87: FutureWarning: Function plot_precision_recall_curve is deprecated; Function `plot_precision_recall_curve` is deprecated in 1.0 and will be removed in 1.2. Use one of the class methods: PrecisionRecallDisplay.from_predictions or PrecisionRecallDisplay.from_estimator.\n",
            "  warnings.warn(msg, category=FutureWarning)\n"
          ]
        },
        {
          "output_type": "execute_result",
          "data": {
            "text/plain": [
              "<sklearn.metrics._plot.precision_recall_curve.PrecisionRecallDisplay at 0x7fe0b3826d90>"
            ]
          },
          "metadata": {},
          "execution_count": 139
        },
        {
          "output_type": "display_data",
          "data": {
            "text/plain": [
              "<Figure size 432x288 with 1 Axes>"
            ],
            "image/png": "[encoded data removed]"
          },
          "metadata": {
            "needs_background": "light"
          }
        }
      ]
    },
    {
      "cell_type": "markdown",
      "source": [
        "After observing these curves we can make a important note:"
      ],
      "metadata": {
        "id": "l2CcbvN9YHp4"
      }
    },
    {
      "cell_type": "markdown",
      "source": [
        "# NOTE  : For Hyperparameter tuning\n",
        "\n",
        "As we can see tuning didn't give us a good results so we have to play more with hyperparameter and see what happens. But this takes a lot of time for each-time so we will only include this results for now."
      ],
      "metadata": {
        "id": "HXRi6aYHM4oO"
      }
    },
    {
      "cell_type": "markdown",
      "source": [
        "# VALIDATION"
      ],
      "metadata": {
        "id": "2xRXx6Z3ko6x"
      }
    },
    {
      "cell_type": "code",
      "source": [
        "from sklearn.model_selection import cross_validate"
      ],
      "metadata": {
        "id": "5j4BkYEns02d"
      },
      "execution_count": 89,
      "outputs": []
    },
    {
      "cell_type": "code",
      "source": [
        "rf_classifier=RandomForestClassifier(n_estimators=25, random_state=12)"
      ],
      "metadata": {
        "id": "ywLfLE1lknNl"
      },
      "execution_count": 90,
      "outputs": []
    },
    {
      "cell_type": "code",
      "source": [
        "scoring=['precision_macro','recall_macro']\n",
        "rf_classifier_result_2 = cross_validate(rf_classifier, X_train, y_train,scoring=scoring, cv=5)\n",
        "print(rf_classifier_result_2)"
      ],
      "metadata": {
        "colab": {
          "base_uri": "https://localhost:8080/"
        },
        "id": "ssvq5li0rdk1",
        "outputId": "ddcfc0fe-6b3c-418d-986c-ea2d396731c2"
      },
      "execution_count": 91,
      "outputs": [
        {
          "output_type": "stream",
          "name": "stdout",
          "text": [
            "{'fit_time': array([18.08959174, 16.74918723, 17.00077915, 17.1039927 , 17.24564767]), 'score_time': array([0.91901946, 0.89606667, 1.06990433, 0.89131021, 0.8827467 ]), 'test_precision_macro': array([0.78445078, 0.89837939, 0.90005054, 0.89956515, 0.90019963]), 'test_recall_macro': array([0.77196333, 0.89304586, 0.894609  , 0.89389884, 0.89488685])}\n"
          ]
        }
      ]
    },
    {
      "cell_type": "code",
      "source": [
        "rf_classifier.fit(X_train,y_train)\n",
        "train_pred=rf_classifier.predict(X_train)\n",
        "test_pred=rf_classifier.predict(X_test)\n",
        "\n"
      ],
      "metadata": {
        "id": "gZGM6pzBtxh9"
      },
      "execution_count": 92,
      "outputs": []
    },
    {
      "cell_type": "code",
      "source": [
        "train_accu=accuracy_score(y_train,train_pred)\n",
        "test_accu=accuracy_score(y_test,test_pred)"
      ],
      "metadata": {
        "id": "QDkg03sNydMs"
      },
      "execution_count": 93,
      "outputs": []
    },
    {
      "cell_type": "code",
      "source": [
        "train_accu"
      ],
      "metadata": {
        "colab": {
          "base_uri": "https://localhost:8080/"
        },
        "id": "qYpxwypp08JY",
        "outputId": "fab2d749-84c0-4a5a-c386-915327db31b4"
      },
      "execution_count": 94,
      "outputs": [
        {
          "output_type": "execute_result",
          "data": {
            "text/plain": [
              "0.9987255620770267"
            ]
          },
          "metadata": {},
          "execution_count": 94
        }
      ]
    },
    {
      "cell_type": "code",
      "source": [
        "test_accu"
      ],
      "metadata": {
        "colab": {
          "base_uri": "https://localhost:8080/"
        },
        "id": "vHZMO5Ra0-R_",
        "outputId": "a04f6179-a9a0-4379-ae76-b52f3e284622"
      },
      "execution_count": 95,
      "outputs": [
        {
          "output_type": "execute_result",
          "data": {
            "text/plain": [
              "0.8040535073761428"
            ]
          },
          "metadata": {},
          "execution_count": 95
        }
      ]
    },
    {
      "cell_type": "markdown",
      "source": [
        "Feature Importance"
      ],
      "metadata": {
        "id": "x9AvtHUgKCD5"
      }
    },
    {
      "cell_type": "code",
      "source": [
        "importances = bayes_search.best_estimator_.feature_importances_\n",
        "importance_dict = {'Feature' : train_col_list,\n",
        "                   'Feature Importance' : importances}\n",
        "importance_df = pd.DataFrame(importance_dict)"
      ],
      "metadata": {
        "id": "g1O4p0d2lZFd"
      },
      "execution_count": 145,
      "outputs": []
    },
    {
      "cell_type": "code",
      "source": [
        "importance_df['Feature Importance'] = round(importance_df['Feature Importance'],2)"
      ],
      "metadata": {
        "id": "2JjdTTIKlcl8"
      },
      "execution_count": 97,
      "outputs": []
    },
    {
      "cell_type": "code",
      "source": [
        "importance_df.head()"
      ],
      "metadata": {
        "colab": {
          "base_uri": "https://localhost:8080/",
          "height": 206
        },
        "id": "XMxVeYQ-lfw3",
        "outputId": "344ba6dd-00ad-4dd2-f59e-ccb571d16aec"
      },
      "execution_count": 98,
      "outputs": [
        {
          "output_type": "execute_result",
          "data": {
            "text/plain": [
              "              Feature  Feature Importance\n",
              "0              Gender                0.03\n",
              "1                 Age                0.10\n",
              "2     Driving_License                0.00\n",
              "3         Region_Code                0.04\n",
              "4  Previously_Insured                0.30"
            ],
            "text/html": [
              "\n",
              "  <div id=\"df-b114f423-46fb-4f6c-ad57-25479f613373\">\n",
              "    <div class=\"colab-df-container\">\n",
              "      <div>\n",
              "<style scoped>\n",
              "    .dataframe tbody tr th:only-of-type {\n",
              "        vertical-align: middle;\n",
              "    }\n",
              "\n",
              "    .dataframe tbody tr th {\n",
              "        vertical-align: top;\n",
              "    }\n",
              "\n",
              "    .dataframe thead th {\n",
              "        text-align: right;\n",
              "    }\n",
              "</style>\n",
              "<table border=\"1\" class=\"dataframe\">\n",
              "  <thead>\n",
              "    <tr style=\"text-align: right;\">\n",
              "      <th></th>\n",
              "      <th>Feature</th>\n",
              "      <th>Feature Importance</th>\n",
              "    </tr>\n",
              "  </thead>\n",
              "  <tbody>\n",
              "    <tr>\n",
              "      <th>0</th>\n",
              "      <td>Gender</td>\n",
              "      <td>0.03</td>\n",
              "    </tr>\n",
              "    <tr>\n",
              "      <th>1</th>\n",
              "      <td>Age</td>\n",
              "      <td>0.10</td>\n",
              "    </tr>\n",
              "    <tr>\n",
              "      <th>2</th>\n",
              "      <td>Driving_License</td>\n",
              "      <td>0.00</td>\n",
              "    </tr>\n",
              "    <tr>\n",
              "      <th>3</th>\n",
              "      <td>Region_Code</td>\n",
              "      <td>0.04</td>\n",
              "    </tr>\n",
              "    <tr>\n",
              "      <th>4</th>\n",
              "      <td>Previously_Insured</td>\n",
              "      <td>0.30</td>\n",
              "    </tr>\n",
              "  </tbody>\n",
              "</table>\n",
              "</div>\n",
              "      <button class=\"colab-df-convert\" onclick=\"convertToInteractive('df-b114f423-46fb-4f6c-ad57-25479f613373')\"\n",
              "              title=\"Convert this dataframe to an interactive table.\"\n",
              "              style=\"display:none;\">\n",
              "        \n",
              "  <svg xmlns=\"http://www.w3.org/2000/svg\" height=\"24px\"viewBox=\"0 0 24 24\"\n",
              "       width=\"24px\">\n",
              "    <path d=\"M0 0h24v24H0V0z\" fill=\"none\"/>\n",
              "    <path d=\"M18.56 5.44l.94 2.06.94-2.06 2.06-.94-2.06-.94-.94-2.06-.94 2.06-2.06.94zm-11 1L8.5 8.5l.94-2.06 2.06-.94-2.06-.94L8.5 2.5l-.94 2.06-2.06.94zm10 10l.94 2.06.94-2.06 2.06-.94-2.06-.94-.94-2.06-.94 2.06-2.06.94z\"/><path d=\"M17.41 7.96l-1.37-1.37c-.4-.4-.92-.59-1.43-.59-.52 0-1.04.2-1.43.59L10.3 9.45l-7.72 7.72c-.78.78-.78 2.05 0 2.83L4 21.41c.39.39.9.59 1.41.59.51 0 1.02-.2 1.41-.59l7.78-7.78 2.81-2.81c.8-.78.8-2.07 0-2.86zM5.41 20L4 18.59l7.72-7.72 1.47 1.35L5.41 20z\"/>\n",
              "  </svg>\n",
              "      </button>\n",
              "      \n",
              "  <style>\n",
              "    .colab-df-container {\n",
              "      display:flex;\n",
              "      flex-wrap:wrap;\n",
              "      gap: 12px;\n",
              "    }\n",
              "\n",
              "    .colab-df-convert {\n",
              "      background-color: #E8F0FE;\n",
              "      border: none;\n",
              "      border-radius: 50%;\n",
              "      cursor: pointer;\n",
              "      display: none;\n",
              "      fill: #1967D2;\n",
              "      height: 32px;\n",
              "      padding: 0 0 0 0;\n",
              "      width: 32px;\n",
              "    }\n",
              "\n",
              "    .colab-df-convert:hover {\n",
              "      background-color: #E2EBFA;\n",
              "      box-shadow: 0px 1px 2px rgba(60, 64, 67, 0.3), 0px 1px 3px 1px rgba(60, 64, 67, 0.15);\n",
              "      fill: #174EA6;\n",
              "    }\n",
              "\n",
              "    [theme=dark] .colab-df-convert {\n",
              "      background-color: #3B4455;\n",
              "      fill: #D2E3FC;\n",
              "    }\n",
              "\n",
              "    [theme=dark] .colab-df-convert:hover {\n",
              "      background-color: #434B5C;\n",
              "      box-shadow: 0px 1px 3px 1px rgba(0, 0, 0, 0.15);\n",
              "      filter: drop-shadow(0px 1px 2px rgba(0, 0, 0, 0.3));\n",
              "      fill: #FFFFFF;\n",
              "    }\n",
              "  </style>\n",
              "\n",
              "      <script>\n",
              "        const buttonEl =\n",
              "          document.querySelector('#df-b114f423-46fb-4f6c-ad57-25479f613373 button.colab-df-convert');\n",
              "        buttonEl.style.display =\n",
              "          google.colab.kernel.accessAllowed ? 'block' : 'none';\n",
              "\n",
              "        async function convertToInteractive(key) {\n",
              "          const element = document.querySelector('#df-b114f423-46fb-4f6c-ad57-25479f613373');\n",
              "          const dataTable =\n",
              "            await google.colab.kernel.invokeFunction('convertToInteractive',\n",
              "                                                     [key], {});\n",
              "          if (!dataTable) return;\n",
              "\n",
              "          const docLinkHtml = 'Like what you see? Visit the ' +\n",
              "            '<a target=\"_blank\" href=https://colab.research.google.com/notebooks/data_table.ipynb>data table notebook</a>'\n",
              "            + ' to learn more about interactive tables.';\n",
              "          element.innerHTML = '';\n",
              "          dataTable['output_type'] = 'display_data';\n",
              "          await google.colab.output.renderOutput(dataTable, element);\n",
              "          const docLink = document.createElement('div');\n",
              "          docLink.innerHTML = docLinkHtml;\n",
              "          element.appendChild(docLink);\n",
              "        }\n",
              "      </script>\n",
              "    </div>\n",
              "  </div>\n",
              "  "
            ]
          },
          "metadata": {},
          "execution_count": 98
        }
      ]
    },
    {
      "cell_type": "code",
      "source": [
        "#Our top feature in descending order\n",
        "importance_df.sort_values(by=['Feature Importance'],ascending=False)"
      ],
      "metadata": {
        "colab": {
          "base_uri": "https://localhost:8080/",
          "height": 425
        },
        "id": "iJXnmGQCDY1f",
        "outputId": "6372a34e-0c61-48c0-9bfe-9b2a5c5b8ef5"
      },
      "execution_count": 99,
      "outputs": [
        {
          "output_type": "execute_result",
          "data": {
            "text/plain": [
              "                                        Feature  Feature Importance\n",
              "4                            Previously_Insured                0.30\n",
              "5                                Vehicle_Damage                0.21\n",
              "9              Vehicle_Age_Vehicle under 1 year                0.13\n",
              "1                                           Age                0.10\n",
              "7                          Policy_Sales_Channel                0.07\n",
              "10           Vehicle_Age_Vehicle under 1-2 year                0.05\n",
              "3                                   Region_Code                0.04\n",
              "0                                        Gender                0.03\n",
              "11  Vehicle_Age_Vehicle under more than 2 years                0.03\n",
              "6                                Annual_Premium                0.02\n",
              "8                                       Vintage                0.01\n",
              "2                               Driving_License                0.00"
            ],
            "text/html": [
              "\n",
              "  <div id=\"df-13647fbe-fa3a-43c7-ac8c-b6be1e01c974\">\n",
              "    <div class=\"colab-df-container\">\n",
              "      <div>\n",
              "<style scoped>\n",
              "    .dataframe tbody tr th:only-of-type {\n",
              "        vertical-align: middle;\n",
              "    }\n",
              "\n",
              "    .dataframe tbody tr th {\n",
              "        vertical-align: top;\n",
              "    }\n",
              "\n",
              "    .dataframe thead th {\n",
              "        text-align: right;\n",
              "    }\n",
              "</style>\n",
              "<table border=\"1\" class=\"dataframe\">\n",
              "  <thead>\n",
              "    <tr style=\"text-align: right;\">\n",
              "      <th></th>\n",
              "      <th>Feature</th>\n",
              "      <th>Feature Importance</th>\n",
              "    </tr>\n",
              "  </thead>\n",
              "  <tbody>\n",
              "    <tr>\n",
              "      <th>4</th>\n",
              "      <td>Previously_Insured</td>\n",
              "      <td>0.30</td>\n",
              "    </tr>\n",
              "    <tr>\n",
              "      <th>5</th>\n",
              "      <td>Vehicle_Damage</td>\n",
              "      <td>0.21</td>\n",
              "    </tr>\n",
              "    <tr>\n",
              "      <th>9</th>\n",
              "      <td>Vehicle_Age_Vehicle under 1 year</td>\n",
              "      <td>0.13</td>\n",
              "    </tr>\n",
              "    <tr>\n",
              "      <th>1</th>\n",
              "      <td>Age</td>\n",
              "      <td>0.10</td>\n",
              "    </tr>\n",
              "    <tr>\n",
              "      <th>7</th>\n",
              "      <td>Policy_Sales_Channel</td>\n",
              "      <td>0.07</td>\n",
              "    </tr>\n",
              "    <tr>\n",
              "      <th>10</th>\n",
              "      <td>Vehicle_Age_Vehicle under 1-2 year</td>\n",
              "      <td>0.05</td>\n",
              "    </tr>\n",
              "    <tr>\n",
              "      <th>3</th>\n",
              "      <td>Region_Code</td>\n",
              "      <td>0.04</td>\n",
              "    </tr>\n",
              "    <tr>\n",
              "      <th>0</th>\n",
              "      <td>Gender</td>\n",
              "      <td>0.03</td>\n",
              "    </tr>\n",
              "    <tr>\n",
              "      <th>11</th>\n",
              "      <td>Vehicle_Age_Vehicle under more than 2 years</td>\n",
              "      <td>0.03</td>\n",
              "    </tr>\n",
              "    <tr>\n",
              "      <th>6</th>\n",
              "      <td>Annual_Premium</td>\n",
              "      <td>0.02</td>\n",
              "    </tr>\n",
              "    <tr>\n",
              "      <th>8</th>\n",
              "      <td>Vintage</td>\n",
              "      <td>0.01</td>\n",
              "    </tr>\n",
              "    <tr>\n",
              "      <th>2</th>\n",
              "      <td>Driving_License</td>\n",
              "      <td>0.00</td>\n",
              "    </tr>\n",
              "  </tbody>\n",
              "</table>\n",
              "</div>\n",
              "      <button class=\"colab-df-convert\" onclick=\"convertToInteractive('df-13647fbe-fa3a-43c7-ac8c-b6be1e01c974')\"\n",
              "              title=\"Convert this dataframe to an interactive table.\"\n",
              "              style=\"display:none;\">\n",
              "        \n",
              "  <svg xmlns=\"http://www.w3.org/2000/svg\" height=\"24px\"viewBox=\"0 0 24 24\"\n",
              "       width=\"24px\">\n",
              "    <path d=\"M0 0h24v24H0V0z\" fill=\"none\"/>\n",
              "    <path d=\"M18.56 5.44l.94 2.06.94-2.06 2.06-.94-2.06-.94-.94-2.06-.94 2.06-2.06.94zm-11 1L8.5 8.5l.94-2.06 2.06-.94-2.06-.94L8.5 2.5l-.94 2.06-2.06.94zm10 10l.94 2.06.94-2.06 2.06-.94-2.06-.94-.94-2.06-.94 2.06-2.06.94z\"/><path d=\"M17.41 7.96l-1.37-1.37c-.4-.4-.92-.59-1.43-.59-.52 0-1.04.2-1.43.59L10.3 9.45l-7.72 7.72c-.78.78-.78 2.05 0 2.83L4 21.41c.39.39.9.59 1.41.59.51 0 1.02-.2 1.41-.59l7.78-7.78 2.81-2.81c.8-.78.8-2.07 0-2.86zM5.41 20L4 18.59l7.72-7.72 1.47 1.35L5.41 20z\"/>\n",
              "  </svg>\n",
              "      </button>\n",
              "      \n",
              "  <style>\n",
              "    .colab-df-container {\n",
              "      display:flex;\n",
              "      flex-wrap:wrap;\n",
              "      gap: 12px;\n",
              "    }\n",
              "\n",
              "    .colab-df-convert {\n",
              "      background-color: #E8F0FE;\n",
              "      border: none;\n",
              "      border-radius: 50%;\n",
              "      cursor: pointer;\n",
              "      display: none;\n",
              "      fill: #1967D2;\n",
              "      height: 32px;\n",
              "      padding: 0 0 0 0;\n",
              "      width: 32px;\n",
              "    }\n",
              "\n",
              "    .colab-df-convert:hover {\n",
              "      background-color: #E2EBFA;\n",
              "      box-shadow: 0px 1px 2px rgba(60, 64, 67, 0.3), 0px 1px 3px 1px rgba(60, 64, 67, 0.15);\n",
              "      fill: #174EA6;\n",
              "    }\n",
              "\n",
              "    [theme=dark] .colab-df-convert {\n",
              "      background-color: #3B4455;\n",
              "      fill: #D2E3FC;\n",
              "    }\n",
              "\n",
              "    [theme=dark] .colab-df-convert:hover {\n",
              "      background-color: #434B5C;\n",
              "      box-shadow: 0px 1px 3px 1px rgba(0, 0, 0, 0.15);\n",
              "      filter: drop-shadow(0px 1px 2px rgba(0, 0, 0, 0.3));\n",
              "      fill: #FFFFFF;\n",
              "    }\n",
              "  </style>\n",
              "\n",
              "      <script>\n",
              "        const buttonEl =\n",
              "          document.querySelector('#df-13647fbe-fa3a-43c7-ac8c-b6be1e01c974 button.colab-df-convert');\n",
              "        buttonEl.style.display =\n",
              "          google.colab.kernel.accessAllowed ? 'block' : 'none';\n",
              "\n",
              "        async function convertToInteractive(key) {\n",
              "          const element = document.querySelector('#df-13647fbe-fa3a-43c7-ac8c-b6be1e01c974');\n",
              "          const dataTable =\n",
              "            await google.colab.kernel.invokeFunction('convertToInteractive',\n",
              "                                                     [key], {});\n",
              "          if (!dataTable) return;\n",
              "\n",
              "          const docLinkHtml = 'Like what you see? Visit the ' +\n",
              "            '<a target=\"_blank\" href=https://colab.research.google.com/notebooks/data_table.ipynb>data table notebook</a>'\n",
              "            + ' to learn more about interactive tables.';\n",
              "          element.innerHTML = '';\n",
              "          dataTable['output_type'] = 'display_data';\n",
              "          await google.colab.output.renderOutput(dataTable, element);\n",
              "          const docLink = document.createElement('div');\n",
              "          docLink.innerHTML = docLinkHtml;\n",
              "          element.appendChild(docLink);\n",
              "        }\n",
              "      </script>\n",
              "    </div>\n",
              "  </div>\n",
              "  "
            ]
          },
          "metadata": {},
          "execution_count": 99
        }
      ]
    },
    {
      "cell_type": "markdown",
      "source": [
        "# Tuning for Lgbm"
      ],
      "metadata": {
        "id": "agguzfrsD-4B"
      }
    },
    {
      "cell_type": "code",
      "source": [
        "clas = ltb.LGBMClassifier(random_state=40)\n",
        "# Instantiate the bayes search model\n",
        "bayes_search = BayesSearchCV(estimator=clas,\n",
        "                       search_spaces = {\n",
        "                          'max_depth': Integer(1,15),\n",
        "                          'min_samples_leaf': Integer(1,10),\n",
        "                          'min_samples_split': Integer(1,10),\n",
        "                          'n_estimators': Integer(100,150),\n",
        "                          'max_features': [\"auto\", \"sqrt\", \"log2\"]\n",
        "                        },\n",
        "                       cv = 5, verbose=2, scoring='accuracy',n_iter=10)\n",
        "\n",
        "bayes_search.fit(X_train, y_train)"
      ],
      "metadata": {
        "colab": {
          "base_uri": "https://localhost:8080/"
        },
        "id": "pOrYr34qm7OG",
        "outputId": "2ed0bc86-4eb0-4c01-84dd-d3ed15ef9d6c"
      },
      "execution_count": 140,
      "outputs": [
        {
          "output_type": "stream",
          "name": "stdout",
          "text": [
            "Fitting 5 folds for each of 1 candidates, totalling 5 fits\n",
            "[CV] END max_depth=11, max_features=log2, min_samples_leaf=9, min_samples_split=2, n_estimators=109; total time=   6.5s\n",
            "[CV] END max_depth=11, max_features=log2, min_samples_leaf=9, min_samples_split=2, n_estimators=109; total time=   6.3s\n",
            "[CV] END max_depth=11, max_features=log2, min_samples_leaf=9, min_samples_split=2, n_estimators=109; total time=   8.9s\n",
            "[CV] END max_depth=11, max_features=log2, min_samples_leaf=9, min_samples_split=2, n_estimators=109; total time=   7.8s\n",
            "[CV] END max_depth=11, max_features=log2, min_samples_leaf=9, min_samples_split=2, n_estimators=109; total time=   6.4s\n",
            "Fitting 5 folds for each of 1 candidates, totalling 5 fits\n",
            "[CV] END max_depth=8, max_features=log2, min_samples_leaf=7, min_samples_split=8, n_estimators=116; total time=   6.8s\n",
            "[CV] END max_depth=8, max_features=log2, min_samples_leaf=7, min_samples_split=8, n_estimators=116; total time=   6.6s\n",
            "[CV] END max_depth=8, max_features=log2, min_samples_leaf=7, min_samples_split=8, n_estimators=116; total time=   6.6s\n",
            "[CV] END max_depth=8, max_features=log2, min_samples_leaf=7, min_samples_split=8, n_estimators=116; total time=   6.6s\n",
            "[CV] END max_depth=8, max_features=log2, min_samples_leaf=7, min_samples_split=8, n_estimators=116; total time=   6.5s\n",
            "Fitting 5 folds for each of 1 candidates, totalling 5 fits\n",
            "[CV] END max_depth=11, max_features=sqrt, min_samples_leaf=2, min_samples_split=2, n_estimators=117; total time=   6.8s\n",
            "[CV] END max_depth=11, max_features=sqrt, min_samples_leaf=2, min_samples_split=2, n_estimators=117; total time=   6.6s\n",
            "[CV] END max_depth=11, max_features=sqrt, min_samples_leaf=2, min_samples_split=2, n_estimators=117; total time=   6.6s\n",
            "[CV] END max_depth=11, max_features=sqrt, min_samples_leaf=2, min_samples_split=2, n_estimators=117; total time=   6.6s\n",
            "[CV] END max_depth=11, max_features=sqrt, min_samples_leaf=2, min_samples_split=2, n_estimators=117; total time=   6.7s\n",
            "Fitting 5 folds for each of 1 candidates, totalling 5 fits\n",
            "[CV] END max_depth=7, max_features=log2, min_samples_leaf=2, min_samples_split=3, n_estimators=113; total time=   6.4s\n",
            "[CV] END max_depth=7, max_features=log2, min_samples_leaf=2, min_samples_split=3, n_estimators=113; total time=   6.4s\n",
            "[CV] END max_depth=7, max_features=log2, min_samples_leaf=2, min_samples_split=3, n_estimators=113; total time=   6.5s\n",
            "[CV] END max_depth=7, max_features=log2, min_samples_leaf=2, min_samples_split=3, n_estimators=113; total time=   7.3s\n",
            "[CV] END max_depth=7, max_features=log2, min_samples_leaf=2, min_samples_split=3, n_estimators=113; total time=   6.4s\n",
            "Fitting 5 folds for each of 1 candidates, totalling 5 fits\n",
            "[CV] END max_depth=3, max_features=sqrt, min_samples_leaf=10, min_samples_split=2, n_estimators=134; total time=   5.6s\n",
            "[CV] END max_depth=3, max_features=sqrt, min_samples_leaf=10, min_samples_split=2, n_estimators=134; total time=  10.7s\n",
            "[CV] END max_depth=3, max_features=sqrt, min_samples_leaf=10, min_samples_split=2, n_estimators=134; total time=   5.6s\n",
            "[CV] END max_depth=3, max_features=sqrt, min_samples_leaf=10, min_samples_split=2, n_estimators=134; total time=   5.6s\n",
            "[CV] END max_depth=3, max_features=sqrt, min_samples_leaf=10, min_samples_split=2, n_estimators=134; total time=   5.6s\n",
            "Fitting 5 folds for each of 1 candidates, totalling 5 fits\n",
            "[CV] END max_depth=2, max_features=sqrt, min_samples_leaf=7, min_samples_split=6, n_estimators=145; total time=   5.3s\n",
            "[CV] END max_depth=2, max_features=sqrt, min_samples_leaf=7, min_samples_split=6, n_estimators=145; total time=   5.2s\n",
            "[CV] END max_depth=2, max_features=sqrt, min_samples_leaf=7, min_samples_split=6, n_estimators=145; total time=   5.2s\n",
            "[CV] END max_depth=2, max_features=sqrt, min_samples_leaf=7, min_samples_split=6, n_estimators=145; total time=   5.2s\n",
            "[CV] END max_depth=2, max_features=sqrt, min_samples_leaf=7, min_samples_split=6, n_estimators=145; total time=   5.2s\n",
            "Fitting 5 folds for each of 1 candidates, totalling 5 fits\n",
            "[CV] END max_depth=8, max_features=log2, min_samples_leaf=1, min_samples_split=5, n_estimators=105; total time=   6.1s\n",
            "[CV] END max_depth=8, max_features=log2, min_samples_leaf=1, min_samples_split=5, n_estimators=105; total time=   6.1s\n",
            "[CV] END max_depth=8, max_features=log2, min_samples_leaf=1, min_samples_split=5, n_estimators=105; total time=   6.1s\n",
            "[CV] END max_depth=8, max_features=log2, min_samples_leaf=1, min_samples_split=5, n_estimators=105; total time=   6.1s\n",
            "[CV] END max_depth=8, max_features=log2, min_samples_leaf=1, min_samples_split=5, n_estimators=105; total time=   6.2s\n",
            "Fitting 5 folds for each of 1 candidates, totalling 5 fits\n",
            "[CV] END max_depth=14, max_features=auto, min_samples_leaf=5, min_samples_split=3, n_estimators=134; total time=   9.0s\n",
            "[CV] END max_depth=14, max_features=auto, min_samples_leaf=5, min_samples_split=3, n_estimators=134; total time=   9.1s\n",
            "[CV] END max_depth=14, max_features=auto, min_samples_leaf=5, min_samples_split=3, n_estimators=134; total time=   7.5s\n",
            "[CV] END max_depth=14, max_features=auto, min_samples_leaf=5, min_samples_split=3, n_estimators=134; total time=   9.1s\n",
            "[CV] END max_depth=14, max_features=auto, min_samples_leaf=5, min_samples_split=3, n_estimators=134; total time=   7.5s\n",
            "Fitting 5 folds for each of 1 candidates, totalling 5 fits\n",
            "[CV] END max_depth=13, max_features=sqrt, min_samples_leaf=5, min_samples_split=8, n_estimators=132; total time=   7.5s\n",
            "[CV] END max_depth=13, max_features=sqrt, min_samples_leaf=5, min_samples_split=8, n_estimators=132; total time=   7.3s\n",
            "[CV] END max_depth=13, max_features=sqrt, min_samples_leaf=5, min_samples_split=8, n_estimators=132; total time=   7.3s\n",
            "[CV] END max_depth=13, max_features=sqrt, min_samples_leaf=5, min_samples_split=8, n_estimators=132; total time=   7.3s\n",
            "[CV] END max_depth=13, max_features=sqrt, min_samples_leaf=5, min_samples_split=8, n_estimators=132; total time=   7.3s\n",
            "Fitting 5 folds for each of 1 candidates, totalling 5 fits\n",
            "[CV] END max_depth=13, max_features=auto, min_samples_leaf=8, min_samples_split=7, n_estimators=133; total time=   7.6s\n",
            "[CV] END max_depth=13, max_features=auto, min_samples_leaf=8, min_samples_split=7, n_estimators=133; total time=   7.4s\n",
            "[CV] END max_depth=13, max_features=auto, min_samples_leaf=8, min_samples_split=7, n_estimators=133; total time=   7.4s\n",
            "[CV] END max_depth=13, max_features=auto, min_samples_leaf=8, min_samples_split=7, n_estimators=133; total time=   7.5s\n",
            "[CV] END max_depth=13, max_features=auto, min_samples_leaf=8, min_samples_split=7, n_estimators=133; total time=   7.4s\n"
          ]
        },
        {
          "output_type": "execute_result",
          "data": {
            "text/plain": [
              "BayesSearchCV(cv=5, estimator=LGBMClassifier(random_state=40), n_iter=10,\n",
              "              scoring='accuracy',\n",
              "              search_spaces={'max_depth': Integer(low=1, high=15, prior='uniform', transform='normalize'),\n",
              "                             'max_features': ['auto', 'sqrt', 'log2'],\n",
              "                             'min_samples_leaf': Integer(low=1, high=10, prior='uniform', transform='normalize'),\n",
              "                             'min_samples_split': Integer(low=1, high=10, prior='uniform', transform='normalize'),\n",
              "                             'n_estimators': Integer(low=100, high=150, prior='uniform', transform='normalize')},\n",
              "              verbose=2)"
            ]
          },
          "metadata": {},
          "execution_count": 140
        }
      ]
    },
    {
      "cell_type": "code",
      "source": [
        "bayes_search.best_params_"
      ],
      "metadata": {
        "colab": {
          "base_uri": "https://localhost:8080/"
        },
        "id": "37CBeK_Jm_p7",
        "outputId": "8fa9a00f-3495-4d61-842a-e17385bc11ea"
      },
      "execution_count": 141,
      "outputs": [
        {
          "output_type": "execute_result",
          "data": {
            "text/plain": [
              "OrderedDict([('max_depth', 7),\n",
              "             ('max_features', 'log2'),\n",
              "             ('min_samples_leaf', 2),\n",
              "             ('min_samples_split', 3),\n",
              "             ('n_estimators', 113)])"
            ]
          },
          "metadata": {},
          "execution_count": 141
        }
      ]
    },
    {
      "cell_type": "code",
      "source": [
        "bayes_search.best_estimator_"
      ],
      "metadata": {
        "colab": {
          "base_uri": "https://localhost:8080/"
        },
        "id": "hwWkwKkmnUWi",
        "outputId": "c7fbf575-12e0-484a-d36e-425e72ca08dc"
      },
      "execution_count": 142,
      "outputs": [
        {
          "output_type": "execute_result",
          "data": {
            "text/plain": [
              "LGBMClassifier(max_depth=7, max_features='log2', min_samples_leaf=2,\n",
              "               min_samples_split=3, n_estimators=113, random_state=40)"
            ]
          },
          "metadata": {},
          "execution_count": 142
        }
      ]
    },
    {
      "cell_type": "code",
      "source": [
        "#make prediction\n",
        "train_pred=bayes_search.best_estimator_.predict(X_train)\n",
        "test_pred=bayes_search.best_estimator_.predict(X_test)"
      ],
      "metadata": {
        "id": "eStxovyenaqG"
      },
      "execution_count": 143,
      "outputs": []
    },
    {
      "cell_type": "code",
      "source": [
        "# Calculating accuracy on train and test\n",
        "train_accuracy = accuracy_score(y_train, train_pred)\n",
        "test_accuracy = accuracy_score(y_test, test_pred)\n",
        "\n",
        "print(\"The accuracy on train dataset is\", train_accuracy)\n",
        "print(\"The accuracy on test dataset is\", test_accuracy)"
      ],
      "metadata": {
        "colab": {
          "base_uri": "https://localhost:8080/"
        },
        "id": "apR6S8oMngwb",
        "outputId": "d7ac61cd-ab0d-49c4-b366-25a2b741ebeb"
      },
      "execution_count": 144,
      "outputs": [
        {
          "output_type": "stream",
          "name": "stdout",
          "text": [
            "The accuracy on train dataset is 0.8508792470067983\n",
            "The accuracy on test dataset is 0.783381428841123\n"
          ]
        }
      ]
    },
    {
      "cell_type": "code",
      "source": [
        "# Get the confusion matrices for train and test\n",
        "train_cm = confusion_matrix(y_train, train_pred)\n",
        "test_cm = confusion_matrix(y_test, test_pred)"
      ],
      "metadata": {
        "id": "F_rJwTktnnGA"
      },
      "execution_count": 146,
      "outputs": []
    },
    {
      "cell_type": "code",
      "source": [
        "train_cm"
      ],
      "metadata": {
        "colab": {
          "base_uri": "https://localhost:8080/"
        },
        "id": "x2gXGdS2nzOf",
        "outputId": "8f7b2b15-accf-45d8-a3d6-4d2291626bd7"
      },
      "execution_count": 147,
      "outputs": [
        {
          "output_type": "execute_result",
          "data": {
            "text/plain": [
              "array([[209562,  50945],\n",
              "       [ 26749, 233758]])"
            ]
          },
          "metadata": {},
          "execution_count": 147
        }
      ]
    },
    {
      "cell_type": "code",
      "source": [
        "test_cm"
      ],
      "metadata": {
        "colab": {
          "base_uri": "https://localhost:8080/"
        },
        "id": "kqb__Klwn3Zk",
        "outputId": "9611ea0c-5b81-4fdd-dd5c-36780741fe39"
      },
      "execution_count": 148,
      "outputs": [
        {
          "output_type": "execute_result",
          "data": {
            "text/plain": [
              "array([[52237, 12890],\n",
              "       [ 3174,  5857]])"
            ]
          },
          "metadata": {},
          "execution_count": 148
        }
      ]
    },
    {
      "cell_type": "code",
      "source": [
        "print(classification_report(y_train,train_pred))\n",
        "print(\"\\n\")\n",
        "print(classification_report(y_test,test_pred))"
      ],
      "metadata": {
        "colab": {
          "base_uri": "https://localhost:8080/"
        },
        "id": "OUyl_j60n4tP",
        "outputId": "5d29e1d2-25cb-4f3b-c8cc-67e9f6fda549"
      },
      "execution_count": 149,
      "outputs": [
        {
          "output_type": "stream",
          "name": "stdout",
          "text": [
            "              precision    recall  f1-score   support\n",
            "\n",
            "           0       0.89      0.80      0.84    260507\n",
            "           1       0.82      0.90      0.86    260507\n",
            "\n",
            "    accuracy                           0.85    521014\n",
            "   macro avg       0.85      0.85      0.85    521014\n",
            "weighted avg       0.85      0.85      0.85    521014\n",
            "\n",
            "\n",
            "\n",
            "              precision    recall  f1-score   support\n",
            "\n",
            "           0       0.94      0.80      0.87     65127\n",
            "           1       0.31      0.65      0.42      9031\n",
            "\n",
            "    accuracy                           0.78     74158\n",
            "   macro avg       0.63      0.73      0.64     74158\n",
            "weighted avg       0.87      0.78      0.81     74158\n",
            "\n"
          ]
        }
      ]
    },
    {
      "cell_type": "markdown",
      "source": [
        "## Roc and precison recall curve for Bayes train data."
      ],
      "metadata": {
        "id": "yiFPFXqIFGEk"
      }
    },
    {
      "cell_type": "code",
      "source": [
        "metrics.plot_roc_curve(bayes_search, X_train, y_train) "
      ],
      "metadata": {
        "colab": {
          "base_uri": "https://localhost:8080/",
          "height": 354
        },
        "id": "dMnNmhJpoVRu",
        "outputId": "a99a6e6a-88b4-449d-95c1-189ae68db467"
      },
      "execution_count": 150,
      "outputs": [
        {
          "output_type": "stream",
          "name": "stderr",
          "text": [
            "/usr/local/lib/python3.7/dist-packages/sklearn/utils/deprecation.py:87: FutureWarning: Function plot_roc_curve is deprecated; Function :func:`plot_roc_curve` is deprecated in 1.0 and will be removed in 1.2. Use one of the class methods: :meth:`sklearn.metric.RocCurveDisplay.from_predictions` or :meth:`sklearn.metric.RocCurveDisplay.from_estimator`.\n",
            "  warnings.warn(msg, category=FutureWarning)\n"
          ]
        },
        {
          "output_type": "execute_result",
          "data": {
            "text/plain": [
              "<sklearn.metrics._plot.roc_curve.RocCurveDisplay at 0x7fe0b832a510>"
            ]
          },
          "metadata": {},
          "execution_count": 150
        },
        {
          "output_type": "display_data",
          "data": {
            "text/plain": [
              "<Figure size 432x288 with 1 Axes>"
            ],
            "image/png": "[encoded data removed]"
          },
          "metadata": {
            "needs_background": "light"
          }
        }
      ]
    },
    {
      "cell_type": "code",
      "source": [
        "metrics.plot_precision_recall_curve(bayes_search, X_train, y_train)"
      ],
      "metadata": {
        "colab": {
          "base_uri": "https://localhost:8080/",
          "height": 354
        },
        "id": "wYQLOkT5oVJr",
        "outputId": "569ebeb9-ffef-4c67-d0e0-cafd4259d43d"
      },
      "execution_count": 151,
      "outputs": [
        {
          "output_type": "stream",
          "name": "stderr",
          "text": [
            "/usr/local/lib/python3.7/dist-packages/sklearn/utils/deprecation.py:87: FutureWarning: Function plot_precision_recall_curve is deprecated; Function `plot_precision_recall_curve` is deprecated in 1.0 and will be removed in 1.2. Use one of the class methods: PrecisionRecallDisplay.from_predictions or PrecisionRecallDisplay.from_estimator.\n",
            "  warnings.warn(msg, category=FutureWarning)\n"
          ]
        },
        {
          "output_type": "execute_result",
          "data": {
            "text/plain": [
              "<sklearn.metrics._plot.precision_recall_curve.PrecisionRecallDisplay at 0x7fe0b35993d0>"
            ]
          },
          "metadata": {},
          "execution_count": 151
        },
        {
          "output_type": "display_data",
          "data": {
            "text/plain": [
              "<Figure size 432x288 with 1 Axes>"
            ],
            "image/png": "[encoded data removed]"
          },
          "metadata": {
            "needs_background": "light"
          }
        }
      ]
    },
    {
      "cell_type": "markdown",
      "source": [
        "## Roc and precison recall curve for Bayes test data."
      ],
      "metadata": {
        "id": "hqZ7Z04eFTnK"
      }
    },
    {
      "cell_type": "code",
      "source": [
        "metrics.plot_roc_curve(bayes_search, X_test, y_test)"
      ],
      "metadata": {
        "colab": {
          "base_uri": "https://localhost:8080/",
          "height": 354
        },
        "id": "84o6u9bnoHHt",
        "outputId": "8f8d7f4b-b7ce-435b-e70e-538e44e40b9e"
      },
      "execution_count": 152,
      "outputs": [
        {
          "output_type": "stream",
          "name": "stderr",
          "text": [
            "/usr/local/lib/python3.7/dist-packages/sklearn/utils/deprecation.py:87: FutureWarning: Function plot_roc_curve is deprecated; Function :func:`plot_roc_curve` is deprecated in 1.0 and will be removed in 1.2. Use one of the class methods: :meth:`sklearn.metric.RocCurveDisplay.from_predictions` or :meth:`sklearn.metric.RocCurveDisplay.from_estimator`.\n",
            "  warnings.warn(msg, category=FutureWarning)\n"
          ]
        },
        {
          "output_type": "execute_result",
          "data": {
            "text/plain": [
              "<sklearn.metrics._plot.roc_curve.RocCurveDisplay at 0x7fe0b3c2ee90>"
            ]
          },
          "metadata": {},
          "execution_count": 152
        },
        {
          "output_type": "display_data",
          "data": {
            "text/plain": [
              "<Figure size 432x288 with 1 Axes>"
            ],
            "image/png": "[encoded data removed]"
          },
          "metadata": {
            "needs_background": "light"
          }
        }
      ]
    },
    {
      "cell_type": "code",
      "source": [
        "metrics.plot_precision_recall_curve(bayes_search, X_test, y_test)"
      ],
      "metadata": {
        "colab": {
          "base_uri": "https://localhost:8080/",
          "height": 354
        },
        "id": "m3GEDzqeoOPC",
        "outputId": "d768bf96-5386-4560-826d-b69bf48375e9"
      },
      "execution_count": 153,
      "outputs": [
        {
          "output_type": "stream",
          "name": "stderr",
          "text": [
            "/usr/local/lib/python3.7/dist-packages/sklearn/utils/deprecation.py:87: FutureWarning: Function plot_precision_recall_curve is deprecated; Function `plot_precision_recall_curve` is deprecated in 1.0 and will be removed in 1.2. Use one of the class methods: PrecisionRecallDisplay.from_predictions or PrecisionRecallDisplay.from_estimator.\n",
            "  warnings.warn(msg, category=FutureWarning)\n"
          ]
        },
        {
          "output_type": "execute_result",
          "data": {
            "text/plain": [
              "<sklearn.metrics._plot.precision_recall_curve.PrecisionRecallDisplay at 0x7fe0b35c26d0>"
            ]
          },
          "metadata": {},
          "execution_count": 153
        },
        {
          "output_type": "display_data",
          "data": {
            "text/plain": [
              "<Figure size 432x288 with 1 Axes>"
            ],
            "image/png": "[encoded data removed]"
          },
          "metadata": {
            "needs_background": "light"
          }
        }
      ]
    },
    {
      "cell_type": "markdown",
      "source": [
        "This lgbm tuning doesn't give good results than Rf classifier tuning."
      ],
      "metadata": {
        "id": "lmg33OVMosZf"
      }
    },
    {
      "cell_type": "markdown",
      "source": [
        "# Conclusion:"
      ],
      "metadata": {
        "id": "KDwk4i3QKJ2C"
      }
    },
    {
      "cell_type": "markdown",
      "source": [
        "Alas! We have reached the end of our notebook.\n",
        "\n",
        "Starting with loading the data so far we have done EDA , null values treatment, dropping unnecessory columns, outliers handling, visualization, knowing the distribution, feature engineering,Applying some sampling technique(US, OS and SMOTE), model making, finalizing our best model and then we do some hyperparameter tuning also.\n",
        "\n",
        "The Random Forest Classifier was the best model when compared with rest all models for this data set. For all the models This Classifier worked the best because it prevents the data from overfitting and plus it predicted very well based on all the features which is important.\n",
        "\n",
        "**It gives 0.85 recall on train and around 0.76 recall on test data which can be good enough.**\n",
        "\n",
        "##Key points:\n",
        "\n",
        "\n",
        "1. we have some gender gap that female is less intrested than male for getting insurance for their vehicle.\n",
        "2. the customer who already secured their vehicle, are clearly not inrested in our company's vehicle insurance scheme.\n",
        "3. we can observe that the policyholders who has 1-2 year age's vehicle, are more intrested than other policyholders specially from those who have vehicle older than two years.\n",
        "4. Policyholders whose vehicle damaged in past are more intrested than those whose vehicles are not damaged in the past.\n",
        "\n",
        "##Improvements:\n",
        "\n",
        "1. we can remove this gender gap by advertising marketing strategy.\n",
        "2. we can clearly see that we have more customers who doesn't have any insurance for their vehicle so we can easily target them by directly for our campaign.\n",
        "3. we can say that we have less number of policyholders who has vehicle older than 2 years so we have to focus more on other two category (1-2 years and >1 year). \n",
        "\n",
        " But as we all know vehicle insurance for 1st year are mostly provided by sales agency itself so we have to target these sales agency also and we can gives best incentives to agency for break-down competition in the market.\n",
        "\n",
        "4. As we saw that we have nearly equal policyholders for both vehicle damage status. so we can target those policyholders whose vehicles are damaged in past.\n",
        "\n",
        "\n"
      ],
      "metadata": {
        "id": "XDUI79J8ZJ9F"
      }
    },
    {
      "cell_type": "markdown",
      "source": [
        "# Future Work\n",
        "We can do some more Hyperparameter tuning as it's accurcy can be improve further and we can do this tuning for the other top models also\n",
        "\n",
        "That's all..!!"
      ],
      "metadata": {
        "id": "NOjGI49KafV-"
      }
    },
    {
      "cell_type": "code",
      "source": [
        ""
      ],
      "metadata": {
        "id": "hy1LkqIZpE-t"
      },
      "execution_count": null,
      "outputs": []
    }
  ],
  "metadata": {
    "colab": {
      "collapsed_sections": [],
      "name": "Individual Health Insurance Cross Sell Prediction.ipynb",
      "provenance": []
    },
    "kernelspec": {
      "display_name": "Python 3",
      "name": "python3"
    },
    "language_info": {
      "name": "python"
    }
  },
  "nbformat": 4,
  "nbformat_minor": 0
}